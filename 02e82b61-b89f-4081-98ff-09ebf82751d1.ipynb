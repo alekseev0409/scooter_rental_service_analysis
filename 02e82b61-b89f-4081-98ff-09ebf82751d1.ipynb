{
 "cells": [
  {
   "cell_type": "code",
   "execution_count": 1,
   "id": "72576667",
   "metadata": {},
   "outputs": [],
   "source": [
    "import pandas as pd\n",
    "from scipy import stats as st\n",
    "import numpy as np\n",
    "from math import sqrt\n",
    "from IPython.display import display\n",
    "import matplotlib.pyplot as plt\n",
    "from scipy.stats import binom, norm\n",
    "from datetime import datetime\n",
    "import seaborn as sns\n",
    "pd.set_option('display.float_format', '{:,.1f}'.format)"
   ]
  },
  {
   "cell_type": "markdown",
   "id": "5e92f5b5",
   "metadata": {},
   "source": [
    "## Анализ сервиса аренды самокатов GoFast"
   ]
  },
  {
   "cell_type": "markdown",
   "id": "02da6286",
   "metadata": {},
   "source": [
    "**Нам передали данные о некоторых пользователях из нескольких городов, а также об их поездках. Необходимо проанализировать данные и проверьте гипотезы, которые могут помочь бизнесу вырасти.**"
   ]
  },
  {
   "cell_type": "markdown",
   "id": "154274f8",
   "metadata": {},
   "source": [
    "**Чтобы совершать поездки по городу, пользователи сервиса GoFast пользуются мобильным приложением. Сервисом можно пользоваться:**\n"
   ]
  },
  {
   "cell_type": "markdown",
   "id": "e45c543c",
   "metadata": {},
   "source": [
    "**Без подписки**\n",
    "- абонентская плата отсутствует;\n",
    "- стоимость одной минуты поездки — 8 рублей;\n",
    "- стоимость старта (начала поездки) — 50 рублей;\n"
   ]
  },
  {
   "cell_type": "markdown",
   "id": "7e73d5a9",
   "metadata": {},
   "source": [
    "**с подпиской Ultra**\n",
    "- абонентская плата — 199 рублей в месяц;\n",
    "- стоимость одной минуты поездки — 6 рублей;\n",
    "- стоимость старта — бесплатно.\n"
   ]
  },
  {
   "cell_type": "markdown",
   "id": "e538dc01",
   "metadata": {},
   "source": [
    "**Описание данных.\n",
    "В основных данных есть информация о пользователях, их поездках и подписках.**\n",
    "- **Пользователи — users_go.csv**\n",
    " - **user_id**\tуникальный идентификатор пользователя\n",
    " - **name**\tимя пользователя\n",
    " - **age**\tвозраст\n",
    " - **city**\tгород\n",
    " - **subscription_type**\tтип подписки (free, ultra)**\n",
    "- **Поездки — rides_go.csv**\n",
    " - **user_id**\tуникальный идентификатор пользователя\n",
    " - **distance**\tрасстояние, которое пользователь проехал в текущей сессии (в метрах)\n",
    " - **duration**\tпродолжительность сессии (в минутах) — время с того момента, как пользователь нажал кнопку «Начать поездку» до момента, как он нажал кнопку «Завершить поездку»\n",
    " - **date**\tдата совершения поездки\n",
    "- **Подписки — subscriptions_go.csv**\n",
    " - **ubscription_type**\tтип подписки\n",
    " - **minute_price**\tстоимость одной минуты поездки по данной подписке\n",
    " - **start_ride_price**\tстоимость начала поездки\n",
    " - **subscription_fee**\tстоимость ежемесячного платежа"
   ]
  },
  {
   "cell_type": "markdown",
   "id": "3714a935",
   "metadata": {},
   "source": [
    "**Нам предстоит выполнить следующие этапы:**\n",
    "- Загрузка данных\n",
    "- Предобработка данных\n",
    "- Провести исследовательский анализ данных\n",
    "- Выполнить объединение трех датасетов\n",
    "- Произвести подсчет выручки \n",
    "- Проверить гипотезы\n"
   ]
  },
  {
   "cell_type": "markdown",
   "id": "c42cbe00",
   "metadata": {},
   "source": [
    "#### Шаг 1. Загрузка данных"
   ]
  },
  {
   "cell_type": "code",
   "execution_count": 2,
   "id": "eff9f206",
   "metadata": {},
   "outputs": [],
   "source": [
    "#Считаем и сохраним данные в переменные\n",
    "users = pd.read_csv('/datasets/users_go.csv') # Пользователи\n",
    "rides = pd.read_csv('/datasets/rides_go.csv', parse_dates=['date'])#Поездки\n",
    "subscriptions = pd.read_csv('/datasets/subscriptions_go.csv')#Тип подписки"
   ]
  },
  {
   "cell_type": "code",
   "execution_count": 3,
   "id": "6d266856",
   "metadata": {},
   "outputs": [],
   "source": [
    "def dataset(data):\n",
    "    print(data.info())\n",
    "    return data.head(5)\n",
    "    "
   ]
  },
  {
   "cell_type": "code",
   "execution_count": 4,
   "id": "baf08dd1",
   "metadata": {},
   "outputs": [
    {
     "name": "stdout",
     "output_type": "stream",
     "text": [
      "<class 'pandas.core.frame.DataFrame'>\n",
      "RangeIndex: 1565 entries, 0 to 1564\n",
      "Data columns (total 5 columns):\n",
      " #   Column             Non-Null Count  Dtype \n",
      "---  ------             --------------  ----- \n",
      " 0   user_id            1565 non-null   int64 \n",
      " 1   name               1565 non-null   object\n",
      " 2   age                1565 non-null   int64 \n",
      " 3   city               1565 non-null   object\n",
      " 4   subscription_type  1565 non-null   object\n",
      "dtypes: int64(2), object(3)\n",
      "memory usage: 61.3+ KB\n",
      "None\n"
     ]
    },
    {
     "data": {
      "text/html": [
       "<div>\n",
       "<style scoped>\n",
       "    .dataframe tbody tr th:only-of-type {\n",
       "        vertical-align: middle;\n",
       "    }\n",
       "\n",
       "    .dataframe tbody tr th {\n",
       "        vertical-align: top;\n",
       "    }\n",
       "\n",
       "    .dataframe thead th {\n",
       "        text-align: right;\n",
       "    }\n",
       "</style>\n",
       "<table border=\"1\" class=\"dataframe\">\n",
       "  <thead>\n",
       "    <tr style=\"text-align: right;\">\n",
       "      <th></th>\n",
       "      <th>user_id</th>\n",
       "      <th>name</th>\n",
       "      <th>age</th>\n",
       "      <th>city</th>\n",
       "      <th>subscription_type</th>\n",
       "    </tr>\n",
       "  </thead>\n",
       "  <tbody>\n",
       "    <tr>\n",
       "      <th>0</th>\n",
       "      <td>1</td>\n",
       "      <td>Кира</td>\n",
       "      <td>22</td>\n",
       "      <td>Тюмень</td>\n",
       "      <td>ultra</td>\n",
       "    </tr>\n",
       "    <tr>\n",
       "      <th>1</th>\n",
       "      <td>2</td>\n",
       "      <td>Станислав</td>\n",
       "      <td>31</td>\n",
       "      <td>Омск</td>\n",
       "      <td>ultra</td>\n",
       "    </tr>\n",
       "    <tr>\n",
       "      <th>2</th>\n",
       "      <td>3</td>\n",
       "      <td>Алексей</td>\n",
       "      <td>20</td>\n",
       "      <td>Москва</td>\n",
       "      <td>ultra</td>\n",
       "    </tr>\n",
       "    <tr>\n",
       "      <th>3</th>\n",
       "      <td>4</td>\n",
       "      <td>Константин</td>\n",
       "      <td>26</td>\n",
       "      <td>Ростов-на-Дону</td>\n",
       "      <td>ultra</td>\n",
       "    </tr>\n",
       "    <tr>\n",
       "      <th>4</th>\n",
       "      <td>5</td>\n",
       "      <td>Адель</td>\n",
       "      <td>28</td>\n",
       "      <td>Омск</td>\n",
       "      <td>ultra</td>\n",
       "    </tr>\n",
       "  </tbody>\n",
       "</table>\n",
       "</div>"
      ],
      "text/plain": [
       "   user_id        name  age            city subscription_type\n",
       "0        1        Кира   22          Тюмень             ultra\n",
       "1        2   Станислав   31            Омск             ultra\n",
       "2        3     Алексей   20          Москва             ultra\n",
       "3        4  Константин   26  Ростов-на-Дону             ultra\n",
       "4        5       Адель   28            Омск             ultra"
      ]
     },
     "execution_count": 4,
     "metadata": {},
     "output_type": "execute_result"
    }
   ],
   "source": [
    "#Выведем на экран первые 5 строк и первичную информацию\n",
    "dataset(users)"
   ]
  },
  {
   "cell_type": "markdown",
   "id": "351db5ac",
   "metadata": {},
   "source": [
    "- **user_id** \tуникальный идентификатор пользователя\n",
    "- **name**\tимя пользователя\n",
    "- **age**\tвозраст\n",
    "- **city**\tгород\n",
    "- **subscription_type**\tтип подписки (free, ultra)"
   ]
  },
  {
   "cell_type": "code",
   "execution_count": 5,
   "id": "e51d77c3",
   "metadata": {},
   "outputs": [
    {
     "name": "stdout",
     "output_type": "stream",
     "text": [
      "<class 'pandas.core.frame.DataFrame'>\n",
      "RangeIndex: 18068 entries, 0 to 18067\n",
      "Data columns (total 4 columns):\n",
      " #   Column    Non-Null Count  Dtype         \n",
      "---  ------    --------------  -----         \n",
      " 0   user_id   18068 non-null  int64         \n",
      " 1   distance  18068 non-null  float64       \n",
      " 2   duration  18068 non-null  float64       \n",
      " 3   date      18068 non-null  datetime64[ns]\n",
      "dtypes: datetime64[ns](1), float64(2), int64(1)\n",
      "memory usage: 564.8 KB\n",
      "None\n"
     ]
    },
    {
     "data": {
      "text/html": [
       "<div>\n",
       "<style scoped>\n",
       "    .dataframe tbody tr th:only-of-type {\n",
       "        vertical-align: middle;\n",
       "    }\n",
       "\n",
       "    .dataframe tbody tr th {\n",
       "        vertical-align: top;\n",
       "    }\n",
       "\n",
       "    .dataframe thead th {\n",
       "        text-align: right;\n",
       "    }\n",
       "</style>\n",
       "<table border=\"1\" class=\"dataframe\">\n",
       "  <thead>\n",
       "    <tr style=\"text-align: right;\">\n",
       "      <th></th>\n",
       "      <th>user_id</th>\n",
       "      <th>distance</th>\n",
       "      <th>duration</th>\n",
       "      <th>date</th>\n",
       "    </tr>\n",
       "  </thead>\n",
       "  <tbody>\n",
       "    <tr>\n",
       "      <th>0</th>\n",
       "      <td>1</td>\n",
       "      <td>4,409.9</td>\n",
       "      <td>25.6</td>\n",
       "      <td>2021-01-01</td>\n",
       "    </tr>\n",
       "    <tr>\n",
       "      <th>1</th>\n",
       "      <td>1</td>\n",
       "      <td>2,617.6</td>\n",
       "      <td>15.8</td>\n",
       "      <td>2021-01-18</td>\n",
       "    </tr>\n",
       "    <tr>\n",
       "      <th>2</th>\n",
       "      <td>1</td>\n",
       "      <td>754.2</td>\n",
       "      <td>6.2</td>\n",
       "      <td>2021-04-20</td>\n",
       "    </tr>\n",
       "    <tr>\n",
       "      <th>3</th>\n",
       "      <td>1</td>\n",
       "      <td>2,694.8</td>\n",
       "      <td>18.5</td>\n",
       "      <td>2021-08-11</td>\n",
       "    </tr>\n",
       "    <tr>\n",
       "      <th>4</th>\n",
       "      <td>1</td>\n",
       "      <td>4,028.7</td>\n",
       "      <td>26.3</td>\n",
       "      <td>2021-08-28</td>\n",
       "    </tr>\n",
       "  </tbody>\n",
       "</table>\n",
       "</div>"
      ],
      "text/plain": [
       "   user_id  distance  duration       date\n",
       "0        1   4,409.9      25.6 2021-01-01\n",
       "1        1   2,617.6      15.8 2021-01-18\n",
       "2        1     754.2       6.2 2021-04-20\n",
       "3        1   2,694.8      18.5 2021-08-11\n",
       "4        1   4,028.7      26.3 2021-08-28"
      ]
     },
     "execution_count": 5,
     "metadata": {},
     "output_type": "execute_result"
    }
   ],
   "source": [
    "#Выведем на экран первые 5 строк и первичную информацию\n",
    "dataset(rides)\n"
   ]
  },
  {
   "cell_type": "markdown",
   "id": "20a8e621",
   "metadata": {},
   "source": [
    "- **user_id**\tуникальный идентификатор пользователя\n",
    "- **distance**\tрасстояние, которое пользователь проехал в текущей сессии (в метрах)\n",
    "- **duration**\tпродолжительность сессии (в минутах) — время с того момента, как пользователь нажал кнопку «Начать поездку» до момента, как он нажал кнопку «Завершить поездку»\n",
    "- **date**\tдата совершения поездки"
   ]
  },
  {
   "cell_type": "code",
   "execution_count": 6,
   "id": "dd262ea2",
   "metadata": {},
   "outputs": [
    {
     "name": "stdout",
     "output_type": "stream",
     "text": [
      "<class 'pandas.core.frame.DataFrame'>\n",
      "RangeIndex: 2 entries, 0 to 1\n",
      "Data columns (total 4 columns):\n",
      " #   Column             Non-Null Count  Dtype \n",
      "---  ------             --------------  ----- \n",
      " 0   subscription_type  2 non-null      object\n",
      " 1   minute_price       2 non-null      int64 \n",
      " 2   start_ride_price   2 non-null      int64 \n",
      " 3   subscription_fee   2 non-null      int64 \n",
      "dtypes: int64(3), object(1)\n",
      "memory usage: 192.0+ bytes\n",
      "None\n"
     ]
    },
    {
     "data": {
      "text/html": [
       "<div>\n",
       "<style scoped>\n",
       "    .dataframe tbody tr th:only-of-type {\n",
       "        vertical-align: middle;\n",
       "    }\n",
       "\n",
       "    .dataframe tbody tr th {\n",
       "        vertical-align: top;\n",
       "    }\n",
       "\n",
       "    .dataframe thead th {\n",
       "        text-align: right;\n",
       "    }\n",
       "</style>\n",
       "<table border=\"1\" class=\"dataframe\">\n",
       "  <thead>\n",
       "    <tr style=\"text-align: right;\">\n",
       "      <th></th>\n",
       "      <th>subscription_type</th>\n",
       "      <th>minute_price</th>\n",
       "      <th>start_ride_price</th>\n",
       "      <th>subscription_fee</th>\n",
       "    </tr>\n",
       "  </thead>\n",
       "  <tbody>\n",
       "    <tr>\n",
       "      <th>0</th>\n",
       "      <td>free</td>\n",
       "      <td>8</td>\n",
       "      <td>50</td>\n",
       "      <td>0</td>\n",
       "    </tr>\n",
       "    <tr>\n",
       "      <th>1</th>\n",
       "      <td>ultra</td>\n",
       "      <td>6</td>\n",
       "      <td>0</td>\n",
       "      <td>199</td>\n",
       "    </tr>\n",
       "  </tbody>\n",
       "</table>\n",
       "</div>"
      ],
      "text/plain": [
       "  subscription_type  minute_price  start_ride_price  subscription_fee\n",
       "0              free             8                50                 0\n",
       "1             ultra             6                 0               199"
      ]
     },
     "execution_count": 6,
     "metadata": {},
     "output_type": "execute_result"
    }
   ],
   "source": [
    "#Выведем на экран первые 5 строк и первичную информацию\n",
    "dataset(subscriptions)"
   ]
  },
  {
   "cell_type": "markdown",
   "id": "7a4dc6e8",
   "metadata": {},
   "source": [
    "- **subscription_type**\tтип подписки\n",
    "- **minute_price**\tстоимость одной минуты поездки по данной подписке\n",
    "- **start_ride_price**\tстоимость начала поездки\n",
    "- **subscription_fee**\tстоимость ежемесячного платежа"
   ]
  },
  {
   "cell_type": "markdown",
   "id": "e95ebca7",
   "metadata": {},
   "source": [
    "#### Шаг 2. Предобработка данных"
   ]
  },
  {
   "cell_type": "code",
   "execution_count": 7,
   "id": "af6d202c",
   "metadata": {},
   "outputs": [],
   "source": [
    "#Приведем столбец date к типу даты pandas.\n",
    "rides['date'] = pd.to_datetime(rides['date'],format='%Y-%m-%d')"
   ]
  },
  {
   "cell_type": "markdown",
   "id": "7054f937",
   "metadata": {},
   "source": [
    "**Добавляем столбец с месяцем, выделив его из даты**"
   ]
  },
  {
   "cell_type": "code",
   "execution_count": 8,
   "id": "2634b7c9",
   "metadata": {
    "scrolled": true
   },
   "outputs": [
    {
     "data": {
      "text/html": [
       "<div>\n",
       "<style scoped>\n",
       "    .dataframe tbody tr th:only-of-type {\n",
       "        vertical-align: middle;\n",
       "    }\n",
       "\n",
       "    .dataframe tbody tr th {\n",
       "        vertical-align: top;\n",
       "    }\n",
       "\n",
       "    .dataframe thead th {\n",
       "        text-align: right;\n",
       "    }\n",
       "</style>\n",
       "<table border=\"1\" class=\"dataframe\">\n",
       "  <thead>\n",
       "    <tr style=\"text-align: right;\">\n",
       "      <th></th>\n",
       "      <th>user_id</th>\n",
       "      <th>distance</th>\n",
       "      <th>duration</th>\n",
       "      <th>date</th>\n",
       "      <th>month</th>\n",
       "    </tr>\n",
       "  </thead>\n",
       "  <tbody>\n",
       "    <tr>\n",
       "      <th>0</th>\n",
       "      <td>1</td>\n",
       "      <td>4,409.9</td>\n",
       "      <td>25.6</td>\n",
       "      <td>2021-01-01</td>\n",
       "      <td>1</td>\n",
       "    </tr>\n",
       "    <tr>\n",
       "      <th>1</th>\n",
       "      <td>1</td>\n",
       "      <td>2,617.6</td>\n",
       "      <td>15.8</td>\n",
       "      <td>2021-01-18</td>\n",
       "      <td>1</td>\n",
       "    </tr>\n",
       "    <tr>\n",
       "      <th>2</th>\n",
       "      <td>1</td>\n",
       "      <td>754.2</td>\n",
       "      <td>6.2</td>\n",
       "      <td>2021-04-20</td>\n",
       "      <td>4</td>\n",
       "    </tr>\n",
       "    <tr>\n",
       "      <th>3</th>\n",
       "      <td>1</td>\n",
       "      <td>2,694.8</td>\n",
       "      <td>18.5</td>\n",
       "      <td>2021-08-11</td>\n",
       "      <td>8</td>\n",
       "    </tr>\n",
       "    <tr>\n",
       "      <th>4</th>\n",
       "      <td>1</td>\n",
       "      <td>4,028.7</td>\n",
       "      <td>26.3</td>\n",
       "      <td>2021-08-28</td>\n",
       "      <td>8</td>\n",
       "    </tr>\n",
       "  </tbody>\n",
       "</table>\n",
       "</div>"
      ],
      "text/plain": [
       "   user_id  distance  duration       date  month\n",
       "0        1   4,409.9      25.6 2021-01-01      1\n",
       "1        1   2,617.6      15.8 2021-01-18      1\n",
       "2        1     754.2       6.2 2021-04-20      4\n",
       "3        1   2,694.8      18.5 2021-08-11      8\n",
       "4        1   4,028.7      26.3 2021-08-28      8"
      ]
     },
     "execution_count": 8,
     "metadata": {},
     "output_type": "execute_result"
    }
   ],
   "source": [
    "#Добавим столбец с номером месяца\n",
    "rides['month']=pd.DatetimeIndex(rides['date']).month\n",
    "#Выведем первые 5 строк датафрейма\n",
    "rides.head(5)"
   ]
  },
  {
   "cell_type": "code",
   "execution_count": 9,
   "id": "6141d5df",
   "metadata": {},
   "outputs": [
    {
     "name": "stdout",
     "output_type": "stream",
     "text": [
      "Минимальная дата : 2021-01-01 00:00:00\n",
      "Максимальная дата: 2021-12-30 00:00:00\n"
     ]
    }
   ],
   "source": [
    "print('Минимальная дата :', rides['date'].min())\n",
    "print('Максимальная дата:', rides['date'].max())"
   ]
  },
  {
   "cell_type": "markdown",
   "id": "111c5e86",
   "metadata": {},
   "source": [
    "Данные представлены за 2021 год"
   ]
  },
  {
   "cell_type": "code",
   "execution_count": 10,
   "id": "fbf0411c",
   "metadata": {},
   "outputs": [
    {
     "data": {
      "text/plain": [
       "user_id              0\n",
       "name                 0\n",
       "age                  0\n",
       "city                 0\n",
       "subscription_type    0\n",
       "dtype: int64"
      ]
     },
     "execution_count": 10,
     "metadata": {},
     "output_type": "execute_result"
    }
   ],
   "source": [
    "#Посчитаем количество пропусков\n",
    "users.isna().sum()"
   ]
  },
  {
   "cell_type": "code",
   "execution_count": 11,
   "id": "87333511",
   "metadata": {},
   "outputs": [
    {
     "data": {
      "text/plain": [
       "user_id     0\n",
       "distance    0\n",
       "duration    0\n",
       "date        0\n",
       "month       0\n",
       "dtype: int64"
      ]
     },
     "execution_count": 11,
     "metadata": {},
     "output_type": "execute_result"
    }
   ],
   "source": [
    "#Посчитаем количество пропусков\n",
    "rides.isna().sum()"
   ]
  },
  {
   "cell_type": "code",
   "execution_count": 12,
   "id": "2ffadd85",
   "metadata": {},
   "outputs": [
    {
     "data": {
      "text/plain": [
       "subscription_type    0\n",
       "minute_price         0\n",
       "start_ride_price     0\n",
       "subscription_fee     0\n",
       "dtype: int64"
      ]
     },
     "execution_count": 12,
     "metadata": {},
     "output_type": "execute_result"
    }
   ],
   "source": [
    "#Посчитаем количество пропусков\n",
    "subscriptions.isna().sum()"
   ]
  },
  {
   "cell_type": "code",
   "execution_count": 13,
   "id": "dd4f8bff",
   "metadata": {},
   "outputs": [
    {
     "data": {
      "text/plain": [
       "31"
      ]
     },
     "execution_count": 13,
     "metadata": {},
     "output_type": "execute_result"
    }
   ],
   "source": [
    "#Посчитаем количество явных дубликатов\n",
    "users.duplicated().sum()"
   ]
  },
  {
   "cell_type": "code",
   "execution_count": 14,
   "id": "4593a61e",
   "metadata": {},
   "outputs": [
    {
     "data": {
      "text/plain": [
       "0"
      ]
     },
     "execution_count": 14,
     "metadata": {},
     "output_type": "execute_result"
    }
   ],
   "source": [
    "#Посчитаем количество явных дубликатов\n",
    "rides.duplicated().sum()"
   ]
  },
  {
   "cell_type": "code",
   "execution_count": 15,
   "id": "ec7d4657",
   "metadata": {},
   "outputs": [
    {
     "data": {
      "text/plain": [
       "0"
      ]
     },
     "execution_count": 15,
     "metadata": {},
     "output_type": "execute_result"
    }
   ],
   "source": [
    "#Посчитаем количество явных дубликатов\n",
    "subscriptions.duplicated().sum()"
   ]
  },
  {
   "cell_type": "code",
   "execution_count": 16,
   "id": "1c1de6ac",
   "metadata": {
    "scrolled": true
   },
   "outputs": [],
   "source": [
    "#Удалим явные дубликаты\n",
    "users.drop_duplicates(inplace = True)"
   ]
  },
  {
   "cell_type": "code",
   "execution_count": 17,
   "id": "31ae985c",
   "metadata": {},
   "outputs": [
    {
     "data": {
      "text/plain": [
       "0"
      ]
     },
     "execution_count": 17,
     "metadata": {},
     "output_type": "execute_result"
    }
   ],
   "source": [
    "#Посчитаем количество явных дубликатов\n",
    "users.duplicated().sum()"
   ]
  },
  {
   "cell_type": "markdown",
   "id": "2f5609ea",
   "metadata": {},
   "source": [
    "**Вывод**\n",
    "- привели столбец **date** датафрема **rides** к типу данных datetime64\n",
    "- добавили столбец с номером месяца\n",
    "- посчитали количество пропусков и дубликатов \n",
    "- удалили 31 явный дубликат из датафрейма **users**"
   ]
  },
  {
   "cell_type": "markdown",
   "id": "c88394be",
   "metadata": {},
   "source": [
    "**Данные готовы для дальнейшего исследования**"
   ]
  },
  {
   "cell_type": "markdown",
   "id": "212593c7",
   "metadata": {},
   "source": [
    "#### Шаг 3. Исследовательский анализ данных"
   ]
  },
  {
   "cell_type": "markdown",
   "id": "d320dfbe",
   "metadata": {},
   "source": [
    "**Частота встречаемости городов**"
   ]
  },
  {
   "cell_type": "code",
   "execution_count": 18,
   "id": "e3a4274c",
   "metadata": {},
   "outputs": [
    {
     "data": {
      "text/plain": [
       "Пятигорск         219\n",
       "Екатеринбург      204\n",
       "Ростов-на-Дону    198\n",
       "Краснодар         193\n",
       "Сочи              189\n",
       "Омск              183\n",
       "Тюмень            180\n",
       "Москва            168\n",
       "Name: city, dtype: int64"
      ]
     },
     "execution_count": 18,
     "metadata": {},
     "output_type": "execute_result"
    }
   ],
   "source": [
    "#Посчитаем встречаемость городов\n",
    "users['city'].value_counts()"
   ]
  },
  {
   "cell_type": "code",
   "execution_count": 19,
   "id": "6f4341ab",
   "metadata": {
    "scrolled": false
   },
   "outputs": [
    {
     "data": {
      "image/png": "[encoded data removed]",
      "text/plain": [
       "<Figure size 720x360 with 1 Axes>"
      ]
     },
     "metadata": {
      "needs_background": "light"
     },
     "output_type": "display_data"
    },
    {
     "name": "stdout",
     "output_type": "stream",
     "text": [
      "Количество пользователей по городам \n"
     ]
    },
    {
     "data": {
      "text/plain": [
       "count     8.0\n",
       "mean    191.8\n",
       "std      15.7\n",
       "min     168.0\n",
       "25%     182.2\n",
       "50%     191.0\n",
       "75%     199.5\n",
       "max     219.0\n",
       "Name: city, dtype: float64"
      ]
     },
     "execution_count": 19,
     "metadata": {},
     "output_type": "execute_result"
    }
   ],
   "source": [
    "#сделаем сводную таблицу и построим график распделеения клиентов по городам\n",
    "(\n",
    "    users.pivot_table(index='city', values='user_id', aggfunc='count').sort_values(by='user_id', ascending=True)\n",
    "    .plot(kind='barh', grid=True, figsize=(10, 5))\n",
    ")\n",
    "plt.title('Количество пользователей по городам')\n",
    "plt.ylabel('Города')\n",
    "plt.xlabel('Количество пользователей')\n",
    "\n",
    "plt.show()\n",
    "print('Количество пользователей по городам ') \n",
    "users.pivot_table(index='city', values='user_id', aggfunc='count').sort_values(by='user_id', ascending=False)\n",
    "\n",
    "users['city'].value_counts().describe()"
   ]
  },
  {
   "cell_type": "code",
   "execution_count": 20,
   "id": "9607a21e",
   "metadata": {},
   "outputs": [
    {
     "data": {
      "text/plain": [
       "Пятигорск        14.0\n",
       "Екатеринбург     13.0\n",
       "Ростов-на-Дону   13.0\n",
       "Краснодар        13.0\n",
       "Сочи             12.0\n",
       "Омск             12.0\n",
       "Тюмень           12.0\n",
       "Москва           11.0\n",
       "Name: city, dtype: float64"
      ]
     },
     "execution_count": 20,
     "metadata": {},
     "output_type": "execute_result"
    }
   ],
   "source": [
    "city_percentages = users['city'].value_counts()\n",
    "city_percentages['rate'] = round(users['city'].value_counts() / \n",
    "                                    city_percentages.sum(), 2) * 100\n",
    "city_percentages['rate']"
   ]
  },
  {
   "cell_type": "markdown",
   "id": "62a68cb9",
   "metadata": {},
   "source": [
    "- Как мы видим из графика-распределение клиентов по городам практически одинаковое.\n",
    "- Больше всего клиентов в Пятигорске, а меньше всего в Москве. Разница всего 3% "
   ]
  },
  {
   "cell_type": "markdown",
   "id": "d3cc151a",
   "metadata": {},
   "source": [
    "**Соотношение пользователей с подпиской и без подписки**"
   ]
  },
  {
   "cell_type": "code",
   "execution_count": 21,
   "id": "75e9ccf2",
   "metadata": {},
   "outputs": [
    {
     "data": {
      "text/plain": [
       "free     835\n",
       "ultra    699\n",
       "Name: subscription_type, dtype: int64"
      ]
     },
     "execution_count": 21,
     "metadata": {},
     "output_type": "execute_result"
    }
   ],
   "source": [
    "#Посчитаем количество пользователей с подпиской и без\n",
    "users['subscription_type'].value_counts()"
   ]
  },
  {
   "cell_type": "code",
   "execution_count": 22,
   "id": "a67967f2",
   "metadata": {
    "scrolled": false
   },
   "outputs": [
    {
     "data": {
      "image/png": "[encoded data removed]",
      "text/plain": [
       "<Figure size 576x576 with 1 Axes>"
      ]
     },
     "metadata": {},
     "output_type": "display_data"
    },
    {
     "data": {
      "text/plain": [
       "count     2.0\n",
       "mean    767.0\n",
       "std      96.2\n",
       "min     699.0\n",
       "25%     733.0\n",
       "50%     767.0\n",
       "75%     801.0\n",
       "max     835.0\n",
       "Name: subscription_type, dtype: float64"
      ]
     },
     "execution_count": 22,
     "metadata": {},
     "output_type": "execute_result"
    }
   ],
   "source": [
    "#Построим график\n",
    "users['subscription_type'].value_counts().plot.pie(y='count', figsize=(8, 8),autopct='%1.1f%%',colors = ['pink', 'silver'])\n",
    "plt.title('Распределение клиентов  с подпиской и без')\n",
    "plt.axis('off')\n",
    "plt.show()\n",
    "\n",
    "users['subscription_type'].value_counts().describe()\n"
   ]
  },
  {
   "cell_type": "markdown",
   "id": "2f7e4063",
   "metadata": {},
   "source": [
    "- Из графика мы видим, что больше половины пользователей приложения не пользуются платной подпиской\n"
   ]
  },
  {
   "cell_type": "markdown",
   "id": "2166fb8b",
   "metadata": {},
   "source": [
    "**Возраст пользователей**"
   ]
  },
  {
   "cell_type": "code",
   "execution_count": 23,
   "id": "da9994b6",
   "metadata": {
    "scrolled": true
   },
   "outputs": [
    {
     "data": {
      "text/plain": [
       "count   1,534.0\n",
       "mean       24.9\n",
       "std         4.6\n",
       "min        12.0\n",
       "25%        22.0\n",
       "50%        25.0\n",
       "75%        28.0\n",
       "max        43.0\n",
       "Name: age, dtype: float64"
      ]
     },
     "execution_count": 23,
     "metadata": {},
     "output_type": "execute_result"
    }
   ],
   "source": [
    "users['age'].describe().T"
   ]
  },
  {
   "cell_type": "code",
   "execution_count": 24,
   "id": "06a5caf5",
   "metadata": {},
   "outputs": [
    {
     "data": {
      "image/png": "[encoded data removed]",
      "text/plain": [
       "<Figure size 432x288 with 1 Axes>"
      ]
     },
     "metadata": {
      "needs_background": "light"
     },
     "output_type": "display_data"
    }
   ],
   "source": [
    "#Построим гистограмму возраста для наглядности\n",
    "plt.hist(users['age'], bins = 20)\n",
    "plt.title('Возраст пользователей')\n",
    "plt.xlabel('Возраст')\n",
    "plt.ylabel('Количество пользователей')\n",
    "plt.grid()\n",
    "plt.show()"
   ]
  },
  {
   "cell_type": "markdown",
   "id": "26a4713a",
   "metadata": {},
   "source": [
    "**Расстояние, которое пользователь преодолел за одну поездку**"
   ]
  },
  {
   "cell_type": "code",
   "execution_count": 25,
   "id": "a6cd8d0a",
   "metadata": {},
   "outputs": [
    {
     "data": {
      "text/plain": [
       "count   18,068.0\n",
       "mean     3,070.7\n",
       "std      1,116.8\n",
       "min          0.9\n",
       "25%      2,543.2\n",
       "50%      3,133.6\n",
       "75%      3,776.2\n",
       "max      7,211.0\n",
       "Name: distance, dtype: float64"
      ]
     },
     "execution_count": 25,
     "metadata": {},
     "output_type": "execute_result"
    }
   ],
   "source": [
    "rides['distance'].describe().T"
   ]
  },
  {
   "cell_type": "code",
   "execution_count": 26,
   "id": "82989a97",
   "metadata": {},
   "outputs": [
    {
     "data": {
      "image/png": "[encoded data removed]",
      "text/plain": [
       "<Figure size 432x288 with 1 Axes>"
      ]
     },
     "metadata": {
      "needs_background": "light"
     },
     "output_type": "display_data"
    }
   ],
   "source": [
    "#Постороим диаграмму размаха\n",
    "sns.boxplot(x=rides['distance'], color='red')\n",
    "plt.title('Расстояние, преодоленное за одну поездку')\n",
    "plt.xlabel('Расстояние, м')\n",
    "diag= plt.xlim(0, 8000)"
   ]
  },
  {
   "cell_type": "code",
   "execution_count": 27,
   "id": "8a8e3f70",
   "metadata": {},
   "outputs": [
    {
     "data": {
      "image/png": "[encoded data removed]",
      "text/plain": [
       "<Figure size 432x288 with 1 Axes>"
      ]
     },
     "metadata": {
      "needs_background": "light"
     },
     "output_type": "display_data"
    }
   ],
   "source": [
    "#Построим гистограмму для дистанции для наглядности\n",
    "plt.hist(rides['distance'], bins = 20)\n",
    "plt.title('Дистанция')\n",
    "plt.xlabel('Дистанция')\n",
    "plt.ylabel('Количество поездок')\n",
    "plt.grid()\n",
    "plt.show()"
   ]
  },
  {
   "cell_type": "markdown",
   "id": "646b0260",
   "metadata": {},
   "source": [
    "**Продолжительность поездок**"
   ]
  },
  {
   "cell_type": "code",
   "execution_count": 28,
   "id": "a70b16c3",
   "metadata": {},
   "outputs": [
    {
     "data": {
      "text/plain": [
       "count   18,068.0\n",
       "mean        17.8\n",
       "std          6.1\n",
       "min          0.5\n",
       "25%         13.6\n",
       "50%         17.7\n",
       "75%         21.7\n",
       "max         40.8\n",
       "Name: duration, dtype: float64"
      ]
     },
     "execution_count": 28,
     "metadata": {},
     "output_type": "execute_result"
    }
   ],
   "source": [
    "rides['duration'].describe().T"
   ]
  },
  {
   "cell_type": "code",
   "execution_count": 29,
   "id": "82e51b7a",
   "metadata": {},
   "outputs": [
    {
     "data": {
      "image/png": "[encoded data removed]",
      "text/plain": [
       "<Figure size 432x288 with 1 Axes>"
      ]
     },
     "metadata": {
      "needs_background": "light"
     },
     "output_type": "display_data"
    }
   ],
   "source": [
    "#Постороим диаграмму размаха\n",
    "sns.boxplot(x = rides['duration'], color='red')\n",
    "plt.title('Время, проведенное в поездке')\n",
    "plt.xlabel('Время, минуты')\n",
    "diag = plt.xlim(0, 45)"
   ]
  },
  {
   "cell_type": "code",
   "execution_count": 30,
   "id": "5a787c7b",
   "metadata": {},
   "outputs": [
    {
     "data": {
      "image/png": "[encoded data removed]",
      "text/plain": [
       "<Figure size 432x288 with 1 Axes>"
      ]
     },
     "metadata": {
      "needs_background": "light"
     },
     "output_type": "display_data"
    }
   ],
   "source": [
    "#Построим гистограмму для дистанции для наглядности\n",
    "plt.hist(rides['duration'], bins = 20)\n",
    "plt.title('Время поездки')\n",
    "plt.xlabel('Время поездки')\n",
    "plt.ylabel('Количество поездок')\n",
    "plt.grid()\n",
    "plt.show()"
   ]
  },
  {
   "cell_type": "markdown",
   "id": "e9043879",
   "metadata": {},
   "source": [
    "**ВЫВОД**\n"
   ]
  },
  {
   "cell_type": "markdown",
   "id": "e980f7c3",
   "metadata": {},
   "source": [
    "**Частота встречаемости городов**\n"
   ]
  },
  {
   "cell_type": "markdown",
   "id": "17f08611",
   "metadata": {},
   "source": [
    "- Пользователи по городам распределены практически равномерно. Больше всего пользователей(226) в Пятигорске, а меньше всего(172) в Москве. Возможно это связано с тем, что в Пятигорске больше солнечных дней"
   ]
  },
  {
   "cell_type": "markdown",
   "id": "3efd64f5",
   "metadata": {},
   "source": [
    "**Соотношение пользователей с подпиской и без подписки**"
   ]
  },
  {
   "cell_type": "markdown",
   "id": "f732d06f",
   "metadata": {},
   "source": [
    "- Пользователей без подписки чуть больше -846 или 54.1%"
   ]
  },
  {
   "cell_type": "markdown",
   "id": "5ad19e17",
   "metadata": {},
   "source": [
    "**Возраст пользователей**\n",
    "- Основная часть пользователь находится в возрасте от 20 до 30 лет\n",
    "- Минимальный возраст 12, а максимальный 43"
   ]
  },
  {
   "cell_type": "markdown",
   "id": "83ac37ec",
   "metadata": {},
   "source": [
    "**Расстояние, которое пользователь преодолел за одну поездку**\n",
    "- Самая короткая дистанция - 0.86 км\n",
    "- Самая длинная - 7.2 км\n",
    "- В основном пользователи проезжают от 2500 м до 3800 м."
   ]
  },
  {
   "cell_type": "markdown",
   "id": "c9f465e1",
   "metadata": {},
   "source": [
    "**Продолжительность поездок**\n",
    "\n",
    "- Минимальное время  поездки 30 секунд, это выгляддит странно. Возможно пользователь отказался от поездки по каким либо причинам.\n",
    "- Максимальное время поездки почти  41 минут.\n",
    "- В основном  длительность поездки состовляет 13 - 22 минут."
   ]
  },
  {
   "cell_type": "markdown",
   "id": "4ef51331",
   "metadata": {},
   "source": [
    "#### Шаг 4. Объединение данных"
   ]
  },
  {
   "cell_type": "code",
   "execution_count": 31,
   "id": "6bf288b5",
   "metadata": {},
   "outputs": [],
   "source": [
    "#Объединим три датафрема в один\n",
    "data = users.merge(rides)\n",
    "data = data.merge(subscriptions)"
   ]
  },
  {
   "cell_type": "code",
   "execution_count": 32,
   "id": "9c314bee",
   "metadata": {},
   "outputs": [
    {
     "name": "stdout",
     "output_type": "stream",
     "text": [
      "Количество строк до объединения: 18068\n",
      "Количество строк после  объединения: 18068\n"
     ]
    }
   ],
   "source": [
    "print('Количество строк до объединения:', len(rides))\n",
    "print('Количество строк после  объединения:', len(data))"
   ]
  },
  {
   "cell_type": "code",
   "execution_count": 33,
   "id": "14e9e41f",
   "metadata": {
    "scrolled": true
   },
   "outputs": [
    {
     "data": {
      "text/plain": [
       "user_id              0\n",
       "name                 0\n",
       "age                  0\n",
       "city                 0\n",
       "subscription_type    0\n",
       "distance             0\n",
       "duration             0\n",
       "date                 0\n",
       "month                0\n",
       "minute_price         0\n",
       "start_ride_price     0\n",
       "subscription_fee     0\n",
       "dtype: int64"
      ]
     },
     "execution_count": 33,
     "metadata": {},
     "output_type": "execute_result"
    }
   ],
   "source": [
    "data.isna().sum()"
   ]
  },
  {
   "cell_type": "markdown",
   "id": "0cc79831",
   "metadata": {},
   "source": [
    "- Количество строк до и после объединени совпадает.\n",
    "- Пропуски в объединенном датасете отсутствуют"
   ]
  },
  {
   "cell_type": "markdown",
   "id": "aa6f1c82",
   "metadata": {},
   "source": [
    "Исходя из того, что пропуски отстутвуют и размеры датасета до и после объединения совпадают можно сделать вывод, что мы все выполнили правильно"
   ]
  },
  {
   "cell_type": "code",
   "execution_count": 34,
   "id": "fd83ac5c",
   "metadata": {},
   "outputs": [
    {
     "data": {
      "text/html": [
       "<div>\n",
       "<style scoped>\n",
       "    .dataframe tbody tr th:only-of-type {\n",
       "        vertical-align: middle;\n",
       "    }\n",
       "\n",
       "    .dataframe tbody tr th {\n",
       "        vertical-align: top;\n",
       "    }\n",
       "\n",
       "    .dataframe thead th {\n",
       "        text-align: right;\n",
       "    }\n",
       "</style>\n",
       "<table border=\"1\" class=\"dataframe\">\n",
       "  <thead>\n",
       "    <tr style=\"text-align: right;\">\n",
       "      <th></th>\n",
       "      <th>user_id</th>\n",
       "      <th>name</th>\n",
       "      <th>age</th>\n",
       "      <th>city</th>\n",
       "      <th>subscription_type</th>\n",
       "      <th>distance</th>\n",
       "      <th>duration</th>\n",
       "      <th>date</th>\n",
       "      <th>month</th>\n",
       "      <th>minute_price</th>\n",
       "      <th>start_ride_price</th>\n",
       "      <th>subscription_fee</th>\n",
       "    </tr>\n",
       "  </thead>\n",
       "  <tbody>\n",
       "    <tr>\n",
       "      <th>0</th>\n",
       "      <td>1</td>\n",
       "      <td>Кира</td>\n",
       "      <td>22</td>\n",
       "      <td>Тюмень</td>\n",
       "      <td>ultra</td>\n",
       "      <td>4,409.9</td>\n",
       "      <td>25.6</td>\n",
       "      <td>2021-01-01</td>\n",
       "      <td>1</td>\n",
       "      <td>6</td>\n",
       "      <td>0</td>\n",
       "      <td>199</td>\n",
       "    </tr>\n",
       "    <tr>\n",
       "      <th>1</th>\n",
       "      <td>1</td>\n",
       "      <td>Кира</td>\n",
       "      <td>22</td>\n",
       "      <td>Тюмень</td>\n",
       "      <td>ultra</td>\n",
       "      <td>2,617.6</td>\n",
       "      <td>15.8</td>\n",
       "      <td>2021-01-18</td>\n",
       "      <td>1</td>\n",
       "      <td>6</td>\n",
       "      <td>0</td>\n",
       "      <td>199</td>\n",
       "    </tr>\n",
       "    <tr>\n",
       "      <th>2</th>\n",
       "      <td>1</td>\n",
       "      <td>Кира</td>\n",
       "      <td>22</td>\n",
       "      <td>Тюмень</td>\n",
       "      <td>ultra</td>\n",
       "      <td>754.2</td>\n",
       "      <td>6.2</td>\n",
       "      <td>2021-04-20</td>\n",
       "      <td>4</td>\n",
       "      <td>6</td>\n",
       "      <td>0</td>\n",
       "      <td>199</td>\n",
       "    </tr>\n",
       "    <tr>\n",
       "      <th>3</th>\n",
       "      <td>1</td>\n",
       "      <td>Кира</td>\n",
       "      <td>22</td>\n",
       "      <td>Тюмень</td>\n",
       "      <td>ultra</td>\n",
       "      <td>2,694.8</td>\n",
       "      <td>18.5</td>\n",
       "      <td>2021-08-11</td>\n",
       "      <td>8</td>\n",
       "      <td>6</td>\n",
       "      <td>0</td>\n",
       "      <td>199</td>\n",
       "    </tr>\n",
       "    <tr>\n",
       "      <th>4</th>\n",
       "      <td>1</td>\n",
       "      <td>Кира</td>\n",
       "      <td>22</td>\n",
       "      <td>Тюмень</td>\n",
       "      <td>ultra</td>\n",
       "      <td>4,028.7</td>\n",
       "      <td>26.3</td>\n",
       "      <td>2021-08-28</td>\n",
       "      <td>8</td>\n",
       "      <td>6</td>\n",
       "      <td>0</td>\n",
       "      <td>199</td>\n",
       "    </tr>\n",
       "  </tbody>\n",
       "</table>\n",
       "</div>"
      ],
      "text/plain": [
       "   user_id  name  age    city subscription_type  distance  duration  \\\n",
       "0        1  Кира   22  Тюмень             ultra   4,409.9      25.6   \n",
       "1        1  Кира   22  Тюмень             ultra   2,617.6      15.8   \n",
       "2        1  Кира   22  Тюмень             ultra     754.2       6.2   \n",
       "3        1  Кира   22  Тюмень             ultra   2,694.8      18.5   \n",
       "4        1  Кира   22  Тюмень             ultra   4,028.7      26.3   \n",
       "\n",
       "        date  month  minute_price  start_ride_price  subscription_fee  \n",
       "0 2021-01-01      1             6                 0               199  \n",
       "1 2021-01-18      1             6                 0               199  \n",
       "2 2021-04-20      4             6                 0               199  \n",
       "3 2021-08-11      8             6                 0               199  \n",
       "4 2021-08-28      8             6                 0               199  "
      ]
     },
     "execution_count": 34,
     "metadata": {},
     "output_type": "execute_result"
    }
   ],
   "source": [
    "#Выведем первые строки\n",
    "data.head()"
   ]
  },
  {
   "cell_type": "code",
   "execution_count": 35,
   "id": "c3c4c502",
   "metadata": {},
   "outputs": [],
   "source": [
    "#Функция вывода пропусков , кол-ва строк и первых строк датасета\n",
    "def head(data):\n",
    "    print(data.isna().sum())\n",
    "    print('Количество строк:', len(data) )\n",
    "    return data.head()"
   ]
  },
  {
   "cell_type": "code",
   "execution_count": 36,
   "id": "a0d9db2a",
   "metadata": {},
   "outputs": [],
   "source": [
    "#Создадим новый датафрейм с пользователями без подписки\n",
    "subscription_free = data.query(\"`subscription_type` == 'free'\")"
   ]
  },
  {
   "cell_type": "code",
   "execution_count": 37,
   "id": "aeedd0f6",
   "metadata": {
    "scrolled": false
   },
   "outputs": [
    {
     "name": "stdout",
     "output_type": "stream",
     "text": [
      "user_id              0\n",
      "name                 0\n",
      "age                  0\n",
      "city                 0\n",
      "subscription_type    0\n",
      "distance             0\n",
      "duration             0\n",
      "date                 0\n",
      "month                0\n",
      "minute_price         0\n",
      "start_ride_price     0\n",
      "subscription_fee     0\n",
      "dtype: int64\n",
      "Количество строк: 11568\n"
     ]
    },
    {
     "data": {
      "text/html": [
       "<div>\n",
       "<style scoped>\n",
       "    .dataframe tbody tr th:only-of-type {\n",
       "        vertical-align: middle;\n",
       "    }\n",
       "\n",
       "    .dataframe tbody tr th {\n",
       "        vertical-align: top;\n",
       "    }\n",
       "\n",
       "    .dataframe thead th {\n",
       "        text-align: right;\n",
       "    }\n",
       "</style>\n",
       "<table border=\"1\" class=\"dataframe\">\n",
       "  <thead>\n",
       "    <tr style=\"text-align: right;\">\n",
       "      <th></th>\n",
       "      <th>user_id</th>\n",
       "      <th>name</th>\n",
       "      <th>age</th>\n",
       "      <th>city</th>\n",
       "      <th>subscription_type</th>\n",
       "      <th>distance</th>\n",
       "      <th>duration</th>\n",
       "      <th>date</th>\n",
       "      <th>month</th>\n",
       "      <th>minute_price</th>\n",
       "      <th>start_ride_price</th>\n",
       "      <th>subscription_fee</th>\n",
       "    </tr>\n",
       "  </thead>\n",
       "  <tbody>\n",
       "    <tr>\n",
       "      <th>6500</th>\n",
       "      <td>700</td>\n",
       "      <td>Айдар</td>\n",
       "      <td>22</td>\n",
       "      <td>Омск</td>\n",
       "      <td>free</td>\n",
       "      <td>2,515.7</td>\n",
       "      <td>14.9</td>\n",
       "      <td>2021-01-02</td>\n",
       "      <td>1</td>\n",
       "      <td>8</td>\n",
       "      <td>50</td>\n",
       "      <td>0</td>\n",
       "    </tr>\n",
       "    <tr>\n",
       "      <th>6501</th>\n",
       "      <td>700</td>\n",
       "      <td>Айдар</td>\n",
       "      <td>22</td>\n",
       "      <td>Омск</td>\n",
       "      <td>free</td>\n",
       "      <td>846.9</td>\n",
       "      <td>16.2</td>\n",
       "      <td>2021-02-01</td>\n",
       "      <td>2</td>\n",
       "      <td>8</td>\n",
       "      <td>50</td>\n",
       "      <td>0</td>\n",
       "    </tr>\n",
       "    <tr>\n",
       "      <th>6502</th>\n",
       "      <td>700</td>\n",
       "      <td>Айдар</td>\n",
       "      <td>22</td>\n",
       "      <td>Омск</td>\n",
       "      <td>free</td>\n",
       "      <td>4,004.4</td>\n",
       "      <td>20.0</td>\n",
       "      <td>2021-02-04</td>\n",
       "      <td>2</td>\n",
       "      <td>8</td>\n",
       "      <td>50</td>\n",
       "      <td>0</td>\n",
       "    </tr>\n",
       "    <tr>\n",
       "      <th>6503</th>\n",
       "      <td>700</td>\n",
       "      <td>Айдар</td>\n",
       "      <td>22</td>\n",
       "      <td>Омск</td>\n",
       "      <td>free</td>\n",
       "      <td>1,205.9</td>\n",
       "      <td>9.8</td>\n",
       "      <td>2021-02-10</td>\n",
       "      <td>2</td>\n",
       "      <td>8</td>\n",
       "      <td>50</td>\n",
       "      <td>0</td>\n",
       "    </tr>\n",
       "    <tr>\n",
       "      <th>6504</th>\n",
       "      <td>700</td>\n",
       "      <td>Айдар</td>\n",
       "      <td>22</td>\n",
       "      <td>Омск</td>\n",
       "      <td>free</td>\n",
       "      <td>3,047.4</td>\n",
       "      <td>17.4</td>\n",
       "      <td>2021-02-14</td>\n",
       "      <td>2</td>\n",
       "      <td>8</td>\n",
       "      <td>50</td>\n",
       "      <td>0</td>\n",
       "    </tr>\n",
       "  </tbody>\n",
       "</table>\n",
       "</div>"
      ],
      "text/plain": [
       "      user_id   name  age  city subscription_type  distance  duration  \\\n",
       "6500      700  Айдар   22  Омск              free   2,515.7      14.9   \n",
       "6501      700  Айдар   22  Омск              free     846.9      16.2   \n",
       "6502      700  Айдар   22  Омск              free   4,004.4      20.0   \n",
       "6503      700  Айдар   22  Омск              free   1,205.9       9.8   \n",
       "6504      700  Айдар   22  Омск              free   3,047.4      17.4   \n",
       "\n",
       "           date  month  minute_price  start_ride_price  subscription_fee  \n",
       "6500 2021-01-02      1             8                50                 0  \n",
       "6501 2021-02-01      2             8                50                 0  \n",
       "6502 2021-02-04      2             8                50                 0  \n",
       "6503 2021-02-10      2             8                50                 0  \n",
       "6504 2021-02-14      2             8                50                 0  "
      ]
     },
     "execution_count": 37,
     "metadata": {},
     "output_type": "execute_result"
    }
   ],
   "source": [
    "#Выведем первые строки и количество пропусков\n",
    "head(subscription_free)"
   ]
  },
  {
   "cell_type": "markdown",
   "id": "e5b826d2",
   "metadata": {},
   "source": [
    "**В новом датасете пропуски отсутствуют**"
   ]
  },
  {
   "cell_type": "code",
   "execution_count": 38,
   "id": "71dfe3dd",
   "metadata": {},
   "outputs": [],
   "source": [
    "#Создадим новый датафрейм с пользователями с подпиской\n",
    "subscription_ultra = data.query(\"`subscription_type` == 'ultra'\")"
   ]
  },
  {
   "cell_type": "code",
   "execution_count": 39,
   "id": "73d13e9e",
   "metadata": {},
   "outputs": [
    {
     "name": "stdout",
     "output_type": "stream",
     "text": [
      "user_id              0\n",
      "name                 0\n",
      "age                  0\n",
      "city                 0\n",
      "subscription_type    0\n",
      "distance             0\n",
      "duration             0\n",
      "date                 0\n",
      "month                0\n",
      "minute_price         0\n",
      "start_ride_price     0\n",
      "subscription_fee     0\n",
      "dtype: int64\n",
      "Количество строк: 6500\n"
     ]
    },
    {
     "data": {
      "text/html": [
       "<div>\n",
       "<style scoped>\n",
       "    .dataframe tbody tr th:only-of-type {\n",
       "        vertical-align: middle;\n",
       "    }\n",
       "\n",
       "    .dataframe tbody tr th {\n",
       "        vertical-align: top;\n",
       "    }\n",
       "\n",
       "    .dataframe thead th {\n",
       "        text-align: right;\n",
       "    }\n",
       "</style>\n",
       "<table border=\"1\" class=\"dataframe\">\n",
       "  <thead>\n",
       "    <tr style=\"text-align: right;\">\n",
       "      <th></th>\n",
       "      <th>user_id</th>\n",
       "      <th>name</th>\n",
       "      <th>age</th>\n",
       "      <th>city</th>\n",
       "      <th>subscription_type</th>\n",
       "      <th>distance</th>\n",
       "      <th>duration</th>\n",
       "      <th>date</th>\n",
       "      <th>month</th>\n",
       "      <th>minute_price</th>\n",
       "      <th>start_ride_price</th>\n",
       "      <th>subscription_fee</th>\n",
       "    </tr>\n",
       "  </thead>\n",
       "  <tbody>\n",
       "    <tr>\n",
       "      <th>0</th>\n",
       "      <td>1</td>\n",
       "      <td>Кира</td>\n",
       "      <td>22</td>\n",
       "      <td>Тюмень</td>\n",
       "      <td>ultra</td>\n",
       "      <td>4,409.9</td>\n",
       "      <td>25.6</td>\n",
       "      <td>2021-01-01</td>\n",
       "      <td>1</td>\n",
       "      <td>6</td>\n",
       "      <td>0</td>\n",
       "      <td>199</td>\n",
       "    </tr>\n",
       "    <tr>\n",
       "      <th>1</th>\n",
       "      <td>1</td>\n",
       "      <td>Кира</td>\n",
       "      <td>22</td>\n",
       "      <td>Тюмень</td>\n",
       "      <td>ultra</td>\n",
       "      <td>2,617.6</td>\n",
       "      <td>15.8</td>\n",
       "      <td>2021-01-18</td>\n",
       "      <td>1</td>\n",
       "      <td>6</td>\n",
       "      <td>0</td>\n",
       "      <td>199</td>\n",
       "    </tr>\n",
       "    <tr>\n",
       "      <th>2</th>\n",
       "      <td>1</td>\n",
       "      <td>Кира</td>\n",
       "      <td>22</td>\n",
       "      <td>Тюмень</td>\n",
       "      <td>ultra</td>\n",
       "      <td>754.2</td>\n",
       "      <td>6.2</td>\n",
       "      <td>2021-04-20</td>\n",
       "      <td>4</td>\n",
       "      <td>6</td>\n",
       "      <td>0</td>\n",
       "      <td>199</td>\n",
       "    </tr>\n",
       "    <tr>\n",
       "      <th>3</th>\n",
       "      <td>1</td>\n",
       "      <td>Кира</td>\n",
       "      <td>22</td>\n",
       "      <td>Тюмень</td>\n",
       "      <td>ultra</td>\n",
       "      <td>2,694.8</td>\n",
       "      <td>18.5</td>\n",
       "      <td>2021-08-11</td>\n",
       "      <td>8</td>\n",
       "      <td>6</td>\n",
       "      <td>0</td>\n",
       "      <td>199</td>\n",
       "    </tr>\n",
       "    <tr>\n",
       "      <th>4</th>\n",
       "      <td>1</td>\n",
       "      <td>Кира</td>\n",
       "      <td>22</td>\n",
       "      <td>Тюмень</td>\n",
       "      <td>ultra</td>\n",
       "      <td>4,028.7</td>\n",
       "      <td>26.3</td>\n",
       "      <td>2021-08-28</td>\n",
       "      <td>8</td>\n",
       "      <td>6</td>\n",
       "      <td>0</td>\n",
       "      <td>199</td>\n",
       "    </tr>\n",
       "  </tbody>\n",
       "</table>\n",
       "</div>"
      ],
      "text/plain": [
       "   user_id  name  age    city subscription_type  distance  duration  \\\n",
       "0        1  Кира   22  Тюмень             ultra   4,409.9      25.6   \n",
       "1        1  Кира   22  Тюмень             ultra   2,617.6      15.8   \n",
       "2        1  Кира   22  Тюмень             ultra     754.2       6.2   \n",
       "3        1  Кира   22  Тюмень             ultra   2,694.8      18.5   \n",
       "4        1  Кира   22  Тюмень             ultra   4,028.7      26.3   \n",
       "\n",
       "        date  month  minute_price  start_ride_price  subscription_fee  \n",
       "0 2021-01-01      1             6                 0               199  \n",
       "1 2021-01-18      1             6                 0               199  \n",
       "2 2021-04-20      4             6                 0               199  \n",
       "3 2021-08-11      8             6                 0               199  \n",
       "4 2021-08-28      8             6                 0               199  "
      ]
     },
     "execution_count": 39,
     "metadata": {},
     "output_type": "execute_result"
    }
   ],
   "source": [
    "#Выведем первые строки и количество пропсков\n",
    "head(subscription_ultra)"
   ]
  },
  {
   "cell_type": "markdown",
   "id": "f3447db8",
   "metadata": {},
   "source": [
    "**В новом датасете пропуски отсутствуют**"
   ]
  },
  {
   "cell_type": "markdown",
   "id": "955dd937",
   "metadata": {},
   "source": [
    "**Визуализируем информацию о расстоянии и времени поездок для пользователей обеих категорий**"
   ]
  },
  {
   "cell_type": "code",
   "execution_count": 40,
   "id": "b1542a74",
   "metadata": {},
   "outputs": [
    {
     "data": {
      "text/plain": [
       "count   11,568.0\n",
       "mean     3,045.5\n",
       "std      1,246.2\n",
       "min          0.9\n",
       "25%      2,366.6\n",
       "50%      3,114.6\n",
       "75%      3,905.7\n",
       "max      7,211.0\n",
       "Name: distance, dtype: float64"
      ]
     },
     "execution_count": 40,
     "metadata": {},
     "output_type": "execute_result"
    }
   ],
   "source": [
    "subscription_free['distance'].describe().T"
   ]
  },
  {
   "cell_type": "code",
   "execution_count": null,
   "id": "d6c0b743",
   "metadata": {},
   "outputs": [],
   "source": []
  },
  {
   "cell_type": "code",
   "execution_count": 41,
   "id": "45023c7d",
   "metadata": {
    "scrolled": false
   },
   "outputs": [
    {
     "name": "stdout",
     "output_type": "stream",
     "text": [
      "count   6,500.0\n",
      "mean    3,115.4\n",
      "std       836.9\n",
      "min       244.2\n",
      "25%     2,785.4\n",
      "50%     3,148.6\n",
      "75%     3,560.6\n",
      "max     5,699.8\n",
      "Name: distance, dtype: float64\n"
     ]
    },
    {
     "data": {
      "text/plain": [
       "count   11,568.0\n",
       "mean     3,045.5\n",
       "std      1,246.2\n",
       "min          0.9\n",
       "25%      2,366.6\n",
       "50%      3,114.6\n",
       "75%      3,905.7\n",
       "max      7,211.0\n",
       "Name: distance, dtype: float64"
      ]
     },
     "execution_count": 41,
     "metadata": {},
     "output_type": "execute_result"
    },
    {
     "data": {
      "image/png": "[encoded data removed]",
      "text/plain": [
       "<Figure size 720x360 with 1 Axes>"
      ]
     },
     "metadata": {
      "needs_background": "light"
     },
     "output_type": "display_data"
    }
   ],
   "source": [
    "#построим совмещенную гистограмму расстояния поездок\n",
    "plt.figure(figsize=(10,5))\n",
    "plt.hist(subscription_ultra['distance'], bins=30, color='skyblue', alpha=0.5, label='ultra')\n",
    "plt.hist(subscription_free['distance'], bins=30, color='salmon', alpha=0.5, label='free')\n",
    "plt.title('Расстояние поездок')\n",
    "plt.xlabel('Расстояние, м')\n",
    "plt.ylabel('Количество поездок')\n",
    "plt.legend()\n",
    "\n",
    "print(subscription_ultra['distance'].describe().T)\n",
    "subscription_free['distance'].describe().T"
   ]
  },
  {
   "cell_type": "code",
   "execution_count": 42,
   "id": "8bbaa44d",
   "metadata": {
    "scrolled": true
   },
   "outputs": [
    {
     "data": {
      "image/png": "[encoded data removed]",
      "text/plain": [
       "<Figure size 720x360 with 1 Axes>"
      ]
     },
     "metadata": {
      "needs_background": "light"
     },
     "output_type": "display_data"
    },
    {
     "name": "stdout",
     "output_type": "stream",
     "text": [
      "count   6,500.0\n",
      "mean       18.5\n",
      "std         5.6\n",
      "min         3.8\n",
      "25%        14.5\n",
      "50%        18.2\n",
      "75%        21.9\n",
      "max        40.8\n",
      "Name: duration, dtype: float64\n",
      "\n",
      "count   11,568.0\n",
      "mean        17.4\n",
      "std          6.3\n",
      "min          0.5\n",
      "25%         13.0\n",
      "50%         17.3\n",
      "75%         21.6\n",
      "max         34.9\n",
      "Name: duration, dtype: float64\n"
     ]
    }
   ],
   "source": [
    "plt.figure(figsize=(10,5))\n",
    "plt.hist(subscription_ultra['duration'], bins=30, color='skyblue', alpha=0.5, label='ultra')\n",
    "plt.hist(subscription_free['duration'], bins=30, color='salmon', alpha=0.5, label='free')\n",
    "plt.title('Время поездки')\n",
    "plt.xlabel('Время поездки, минуты')\n",
    "plt.ylabel('Количество поездок')\n",
    "plt.legend()\n",
    "\n",
    "plt.show()\n",
    "print(subscription_ultra['duration'].describe().T)\n",
    "print()\n",
    "print(subscription_free['duration'].describe().T)"
   ]
  },
  {
   "cell_type": "markdown",
   "id": "d9497d8e",
   "metadata": {},
   "source": [
    "**Вывод**\n",
    "\n",
    "- Объединили данные о пользователях, поездках и тарифах в один датафрейм - data\n",
    "- из датафрема data выделили два новых датафрейма:**subscription_free** c данными о пользователях без подписки и **subscription_ultra** с данными о пользователях с подпиской\n",
    "\n",
    "- Визуализировали информацию о расстоянии и времени для каждого из тарифов\n",
    "\n",
    "- На бесплатном тарифе время поездки составляет от 12 до 21 минут и расстояние от 2.3 до 3,1 км\n",
    "\n",
    "- На платном тарифе  время поездки составляет от 14 до 21 минут и расстояние от 2.8 до 3,6 км\n",
    "\n",
    "Таким образом, можно сделать вывод, что пользователи с бесплатным тарифом совершаю чуть более короткие поездки и по времени и по расстоянию"
   ]
  },
  {
   "cell_type": "markdown",
   "id": "402d620f",
   "metadata": {},
   "source": [
    "#### Шаг 5. Подсчёт выручки"
   ]
  },
  {
   "cell_type": "markdown",
   "id": "90478452",
   "metadata": {},
   "source": [
    "**Создадим датафрейм *agg_data* с агрегированными данными о поездках на основе датафрейма *data* и найдём суммарное расстояние, количество поездок и суммарное время для каждого пользователя за каждый месяц.**"
   ]
  },
  {
   "cell_type": "code",
   "execution_count": 43,
   "id": "9ac624b7",
   "metadata": {},
   "outputs": [],
   "source": [
    "#округляем продолжительность поездки до следующего целого числа\n",
    "data['duration'] = np.ceil(data['duration'])"
   ]
  },
  {
   "cell_type": "code",
   "execution_count": 44,
   "id": "2ae79b96",
   "metadata": {
    "scrolled": true
   },
   "outputs": [
    {
     "data": {
      "text/html": [
       "<div>\n",
       "<style scoped>\n",
       "    .dataframe tbody tr th:only-of-type {\n",
       "        vertical-align: middle;\n",
       "    }\n",
       "\n",
       "    .dataframe tbody tr th {\n",
       "        vertical-align: top;\n",
       "    }\n",
       "\n",
       "    .dataframe thead th {\n",
       "        text-align: right;\n",
       "    }\n",
       "</style>\n",
       "<table border=\"1\" class=\"dataframe\">\n",
       "  <thead>\n",
       "    <tr style=\"text-align: right;\">\n",
       "      <th></th>\n",
       "      <th>user_id</th>\n",
       "      <th>name</th>\n",
       "      <th>age</th>\n",
       "      <th>city</th>\n",
       "      <th>subscription_type</th>\n",
       "      <th>distance</th>\n",
       "      <th>duration</th>\n",
       "      <th>date</th>\n",
       "      <th>month</th>\n",
       "      <th>minute_price</th>\n",
       "      <th>start_ride_price</th>\n",
       "      <th>subscription_fee</th>\n",
       "    </tr>\n",
       "  </thead>\n",
       "  <tbody>\n",
       "    <tr>\n",
       "      <th>0</th>\n",
       "      <td>1</td>\n",
       "      <td>Кира</td>\n",
       "      <td>22</td>\n",
       "      <td>Тюмень</td>\n",
       "      <td>ultra</td>\n",
       "      <td>4,409.9</td>\n",
       "      <td>26.0</td>\n",
       "      <td>2021-01-01</td>\n",
       "      <td>1</td>\n",
       "      <td>6</td>\n",
       "      <td>0</td>\n",
       "      <td>199</td>\n",
       "    </tr>\n",
       "    <tr>\n",
       "      <th>1</th>\n",
       "      <td>1</td>\n",
       "      <td>Кира</td>\n",
       "      <td>22</td>\n",
       "      <td>Тюмень</td>\n",
       "      <td>ultra</td>\n",
       "      <td>2,617.6</td>\n",
       "      <td>16.0</td>\n",
       "      <td>2021-01-18</td>\n",
       "      <td>1</td>\n",
       "      <td>6</td>\n",
       "      <td>0</td>\n",
       "      <td>199</td>\n",
       "    </tr>\n",
       "    <tr>\n",
       "      <th>2</th>\n",
       "      <td>1</td>\n",
       "      <td>Кира</td>\n",
       "      <td>22</td>\n",
       "      <td>Тюмень</td>\n",
       "      <td>ultra</td>\n",
       "      <td>754.2</td>\n",
       "      <td>7.0</td>\n",
       "      <td>2021-04-20</td>\n",
       "      <td>4</td>\n",
       "      <td>6</td>\n",
       "      <td>0</td>\n",
       "      <td>199</td>\n",
       "    </tr>\n",
       "    <tr>\n",
       "      <th>3</th>\n",
       "      <td>1</td>\n",
       "      <td>Кира</td>\n",
       "      <td>22</td>\n",
       "      <td>Тюмень</td>\n",
       "      <td>ultra</td>\n",
       "      <td>2,694.8</td>\n",
       "      <td>19.0</td>\n",
       "      <td>2021-08-11</td>\n",
       "      <td>8</td>\n",
       "      <td>6</td>\n",
       "      <td>0</td>\n",
       "      <td>199</td>\n",
       "    </tr>\n",
       "    <tr>\n",
       "      <th>4</th>\n",
       "      <td>1</td>\n",
       "      <td>Кира</td>\n",
       "      <td>22</td>\n",
       "      <td>Тюмень</td>\n",
       "      <td>ultra</td>\n",
       "      <td>4,028.7</td>\n",
       "      <td>27.0</td>\n",
       "      <td>2021-08-28</td>\n",
       "      <td>8</td>\n",
       "      <td>6</td>\n",
       "      <td>0</td>\n",
       "      <td>199</td>\n",
       "    </tr>\n",
       "  </tbody>\n",
       "</table>\n",
       "</div>"
      ],
      "text/plain": [
       "   user_id  name  age    city subscription_type  distance  duration  \\\n",
       "0        1  Кира   22  Тюмень             ultra   4,409.9      26.0   \n",
       "1        1  Кира   22  Тюмень             ultra   2,617.6      16.0   \n",
       "2        1  Кира   22  Тюмень             ultra     754.2       7.0   \n",
       "3        1  Кира   22  Тюмень             ultra   2,694.8      19.0   \n",
       "4        1  Кира   22  Тюмень             ultra   4,028.7      27.0   \n",
       "\n",
       "        date  month  minute_price  start_ride_price  subscription_fee  \n",
       "0 2021-01-01      1             6                 0               199  \n",
       "1 2021-01-18      1             6                 0               199  \n",
       "2 2021-04-20      4             6                 0               199  \n",
       "3 2021-08-11      8             6                 0               199  \n",
       "4 2021-08-28      8             6                 0               199  "
      ]
     },
     "execution_count": 44,
     "metadata": {},
     "output_type": "execute_result"
    }
   ],
   "source": [
    "data.head()"
   ]
  },
  {
   "cell_type": "code",
   "execution_count": 45,
   "id": "53049e0a",
   "metadata": {},
   "outputs": [],
   "source": [
    "agg_data = pd.pivot_table(data,\n",
    "                           index=['month', 'user_id'],\n",
    "                           values = ['distance',\n",
    "                                     'duration',\n",
    "                                     'name',\n",
    "                                     'subscription_type',\n",
    "                                     'minute_price',\n",
    "                                     'start_ride_price',\n",
    "                                     'subscription_fee'],\n",
    "                           aggfunc = {'distance': sum, \n",
    "                                      'duration' : sum, \n",
    "                                      'name' : len, \n",
    "                                      'subscription_type' : min,\n",
    "                                      'minute_price': min,\n",
    "                                      'start_ride_price': min,\n",
    "                                      'subscription_fee': min})"
   ]
  },
  {
   "cell_type": "code",
   "execution_count": 46,
   "id": "ff919428",
   "metadata": {},
   "outputs": [
    {
     "data": {
      "text/html": [
       "<div>\n",
       "<style scoped>\n",
       "    .dataframe tbody tr th:only-of-type {\n",
       "        vertical-align: middle;\n",
       "    }\n",
       "\n",
       "    .dataframe tbody tr th {\n",
       "        vertical-align: top;\n",
       "    }\n",
       "\n",
       "    .dataframe thead th {\n",
       "        text-align: right;\n",
       "    }\n",
       "</style>\n",
       "<table border=\"1\" class=\"dataframe\">\n",
       "  <thead>\n",
       "    <tr style=\"text-align: right;\">\n",
       "      <th></th>\n",
       "      <th></th>\n",
       "      <th>distance</th>\n",
       "      <th>duration</th>\n",
       "      <th>minute_price</th>\n",
       "      <th>count_tips</th>\n",
       "      <th>start_ride_price</th>\n",
       "      <th>subscription_fee</th>\n",
       "      <th>subscription_type</th>\n",
       "    </tr>\n",
       "    <tr>\n",
       "      <th>month</th>\n",
       "      <th>user_id</th>\n",
       "      <th></th>\n",
       "      <th></th>\n",
       "      <th></th>\n",
       "      <th></th>\n",
       "      <th></th>\n",
       "      <th></th>\n",
       "      <th></th>\n",
       "    </tr>\n",
       "  </thead>\n",
       "  <tbody>\n",
       "    <tr>\n",
       "      <th rowspan=\"10\" valign=\"top\">1</th>\n",
       "      <th>1</th>\n",
       "      <td>7,027.5</td>\n",
       "      <td>42.0</td>\n",
       "      <td>6</td>\n",
       "      <td>2</td>\n",
       "      <td>0</td>\n",
       "      <td>199</td>\n",
       "      <td>ultra</td>\n",
       "    </tr>\n",
       "    <tr>\n",
       "      <th>1061</th>\n",
       "      <td>12,637.2</td>\n",
       "      <td>43.0</td>\n",
       "      <td>8</td>\n",
       "      <td>3</td>\n",
       "      <td>50</td>\n",
       "      <td>0</td>\n",
       "      <td>free</td>\n",
       "    </tr>\n",
       "    <tr>\n",
       "      <th>1063</th>\n",
       "      <td>3,276.4</td>\n",
       "      <td>10.0</td>\n",
       "      <td>8</td>\n",
       "      <td>1</td>\n",
       "      <td>50</td>\n",
       "      <td>0</td>\n",
       "      <td>free</td>\n",
       "    </tr>\n",
       "    <tr>\n",
       "      <th>1064</th>\n",
       "      <td>5,297.3</td>\n",
       "      <td>15.0</td>\n",
       "      <td>8</td>\n",
       "      <td>1</td>\n",
       "      <td>50</td>\n",
       "      <td>0</td>\n",
       "      <td>free</td>\n",
       "    </tr>\n",
       "    <tr>\n",
       "      <th>1065</th>\n",
       "      <td>14,547.1</td>\n",
       "      <td>99.0</td>\n",
       "      <td>8</td>\n",
       "      <td>4</td>\n",
       "      <td>50</td>\n",
       "      <td>0</td>\n",
       "      <td>free</td>\n",
       "    </tr>\n",
       "    <tr>\n",
       "      <th>1066</th>\n",
       "      <td>2,809.1</td>\n",
       "      <td>19.0</td>\n",
       "      <td>8</td>\n",
       "      <td>1</td>\n",
       "      <td>50</td>\n",
       "      <td>0</td>\n",
       "      <td>free</td>\n",
       "    </tr>\n",
       "    <tr>\n",
       "      <th>1067</th>\n",
       "      <td>3,864.9</td>\n",
       "      <td>22.0</td>\n",
       "      <td>8</td>\n",
       "      <td>1</td>\n",
       "      <td>50</td>\n",
       "      <td>0</td>\n",
       "      <td>free</td>\n",
       "    </tr>\n",
       "    <tr>\n",
       "      <th>1069</th>\n",
       "      <td>7,007.1</td>\n",
       "      <td>53.0</td>\n",
       "      <td>8</td>\n",
       "      <td>3</td>\n",
       "      <td>50</td>\n",
       "      <td>0</td>\n",
       "      <td>free</td>\n",
       "    </tr>\n",
       "    <tr>\n",
       "      <th>1071</th>\n",
       "      <td>3,635.1</td>\n",
       "      <td>15.0</td>\n",
       "      <td>8</td>\n",
       "      <td>1</td>\n",
       "      <td>50</td>\n",
       "      <td>0</td>\n",
       "      <td>free</td>\n",
       "    </tr>\n",
       "    <tr>\n",
       "      <th>1072</th>\n",
       "      <td>2,498.6</td>\n",
       "      <td>11.0</td>\n",
       "      <td>8</td>\n",
       "      <td>1</td>\n",
       "      <td>50</td>\n",
       "      <td>0</td>\n",
       "      <td>free</td>\n",
       "    </tr>\n",
       "  </tbody>\n",
       "</table>\n",
       "</div>"
      ],
      "text/plain": [
       "               distance  duration  minute_price  count_tips  start_ride_price  \\\n",
       "month user_id                                                                   \n",
       "1     1         7,027.5      42.0             6           2                 0   \n",
       "      1061     12,637.2      43.0             8           3                50   \n",
       "      1063      3,276.4      10.0             8           1                50   \n",
       "      1064      5,297.3      15.0             8           1                50   \n",
       "      1065     14,547.1      99.0             8           4                50   \n",
       "      1066      2,809.1      19.0             8           1                50   \n",
       "      1067      3,864.9      22.0             8           1                50   \n",
       "      1069      7,007.1      53.0             8           3                50   \n",
       "      1071      3,635.1      15.0             8           1                50   \n",
       "      1072      2,498.6      11.0             8           1                50   \n",
       "\n",
       "               subscription_fee subscription_type  \n",
       "month user_id                                      \n",
       "1     1                     199             ultra  \n",
       "      1061                    0              free  \n",
       "      1063                    0              free  \n",
       "      1064                    0              free  \n",
       "      1065                    0              free  \n",
       "      1066                    0              free  \n",
       "      1067                    0              free  \n",
       "      1069                    0              free  \n",
       "      1071                    0              free  \n",
       "      1072                    0              free  "
      ]
     },
     "execution_count": 46,
     "metadata": {},
     "output_type": "execute_result"
    }
   ],
   "source": [
    "#переименовываем колунку name в count_tips\n",
    "agg_data.rename(columns = {'name' : 'count_tips'}, inplace = True)\n",
    "\n",
    "#сортируем по месяцу и выводим первые 10 строк\n",
    "agg_data.sort_values(by='month').head(10)"
   ]
  },
  {
   "cell_type": "code",
   "execution_count": 47,
   "id": "bdcbacbe",
   "metadata": {},
   "outputs": [
    {
     "data": {
      "text/plain": [
       "distance             0\n",
       "duration             0\n",
       "minute_price         0\n",
       "count_tips           0\n",
       "start_ride_price     0\n",
       "subscription_fee     0\n",
       "subscription_type    0\n",
       "dtype: int64"
      ]
     },
     "execution_count": 47,
     "metadata": {},
     "output_type": "execute_result"
    }
   ],
   "source": [
    "agg_data.isna().sum()"
   ]
  },
  {
   "cell_type": "markdown",
   "id": "51633f32",
   "metadata": {},
   "source": [
    "В агрегированном датасете пропуски отсутствуют"
   ]
  },
  {
   "cell_type": "code",
   "execution_count": 48,
   "id": "a4ac0f5a",
   "metadata": {
    "scrolled": true
   },
   "outputs": [
    {
     "data": {
      "text/html": [
       "<div>\n",
       "<style scoped>\n",
       "    .dataframe tbody tr th:only-of-type {\n",
       "        vertical-align: middle;\n",
       "    }\n",
       "\n",
       "    .dataframe tbody tr th {\n",
       "        vertical-align: top;\n",
       "    }\n",
       "\n",
       "    .dataframe thead th {\n",
       "        text-align: right;\n",
       "    }\n",
       "</style>\n",
       "<table border=\"1\" class=\"dataframe\">\n",
       "  <thead>\n",
       "    <tr style=\"text-align: right;\">\n",
       "      <th></th>\n",
       "      <th></th>\n",
       "      <th>distance</th>\n",
       "      <th>duration</th>\n",
       "      <th>minute_price</th>\n",
       "      <th>count_tips</th>\n",
       "      <th>start_ride_price</th>\n",
       "      <th>subscription_fee</th>\n",
       "      <th>subscription_type</th>\n",
       "    </tr>\n",
       "    <tr>\n",
       "      <th>month</th>\n",
       "      <th>user_id</th>\n",
       "      <th></th>\n",
       "      <th></th>\n",
       "      <th></th>\n",
       "      <th></th>\n",
       "      <th></th>\n",
       "      <th></th>\n",
       "      <th></th>\n",
       "    </tr>\n",
       "  </thead>\n",
       "  <tbody>\n",
       "    <tr>\n",
       "      <th rowspan=\"10\" valign=\"top\">1</th>\n",
       "      <th>1</th>\n",
       "      <td>7,027.5</td>\n",
       "      <td>42.0</td>\n",
       "      <td>6</td>\n",
       "      <td>2</td>\n",
       "      <td>0</td>\n",
       "      <td>199</td>\n",
       "      <td>ultra</td>\n",
       "    </tr>\n",
       "    <tr>\n",
       "      <th>3</th>\n",
       "      <td>3,061.8</td>\n",
       "      <td>13.0</td>\n",
       "      <td>6</td>\n",
       "      <td>1</td>\n",
       "      <td>0</td>\n",
       "      <td>199</td>\n",
       "      <td>ultra</td>\n",
       "    </tr>\n",
       "    <tr>\n",
       "      <th>5</th>\n",
       "      <td>3,914.6</td>\n",
       "      <td>13.0</td>\n",
       "      <td>6</td>\n",
       "      <td>1</td>\n",
       "      <td>0</td>\n",
       "      <td>199</td>\n",
       "      <td>ultra</td>\n",
       "    </tr>\n",
       "    <tr>\n",
       "      <th>7</th>\n",
       "      <td>6,478.1</td>\n",
       "      <td>28.0</td>\n",
       "      <td>6</td>\n",
       "      <td>2</td>\n",
       "      <td>0</td>\n",
       "      <td>199</td>\n",
       "      <td>ultra</td>\n",
       "    </tr>\n",
       "    <tr>\n",
       "      <th>12</th>\n",
       "      <td>3,577.2</td>\n",
       "      <td>33.0</td>\n",
       "      <td>6</td>\n",
       "      <td>1</td>\n",
       "      <td>0</td>\n",
       "      <td>199</td>\n",
       "      <td>ultra</td>\n",
       "    </tr>\n",
       "    <tr>\n",
       "      <th>13</th>\n",
       "      <td>6,688.0</td>\n",
       "      <td>42.0</td>\n",
       "      <td>6</td>\n",
       "      <td>2</td>\n",
       "      <td>0</td>\n",
       "      <td>199</td>\n",
       "      <td>ultra</td>\n",
       "    </tr>\n",
       "    <tr>\n",
       "      <th>14</th>\n",
       "      <td>7,699.6</td>\n",
       "      <td>35.0</td>\n",
       "      <td>6</td>\n",
       "      <td>2</td>\n",
       "      <td>0</td>\n",
       "      <td>199</td>\n",
       "      <td>ultra</td>\n",
       "    </tr>\n",
       "    <tr>\n",
       "      <th>15</th>\n",
       "      <td>4,187.6</td>\n",
       "      <td>39.0</td>\n",
       "      <td>6</td>\n",
       "      <td>1</td>\n",
       "      <td>0</td>\n",
       "      <td>199</td>\n",
       "      <td>ultra</td>\n",
       "    </tr>\n",
       "    <tr>\n",
       "      <th>20</th>\n",
       "      <td>3,516.7</td>\n",
       "      <td>29.0</td>\n",
       "      <td>6</td>\n",
       "      <td>1</td>\n",
       "      <td>0</td>\n",
       "      <td>199</td>\n",
       "      <td>ultra</td>\n",
       "    </tr>\n",
       "    <tr>\n",
       "      <th>22</th>\n",
       "      <td>3,058.7</td>\n",
       "      <td>13.0</td>\n",
       "      <td>6</td>\n",
       "      <td>1</td>\n",
       "      <td>0</td>\n",
       "      <td>199</td>\n",
       "      <td>ultra</td>\n",
       "    </tr>\n",
       "  </tbody>\n",
       "</table>\n",
       "</div>"
      ],
      "text/plain": [
       "               distance  duration  minute_price  count_tips  start_ride_price  \\\n",
       "month user_id                                                                   \n",
       "1     1         7,027.5      42.0             6           2                 0   \n",
       "      3         3,061.8      13.0             6           1                 0   \n",
       "      5         3,914.6      13.0             6           1                 0   \n",
       "      7         6,478.1      28.0             6           2                 0   \n",
       "      12        3,577.2      33.0             6           1                 0   \n",
       "      13        6,688.0      42.0             6           2                 0   \n",
       "      14        7,699.6      35.0             6           2                 0   \n",
       "      15        4,187.6      39.0             6           1                 0   \n",
       "      20        3,516.7      29.0             6           1                 0   \n",
       "      22        3,058.7      13.0             6           1                 0   \n",
       "\n",
       "               subscription_fee subscription_type  \n",
       "month user_id                                      \n",
       "1     1                     199             ultra  \n",
       "      3                     199             ultra  \n",
       "      5                     199             ultra  \n",
       "      7                     199             ultra  \n",
       "      12                    199             ultra  \n",
       "      13                    199             ultra  \n",
       "      14                    199             ultra  \n",
       "      15                    199             ultra  \n",
       "      20                    199             ultra  \n",
       "      22                    199             ultra  "
      ]
     },
     "execution_count": 48,
     "metadata": {},
     "output_type": "execute_result"
    }
   ],
   "source": [
    "agg_data.head(10)"
   ]
  },
  {
   "cell_type": "code",
   "execution_count": 49,
   "id": "64683071",
   "metadata": {
    "scrolled": true
   },
   "outputs": [
    {
     "data": {
      "text/html": [
       "<div>\n",
       "<style scoped>\n",
       "    .dataframe tbody tr th:only-of-type {\n",
       "        vertical-align: middle;\n",
       "    }\n",
       "\n",
       "    .dataframe tbody tr th {\n",
       "        vertical-align: top;\n",
       "    }\n",
       "\n",
       "    .dataframe thead th {\n",
       "        text-align: right;\n",
       "    }\n",
       "</style>\n",
       "<table border=\"1\" class=\"dataframe\">\n",
       "  <thead>\n",
       "    <tr style=\"text-align: right;\">\n",
       "      <th></th>\n",
       "      <th></th>\n",
       "      <th>distance</th>\n",
       "      <th>duration</th>\n",
       "      <th>minute_price</th>\n",
       "      <th>count_tips</th>\n",
       "      <th>start_ride_price</th>\n",
       "      <th>subscription_fee</th>\n",
       "      <th>subscription_type</th>\n",
       "      <th>revenue_month</th>\n",
       "    </tr>\n",
       "    <tr>\n",
       "      <th>month</th>\n",
       "      <th>user_id</th>\n",
       "      <th></th>\n",
       "      <th></th>\n",
       "      <th></th>\n",
       "      <th></th>\n",
       "      <th></th>\n",
       "      <th></th>\n",
       "      <th></th>\n",
       "      <th></th>\n",
       "    </tr>\n",
       "  </thead>\n",
       "  <tbody>\n",
       "    <tr>\n",
       "      <th rowspan=\"10\" valign=\"top\">1</th>\n",
       "      <th>1</th>\n",
       "      <td>7,027.5</td>\n",
       "      <td>42.0</td>\n",
       "      <td>6</td>\n",
       "      <td>2</td>\n",
       "      <td>0</td>\n",
       "      <td>199</td>\n",
       "      <td>ultra</td>\n",
       "      <td>451.0</td>\n",
       "    </tr>\n",
       "    <tr>\n",
       "      <th>3</th>\n",
       "      <td>3,061.8</td>\n",
       "      <td>13.0</td>\n",
       "      <td>6</td>\n",
       "      <td>1</td>\n",
       "      <td>0</td>\n",
       "      <td>199</td>\n",
       "      <td>ultra</td>\n",
       "      <td>277.0</td>\n",
       "    </tr>\n",
       "    <tr>\n",
       "      <th>5</th>\n",
       "      <td>3,914.6</td>\n",
       "      <td>13.0</td>\n",
       "      <td>6</td>\n",
       "      <td>1</td>\n",
       "      <td>0</td>\n",
       "      <td>199</td>\n",
       "      <td>ultra</td>\n",
       "      <td>277.0</td>\n",
       "    </tr>\n",
       "    <tr>\n",
       "      <th>7</th>\n",
       "      <td>6,478.1</td>\n",
       "      <td>28.0</td>\n",
       "      <td>6</td>\n",
       "      <td>2</td>\n",
       "      <td>0</td>\n",
       "      <td>199</td>\n",
       "      <td>ultra</td>\n",
       "      <td>367.0</td>\n",
       "    </tr>\n",
       "    <tr>\n",
       "      <th>12</th>\n",
       "      <td>3,577.2</td>\n",
       "      <td>33.0</td>\n",
       "      <td>6</td>\n",
       "      <td>1</td>\n",
       "      <td>0</td>\n",
       "      <td>199</td>\n",
       "      <td>ultra</td>\n",
       "      <td>397.0</td>\n",
       "    </tr>\n",
       "    <tr>\n",
       "      <th>13</th>\n",
       "      <td>6,688.0</td>\n",
       "      <td>42.0</td>\n",
       "      <td>6</td>\n",
       "      <td>2</td>\n",
       "      <td>0</td>\n",
       "      <td>199</td>\n",
       "      <td>ultra</td>\n",
       "      <td>451.0</td>\n",
       "    </tr>\n",
       "    <tr>\n",
       "      <th>14</th>\n",
       "      <td>7,699.6</td>\n",
       "      <td>35.0</td>\n",
       "      <td>6</td>\n",
       "      <td>2</td>\n",
       "      <td>0</td>\n",
       "      <td>199</td>\n",
       "      <td>ultra</td>\n",
       "      <td>409.0</td>\n",
       "    </tr>\n",
       "    <tr>\n",
       "      <th>15</th>\n",
       "      <td>4,187.6</td>\n",
       "      <td>39.0</td>\n",
       "      <td>6</td>\n",
       "      <td>1</td>\n",
       "      <td>0</td>\n",
       "      <td>199</td>\n",
       "      <td>ultra</td>\n",
       "      <td>433.0</td>\n",
       "    </tr>\n",
       "    <tr>\n",
       "      <th>20</th>\n",
       "      <td>3,516.7</td>\n",
       "      <td>29.0</td>\n",
       "      <td>6</td>\n",
       "      <td>1</td>\n",
       "      <td>0</td>\n",
       "      <td>199</td>\n",
       "      <td>ultra</td>\n",
       "      <td>373.0</td>\n",
       "    </tr>\n",
       "    <tr>\n",
       "      <th>22</th>\n",
       "      <td>3,058.7</td>\n",
       "      <td>13.0</td>\n",
       "      <td>6</td>\n",
       "      <td>1</td>\n",
       "      <td>0</td>\n",
       "      <td>199</td>\n",
       "      <td>ultra</td>\n",
       "      <td>277.0</td>\n",
       "    </tr>\n",
       "  </tbody>\n",
       "</table>\n",
       "</div>"
      ],
      "text/plain": [
       "               distance  duration  minute_price  count_tips  start_ride_price  \\\n",
       "month user_id                                                                   \n",
       "1     1         7,027.5      42.0             6           2                 0   \n",
       "      3         3,061.8      13.0             6           1                 0   \n",
       "      5         3,914.6      13.0             6           1                 0   \n",
       "      7         6,478.1      28.0             6           2                 0   \n",
       "      12        3,577.2      33.0             6           1                 0   \n",
       "      13        6,688.0      42.0             6           2                 0   \n",
       "      14        7,699.6      35.0             6           2                 0   \n",
       "      15        4,187.6      39.0             6           1                 0   \n",
       "      20        3,516.7      29.0             6           1                 0   \n",
       "      22        3,058.7      13.0             6           1                 0   \n",
       "\n",
       "               subscription_fee subscription_type  revenue_month  \n",
       "month user_id                                                     \n",
       "1     1                     199             ultra          451.0  \n",
       "      3                     199             ultra          277.0  \n",
       "      5                     199             ultra          277.0  \n",
       "      7                     199             ultra          367.0  \n",
       "      12                    199             ultra          397.0  \n",
       "      13                    199             ultra          451.0  \n",
       "      14                    199             ultra          409.0  \n",
       "      15                    199             ultra          433.0  \n",
       "      20                    199             ultra          373.0  \n",
       "      22                    199             ultra          277.0  "
      ]
     },
     "execution_count": 49,
     "metadata": {},
     "output_type": "execute_result"
    }
   ],
   "source": [
    "def revenue(row):\n",
    "    if row['subscription_type'] == 'ultra':\n",
    "        return row['minute_price'] * row['duration'] + row['subscription_fee']\n",
    "    elif row['subscription_type'] == 'free':\n",
    "        return row['minute_price'] * row['duration'] + row['start_ride_price'] * row['count_tips']\n",
    "    else:\n",
    "        return 'Not such sub'\n",
    "agg_data['revenue_month'] = agg_data.apply(revenue, axis=1)\n",
    "agg_data.head(10)"
   ]
  },
  {
   "cell_type": "code",
   "execution_count": 50,
   "id": "228fda9b",
   "metadata": {},
   "outputs": [],
   "source": [
    "subscription_type = agg_data.groupby(['month','subscription_type']).revenue_month.sum()"
   ]
  },
  {
   "cell_type": "code",
   "execution_count": 51,
   "id": "53deb904",
   "metadata": {},
   "outputs": [
    {
     "data": {
      "text/plain": [
       "subscription_type\n",
       "free    186,175.3\n",
       "ultra   137,044.8\n",
       "Name: revenue_month, dtype: float64"
      ]
     },
     "execution_count": 51,
     "metadata": {},
     "output_type": "execute_result"
    }
   ],
   "source": [
    "subscription_type.groupby('subscription_type').mean()"
   ]
  },
  {
   "cell_type": "code",
   "execution_count": 52,
   "id": "26d3119c",
   "metadata": {},
   "outputs": [
    {
     "name": "stdout",
     "output_type": "stream",
     "text": [
      "Общая выручка компании: 3878641.0\n",
      "Выручка от клиентов с подпиской Ultra: 1644537.0\n",
      "Выручка от клиентов  без подписки  : 2234104.0\n"
     ]
    }
   ],
   "source": [
    "print('Общая выручка компании:', agg_data['revenue_month'].sum())\n",
    "print('Выручка от клиентов с подпиской Ultra:', agg_data[agg_data['subscription_type'] == 'ultra'].revenue_month.sum())\n",
    "print('Выручка от клиентов  без подписки  :', agg_data[agg_data['subscription_type'] == 'free'].revenue_month.sum())"
   ]
  },
  {
   "cell_type": "markdown",
   "id": "a61faa42",
   "metadata": {},
   "source": [
    "**Вывод**\n",
    "- Создали датафрейм **agg_data** с агрегированными данными о поездках на основе датафрейма **data**\n",
    "- Нашли суммарное расстояние, количество поездок и суммарное время для каждого пользователя за каждый месяц с подпиской и без.\n",
    "- Посчитали всю выручку за год\n",
    "- Посчиталь выручку за год по бесплатному и платнгому тарифу"
   ]
  },
  {
   "cell_type": "markdown",
   "id": "41545ac0",
   "metadata": {},
   "source": [
    "#### Шаг 6. Проверка гипотез"
   ]
  },
  {
   "cell_type": "markdown",
   "id": "e3e15681",
   "metadata": {},
   "source": [
    "**6.1 Тратят ли пользователи с подпиской больше времени на поездки?**"
   ]
  },
  {
   "cell_type": "markdown",
   "id": "83ad6041",
   "metadata": {},
   "source": [
    "Если да, то пользователи с подпиской могут быть «выгоднее» для компании"
   ]
  },
  {
   "cell_type": "markdown",
   "id": "a9c676a5",
   "metadata": {},
   "source": [
    "**Выдвигаем гипотезы:**\n",
    "\n",
    "- Н0: Средняя продолжительность поездок с подпиской   равно  продолжительности поездок без подписок \n",
    "- Н1: Средняя продолжительность поездок с подпиской  больше продолжительности поездок без подписок "
   ]
  },
  {
   "cell_type": "code",
   "execution_count": 53,
   "id": "ca37b469",
   "metadata": {},
   "outputs": [
    {
     "name": "stdout",
     "output_type": "stream",
     "text": [
      "p-значение: 1.2804098316645618e-34\n",
      "Отвергаем нулевую гипотезу\n"
     ]
    }
   ],
   "source": [
    "ultra = subscription_ultra['duration'] \n",
    "\n",
    "free = subscription_free['duration']\n",
    "\n",
    "results = st.ttest_ind(ultra, \n",
    "                       free,\n",
    "                       alternative = 'greater')\n",
    "\n",
    "alpha = 0.05\n",
    "\n",
    "print('p-значение:', results.pvalue)\n",
    "\n",
    "if results.pvalue < alpha:\n",
    "    print('Отвергаем нулевую гипотезу')\n",
    "else:\n",
    "    print('Не удалось отвергнуть нулевую гипотезу')"
   ]
  },
  {
   "cell_type": "code",
   "execution_count": 54,
   "id": "085c4039",
   "metadata": {},
   "outputs": [
    {
     "data": {
      "text/plain": [
       "Ttest_indResult(statistic=12.241203729044017, pvalue=1.2804098316645618e-34)"
      ]
     },
     "execution_count": 54,
     "metadata": {},
     "output_type": "execute_result"
    }
   ],
   "source": [
    "results"
   ]
  },
  {
   "cell_type": "markdown",
   "id": "4e297350",
   "metadata": {},
   "source": [
    "p-значение 1.2804098316645618e-34 на языке статистики означает чрезвычайно малую вероятность ошибки "
   ]
  },
  {
   "cell_type": "code",
   "execution_count": 55,
   "id": "903d15c4",
   "metadata": {},
   "outputs": [
    {
     "name": "stdout",
     "output_type": "stream",
     "text": [
      "p-значение: 0.1912450522572209\n",
      "Не получилось отвергнуть нулевую гипотезу\n"
     ]
    }
   ],
   "source": [
    "# Приведены два датасета: сумма покупок, совершённых за месяц посетителями ...\n",
    "\n",
    "sample_1 = [3071, 3636, 3454, 3151, 2185, 3259, 1727, 2263, 2015,\n",
    "2582, 4815, 633, 3186, 887, 2028, 3589, 2564, 1422, 1785,\n",
    "3180, 1770, 2716, 2546, 1848, 4644, 3134, 475, 2686,\n",
    "1838, 3352]\n",
    "sample_2 = [1211, 1228, 2157, 3699, 600, 1898, 1688, 1420, 5048, 3007,\n",
    "509, 3777, 5583, 3949, 121, 1674, 4300, 1338, 3066,\n",
    "3562, 1010, 2311, 462, 863, 2021, 528, 1849, 255,\n",
    "1740, 2596]\n",
    "alpha = .05 # критический уровень статистической значимости\n",
    "# если p-value окажется меньше него - отвергнем гипотезу\n",
    "results = st.ttest_ind(\n",
    "sample_1,\n",
    "sample_2)\n",
    "print('p-значение:', results.pvalue)\n",
    "if (results.pvalue < alpha):\n",
    "    print(\"Отвергаем нулевую гипотезу\")\n",
    "else:\n",
    "    print(\"Не получилось отвергнуть нулевую гипотезу\")"
   ]
  },
  {
   "cell_type": "markdown",
   "id": "cfd8a0ba",
   "metadata": {},
   "source": [
    "**Вывод:**\n"
   ]
  },
  {
   "cell_type": "markdown",
   "id": "a8fd582e",
   "metadata": {},
   "source": [
    "\n",
    "Отвергаем гипотезу о том, что время поездки пользователей с платной подпиской меньше времени поездки пользователей без подписки. Получается, что пользователи с подпиской более выгодны для бизнеса"
   ]
  },
  {
   "cell_type": "markdown",
   "id": "6c9d29c1",
   "metadata": {},
   "source": [
    "**6.2 Расстояние одной поездки в 3130 метров — оптимальное с точки зрения износа самоката. Можно ли сказать, что среднее расстояние, которое проезжают пользователи с подпиской за одну поездку, не превышает 3130 метров?**"
   ]
  },
  {
   "cell_type": "markdown",
   "id": "1e6b8e97",
   "metadata": {},
   "source": [
    "**Выдвинем гипотезы:**\n",
    "\n"
   ]
  },
  {
   "cell_type": "markdown",
   "id": "776b21dd",
   "metadata": {},
   "source": [
    "- Н0: Среднее расстояние поездок с подпиской  равно оптимальному расстоянию в 3130 метров.\n",
    "- Н1: Среднее расстояние поездок с подпиской  больше оптимального в 3130 метров.\n"
   ]
  },
  {
   "cell_type": "markdown",
   "id": "5b5ca56b",
   "metadata": {},
   "source": [
    "Проверим гипотезы, используем исходные данные о расстоянии в для подписчиков."
   ]
  },
  {
   "cell_type": "code",
   "execution_count": 56,
   "id": "37ca6315",
   "metadata": {},
   "outputs": [
    {
     "name": "stdout",
     "output_type": "stream",
     "text": [
      "p-значение: 0.9195368847849785\n",
      "Не получилось отвергнуть нулевую гипотезу\n"
     ]
    }
   ],
   "source": [
    "interested_value = 3130 \n",
    "revenue = subscription_ultra['distance']\n",
    "alpha = 0.05\n",
    "\n",
    "results = st.ttest_1samp(\n",
    "    revenue, \n",
    "    interested_value, alternative='greater')\n",
    "\n",
    "print('p-значение:', results.pvalue )\n",
    "\n",
    "if (results.pvalue < alpha):\n",
    "    print('Отвергаем нулевую гипотезу')\n",
    "else:\n",
    "    print('Не получилось отвергнуть нулевую гипотезу')"
   ]
  },
  {
   "cell_type": "markdown",
   "id": "946c6ceb",
   "metadata": {},
   "source": [
    "**Вывод**"
   ]
  },
  {
   "cell_type": "markdown",
   "id": "9449b316",
   "metadata": {},
   "source": [
    "Нулевую гипотезу неудалось отвергнуть."
   ]
  },
  {
   "cell_type": "markdown",
   "id": "97fab039",
   "metadata": {},
   "source": [
    "**6.3 Проверим гипотезу о том, будет ли помесячная выручка от пользователей с подпиской по месяцам выше, чем выручка от пользователей без подписки.**"
   ]
  },
  {
   "cell_type": "markdown",
   "id": "3b0e2f94",
   "metadata": {},
   "source": [
    "Проверьте гипотезу. Используйте исходные данные о продолжительности каждой сессии — отдельно для подписчиков и тех, у кого нет подписки."
   ]
  },
  {
   "cell_type": "markdown",
   "id": "4e18ac33",
   "metadata": {},
   "source": [
    "- H0  помесячная средняя выручка пользователей с подпиской равна средней выручке пользователей без подписки\n",
    "- H1  помесячная средняя выручка пользователей с подпиской больше средней выручки пользователей без подписки"
   ]
  },
  {
   "cell_type": "code",
   "execution_count": 57,
   "id": "d0d77e83",
   "metadata": {},
   "outputs": [
    {
     "name": "stdout",
     "output_type": "stream",
     "text": [
      "p-значение: 3.7700788769430433e-31\n",
      "Отвергаем нулевую гипотезу\n"
     ]
    }
   ],
   "source": [
    "ultra_per_mnth = agg_data.loc[agg_data.subscription_type == 'ultra', 'revenue_month'] \n",
    "\n",
    "free_per_mnth = agg_data.loc[agg_data.subscription_type == 'free', 'revenue_month'] \n",
    "\n",
    "alpha = 0.05 # уровень статистической значимости\n",
    "# если p-value окажется меньше него, отвергнем гипотезу\n",
    "\n",
    "results = st.ttest_ind(ultra_per_mnth, free_per_mnth)\n",
    "\n",
    "print('p-значение:', results.pvalue)\n",
    "\n",
    "if results.pvalue < alpha:\n",
    "    print('Отвергаем нулевую гипотезу')\n",
    "else:\n",
    "    print('Не удалось отвергнуть нулевую гипотезу')"
   ]
  },
  {
   "cell_type": "markdown",
   "id": "7bc139e2",
   "metadata": {},
   "source": [
    "Отвергаем нулевую гипотезуи и принимаем альтернативную о том,  что средняя выручка от пользователей с подпиской Ultra больше средней  выручки от пользователей без подписки,"
   ]
  },
  {
   "cell_type": "code",
   "execution_count": 58,
   "id": "c3ca248d",
   "metadata": {
    "scrolled": false
   },
   "outputs": [
    {
     "data": {
      "text/plain": [
       "Ttest_indResult(statistic=11.64246602360774, pvalue=3.7700788769430433e-31)"
      ]
     },
     "execution_count": 58,
     "metadata": {},
     "output_type": "execute_result"
    }
   ],
   "source": [
    "results"
   ]
  },
  {
   "cell_type": "markdown",
   "id": "883cc1dd",
   "metadata": {},
   "source": [
    "**6.4 Представьте такую ситуацию: техническая команда сервиса обновила сервера, с которыми взаимодействует мобильное приложение. Она надеется, что из-за этого количество обращений в техподдержку значимо снизилось. Некоторый файл содержит для каждого пользователя данные о количестве обращений до обновления и после него. Какой тест вам понадобился бы для проверки этой гипотезы?**"
   ]
  },
  {
   "cell_type": "markdown",
   "id": "4fad0a02",
   "metadata": {},
   "source": [
    "**Ответ:**"
   ]
  },
  {
   "cell_type": "markdown",
   "id": "324284b5",
   "metadata": {},
   "source": [
    "Гипотеза о равенстве средних для зависимых (парных) выборок"
   ]
  },
  {
   "cell_type": "markdown",
   "id": "d2e1d561",
   "metadata": {},
   "source": [
    "**Гипотезы  будут сформулированы так:**\n",
    "- H0 : μ1 = μ2\n",
    "- H1 : μ1 != μ2\n"
   ]
  },
  {
   "cell_type": "markdown",
   "id": "17606ae2",
   "metadata": {},
   "source": [
    "где μ1 и μ2 — средние значения до и после изменения."
   ]
  },
  {
   "cell_type": "markdown",
   "id": "71de8b1e",
   "metadata": {},
   "source": [
    "Метод, необходимый для сравнения: scipy.stats.ttest_rel()"
   ]
  },
  {
   "cell_type": "markdown",
   "id": "61213c5e",
   "metadata": {},
   "source": [
    "#### Шаг 7. Распределения"
   ]
  },
  {
   "cell_type": "markdown",
   "id": "5c93852c",
   "metadata": {},
   "source": [
    "**7.1  Отделу маркетинга GoFast поставили задачу: нужно провести акцию с раздачей промокодов на один бесплатный месяц подписки, в рамках которой как минимум \n",
    "100 существующих клиентов должны продлить эту подписку. То есть по завершении периода действия подписки пользователь может либо отказаться от неё, либо продлить, совершив соответствующий платёж. \n",
    "Эта акция уже проводилась ранее и по итогу выяснилось, что после бесплатного пробного периода подписку продлевают\n",
    "10 % пользователей. Выясните, какое минимальное количество промокодов нужно разослать, чтобы вероятность не выполнить план была примерно \n",
    "5%. Подберите параметры распределения, описывающего эту ситуацию, постройте график распределения и сформулируйте ответ на вопрос о количестве промокодов.**"
   ]
  },
  {
   "cell_type": "code",
   "execution_count": 59,
   "id": "cb3c3a29",
   "metadata": {},
   "outputs": [
    {
     "name": "stdout",
     "output_type": "stream",
     "text": [
      "Если раздать  1161 промокодов,то вероятность не выполнить план меньше 5.0 %\n"
     ]
    },
    {
     "data": {
      "image/png": "[encoded data removed]",
      "text/plain": [
       "<Figure size 432x288 with 1 Axes>"
      ]
     },
     "metadata": {
      "needs_background": "light"
     },
     "output_type": "display_data"
    }
   ],
   "source": [
    "n = 1000\n",
    "p = 0.1\n",
    "k = 99\n",
    "binom_cdf = 0.05\n",
    "\n",
    "while binom_cdf < binom.cdf(k, n, p):\n",
    "    n += 1\n",
    "print(f'Если раздать  {n} промокодов,то вероятность не выполнить план меньше {binom.cdf(k, n, p).round(2)*100} %')\n",
    "\n",
    "mu = n * p # математическое ожидание\n",
    "sigma = (n * p * (1 - p))**0.5  # стандартное отклонение\n",
    "\n",
    "arange = np.arange((mu - 4 * sigma),(mu + 4 * sigma),1)\n",
    "\n",
    "plt.plot(arange, st.norm.pdf(arange, mu, sigma), 'b-')\n",
    "plt.axvline(x=k, color='yellow')\n",
    "plt.axvline(x=mu, color='green')\n",
    "plt.title('')\n",
    "plt.xlabel('Значения случайной величины')\n",
    "plt.ylabel('')\n",
    "plt.show()"
   ]
  },
  {
   "cell_type": "markdown",
   "id": "4100d3fb",
   "metadata": {},
   "source": [
    "**Вывод**\n",
    "- для того чтобы как минимум 100 существующих клиентов продоиои подписку необходимо разослать как минимум 1161 промокод"
   ]
  },
  {
   "cell_type": "markdown",
   "id": "1e71e8c6",
   "metadata": {},
   "source": [
    "**7.2  Отдел маркетинга рассылает клиентам push-уведомления в мобильном приложении. Клиенты могут открыть его или не открывать. Известно, что уведомления открывают около \n",
    "40% получивших клиентов. Отдел планирует разослать 1 млн уведомлений. С помощью аппроксимации постройте примерный график распределения и оцените вероятность того, что уведомление откроют не более 399,5 тыс. пользователей.**"
   ]
  },
  {
   "cell_type": "code",
   "execution_count": 60,
   "id": "52cc41fe",
   "metadata": {},
   "outputs": [
    {
     "name": "stdout",
     "output_type": "stream",
     "text": [
      "Вероятность открытия сообщений: 0.15371708296369768\n"
     ]
    },
    {
     "data": {
      "image/png": "[encoded data removed]",
      "text/plain": [
       "<Figure size 432x288 with 1 Axes>"
      ]
     },
     "metadata": {
      "needs_background": "light"
     },
     "output_type": "display_data"
    }
   ],
   "source": [
    "# задаём параметры биномиального распределения\n",
    "n = 1000000 #количество промокодов\n",
    "p = 0.4 #веролятносить успеха\n",
    "k = 399500 #\n",
    "\n",
    "mu = n * p #математическое ожидание\n",
    "sigma = (n * p * (1 - p))**0.5 # стандартное отклонение\n",
    "\n",
    "\n",
    "distr = st.norm(mu, sigma)  #нормальное распределение\n",
    "\n",
    "\n",
    "result = distr.cdf(k) #вероятность левого хвоста от 399.5 тысяч\n",
    "print('Вероятность открытия сообщений:', result)\n",
    "\n",
    "arange = np.arange((mu - 4 * sigma),(mu + 4 * sigma),1)\n",
    "plt.plot(arange, st.norm.pdf(arange, mu, sigma), 'b-')\n",
    "plt.xticks(rotation=90)\n",
    "plt.axvline(x=k, color='yellow')\n",
    "plt.axvline(x=mu, color='green')\n",
    "plt.title('Плотность распределения')\n",
    "plt.xlabel('Значения случайной величины')\n",
    "plt.ylabel('Плотность')\n",
    "plt.show()"
   ]
  },
  {
   "cell_type": "markdown",
   "id": "1951f015",
   "metadata": {},
   "source": [
    "**Выввод** \n",
    "- Если уведомления открывает около 40% получивших его клиентов , то если  разослать 1.000.000 уведомлений, то с вероятностью 15% их  откроет не более 399500 клиентов "
   ]
  },
  {
   "cell_type": "markdown",
   "id": "cfb4218b",
   "metadata": {},
   "source": [
    "# Общий вывод\n"
   ]
  },
  {
   "cell_type": "markdown",
   "id": "d2b7167d",
   "metadata": {},
   "source": [
    "**В процкссе  исселдования мы проделали следующие этапы:**\n",
    "- **Загрузили данные из трех датафремов и провели их предобработку, а именно:**\n",
    " - в датафреме **users_go**  удалили 31 явный дубликат\n",
    " - Привели столбец date к типу datetime64\n",
    " - Создали столбец month с номером месяца из date\n",
    "\n",
    "- **Провели исследовательский  анализ данных**\n",
    " - Выяснили , что услугами   аренды самокатов пользуются больше всего в Пятигоске,думаю это связано с тем, что солнечных дней там больше\n",
    " - Количество пользователей без подписки  превышает количество пользователей с платной подпиской. 54.4% и 45,6% соответственно\n",
    " - Основной возростная группа пользователей это люди от 20 до 30 лет. Средний возраст составляет 25 лет\n",
    " - На бесплатном тарифе время поездки составляет от 12 до 21 минут и расстояние от 2.3 до 3,1 км, а на платном тарифе время поездки составляет от 14 до 21 минут и расстояние от 2.8 до 3,6 км\n",
    "- **Посчитали выручку**\n",
    " - Создали датафрейм agg_dataс агрегированными данными о поездках на основе датафрейма data\n",
    " - Создали функцию для подсчеты выручки согласно тарифа за месяц\n",
    " - Посчитали сколько тратил каждый пользователь в месяц на разных тарифах\n",
    " - Общая выручка компании за год составила 3.900.765 рублей .Выручка от пользователей с подпиской и без составила 1.657.341 и 2.243.424 рублей соответственно\n",
    "\n",
    "- **Пользователи  с платной подпиской тратят больше времни на поездки и следовательно он иболее выгодны для компании**\n",
    "\n",
    "- **Среднее расстояние поездки пользователей с подпиской не превышает оптимальное расстоянием в 3130 метров и явлдяется оптимальным с точки зрения износа самоката**\n",
    "\n",
    "- **Cредняя выручка от пользователей с подпиской Ultra больше средней выручки от пользователей без подписки**\n",
    "\n",
    "\n",
    "\n"
   ]
  },
  {
   "cell_type": "markdown",
   "id": "04a37dc1",
   "metadata": {},
   "source": [
    "**Исходя из проведенного анализа представленных датасетов и проверки гипотез можно утверждатиь, что порльзователи с платной подпиской более выгодны для компании , чем пользователи без подписки . Всвязи с этим считаю необходимым принять меры для стимулирования пользователей к приобретению подписки Ultra**\n"
   ]
  },
  {
   "cell_type": "markdown",
   "id": "33774d1f",
   "metadata": {},
   "source": [
    "## Бонус"
   ]
  },
  {
   "cell_type": "markdown",
   "id": "6052dd92",
   "metadata": {},
   "source": [
    "### Задача 7.1 — декомпозиция\n",
    "\n",
    "+ Отделу маркетинга GoFast поставили задачу: нужно провести акцию с раздачей промокодов на один бесплатный месяц подписки, в рамках которой как минимум 100 существующих клиентов должны продлить эту подписку. \n",
    "\n",
    "+ То есть по завершении периода действия подписки пользователь может либо отказаться от неё, либо продлить, совершив соответствующий платёж. \n",
    "\n",
    "+ Эта акция уже проводилась ранее и по итогу выяснилось, что после бесплатного пробного периода подписку продлевают 10 % пользователей. \n",
    "\n",
    "+ Выясните, какое минимальное количество промокодов нужно разослать, чтобы вероятность не выполнить план была примерно 5 %. \n",
    "\n",
    "+ Подберите параметры распределения, описывающего эту ситуацию, постройте график распределения и сформулируйте ответ на вопрос о количестве промокодов."
   ]
  },
  {
   "cell_type": "markdown",
   "id": "5ecba7b2",
   "metadata": {},
   "source": [
    "+ 100 существующих клиентов должны продлить эту подписку.\n",
    " + т.е. мы ищем х - кол-во промокодов, которое мы раздадим, чтобы сохранить 100 клиентов"
   ]
  },
  {
   "cell_type": "markdown",
   "id": "11513493",
   "metadata": {},
   "source": [
    "+ может либо отказаться от неё, либо продлить\n",
    " + т.е. два исхода"
   ]
  },
  {
   "cell_type": "markdown",
   "id": "2df656d2",
   "metadata": {},
   "source": [
    "+ подписку продлевают 10 % пользователей\n",
    " + т.е. из кол-ва Х, которое мы найдем и по которому разошлем промокоды, полагаясь на предыдущий опыт, продлят подписку 10%"
   ]
  },
  {
   "cell_type": "markdown",
   "id": "66aa06bf",
   "metadata": {},
   "source": [
    "+ вероятность не выполнить план была примерно 5 %\n",
    " + т.е. мы должны найти вероятность успеха нашей акции 1-0,05 = 95%\n",
    " + этот план будет иметь свою вероятность исполнения при разном кол-ве Х, т.е. если мы выберем Х = 1000, вероятность успеха будет равна А, при 2000 промокодах, вероятность будет равна В. Но, увеличивая кол-во промокодов, мы увеличиваем трудозатраты ... По этой причине нас устроит вероятность успеха 95%, для которой и предстоит рассчитать кол-во промокодов Х"
   ]
  },
  {
   "cell_type": "markdown",
   "id": "8b156186",
   "metadata": {},
   "source": [
    "Получается задача делиться на две части\n",
    "\n",
    "+ число положительных исходов должно быть равно 100-ам\n",
    "\n",
    "+ но вероятность такого события должна быть равна 95% \n",
    "\n"
   ]
  },
  {
   "cell_type": "markdown",
   "id": "e8be57d6",
   "metadata": {},
   "source": [
    "Урок\n",
    "\n",
    "Percent Point Function для нормального распределения\n",
    "+ Ранее вы познакомились с функцией распределения, или кумулятивной функцией распределения.\n",
    "\n"
   ]
  },
  {
   "attachments": {
    "image-3.png": {
     "image/png": "[encoded data removed]"
    },
    "image-4.png": {
     "image/png": "[encoded data removed]"
    }
   },
   "cell_type": "markdown",
   "id": "c60b5db0",
   "metadata": {},
   "source": [
    "![image-3.png](attachment:image-3.png)\n",
    "\n",
    "![image-4.png](attachment:image-4.png)"
   ]
  },
  {
   "cell_type": "code",
   "execution_count": 61,
   "id": "a0cc08b5",
   "metadata": {},
   "outputs": [
    {
     "name": "stdout",
     "output_type": "stream",
     "text": [
      "i: (1, 100)\tprobability: 1.0\n",
      "i: (2, 200)\tprobability: 1.0\n",
      "i: (3, 300)\tprobability: 1.0\n",
      "i: (4, 400)\tprobability: 1.0\n",
      "i: (5, 500)\tprobability: 1.0\n",
      "i: (6, 600)\tprobability: 1.0\n",
      "i: (7, 700)\tprobability: 1.0\n",
      "i: (8, 800)\tprobability: 0.987\n",
      "i: (9, 900)\tprobability: 0.854\n",
      "i: (10, 1000)\tprobability: 0.485\n",
      "i: (11, 1100)\tprobability: 0.145\n",
      "i: (12, 1200)\tprobability: 0.022\n"
     ]
    }
   ],
   "source": [
    "for i in range (1, 13):\n",
    "    trials = 100 * i\n",
    "    print(f\"i: {i, trials}\\tprobability: {(st.binom.cdf(99, trials, 0.1)).round(3)}\")"
   ]
  },
  {
   "cell_type": "code",
   "execution_count": 62,
   "id": "f0d86e85",
   "metadata": {
    "scrolled": false
   },
   "outputs": [
    {
     "name": "stdout",
     "output_type": "stream",
     "text": [
      "i: (1, 100)\ttarget_probability: 0.0\n",
      "i: (2, 200)\ttarget_probability: 0.0\n",
      "i: (3, 300)\ttarget_probability: 0.0\n",
      "i: (4, 400)\ttarget_probability: 0.0\n",
      "i: (5, 500)\ttarget_probability: 0.0\n",
      "i: (6, 600)\ttarget_probability: 0.0\n",
      "i: (7, 700)\ttarget_probability: 0.0\n",
      "i: (8, 800)\ttarget_probability: 0.013\n",
      "i: (9, 900)\ttarget_probability: 0.146\n",
      "i: (10, 1000)\ttarget_probability: 0.515\n",
      "i: (11, 1100)\ttarget_probability: 0.855\n",
      "i: (12, 1200)\ttarget_probability: 0.978\n",
      "i: (13, 1161)\ttarget_probability: 0.95\n"
     ]
    }
   ],
   "source": [
    "for i in range (1, 13):\n",
    "    trials = 100 * i\n",
    "    print(f\"i: {i, trials}\\ttarget_probability: {(1 - st.binom.cdf(99, trials, 0.1)).round(3)}\");    \n",
    "   \n",
    "print(f\"i: {13, 1161}\\ttarget_probability: {(1 - st.binom.cdf(99, 1161, 0.1)).round(3)}\")"
   ]
  },
  {
   "cell_type": "markdown",
   "id": "df88061a",
   "metadata": {},
   "source": [
    "### check"
   ]
  },
  {
   "cell_type": "code",
   "execution_count": 63,
   "id": "a884a839",
   "metadata": {},
   "outputs": [],
   "source": [
    "dfg1 = pd.DataFrame(\n",
    "    {\n",
    "        \"A\": [\"A0\", \"A1\", \"A2\", \"A3\"],\n",
    "        \"B\": [\"B0\", \"B1\", \"B2\", \"B3\"],\n",
    "        \"C\": [\"C0\", \"C1\", \"C2\", \"C3\"],\n",
    "        \"D\": [\"D0\", \"D1\", \"D2\", \"D3\"],\n",
    "    },\n",
    "    index=[0, 1, 2, 3],\n",
    ")\n",
    "\n",
    "dfr4 = pd.DataFrame(\n",
    "    {\n",
    "        \"B\": [\"B2\", \"B3\", \"B6\", \"B7\"],\n",
    "        \"D\": [\"D2\", \"D3\", \"D6\", \"D7\"],\n",
    "        \"F\": [\"F2\", \"F3\", \"F6\", \"F7\"],\n",
    "        \"E\": [np.nan, np.nan, np.nan, np.nan]\n",
    "    },\n",
    "    index=[2, 3, 6, 0],\n",
    ")"
   ]
  },
  {
   "cell_type": "code",
   "execution_count": 64,
   "id": "7b9747a8",
   "metadata": {
    "scrolled": true
   },
   "outputs": [
    {
     "data": {
      "text/html": [
       "<div>\n",
       "<style scoped>\n",
       "    .dataframe tbody tr th:only-of-type {\n",
       "        vertical-align: middle;\n",
       "    }\n",
       "\n",
       "    .dataframe tbody tr th {\n",
       "        vertical-align: top;\n",
       "    }\n",
       "\n",
       "    .dataframe thead th {\n",
       "        text-align: right;\n",
       "    }\n",
       "</style>\n",
       "<table border=\"1\" class=\"dataframe\">\n",
       "  <thead>\n",
       "    <tr style=\"text-align: right;\">\n",
       "      <th></th>\n",
       "      <th>A</th>\n",
       "      <th>B</th>\n",
       "      <th>C</th>\n",
       "      <th>D</th>\n",
       "    </tr>\n",
       "  </thead>\n",
       "  <tbody>\n",
       "    <tr>\n",
       "      <th>0</th>\n",
       "      <td>A0</td>\n",
       "      <td>B0</td>\n",
       "      <td>C0</td>\n",
       "      <td>D0</td>\n",
       "    </tr>\n",
       "    <tr>\n",
       "      <th>1</th>\n",
       "      <td>A1</td>\n",
       "      <td>B1</td>\n",
       "      <td>C1</td>\n",
       "      <td>D1</td>\n",
       "    </tr>\n",
       "    <tr>\n",
       "      <th>2</th>\n",
       "      <td>A2</td>\n",
       "      <td>B2</td>\n",
       "      <td>C2</td>\n",
       "      <td>D2</td>\n",
       "    </tr>\n",
       "    <tr>\n",
       "      <th>3</th>\n",
       "      <td>A3</td>\n",
       "      <td>B3</td>\n",
       "      <td>C3</td>\n",
       "      <td>D3</td>\n",
       "    </tr>\n",
       "  </tbody>\n",
       "</table>\n",
       "</div>"
      ],
      "text/plain": [
       "    A   B   C   D\n",
       "0  A0  B0  C0  D0\n",
       "1  A1  B1  C1  D1\n",
       "2  A2  B2  C2  D2\n",
       "3  A3  B3  C3  D3"
      ]
     },
     "metadata": {},
     "output_type": "display_data"
    },
    {
     "data": {
      "text/html": [
       "<div>\n",
       "<style scoped>\n",
       "    .dataframe tbody tr th:only-of-type {\n",
       "        vertical-align: middle;\n",
       "    }\n",
       "\n",
       "    .dataframe tbody tr th {\n",
       "        vertical-align: top;\n",
       "    }\n",
       "\n",
       "    .dataframe thead th {\n",
       "        text-align: right;\n",
       "    }\n",
       "</style>\n",
       "<table border=\"1\" class=\"dataframe\">\n",
       "  <thead>\n",
       "    <tr style=\"text-align: right;\">\n",
       "      <th></th>\n",
       "      <th>B</th>\n",
       "      <th>D</th>\n",
       "      <th>F</th>\n",
       "      <th>E</th>\n",
       "    </tr>\n",
       "  </thead>\n",
       "  <tbody>\n",
       "    <tr>\n",
       "      <th>2</th>\n",
       "      <td>B2</td>\n",
       "      <td>D2</td>\n",
       "      <td>F2</td>\n",
       "      <td>NaN</td>\n",
       "    </tr>\n",
       "    <tr>\n",
       "      <th>3</th>\n",
       "      <td>B3</td>\n",
       "      <td>D3</td>\n",
       "      <td>F3</td>\n",
       "      <td>NaN</td>\n",
       "    </tr>\n",
       "    <tr>\n",
       "      <th>6</th>\n",
       "      <td>B6</td>\n",
       "      <td>D6</td>\n",
       "      <td>F6</td>\n",
       "      <td>NaN</td>\n",
       "    </tr>\n",
       "    <tr>\n",
       "      <th>0</th>\n",
       "      <td>B7</td>\n",
       "      <td>D7</td>\n",
       "      <td>F7</td>\n",
       "      <td>NaN</td>\n",
       "    </tr>\n",
       "  </tbody>\n",
       "</table>\n",
       "</div>"
      ],
      "text/plain": [
       "    B   D   F   E\n",
       "2  B2  D2  F2 NaN\n",
       "3  B3  D3  F3 NaN\n",
       "6  B6  D6  F6 NaN\n",
       "0  B7  D7  F7 NaN"
      ]
     },
     "metadata": {},
     "output_type": "display_data"
    }
   ],
   "source": [
    "display(dfg1, dfr4)"
   ]
  },
  {
   "cell_type": "code",
   "execution_count": 65,
   "id": "18de5bcf",
   "metadata": {},
   "outputs": [
    {
     "data": {
      "text/html": [
       "<div>\n",
       "<style scoped>\n",
       "    .dataframe tbody tr th:only-of-type {\n",
       "        vertical-align: middle;\n",
       "    }\n",
       "\n",
       "    .dataframe tbody tr th {\n",
       "        vertical-align: top;\n",
       "    }\n",
       "\n",
       "    .dataframe thead th {\n",
       "        text-align: right;\n",
       "    }\n",
       "</style>\n",
       "<table border=\"1\" class=\"dataframe\">\n",
       "  <thead>\n",
       "    <tr style=\"text-align: right;\">\n",
       "      <th></th>\n",
       "      <th>key_0</th>\n",
       "      <th>A</th>\n",
       "      <th>B_x</th>\n",
       "      <th>C</th>\n",
       "      <th>D_x</th>\n",
       "      <th>B_y</th>\n",
       "      <th>D_y</th>\n",
       "      <th>F</th>\n",
       "      <th>E</th>\n",
       "    </tr>\n",
       "  </thead>\n",
       "  <tbody>\n",
       "    <tr>\n",
       "      <th>0</th>\n",
       "      <td>0</td>\n",
       "      <td>A0</td>\n",
       "      <td>B0</td>\n",
       "      <td>C0</td>\n",
       "      <td>D0</td>\n",
       "      <td>B7</td>\n",
       "      <td>D7</td>\n",
       "      <td>F7</td>\n",
       "      <td>NaN</td>\n",
       "    </tr>\n",
       "    <tr>\n",
       "      <th>1</th>\n",
       "      <td>1</td>\n",
       "      <td>A1</td>\n",
       "      <td>B1</td>\n",
       "      <td>C1</td>\n",
       "      <td>D1</td>\n",
       "      <td>NaN</td>\n",
       "      <td>NaN</td>\n",
       "      <td>NaN</td>\n",
       "      <td>NaN</td>\n",
       "    </tr>\n",
       "    <tr>\n",
       "      <th>2</th>\n",
       "      <td>2</td>\n",
       "      <td>A2</td>\n",
       "      <td>B2</td>\n",
       "      <td>C2</td>\n",
       "      <td>D2</td>\n",
       "      <td>B2</td>\n",
       "      <td>D2</td>\n",
       "      <td>F2</td>\n",
       "      <td>NaN</td>\n",
       "    </tr>\n",
       "    <tr>\n",
       "      <th>3</th>\n",
       "      <td>3</td>\n",
       "      <td>A3</td>\n",
       "      <td>B3</td>\n",
       "      <td>C3</td>\n",
       "      <td>D3</td>\n",
       "      <td>B3</td>\n",
       "      <td>D3</td>\n",
       "      <td>F3</td>\n",
       "      <td>NaN</td>\n",
       "    </tr>\n",
       "    <tr>\n",
       "      <th>4</th>\n",
       "      <td>6</td>\n",
       "      <td>NaN</td>\n",
       "      <td>NaN</td>\n",
       "      <td>NaN</td>\n",
       "      <td>NaN</td>\n",
       "      <td>B6</td>\n",
       "      <td>D6</td>\n",
       "      <td>F6</td>\n",
       "      <td>NaN</td>\n",
       "    </tr>\n",
       "  </tbody>\n",
       "</table>\n",
       "</div>"
      ],
      "text/plain": [
       "   key_0    A  B_x    C  D_x  B_y  D_y    F   E\n",
       "0      0   A0   B0   C0   D0   B7   D7   F7 NaN\n",
       "1      1   A1   B1   C1   D1  NaN  NaN  NaN NaN\n",
       "2      2   A2   B2   C2   D2   B2   D2   F2 NaN\n",
       "3      3   A3   B3   C3   D3   B3   D3   F3 NaN\n",
       "4      6  NaN  NaN  NaN  NaN   B6   D6   F6 NaN"
      ]
     },
     "execution_count": 65,
     "metadata": {},
     "output_type": "execute_result"
    }
   ],
   "source": [
    "dfg1.merge(dfr4, left_on=dfg1.index, right_on=dfr4.index, how='outer')"
   ]
  },
  {
   "cell_type": "code",
   "execution_count": 66,
   "id": "665cb47e",
   "metadata": {
    "scrolled": true
   },
   "outputs": [
    {
     "data": {
      "text/html": [
       "<div>\n",
       "<style scoped>\n",
       "    .dataframe tbody tr th:only-of-type {\n",
       "        vertical-align: middle;\n",
       "    }\n",
       "\n",
       "    .dataframe tbody tr th {\n",
       "        vertical-align: top;\n",
       "    }\n",
       "\n",
       "    .dataframe thead th {\n",
       "        text-align: right;\n",
       "    }\n",
       "</style>\n",
       "<table border=\"1\" class=\"dataframe\">\n",
       "  <thead>\n",
       "    <tr style=\"text-align: right;\">\n",
       "      <th></th>\n",
       "      <th>A</th>\n",
       "      <th>B</th>\n",
       "      <th>C</th>\n",
       "      <th>D</th>\n",
       "      <th>F</th>\n",
       "      <th>E</th>\n",
       "    </tr>\n",
       "  </thead>\n",
       "  <tbody>\n",
       "    <tr>\n",
       "      <th>0</th>\n",
       "      <td>A0</td>\n",
       "      <td>B0</td>\n",
       "      <td>C0</td>\n",
       "      <td>D0</td>\n",
       "      <td>NaN</td>\n",
       "      <td>NaN</td>\n",
       "    </tr>\n",
       "    <tr>\n",
       "      <th>1</th>\n",
       "      <td>A1</td>\n",
       "      <td>B1</td>\n",
       "      <td>C1</td>\n",
       "      <td>D1</td>\n",
       "      <td>NaN</td>\n",
       "      <td>NaN</td>\n",
       "    </tr>\n",
       "    <tr>\n",
       "      <th>2</th>\n",
       "      <td>A2</td>\n",
       "      <td>B2</td>\n",
       "      <td>C2</td>\n",
       "      <td>D2</td>\n",
       "      <td>F2</td>\n",
       "      <td>NaN</td>\n",
       "    </tr>\n",
       "    <tr>\n",
       "      <th>3</th>\n",
       "      <td>A3</td>\n",
       "      <td>B3</td>\n",
       "      <td>C3</td>\n",
       "      <td>D3</td>\n",
       "      <td>F3</td>\n",
       "      <td>NaN</td>\n",
       "    </tr>\n",
       "    <tr>\n",
       "      <th>4</th>\n",
       "      <td>NaN</td>\n",
       "      <td>B6</td>\n",
       "      <td>NaN</td>\n",
       "      <td>D6</td>\n",
       "      <td>F6</td>\n",
       "      <td>NaN</td>\n",
       "    </tr>\n",
       "    <tr>\n",
       "      <th>5</th>\n",
       "      <td>NaN</td>\n",
       "      <td>B7</td>\n",
       "      <td>NaN</td>\n",
       "      <td>D7</td>\n",
       "      <td>F7</td>\n",
       "      <td>NaN</td>\n",
       "    </tr>\n",
       "  </tbody>\n",
       "</table>\n",
       "</div>"
      ],
      "text/plain": [
       "     A   B    C   D    F   E\n",
       "0   A0  B0   C0  D0  NaN NaN\n",
       "1   A1  B1   C1  D1  NaN NaN\n",
       "2   A2  B2   C2  D2   F2 NaN\n",
       "3   A3  B3   C3  D3   F3 NaN\n",
       "4  NaN  B6  NaN  D6   F6 NaN\n",
       "5  NaN  B7  NaN  D7   F7 NaN"
      ]
     },
     "execution_count": 66,
     "metadata": {},
     "output_type": "execute_result"
    }
   ],
   "source": [
    "dfg1.merge(dfr4, 'outer')"
   ]
  },
  {
   "cell_type": "code",
   "execution_count": 67,
   "id": "7bf3d767",
   "metadata": {
    "scrolled": false
   },
   "outputs": [
    {
     "data": {
      "text/html": [
       "<div>\n",
       "<style scoped>\n",
       "    .dataframe tbody tr th:only-of-type {\n",
       "        vertical-align: middle;\n",
       "    }\n",
       "\n",
       "    .dataframe tbody tr th {\n",
       "        vertical-align: top;\n",
       "    }\n",
       "\n",
       "    .dataframe thead th {\n",
       "        text-align: right;\n",
       "    }\n",
       "</style>\n",
       "<table border=\"1\" class=\"dataframe\">\n",
       "  <thead>\n",
       "    <tr style=\"text-align: right;\">\n",
       "      <th></th>\n",
       "      <th>A</th>\n",
       "      <th>B</th>\n",
       "      <th>C</th>\n",
       "      <th>D</th>\n",
       "      <th>F</th>\n",
       "      <th>E</th>\n",
       "    </tr>\n",
       "  </thead>\n",
       "  <tbody>\n",
       "    <tr>\n",
       "      <th>0</th>\n",
       "      <td>A2</td>\n",
       "      <td>B2</td>\n",
       "      <td>C2</td>\n",
       "      <td>D2</td>\n",
       "      <td>F2</td>\n",
       "      <td>NaN</td>\n",
       "    </tr>\n",
       "    <tr>\n",
       "      <th>1</th>\n",
       "      <td>A3</td>\n",
       "      <td>B3</td>\n",
       "      <td>C3</td>\n",
       "      <td>D3</td>\n",
       "      <td>F3</td>\n",
       "      <td>NaN</td>\n",
       "    </tr>\n",
       "  </tbody>\n",
       "</table>\n",
       "</div>"
      ],
      "text/plain": [
       "    A   B   C   D   F   E\n",
       "0  A2  B2  C2  D2  F2 NaN\n",
       "1  A3  B3  C3  D3  F3 NaN"
      ]
     },
     "execution_count": 67,
     "metadata": {},
     "output_type": "execute_result"
    }
   ],
   "source": [
    "dfg1.merge(dfr4)"
   ]
  },
  {
   "cell_type": "code",
   "execution_count": 68,
   "id": "24389eda",
   "metadata": {},
   "outputs": [
    {
     "data": {
      "text/html": [
       "<div>\n",
       "<style scoped>\n",
       "    .dataframe tbody tr th:only-of-type {\n",
       "        vertical-align: middle;\n",
       "    }\n",
       "\n",
       "    .dataframe tbody tr th {\n",
       "        vertical-align: top;\n",
       "    }\n",
       "\n",
       "    .dataframe thead th {\n",
       "        text-align: right;\n",
       "    }\n",
       "</style>\n",
       "<table border=\"1\" class=\"dataframe\">\n",
       "  <thead>\n",
       "    <tr style=\"text-align: right;\">\n",
       "      <th></th>\n",
       "      <th>A</th>\n",
       "      <th>B</th>\n",
       "      <th>C</th>\n",
       "      <th>D</th>\n",
       "      <th>F</th>\n",
       "      <th>E</th>\n",
       "    </tr>\n",
       "  </thead>\n",
       "  <tbody>\n",
       "    <tr>\n",
       "      <th>0</th>\n",
       "      <td>A2</td>\n",
       "      <td>B2</td>\n",
       "      <td>C2</td>\n",
       "      <td>D2</td>\n",
       "      <td>F2</td>\n",
       "      <td>NaN</td>\n",
       "    </tr>\n",
       "    <tr>\n",
       "      <th>1</th>\n",
       "      <td>A3</td>\n",
       "      <td>B3</td>\n",
       "      <td>C3</td>\n",
       "      <td>D3</td>\n",
       "      <td>F3</td>\n",
       "      <td>NaN</td>\n",
       "    </tr>\n",
       "  </tbody>\n",
       "</table>\n",
       "</div>"
      ],
      "text/plain": [
       "    A   B   C   D   F   E\n",
       "0  A2  B2  C2  D2  F2 NaN\n",
       "1  A3  B3  C3  D3  F3 NaN"
      ]
     },
     "execution_count": 68,
     "metadata": {},
     "output_type": "execute_result"
    }
   ],
   "source": [
    "dfg1.merge(dfr4, 'inner')"
   ]
  },
  {
   "cell_type": "markdown",
   "id": "95131e4f",
   "metadata": {},
   "source": [
    "### check"
   ]
  },
  {
   "cell_type": "code",
   "execution_count": 69,
   "id": "82022c1e",
   "metadata": {
    "scrolled": false
   },
   "outputs": [
    {
     "data": {
      "text/plain": [
       "Index(['distance', 'duration', 'minute_price', 'count_tips',\n",
       "       'start_ride_price', 'subscription_fee', 'subscription_type',\n",
       "       'revenue_month'],\n",
       "      dtype='object')"
      ]
     },
     "execution_count": 69,
     "metadata": {},
     "output_type": "execute_result"
    }
   ],
   "source": [
    "agg_data.columns"
   ]
  },
  {
   "cell_type": "code",
   "execution_count": 70,
   "id": "e2459e20",
   "metadata": {},
   "outputs": [],
   "source": [
    "dfg_first = agg_data.copy()"
   ]
  },
  {
   "cell_type": "code",
   "execution_count": 71,
   "id": "b97d5cde",
   "metadata": {},
   "outputs": [],
   "source": [
    "x = 'subscription_type'\n",
    "y = 'revenue_month'"
   ]
  },
  {
   "cell_type": "code",
   "execution_count": 72,
   "id": "a1d27b9c",
   "metadata": {},
   "outputs": [
    {
     "data": {
      "text/html": [
       "<div>\n",
       "<style scoped>\n",
       "    .dataframe tbody tr th:only-of-type {\n",
       "        vertical-align: middle;\n",
       "    }\n",
       "\n",
       "    .dataframe tbody tr th {\n",
       "        vertical-align: top;\n",
       "    }\n",
       "\n",
       "    .dataframe thead th {\n",
       "        text-align: right;\n",
       "    }\n",
       "</style>\n",
       "<table border=\"1\" class=\"dataframe\">\n",
       "  <thead>\n",
       "    <tr style=\"text-align: right;\">\n",
       "      <th></th>\n",
       "      <th>revenue_month</th>\n",
       "    </tr>\n",
       "    <tr>\n",
       "      <th>subscription_type</th>\n",
       "      <th></th>\n",
       "    </tr>\n",
       "  </thead>\n",
       "  <tbody>\n",
       "    <tr>\n",
       "      <th>free</th>\n",
       "      <td>328.6</td>\n",
       "    </tr>\n",
       "    <tr>\n",
       "      <th>ultra</th>\n",
       "      <td>362.8</td>\n",
       "    </tr>\n",
       "  </tbody>\n",
       "</table>\n",
       "</div>"
      ],
      "text/plain": [
       "                   revenue_month\n",
       "subscription_type               \n",
       "free                       328.6\n",
       "ultra                      362.8"
      ]
     },
     "execution_count": 72,
     "metadata": {},
     "output_type": "execute_result"
    }
   ],
   "source": [
    "dfg_first.groupby(x)[y].mean().round(1).to_frame()"
   ]
  },
  {
   "cell_type": "code",
   "execution_count": 73,
   "id": "970f5dcf",
   "metadata": {},
   "outputs": [
    {
     "data": {
      "image/png": "[encoded data removed]",
      "text/plain": [
       "<Figure size 1080x216 with 1 Axes>"
      ]
     },
     "metadata": {
      "needs_background": "light"
     },
     "output_type": "display_data"
    }
   ],
   "source": [
    "dfg_first.groupby(x)[y].hist(bins=200, figsize=(15,3), legend=True)\n",
    "plt.title('Гистограммы ежесячной выручки двух групп пользователей')\n",
    "plt.xlabel('руб.')\n",
    "plt.ylabel('кол-во');"
   ]
  },
  {
   "cell_type": "code",
   "execution_count": 74,
   "id": "ba75a484",
   "metadata": {},
   "outputs": [],
   "source": [
    "# копируем таблицу\n",
    "dfg = dfg_first.copy()\n"
   ]
  },
  {
   "cell_type": "code",
   "execution_count": 75,
   "id": "e00ddbf9",
   "metadata": {},
   "outputs": [
    {
     "name": "stdout",
     "output_type": "stream",
     "text": [
      "<class 'pandas.core.frame.DataFrame'>\n",
      "MultiIndex: 11331 entries, (1, 1) to (12, 1534)\n",
      "Data columns (total 8 columns):\n",
      " #   Column             Non-Null Count  Dtype  \n",
      "---  ------             --------------  -----  \n",
      " 0   distance           11331 non-null  float64\n",
      " 1   duration           11331 non-null  float64\n",
      " 2   minute_price       11331 non-null  int64  \n",
      " 3   count_tips         11331 non-null  int64  \n",
      " 4   start_ride_price   11331 non-null  int64  \n",
      " 5   subscription_fee   11331 non-null  int64  \n",
      " 6   subscription_type  11331 non-null  object \n",
      " 7   revenue_month      11331 non-null  float64\n",
      "dtypes: float64(3), int64(4), object(1)\n",
      "memory usage: 753.9+ KB\n"
     ]
    }
   ],
   "source": [
    "dfg.info()"
   ]
  },
  {
   "cell_type": "code",
   "execution_count": 76,
   "id": "d0ce4d34",
   "metadata": {},
   "outputs": [],
   "source": [
    "# удаляем данные, 20%\n",
    "for col in dfg.columns:\n",
    "    dfg.loc[dfg.sample(frac=0.2).index, col] = np.nan"
   ]
  },
  {
   "cell_type": "code",
   "execution_count": 77,
   "id": "97dff2ec",
   "metadata": {},
   "outputs": [
    {
     "name": "stdout",
     "output_type": "stream",
     "text": [
      "<class 'pandas.core.frame.DataFrame'>\n",
      "MultiIndex: 11331 entries, (1, 1) to (12, 1534)\n",
      "Data columns (total 8 columns):\n",
      " #   Column             Non-Null Count  Dtype  \n",
      "---  ------             --------------  -----  \n",
      " 0   distance           9065 non-null   float64\n",
      " 1   duration           9065 non-null   float64\n",
      " 2   minute_price       9065 non-null   float64\n",
      " 3   count_tips         9065 non-null   float64\n",
      " 4   start_ride_price   9065 non-null   float64\n",
      " 5   subscription_fee   9065 non-null   float64\n",
      " 6   subscription_type  9065 non-null   object \n",
      " 7   revenue_month      9065 non-null   float64\n",
      "dtypes: float64(7), object(1)\n",
      "memory usage: 1.0+ MB\n"
     ]
    }
   ],
   "source": [
    "dfg.info()"
   ]
  },
  {
   "cell_type": "code",
   "execution_count": 78,
   "id": "c7d735ae",
   "metadata": {},
   "outputs": [
    {
     "data": {
      "text/html": [
       "<div>\n",
       "<style scoped>\n",
       "    .dataframe tbody tr th:only-of-type {\n",
       "        vertical-align: middle;\n",
       "    }\n",
       "\n",
       "    .dataframe tbody tr th {\n",
       "        vertical-align: top;\n",
       "    }\n",
       "\n",
       "    .dataframe thead th {\n",
       "        text-align: right;\n",
       "    }\n",
       "</style>\n",
       "<table border=\"1\" class=\"dataframe\">\n",
       "  <thead>\n",
       "    <tr style=\"text-align: right;\">\n",
       "      <th></th>\n",
       "      <th>revenue_month</th>\n",
       "    </tr>\n",
       "    <tr>\n",
       "      <th>subscription_type</th>\n",
       "      <th></th>\n",
       "    </tr>\n",
       "  </thead>\n",
       "  <tbody>\n",
       "    <tr>\n",
       "      <th>free</th>\n",
       "      <td>329.4</td>\n",
       "    </tr>\n",
       "    <tr>\n",
       "      <th>ultra</th>\n",
       "      <td>363.1</td>\n",
       "    </tr>\n",
       "  </tbody>\n",
       "</table>\n",
       "</div>"
      ],
      "text/plain": [
       "                   revenue_month\n",
       "subscription_type               \n",
       "free                       329.4\n",
       "ultra                      363.1"
      ]
     },
     "execution_count": 78,
     "metadata": {},
     "output_type": "execute_result"
    }
   ],
   "source": [
    "dfg.groupby(x)[y].mean().round(1).to_frame()"
   ]
  },
  {
   "cell_type": "code",
   "execution_count": 79,
   "id": "db12a7d1",
   "metadata": {
    "scrolled": false
   },
   "outputs": [
    {
     "data": {
      "image/png": "[encoded data removed]",
      "text/plain": [
       "<Figure size 1080x216 with 1 Axes>"
      ]
     },
     "metadata": {
      "needs_background": "light"
     },
     "output_type": "display_data"
    }
   ],
   "source": [
    "dfg.groupby(x)[y].hist(bins=200, figsize=(15,3), legend=True)\n",
    "plt.title('Гистограммы ежесячной выручки двух групп пользователей')\n",
    "plt.xlabel('руб.')\n",
    "plt.ylabel('кол-во');"
   ]
  }
 ],
 "metadata": {
  "ExecuteTimeLog": [
   {
    "duration": 1248,
    "start_time": "2024-03-09T05:29:28.040Z"
   },
   {
    "duration": 258,
    "start_time": "2024-03-09T05:29:29.736Z"
   },
   {
    "duration": 19,
    "start_time": "2024-03-09T05:31:25.728Z"
   },
   {
    "duration": 7,
    "start_time": "2024-03-09T05:31:47.895Z"
   },
   {
    "duration": 9,
    "start_time": "2024-03-09T05:31:57.896Z"
   },
   {
    "duration": 8,
    "start_time": "2024-03-09T05:32:50.577Z"
   },
   {
    "duration": 8,
    "start_time": "2024-03-09T05:34:58.641Z"
   },
   {
    "duration": 7,
    "start_time": "2024-03-09T05:39:23.329Z"
   },
   {
    "duration": 8,
    "start_time": "2024-03-09T05:48:41.659Z"
   },
   {
    "duration": 11,
    "start_time": "2024-03-09T05:48:57.885Z"
   },
   {
    "duration": 21,
    "start_time": "2024-03-09T05:49:29.410Z"
   },
   {
    "duration": 11,
    "start_time": "2024-03-09T05:49:41.917Z"
   },
   {
    "duration": 16,
    "start_time": "2024-03-09T05:49:44.301Z"
   },
   {
    "duration": 78,
    "start_time": "2024-03-09T05:52:36.709Z"
   },
   {
    "duration": 9,
    "start_time": "2024-03-09T05:52:37.069Z"
   },
   {
    "duration": 9,
    "start_time": "2024-03-09T05:52:40.085Z"
   },
   {
    "duration": 12,
    "start_time": "2024-03-09T05:52:43.213Z"
   },
   {
    "duration": 11,
    "start_time": "2024-03-09T05:53:07.910Z"
   },
   {
    "duration": 9,
    "start_time": "2024-03-09T05:53:25.669Z"
   },
   {
    "duration": 15,
    "start_time": "2024-03-09T06:12:24.960Z"
   },
   {
    "duration": 18,
    "start_time": "2024-03-09T06:19:58.631Z"
   },
   {
    "duration": 20,
    "start_time": "2024-03-09T06:21:47.297Z"
   },
   {
    "duration": 105,
    "start_time": "2024-03-09T06:53:15.719Z"
   },
   {
    "duration": 1134,
    "start_time": "2024-03-09T06:53:33.238Z"
   },
   {
    "duration": 1148,
    "start_time": "2024-03-09T06:53:46.910Z"
   },
   {
    "duration": 3,
    "start_time": "2024-03-09T06:59:40.239Z"
   },
   {
    "duration": 80,
    "start_time": "2024-03-09T06:59:41.287Z"
   },
   {
    "duration": 9,
    "start_time": "2024-03-09T06:59:41.606Z"
   },
   {
    "duration": 9,
    "start_time": "2024-03-09T06:59:42.254Z"
   },
   {
    "duration": 13,
    "start_time": "2024-03-09T06:59:42.663Z"
   },
   {
    "duration": 8,
    "start_time": "2024-03-09T06:59:42.862Z"
   },
   {
    "duration": 17,
    "start_time": "2024-03-09T06:59:43.766Z"
   },
   {
    "duration": 1131,
    "start_time": "2024-03-09T06:59:44.246Z"
   },
   {
    "duration": 11,
    "start_time": "2024-03-09T07:00:59.351Z"
   },
   {
    "duration": 3,
    "start_time": "2024-03-09T07:33:55.162Z"
   },
   {
    "duration": 68,
    "start_time": "2024-03-09T07:33:56.105Z"
   },
   {
    "duration": 9,
    "start_time": "2024-03-09T07:33:56.313Z"
   },
   {
    "duration": 9,
    "start_time": "2024-03-09T07:33:59.001Z"
   },
   {
    "duration": 16,
    "start_time": "2024-03-09T07:34:20.906Z"
   },
   {
    "duration": 3,
    "start_time": "2024-03-09T07:34:39.721Z"
   },
   {
    "duration": 68,
    "start_time": "2024-03-09T07:34:41.113Z"
   },
   {
    "duration": 9,
    "start_time": "2024-03-09T07:34:41.593Z"
   },
   {
    "duration": 9,
    "start_time": "2024-03-09T07:34:43.745Z"
   },
   {
    "duration": 11,
    "start_time": "2024-03-09T07:34:53.305Z"
   },
   {
    "duration": 7,
    "start_time": "2024-03-09T07:47:27.652Z"
   },
   {
    "duration": 7,
    "start_time": "2024-03-09T07:47:48.532Z"
   },
   {
    "duration": 6,
    "start_time": "2024-03-09T07:48:04.611Z"
   },
   {
    "duration": 7,
    "start_time": "2024-03-09T07:48:42.164Z"
   },
   {
    "duration": 10,
    "start_time": "2024-03-09T07:48:45.132Z"
   },
   {
    "duration": 6,
    "start_time": "2024-03-09T07:48:46.860Z"
   },
   {
    "duration": 15,
    "start_time": "2024-03-09T07:49:37.181Z"
   },
   {
    "duration": 7,
    "start_time": "2024-03-09T07:49:47.028Z"
   },
   {
    "duration": 75,
    "start_time": "2024-03-09T07:50:37.509Z"
   },
   {
    "duration": 77,
    "start_time": "2024-03-09T07:50:46.949Z"
   },
   {
    "duration": 23,
    "start_time": "2024-03-09T07:51:06.525Z"
   },
   {
    "duration": 8,
    "start_time": "2024-03-09T07:51:23.189Z"
   },
   {
    "duration": 7,
    "start_time": "2024-03-09T07:51:36.724Z"
   },
   {
    "duration": 14,
    "start_time": "2024-03-09T07:53:08.132Z"
   },
   {
    "duration": 7,
    "start_time": "2024-03-09T07:53:13.588Z"
   },
   {
    "duration": 12,
    "start_time": "2024-03-09T07:53:13.981Z"
   },
   {
    "duration": 5,
    "start_time": "2024-03-09T07:53:14.293Z"
   },
   {
    "duration": 14,
    "start_time": "2024-03-09T07:53:14.674Z"
   },
   {
    "duration": 15,
    "start_time": "2024-03-09T07:54:10.373Z"
   },
   {
    "duration": 14,
    "start_time": "2024-03-09T07:55:28.670Z"
   },
   {
    "duration": 3,
    "start_time": "2024-03-09T07:55:57.102Z"
   },
   {
    "duration": 69,
    "start_time": "2024-03-09T07:55:57.107Z"
   },
   {
    "duration": 8,
    "start_time": "2024-03-09T07:55:57.177Z"
   },
   {
    "duration": 12,
    "start_time": "2024-03-09T07:55:57.187Z"
   },
   {
    "duration": 13,
    "start_time": "2024-03-09T07:55:57.202Z"
   },
   {
    "duration": 21,
    "start_time": "2024-03-09T07:55:57.217Z"
   },
   {
    "duration": 11,
    "start_time": "2024-03-09T07:55:57.240Z"
   },
   {
    "duration": 15,
    "start_time": "2024-03-09T07:55:57.252Z"
   },
   {
    "duration": 15,
    "start_time": "2024-03-09T07:55:57.269Z"
   },
   {
    "duration": 13,
    "start_time": "2024-03-09T07:55:57.286Z"
   },
   {
    "duration": 28,
    "start_time": "2024-03-09T07:55:57.301Z"
   },
   {
    "duration": 6,
    "start_time": "2024-03-09T07:55:57.332Z"
   },
   {
    "duration": 6,
    "start_time": "2024-03-09T07:55:57.340Z"
   },
   {
    "duration": 9,
    "start_time": "2024-03-09T07:55:57.350Z"
   },
   {
    "duration": 5,
    "start_time": "2024-03-09T07:55:57.360Z"
   },
   {
    "duration": 57,
    "start_time": "2024-03-09T07:55:57.367Z"
   },
   {
    "duration": 4,
    "start_time": "2024-03-09T08:05:35.583Z"
   },
   {
    "duration": 70,
    "start_time": "2024-03-09T08:07:16.575Z"
   },
   {
    "duration": 222,
    "start_time": "2024-03-09T08:07:36.024Z"
   },
   {
    "duration": 201,
    "start_time": "2024-03-09T08:12:01.024Z"
   },
   {
    "duration": 12,
    "start_time": "2024-03-09T08:12:05.736Z"
   },
   {
    "duration": 127,
    "start_time": "2024-03-09T08:12:21.200Z"
   },
   {
    "duration": 107,
    "start_time": "2024-03-09T08:12:29.864Z"
   },
   {
    "duration": 127,
    "start_time": "2024-03-09T08:12:43.480Z"
   },
   {
    "duration": 188,
    "start_time": "2024-03-09T08:13:47.296Z"
   },
   {
    "duration": 134,
    "start_time": "2024-03-09T08:14:00.808Z"
   },
   {
    "duration": 179,
    "start_time": "2024-03-09T08:14:10.912Z"
   },
   {
    "duration": 134,
    "start_time": "2024-03-09T08:14:39.953Z"
   },
   {
    "duration": 156,
    "start_time": "2024-03-09T08:16:12.089Z"
   },
   {
    "duration": 157,
    "start_time": "2024-03-09T08:26:25.611Z"
   },
   {
    "duration": 9,
    "start_time": "2024-03-09T08:30:06.011Z"
   },
   {
    "duration": 1177,
    "start_time": "2024-03-09T08:30:19.419Z"
   },
   {
    "duration": 5,
    "start_time": "2024-03-09T08:30:42.027Z"
   },
   {
    "duration": 5,
    "start_time": "2024-03-09T08:31:12.075Z"
   },
   {
    "duration": 5,
    "start_time": "2024-03-09T08:31:21.923Z"
   },
   {
    "duration": 9,
    "start_time": "2024-03-09T08:32:11.444Z"
   },
   {
    "duration": 63,
    "start_time": "2024-03-09T08:32:46.982Z"
   },
   {
    "duration": 71,
    "start_time": "2024-03-09T08:32:47.047Z"
   },
   {
    "duration": 8,
    "start_time": "2024-03-09T08:32:47.120Z"
   },
   {
    "duration": 14,
    "start_time": "2024-03-09T08:32:47.130Z"
   },
   {
    "duration": 12,
    "start_time": "2024-03-09T08:32:47.147Z"
   },
   {
    "duration": 20,
    "start_time": "2024-03-09T08:32:47.161Z"
   },
   {
    "duration": 10,
    "start_time": "2024-03-09T08:32:47.183Z"
   },
   {
    "duration": 14,
    "start_time": "2024-03-09T08:32:47.224Z"
   },
   {
    "duration": 20,
    "start_time": "2024-03-09T08:32:47.240Z"
   },
   {
    "duration": 8,
    "start_time": "2024-03-09T08:32:47.262Z"
   },
   {
    "duration": 23,
    "start_time": "2024-03-09T08:32:47.272Z"
   },
   {
    "duration": 9,
    "start_time": "2024-03-09T08:32:47.297Z"
   },
   {
    "duration": 19,
    "start_time": "2024-03-09T08:32:47.308Z"
   },
   {
    "duration": 8,
    "start_time": "2024-03-09T08:32:47.330Z"
   },
   {
    "duration": 5,
    "start_time": "2024-03-09T08:32:47.340Z"
   },
   {
    "duration": 21,
    "start_time": "2024-03-09T08:32:47.347Z"
   },
   {
    "duration": 8,
    "start_time": "2024-03-09T08:32:47.369Z"
   },
   {
    "duration": 249,
    "start_time": "2024-03-09T08:32:47.380Z"
   },
   {
    "duration": 123,
    "start_time": "2024-03-09T08:32:47.632Z"
   },
   {
    "duration": 159,
    "start_time": "2024-03-09T08:32:47.756Z"
   },
   {
    "duration": 9,
    "start_time": "2024-03-09T08:32:47.916Z"
   },
   {
    "duration": 5,
    "start_time": "2024-03-09T08:32:47.927Z"
   },
   {
    "duration": 16,
    "start_time": "2024-03-09T08:32:47.933Z"
   },
   {
    "duration": 120,
    "start_time": "2024-03-09T08:32:57.587Z"
   },
   {
    "duration": 238,
    "start_time": "2024-03-09T08:33:06.876Z"
   },
   {
    "duration": 5,
    "start_time": "2024-03-09T08:37:56.941Z"
   },
   {
    "duration": 5,
    "start_time": "2024-03-09T08:37:58.652Z"
   },
   {
    "duration": 117,
    "start_time": "2024-03-09T08:38:30.805Z"
   },
   {
    "duration": 9,
    "start_time": "2024-03-09T08:47:27.590Z"
   },
   {
    "duration": 4,
    "start_time": "2024-03-09T08:48:43.445Z"
   },
   {
    "duration": 72,
    "start_time": "2024-03-09T08:48:43.452Z"
   },
   {
    "duration": 12,
    "start_time": "2024-03-09T08:48:43.526Z"
   },
   {
    "duration": 11,
    "start_time": "2024-03-09T08:48:43.541Z"
   },
   {
    "duration": 16,
    "start_time": "2024-03-09T08:48:43.555Z"
   },
   {
    "duration": 20,
    "start_time": "2024-03-09T08:48:43.573Z"
   },
   {
    "duration": 33,
    "start_time": "2024-03-09T08:48:43.596Z"
   },
   {
    "duration": 30,
    "start_time": "2024-03-09T08:48:43.631Z"
   },
   {
    "duration": 15,
    "start_time": "2024-03-09T08:48:43.663Z"
   },
   {
    "duration": 7,
    "start_time": "2024-03-09T08:48:43.679Z"
   },
   {
    "duration": 19,
    "start_time": "2024-03-09T08:48:43.688Z"
   },
   {
    "duration": 8,
    "start_time": "2024-03-09T08:48:43.723Z"
   },
   {
    "duration": 10,
    "start_time": "2024-03-09T08:48:43.733Z"
   },
   {
    "duration": 12,
    "start_time": "2024-03-09T08:48:43.747Z"
   },
   {
    "duration": 6,
    "start_time": "2024-03-09T08:48:43.761Z"
   },
   {
    "duration": 21,
    "start_time": "2024-03-09T08:48:43.769Z"
   },
   {
    "duration": 8,
    "start_time": "2024-03-09T08:48:43.824Z"
   },
   {
    "duration": 192,
    "start_time": "2024-03-09T08:48:43.834Z"
   },
   {
    "duration": 8,
    "start_time": "2024-03-09T08:48:44.027Z"
   },
   {
    "duration": 134,
    "start_time": "2024-03-09T08:48:44.036Z"
   },
   {
    "duration": 165,
    "start_time": "2024-03-09T08:48:44.172Z"
   },
   {
    "duration": 5,
    "start_time": "2024-03-09T08:48:44.339Z"
   },
   {
    "duration": 6,
    "start_time": "2024-03-09T08:48:44.345Z"
   },
   {
    "duration": 146,
    "start_time": "2024-03-09T08:48:44.352Z"
   },
   {
    "duration": 4,
    "start_time": "2024-03-09T08:48:44.500Z"
   },
   {
    "duration": 20,
    "start_time": "2024-03-09T08:48:44.506Z"
   },
   {
    "duration": 128,
    "start_time": "2024-03-09T08:48:44.528Z"
   },
   {
    "duration": 4,
    "start_time": "2024-03-09T08:53:38.385Z"
   },
   {
    "duration": 4,
    "start_time": "2024-03-09T08:53:50.055Z"
   },
   {
    "duration": 27,
    "start_time": "2024-03-09T09:01:57.218Z"
   },
   {
    "duration": 9,
    "start_time": "2024-03-09T09:02:25.816Z"
   },
   {
    "duration": 4,
    "start_time": "2024-03-09T09:03:57.259Z"
   },
   {
    "duration": 5,
    "start_time": "2024-03-09T09:03:57.730Z"
   },
   {
    "duration": 9,
    "start_time": "2024-03-09T09:03:58.314Z"
   },
   {
    "duration": 10,
    "start_time": "2024-03-09T09:04:28.090Z"
   },
   {
    "duration": 8,
    "start_time": "2024-03-09T09:08:58.316Z"
   },
   {
    "duration": 5,
    "start_time": "2024-03-09T09:09:01.595Z"
   },
   {
    "duration": 175,
    "start_time": "2024-03-09T09:09:02.172Z"
   },
   {
    "duration": 10,
    "start_time": "2024-03-09T09:09:02.867Z"
   },
   {
    "duration": 117,
    "start_time": "2024-03-09T09:09:03.331Z"
   },
   {
    "duration": 11,
    "start_time": "2024-03-09T09:25:05.766Z"
   },
   {
    "duration": 8,
    "start_time": "2024-03-09T09:25:33.830Z"
   },
   {
    "duration": 27,
    "start_time": "2024-03-09T09:25:44.031Z"
   },
   {
    "duration": 20,
    "start_time": "2024-03-09T09:26:09.525Z"
   },
   {
    "duration": 10,
    "start_time": "2024-03-09T09:27:21.989Z"
   },
   {
    "duration": 992,
    "start_time": "2024-03-09T09:27:35.942Z"
   },
   {
    "duration": 927,
    "start_time": "2024-03-09T09:28:24.070Z"
   },
   {
    "duration": 8,
    "start_time": "2024-03-09T09:28:36.654Z"
   },
   {
    "duration": 6,
    "start_time": "2024-03-09T09:29:30.077Z"
   },
   {
    "duration": 9,
    "start_time": "2024-03-09T09:29:52.718Z"
   },
   {
    "duration": 13,
    "start_time": "2024-03-09T09:29:53.166Z"
   },
   {
    "duration": 8,
    "start_time": "2024-03-09T09:29:53.566Z"
   },
   {
    "duration": 12,
    "start_time": "2024-03-09T09:29:54.054Z"
   },
   {
    "duration": 200,
    "start_time": "2024-03-09T09:33:17.191Z"
   },
   {
    "duration": 286,
    "start_time": "2024-03-09T09:33:39.303Z"
   },
   {
    "duration": 192,
    "start_time": "2024-03-09T09:34:25.879Z"
   },
   {
    "duration": 197,
    "start_time": "2024-03-09T09:34:29.542Z"
   },
   {
    "duration": 208,
    "start_time": "2024-03-09T09:34:30.519Z"
   },
   {
    "duration": 184,
    "start_time": "2024-03-09T09:35:00.982Z"
   },
   {
    "duration": 179,
    "start_time": "2024-03-09T09:35:29.270Z"
   },
   {
    "duration": 180,
    "start_time": "2024-03-09T09:35:37.255Z"
   },
   {
    "duration": 185,
    "start_time": "2024-03-09T09:35:45.559Z"
   },
   {
    "duration": 178,
    "start_time": "2024-03-09T09:36:01.070Z"
   },
   {
    "duration": 188,
    "start_time": "2024-03-09T09:38:24.576Z"
   },
   {
    "duration": 168,
    "start_time": "2024-03-09T09:38:25.967Z"
   },
   {
    "duration": 177,
    "start_time": "2024-03-09T09:42:31.359Z"
   },
   {
    "duration": 182,
    "start_time": "2024-03-09T09:43:19.951Z"
   },
   {
    "duration": 182,
    "start_time": "2024-03-09T09:43:35.911Z"
   },
   {
    "duration": 187,
    "start_time": "2024-03-09T10:04:46.626Z"
   },
   {
    "duration": 185,
    "start_time": "2024-03-09T10:08:03.034Z"
   },
   {
    "duration": 185,
    "start_time": "2024-03-09T10:08:16.466Z"
   },
   {
    "duration": 9,
    "start_time": "2024-03-09T10:09:16.571Z"
   },
   {
    "duration": 6,
    "start_time": "2024-03-09T10:09:46.210Z"
   },
   {
    "duration": 11,
    "start_time": "2024-03-09T10:09:58.963Z"
   },
   {
    "duration": 9,
    "start_time": "2024-03-09T10:10:39.098Z"
   },
   {
    "duration": 8,
    "start_time": "2024-03-09T10:11:01.587Z"
   },
   {
    "duration": 203,
    "start_time": "2024-03-09T10:19:45.236Z"
   },
   {
    "duration": 188,
    "start_time": "2024-03-09T10:20:27.778Z"
   },
   {
    "duration": 180,
    "start_time": "2024-03-09T10:20:32.507Z"
   },
   {
    "duration": 921,
    "start_time": "2024-03-09T11:14:28.735Z"
   },
   {
    "duration": 911,
    "start_time": "2024-03-09T11:14:31.486Z"
   },
   {
    "duration": 16,
    "start_time": "2024-03-09T11:15:14.629Z"
   },
   {
    "duration": 18,
    "start_time": "2024-03-09T11:15:39.539Z"
   },
   {
    "duration": 11,
    "start_time": "2024-03-09T11:34:27.894Z"
   },
   {
    "duration": 149,
    "start_time": "2024-03-09T11:34:33.840Z"
   },
   {
    "duration": 146,
    "start_time": "2024-03-09T11:34:58.552Z"
   },
   {
    "duration": 181,
    "start_time": "2024-03-09T11:36:43.520Z"
   },
   {
    "duration": 155,
    "start_time": "2024-03-09T11:36:56.134Z"
   },
   {
    "duration": 161,
    "start_time": "2024-03-09T11:38:08.576Z"
   },
   {
    "duration": 18,
    "start_time": "2024-03-09T11:38:20.696Z"
   },
   {
    "duration": 166,
    "start_time": "2024-03-09T11:38:26.840Z"
   },
   {
    "duration": 100,
    "start_time": "2024-03-09T11:59:37.011Z"
   },
   {
    "duration": 13,
    "start_time": "2024-03-09T12:14:49.406Z"
   },
   {
    "duration": 15,
    "start_time": "2024-03-09T12:18:13.380Z"
   },
   {
    "duration": 5,
    "start_time": "2024-03-09T12:35:32.348Z"
   },
   {
    "duration": 14,
    "start_time": "2024-03-09T12:35:33.344Z"
   },
   {
    "duration": 4,
    "start_time": "2024-03-09T12:35:49.507Z"
   },
   {
    "duration": 77,
    "start_time": "2024-03-09T12:35:49.513Z"
   },
   {
    "duration": 8,
    "start_time": "2024-03-09T12:35:49.592Z"
   },
   {
    "duration": 16,
    "start_time": "2024-03-09T12:35:49.602Z"
   },
   {
    "duration": 11,
    "start_time": "2024-03-09T12:35:49.619Z"
   },
   {
    "duration": 20,
    "start_time": "2024-03-09T12:35:49.631Z"
   },
   {
    "duration": 7,
    "start_time": "2024-03-09T12:35:49.652Z"
   },
   {
    "duration": 8,
    "start_time": "2024-03-09T12:35:49.660Z"
   },
   {
    "duration": 11,
    "start_time": "2024-03-09T12:35:49.670Z"
   },
   {
    "duration": 6,
    "start_time": "2024-03-09T12:35:49.683Z"
   },
   {
    "duration": 8,
    "start_time": "2024-03-09T12:35:49.691Z"
   },
   {
    "duration": 7,
    "start_time": "2024-03-09T12:35:49.723Z"
   },
   {
    "duration": 6,
    "start_time": "2024-03-09T12:35:49.732Z"
   },
   {
    "duration": 11,
    "start_time": "2024-03-09T12:35:49.740Z"
   },
   {
    "duration": 5,
    "start_time": "2024-03-09T12:35:49.753Z"
   },
   {
    "duration": 15,
    "start_time": "2024-03-09T12:35:52.235Z"
   },
   {
    "duration": 6,
    "start_time": "2024-03-09T12:36:59.699Z"
   },
   {
    "duration": 164,
    "start_time": "2024-03-09T12:37:39.356Z"
   },
   {
    "duration": 5,
    "start_time": "2024-03-09T12:38:06.348Z"
   },
   {
    "duration": 111,
    "start_time": "2024-03-09T12:38:33.036Z"
   },
   {
    "duration": 9,
    "start_time": "2024-03-09T12:38:45.147Z"
   },
   {
    "duration": 8,
    "start_time": "2024-03-09T12:38:58.859Z"
   },
   {
    "duration": 237,
    "start_time": "2024-03-09T12:39:03.556Z"
   },
   {
    "duration": 158,
    "start_time": "2024-03-09T12:39:41.724Z"
   },
   {
    "duration": 171,
    "start_time": "2024-03-09T12:40:25.612Z"
   },
   {
    "duration": 187,
    "start_time": "2024-03-09T12:41:28.861Z"
   },
   {
    "duration": 126,
    "start_time": "2024-03-09T12:41:48.477Z"
   },
   {
    "duration": 8,
    "start_time": "2024-03-09T12:41:51.004Z"
   },
   {
    "duration": 111,
    "start_time": "2024-03-09T12:41:51.460Z"
   },
   {
    "duration": 17,
    "start_time": "2024-03-09T12:42:18.556Z"
   },
   {
    "duration": 8,
    "start_time": "2024-03-09T12:43:35.285Z"
   },
   {
    "duration": 197,
    "start_time": "2024-03-09T12:43:35.717Z"
   },
   {
    "duration": 8,
    "start_time": "2024-03-09T12:43:36.029Z"
   },
   {
    "duration": 181,
    "start_time": "2024-03-09T12:43:47.140Z"
   },
   {
    "duration": 8,
    "start_time": "2024-03-09T12:43:47.773Z"
   },
   {
    "duration": 206,
    "start_time": "2024-03-09T12:43:49.365Z"
   },
   {
    "duration": 8,
    "start_time": "2024-03-09T12:43:51.428Z"
   },
   {
    "duration": 109,
    "start_time": "2024-03-09T12:45:54.909Z"
   },
   {
    "duration": 17,
    "start_time": "2024-03-09T12:46:20.157Z"
   },
   {
    "duration": 13,
    "start_time": "2024-03-09T12:46:20.691Z"
   },
   {
    "duration": 4,
    "start_time": "2024-03-09T12:54:52.476Z"
   },
   {
    "duration": 74,
    "start_time": "2024-03-09T12:54:52.482Z"
   },
   {
    "duration": 9,
    "start_time": "2024-03-09T12:54:52.557Z"
   },
   {
    "duration": 22,
    "start_time": "2024-03-09T12:54:52.568Z"
   },
   {
    "duration": 24,
    "start_time": "2024-03-09T12:54:52.592Z"
   },
   {
    "duration": 12,
    "start_time": "2024-03-09T12:54:52.618Z"
   },
   {
    "duration": 17,
    "start_time": "2024-03-09T12:54:52.632Z"
   },
   {
    "duration": 15,
    "start_time": "2024-03-09T12:54:52.650Z"
   },
   {
    "duration": 25,
    "start_time": "2024-03-09T12:54:52.667Z"
   },
   {
    "duration": 8,
    "start_time": "2024-03-09T12:54:52.695Z"
   },
   {
    "duration": 8,
    "start_time": "2024-03-09T12:54:52.704Z"
   },
   {
    "duration": 5,
    "start_time": "2024-03-09T12:54:52.714Z"
   },
   {
    "duration": 11,
    "start_time": "2024-03-09T12:54:52.721Z"
   },
   {
    "duration": 33,
    "start_time": "2024-03-09T12:54:52.733Z"
   },
   {
    "duration": 6,
    "start_time": "2024-03-09T12:54:52.768Z"
   },
   {
    "duration": 35,
    "start_time": "2024-03-09T12:54:52.776Z"
   },
   {
    "duration": 5,
    "start_time": "2024-03-09T12:54:52.813Z"
   },
   {
    "duration": 170,
    "start_time": "2024-03-09T12:54:52.819Z"
   },
   {
    "duration": 5,
    "start_time": "2024-03-09T12:54:52.991Z"
   },
   {
    "duration": 131,
    "start_time": "2024-03-09T12:54:52.998Z"
   },
   {
    "duration": 9,
    "start_time": "2024-03-09T12:54:53.131Z"
   },
   {
    "duration": 169,
    "start_time": "2024-03-09T12:54:53.142Z"
   },
   {
    "duration": 15,
    "start_time": "2024-03-09T12:54:53.313Z"
   },
   {
    "duration": 218,
    "start_time": "2024-03-09T12:54:53.330Z"
   },
   {
    "duration": 9,
    "start_time": "2024-03-09T12:54:53.550Z"
   },
   {
    "duration": 124,
    "start_time": "2024-03-09T12:54:53.560Z"
   },
   {
    "duration": 17,
    "start_time": "2024-03-09T12:54:53.686Z"
   },
   {
    "duration": 22,
    "start_time": "2024-03-09T12:54:53.706Z"
   },
   {
    "duration": 9,
    "start_time": "2024-03-09T12:54:53.730Z"
   },
   {
    "duration": 11,
    "start_time": "2024-03-09T12:54:53.741Z"
   },
   {
    "duration": 13,
    "start_time": "2024-03-09T12:54:53.754Z"
   },
   {
    "duration": 12,
    "start_time": "2024-03-09T12:54:53.768Z"
   },
   {
    "duration": 42,
    "start_time": "2024-03-09T12:54:53.782Z"
   },
   {
    "duration": 202,
    "start_time": "2024-03-09T12:54:53.826Z"
   },
   {
    "duration": 9,
    "start_time": "2024-03-09T12:54:54.029Z"
   },
   {
    "duration": 193,
    "start_time": "2024-03-09T12:54:54.039Z"
   },
   {
    "duration": 8,
    "start_time": "2024-03-09T12:54:54.234Z"
   },
   {
    "duration": 203,
    "start_time": "2024-03-09T12:54:54.243Z"
   },
   {
    "duration": 8,
    "start_time": "2024-03-09T12:54:54.448Z"
   },
   {
    "duration": 200,
    "start_time": "2024-03-09T12:54:54.458Z"
   },
   {
    "duration": 944,
    "start_time": "2024-03-09T12:54:54.660Z"
   },
   {
    "duration": 19,
    "start_time": "2024-03-09T12:54:55.605Z"
   },
   {
    "duration": 162,
    "start_time": "2024-03-09T12:55:00.637Z"
   },
   {
    "duration": 152,
    "start_time": "2024-03-09T12:57:10.781Z"
   },
   {
    "duration": 48,
    "start_time": "2024-03-09T15:20:02.850Z"
   },
   {
    "duration": 1379,
    "start_time": "2024-03-09T15:20:09.049Z"
   },
   {
    "duration": 304,
    "start_time": "2024-03-09T15:20:10.430Z"
   },
   {
    "duration": 12,
    "start_time": "2024-03-09T15:20:10.736Z"
   },
   {
    "duration": 11,
    "start_time": "2024-03-09T15:20:10.750Z"
   },
   {
    "duration": 14,
    "start_time": "2024-03-09T15:20:10.762Z"
   },
   {
    "duration": 11,
    "start_time": "2024-03-09T15:20:10.777Z"
   },
   {
    "duration": 6,
    "start_time": "2024-03-09T15:20:10.790Z"
   },
   {
    "duration": 15,
    "start_time": "2024-03-09T15:20:10.798Z"
   },
   {
    "duration": 18,
    "start_time": "2024-03-09T15:20:10.814Z"
   },
   {
    "duration": 6,
    "start_time": "2024-03-09T15:20:10.834Z"
   },
   {
    "duration": 6,
    "start_time": "2024-03-09T15:20:10.841Z"
   },
   {
    "duration": 25,
    "start_time": "2024-03-09T15:20:10.848Z"
   },
   {
    "duration": 13,
    "start_time": "2024-03-09T15:20:10.874Z"
   },
   {
    "duration": 14,
    "start_time": "2024-03-09T15:20:10.888Z"
   },
   {
    "duration": 16,
    "start_time": "2024-03-09T15:20:10.903Z"
   },
   {
    "duration": 24,
    "start_time": "2024-03-09T15:20:10.920Z"
   },
   {
    "duration": 5,
    "start_time": "2024-03-09T15:20:10.946Z"
   },
   {
    "duration": 179,
    "start_time": "2024-03-09T15:20:10.953Z"
   },
   {
    "duration": 7,
    "start_time": "2024-03-09T15:20:11.134Z"
   },
   {
    "duration": 128,
    "start_time": "2024-03-09T15:20:11.142Z"
   },
   {
    "duration": 9,
    "start_time": "2024-03-09T15:20:11.272Z"
   },
   {
    "duration": 150,
    "start_time": "2024-03-09T15:20:11.282Z"
   },
   {
    "duration": 11,
    "start_time": "2024-03-09T15:20:11.434Z"
   },
   {
    "duration": 132,
    "start_time": "2024-03-09T15:20:11.447Z"
   },
   {
    "duration": 8,
    "start_time": "2024-03-09T15:20:11.581Z"
   },
   {
    "duration": 119,
    "start_time": "2024-03-09T15:20:11.590Z"
   },
   {
    "duration": 18,
    "start_time": "2024-03-09T15:20:11.711Z"
   },
   {
    "duration": 11,
    "start_time": "2024-03-09T15:20:11.732Z"
   },
   {
    "duration": 24,
    "start_time": "2024-03-09T15:20:11.745Z"
   },
   {
    "duration": 11,
    "start_time": "2024-03-09T15:20:11.771Z"
   },
   {
    "duration": 8,
    "start_time": "2024-03-09T15:20:11.784Z"
   },
   {
    "duration": 11,
    "start_time": "2024-03-09T15:20:11.794Z"
   },
   {
    "duration": 8,
    "start_time": "2024-03-09T15:20:11.806Z"
   },
   {
    "duration": 204,
    "start_time": "2024-03-09T15:20:11.816Z"
   },
   {
    "duration": 7,
    "start_time": "2024-03-09T15:20:12.022Z"
   },
   {
    "duration": 174,
    "start_time": "2024-03-09T15:20:12.031Z"
   },
   {
    "duration": 7,
    "start_time": "2024-03-09T15:20:12.207Z"
   },
   {
    "duration": 183,
    "start_time": "2024-03-09T15:20:12.215Z"
   },
   {
    "duration": 7,
    "start_time": "2024-03-09T15:20:12.400Z"
   },
   {
    "duration": 194,
    "start_time": "2024-03-09T15:20:12.408Z"
   },
   {
    "duration": 839,
    "start_time": "2024-03-09T15:20:12.603Z"
   },
   {
    "duration": 12,
    "start_time": "2024-03-09T15:20:13.444Z"
   },
   {
    "duration": 224,
    "start_time": "2024-03-09T15:20:13.458Z"
   },
   {
    "duration": 5,
    "start_time": "2024-03-09T15:20:13.683Z"
   },
   {
    "duration": 6,
    "start_time": "2024-03-09T15:20:25.354Z"
   },
   {
    "duration": 6,
    "start_time": "2024-03-09T15:22:30.946Z"
   },
   {
    "duration": 5,
    "start_time": "2024-03-09T15:22:46.602Z"
   },
   {
    "duration": 6,
    "start_time": "2024-03-09T15:23:42.018Z"
   },
   {
    "duration": 63,
    "start_time": "2024-03-09T15:29:12.059Z"
   },
   {
    "duration": 5,
    "start_time": "2024-03-09T15:29:45.684Z"
   },
   {
    "duration": 4,
    "start_time": "2024-03-09T15:30:42.700Z"
   },
   {
    "duration": 5,
    "start_time": "2024-03-09T15:31:21.388Z"
   },
   {
    "duration": 5,
    "start_time": "2024-03-09T15:33:52.837Z"
   },
   {
    "duration": 339,
    "start_time": "2024-03-09T16:31:45.270Z"
   },
   {
    "duration": 59,
    "start_time": "2024-03-10T05:29:26.484Z"
   },
   {
    "duration": 1247,
    "start_time": "2024-03-10T05:30:12.887Z"
   },
   {
    "duration": 201,
    "start_time": "2024-03-10T05:30:14.136Z"
   },
   {
    "duration": 11,
    "start_time": "2024-03-10T05:30:14.339Z"
   },
   {
    "duration": 9,
    "start_time": "2024-03-10T05:30:14.352Z"
   },
   {
    "duration": 16,
    "start_time": "2024-03-10T05:30:14.362Z"
   },
   {
    "duration": 16,
    "start_time": "2024-03-10T05:30:14.379Z"
   },
   {
    "duration": 5,
    "start_time": "2024-03-10T05:30:14.397Z"
   },
   {
    "duration": 8,
    "start_time": "2024-03-10T05:30:14.404Z"
   },
   {
    "duration": 11,
    "start_time": "2024-03-10T05:30:14.413Z"
   },
   {
    "duration": 5,
    "start_time": "2024-03-10T05:30:14.427Z"
   },
   {
    "duration": 24,
    "start_time": "2024-03-10T05:30:14.433Z"
   },
   {
    "duration": 7,
    "start_time": "2024-03-10T05:30:14.459Z"
   },
   {
    "duration": 10,
    "start_time": "2024-03-10T05:30:14.467Z"
   },
   {
    "duration": 7,
    "start_time": "2024-03-10T05:30:14.478Z"
   },
   {
    "duration": 17,
    "start_time": "2024-03-10T05:30:14.486Z"
   },
   {
    "duration": 20,
    "start_time": "2024-03-10T05:30:14.506Z"
   },
   {
    "duration": 6,
    "start_time": "2024-03-10T05:30:14.528Z"
   },
   {
    "duration": 171,
    "start_time": "2024-03-10T05:30:14.536Z"
   },
   {
    "duration": 4,
    "start_time": "2024-03-10T05:30:14.709Z"
   },
   {
    "duration": 114,
    "start_time": "2024-03-10T05:30:14.714Z"
   },
   {
    "duration": 6,
    "start_time": "2024-03-10T05:30:14.829Z"
   },
   {
    "duration": 123,
    "start_time": "2024-03-10T05:30:14.837Z"
   },
   {
    "duration": 7,
    "start_time": "2024-03-10T05:30:14.961Z"
   },
   {
    "duration": 125,
    "start_time": "2024-03-10T05:30:14.969Z"
   },
   {
    "duration": 13,
    "start_time": "2024-03-10T05:30:15.096Z"
   },
   {
    "duration": 111,
    "start_time": "2024-03-10T05:30:15.110Z"
   },
   {
    "duration": 18,
    "start_time": "2024-03-10T05:30:15.232Z"
   },
   {
    "duration": 19,
    "start_time": "2024-03-10T05:30:15.253Z"
   },
   {
    "duration": 28,
    "start_time": "2024-03-10T05:30:15.273Z"
   },
   {
    "duration": 24,
    "start_time": "2024-03-10T05:30:15.303Z"
   },
   {
    "duration": 20,
    "start_time": "2024-03-10T05:30:15.328Z"
   },
   {
    "duration": 38,
    "start_time": "2024-03-10T05:30:15.349Z"
   },
   {
    "duration": 49,
    "start_time": "2024-03-10T05:30:15.388Z"
   },
   {
    "duration": 175,
    "start_time": "2024-03-10T05:30:15.438Z"
   },
   {
    "duration": 8,
    "start_time": "2024-03-10T05:30:15.615Z"
   },
   {
    "duration": 156,
    "start_time": "2024-03-10T05:30:15.624Z"
   },
   {
    "duration": 20,
    "start_time": "2024-03-10T05:30:15.782Z"
   },
   {
    "duration": 157,
    "start_time": "2024-03-10T05:30:15.803Z"
   },
   {
    "duration": 5,
    "start_time": "2024-03-10T05:30:15.962Z"
   },
   {
    "duration": 166,
    "start_time": "2024-03-10T05:30:15.968Z"
   },
   {
    "duration": 811,
    "start_time": "2024-03-10T05:30:16.135Z"
   },
   {
    "duration": 11,
    "start_time": "2024-03-10T05:30:16.947Z"
   },
   {
    "duration": 203,
    "start_time": "2024-03-10T05:30:16.959Z"
   },
   {
    "duration": 5,
    "start_time": "2024-03-10T05:30:17.163Z"
   },
   {
    "duration": 263,
    "start_time": "2024-03-10T05:30:17.169Z"
   },
   {
    "duration": 123,
    "start_time": "2024-03-10T05:31:01.637Z"
   },
   {
    "duration": 132,
    "start_time": "2024-03-10T05:31:21.045Z"
   },
   {
    "duration": 125,
    "start_time": "2024-03-10T05:34:31.444Z"
   },
   {
    "duration": 4,
    "start_time": "2024-03-10T05:35:15.430Z"
   },
   {
    "duration": 7,
    "start_time": "2024-03-10T05:37:05.974Z"
   },
   {
    "duration": 4,
    "start_time": "2024-03-10T05:37:22.270Z"
   },
   {
    "duration": 4,
    "start_time": "2024-03-10T06:37:17.017Z"
   },
   {
    "duration": 5,
    "start_time": "2024-03-10T06:53:02.797Z"
   },
   {
    "duration": 4,
    "start_time": "2024-03-10T07:01:01.686Z"
   },
   {
    "duration": 199,
    "start_time": "2024-03-10T07:01:01.692Z"
   },
   {
    "duration": 76,
    "start_time": "2024-03-10T07:01:01.893Z"
   },
   {
    "duration": 71,
    "start_time": "2024-03-10T07:01:01.970Z"
   },
   {
    "duration": 55,
    "start_time": "2024-03-10T07:01:02.043Z"
   },
   {
    "duration": 37,
    "start_time": "2024-03-10T07:01:02.099Z"
   },
   {
    "duration": 16,
    "start_time": "2024-03-10T07:01:02.138Z"
   },
   {
    "duration": 41,
    "start_time": "2024-03-10T07:01:02.155Z"
   },
   {
    "duration": 44,
    "start_time": "2024-03-10T07:01:02.198Z"
   },
   {
    "duration": 15,
    "start_time": "2024-03-10T07:01:02.243Z"
   },
   {
    "duration": 16,
    "start_time": "2024-03-10T07:01:02.261Z"
   },
   {
    "duration": 17,
    "start_time": "2024-03-10T07:01:02.278Z"
   },
   {
    "duration": 20,
    "start_time": "2024-03-10T07:01:02.296Z"
   },
   {
    "duration": 10,
    "start_time": "2024-03-10T07:01:02.317Z"
   },
   {
    "duration": 11,
    "start_time": "2024-03-10T07:01:02.329Z"
   },
   {
    "duration": 43,
    "start_time": "2024-03-10T07:01:02.342Z"
   },
   {
    "duration": 12,
    "start_time": "2024-03-10T07:01:02.386Z"
   },
   {
    "duration": 152,
    "start_time": "2024-03-10T07:01:02.399Z"
   },
   {
    "duration": 5,
    "start_time": "2024-03-10T07:01:02.552Z"
   },
   {
    "duration": 122,
    "start_time": "2024-03-10T07:01:02.558Z"
   },
   {
    "duration": 6,
    "start_time": "2024-03-10T07:01:02.681Z"
   },
   {
    "duration": 157,
    "start_time": "2024-03-10T07:01:02.689Z"
   },
   {
    "duration": 7,
    "start_time": "2024-03-10T07:01:02.847Z"
   },
   {
    "duration": 139,
    "start_time": "2024-03-10T07:01:02.855Z"
   },
   {
    "duration": 7,
    "start_time": "2024-03-10T07:01:02.995Z"
   },
   {
    "duration": 99,
    "start_time": "2024-03-10T07:01:03.003Z"
   },
   {
    "duration": 14,
    "start_time": "2024-03-10T07:01:03.103Z"
   },
   {
    "duration": 9,
    "start_time": "2024-03-10T07:01:03.119Z"
   },
   {
    "duration": 15,
    "start_time": "2024-03-10T07:01:03.131Z"
   },
   {
    "duration": 11,
    "start_time": "2024-03-10T07:01:03.147Z"
   },
   {
    "duration": 8,
    "start_time": "2024-03-10T07:01:03.160Z"
   },
   {
    "duration": 12,
    "start_time": "2024-03-10T07:01:03.169Z"
   },
   {
    "duration": 20,
    "start_time": "2024-03-10T07:01:03.182Z"
   },
   {
    "duration": 160,
    "start_time": "2024-03-10T07:01:03.204Z"
   },
   {
    "duration": 7,
    "start_time": "2024-03-10T07:01:03.366Z"
   },
   {
    "duration": 151,
    "start_time": "2024-03-10T07:01:03.375Z"
   },
   {
    "duration": 8,
    "start_time": "2024-03-10T07:01:03.528Z"
   },
   {
    "duration": 217,
    "start_time": "2024-03-10T07:01:03.537Z"
   },
   {
    "duration": 7,
    "start_time": "2024-03-10T07:01:03.755Z"
   },
   {
    "duration": 148,
    "start_time": "2024-03-10T07:01:03.764Z"
   },
   {
    "duration": 795,
    "start_time": "2024-03-10T07:01:03.913Z"
   },
   {
    "duration": 12,
    "start_time": "2024-03-10T07:01:04.710Z"
   },
   {
    "duration": 123,
    "start_time": "2024-03-10T07:01:08.754Z"
   },
   {
    "duration": 11,
    "start_time": "2024-03-10T07:04:00.529Z"
   },
   {
    "duration": 8,
    "start_time": "2024-03-10T07:04:08.863Z"
   },
   {
    "duration": 7,
    "start_time": "2024-03-10T07:04:49.471Z"
   },
   {
    "duration": 3,
    "start_time": "2024-03-10T08:30:46.334Z"
   },
   {
    "duration": 72,
    "start_time": "2024-03-10T08:30:46.338Z"
   },
   {
    "duration": 6,
    "start_time": "2024-03-10T08:30:46.412Z"
   },
   {
    "duration": 25,
    "start_time": "2024-03-10T08:30:46.419Z"
   },
   {
    "duration": 7,
    "start_time": "2024-03-10T08:30:46.445Z"
   },
   {
    "duration": 8,
    "start_time": "2024-03-10T08:30:46.453Z"
   },
   {
    "duration": 4,
    "start_time": "2024-03-10T08:30:46.463Z"
   },
   {
    "duration": 15,
    "start_time": "2024-03-10T08:30:46.469Z"
   },
   {
    "duration": 8,
    "start_time": "2024-03-10T08:30:46.485Z"
   },
   {
    "duration": 21,
    "start_time": "2024-03-10T08:30:46.494Z"
   },
   {
    "duration": 17,
    "start_time": "2024-03-10T08:30:46.517Z"
   },
   {
    "duration": 26,
    "start_time": "2024-03-10T08:30:46.535Z"
   },
   {
    "duration": 6,
    "start_time": "2024-03-10T08:30:46.562Z"
   },
   {
    "duration": 8,
    "start_time": "2024-03-10T08:30:46.569Z"
   },
   {
    "duration": 4,
    "start_time": "2024-03-10T08:30:46.578Z"
   },
   {
    "duration": 20,
    "start_time": "2024-03-10T08:30:46.583Z"
   },
   {
    "duration": 24,
    "start_time": "2024-03-10T08:30:46.604Z"
   },
   {
    "duration": 135,
    "start_time": "2024-03-10T08:30:46.629Z"
   },
   {
    "duration": 4,
    "start_time": "2024-03-10T08:30:46.765Z"
   },
   {
    "duration": 93,
    "start_time": "2024-03-10T08:30:46.771Z"
   },
   {
    "duration": 6,
    "start_time": "2024-03-10T08:30:46.865Z"
   },
   {
    "duration": 123,
    "start_time": "2024-03-10T08:30:46.873Z"
   },
   {
    "duration": 8,
    "start_time": "2024-03-10T08:30:46.998Z"
   },
   {
    "duration": 98,
    "start_time": "2024-03-10T08:30:47.007Z"
   },
   {
    "duration": 6,
    "start_time": "2024-03-10T08:30:47.107Z"
   },
   {
    "duration": 94,
    "start_time": "2024-03-10T08:30:47.114Z"
   },
   {
    "duration": 14,
    "start_time": "2024-03-10T08:30:47.210Z"
   },
   {
    "duration": 10,
    "start_time": "2024-03-10T08:30:47.225Z"
   },
   {
    "duration": 8,
    "start_time": "2024-03-10T08:30:47.239Z"
   },
   {
    "duration": 10,
    "start_time": "2024-03-10T08:30:47.249Z"
   },
   {
    "duration": 10,
    "start_time": "2024-03-10T08:30:47.260Z"
   },
   {
    "duration": 38,
    "start_time": "2024-03-10T08:30:47.271Z"
   },
   {
    "duration": 18,
    "start_time": "2024-03-10T08:30:47.310Z"
   },
   {
    "duration": 141,
    "start_time": "2024-03-10T08:30:47.329Z"
   },
   {
    "duration": 7,
    "start_time": "2024-03-10T08:30:47.471Z"
   },
   {
    "duration": 141,
    "start_time": "2024-03-10T08:30:47.479Z"
   },
   {
    "duration": 6,
    "start_time": "2024-03-10T08:30:47.621Z"
   },
   {
    "duration": 146,
    "start_time": "2024-03-10T08:30:47.628Z"
   },
   {
    "duration": 7,
    "start_time": "2024-03-10T08:30:47.775Z"
   },
   {
    "duration": 137,
    "start_time": "2024-03-10T08:30:47.783Z"
   },
   {
    "duration": 814,
    "start_time": "2024-03-10T08:30:47.922Z"
   },
   {
    "duration": 11,
    "start_time": "2024-03-10T08:30:48.737Z"
   },
   {
    "duration": 181,
    "start_time": "2024-03-10T08:30:48.749Z"
   },
   {
    "duration": 4,
    "start_time": "2024-03-10T08:30:48.932Z"
   },
   {
    "duration": 4,
    "start_time": "2024-03-10T08:30:48.938Z"
   },
   {
    "duration": 11,
    "start_time": "2024-03-10T08:30:48.943Z"
   },
   {
    "duration": 12,
    "start_time": "2024-03-10T08:37:52.507Z"
   },
   {
    "duration": 75,
    "start_time": "2024-03-10T09:05:11.616Z"
   },
   {
    "duration": 11,
    "start_time": "2024-03-10T09:05:14.247Z"
   },
   {
    "duration": 807,
    "start_time": "2024-03-10T09:05:21.375Z"
   },
   {
    "duration": 10,
    "start_time": "2024-03-10T09:05:22.183Z"
   },
   {
    "duration": 3,
    "start_time": "2024-03-10T09:05:27.978Z"
   },
   {
    "duration": 74,
    "start_time": "2024-03-10T09:05:27.982Z"
   },
   {
    "duration": 6,
    "start_time": "2024-03-10T09:05:28.057Z"
   },
   {
    "duration": 14,
    "start_time": "2024-03-10T09:05:28.065Z"
   },
   {
    "duration": 12,
    "start_time": "2024-03-10T09:05:28.080Z"
   },
   {
    "duration": 18,
    "start_time": "2024-03-10T09:05:28.093Z"
   },
   {
    "duration": 16,
    "start_time": "2024-03-10T09:05:28.112Z"
   },
   {
    "duration": 6,
    "start_time": "2024-03-10T09:05:28.129Z"
   },
   {
    "duration": 8,
    "start_time": "2024-03-10T09:05:28.137Z"
   },
   {
    "duration": 5,
    "start_time": "2024-03-10T09:05:28.146Z"
   },
   {
    "duration": 6,
    "start_time": "2024-03-10T09:05:28.152Z"
   },
   {
    "duration": 19,
    "start_time": "2024-03-10T09:05:28.160Z"
   },
   {
    "duration": 15,
    "start_time": "2024-03-10T09:05:28.180Z"
   },
   {
    "duration": 16,
    "start_time": "2024-03-10T09:05:28.196Z"
   },
   {
    "duration": 16,
    "start_time": "2024-03-10T09:05:28.213Z"
   },
   {
    "duration": 17,
    "start_time": "2024-03-10T09:05:28.230Z"
   },
   {
    "duration": 6,
    "start_time": "2024-03-10T09:05:28.248Z"
   },
   {
    "duration": 135,
    "start_time": "2024-03-10T09:05:28.255Z"
   },
   {
    "duration": 5,
    "start_time": "2024-03-10T09:05:28.391Z"
   },
   {
    "duration": 86,
    "start_time": "2024-03-10T09:05:28.401Z"
   },
   {
    "duration": 17,
    "start_time": "2024-03-10T09:05:28.489Z"
   },
   {
    "duration": 121,
    "start_time": "2024-03-10T09:05:28.507Z"
   },
   {
    "duration": 7,
    "start_time": "2024-03-10T09:05:28.629Z"
   },
   {
    "duration": 96,
    "start_time": "2024-03-10T09:05:28.638Z"
   },
   {
    "duration": 7,
    "start_time": "2024-03-10T09:05:28.735Z"
   },
   {
    "duration": 100,
    "start_time": "2024-03-10T09:05:28.743Z"
   },
   {
    "duration": 14,
    "start_time": "2024-03-10T09:05:28.845Z"
   },
   {
    "duration": 12,
    "start_time": "2024-03-10T09:05:28.860Z"
   },
   {
    "duration": 15,
    "start_time": "2024-03-10T09:05:28.873Z"
   },
   {
    "duration": 18,
    "start_time": "2024-03-10T09:05:28.890Z"
   },
   {
    "duration": 7,
    "start_time": "2024-03-10T09:05:28.910Z"
   },
   {
    "duration": 14,
    "start_time": "2024-03-10T09:05:28.918Z"
   },
   {
    "duration": 8,
    "start_time": "2024-03-10T09:05:28.934Z"
   },
   {
    "duration": 164,
    "start_time": "2024-03-10T09:05:28.943Z"
   },
   {
    "duration": 7,
    "start_time": "2024-03-10T09:05:29.108Z"
   },
   {
    "duration": 147,
    "start_time": "2024-03-10T09:05:29.117Z"
   },
   {
    "duration": 7,
    "start_time": "2024-03-10T09:05:29.265Z"
   },
   {
    "duration": 150,
    "start_time": "2024-03-10T09:05:29.273Z"
   },
   {
    "duration": 7,
    "start_time": "2024-03-10T09:05:29.424Z"
   },
   {
    "duration": 140,
    "start_time": "2024-03-10T09:05:29.432Z"
   },
   {
    "duration": 818,
    "start_time": "2024-03-10T09:05:29.573Z"
   },
   {
    "duration": 10,
    "start_time": "2024-03-10T09:05:32.608Z"
   },
   {
    "duration": 808,
    "start_time": "2024-03-10T09:05:36.687Z"
   },
   {
    "duration": 13,
    "start_time": "2024-03-10T09:05:37.497Z"
   },
   {
    "duration": 3,
    "start_time": "2024-03-10T09:05:45.802Z"
   },
   {
    "duration": 70,
    "start_time": "2024-03-10T09:05:45.807Z"
   },
   {
    "duration": 7,
    "start_time": "2024-03-10T09:05:45.878Z"
   },
   {
    "duration": 12,
    "start_time": "2024-03-10T09:05:45.886Z"
   },
   {
    "duration": 9,
    "start_time": "2024-03-10T09:05:45.899Z"
   },
   {
    "duration": 13,
    "start_time": "2024-03-10T09:05:45.909Z"
   },
   {
    "duration": 15,
    "start_time": "2024-03-10T09:05:45.922Z"
   },
   {
    "duration": 6,
    "start_time": "2024-03-10T09:05:45.938Z"
   },
   {
    "duration": 7,
    "start_time": "2024-03-10T09:05:45.945Z"
   },
   {
    "duration": 9,
    "start_time": "2024-03-10T09:05:45.953Z"
   },
   {
    "duration": 5,
    "start_time": "2024-03-10T09:05:45.964Z"
   },
   {
    "duration": 4,
    "start_time": "2024-03-10T09:05:45.970Z"
   },
   {
    "duration": 5,
    "start_time": "2024-03-10T09:05:45.975Z"
   },
   {
    "duration": 21,
    "start_time": "2024-03-10T09:05:45.981Z"
   },
   {
    "duration": 14,
    "start_time": "2024-03-10T09:05:46.003Z"
   },
   {
    "duration": 25,
    "start_time": "2024-03-10T09:05:46.018Z"
   },
   {
    "duration": 4,
    "start_time": "2024-03-10T09:05:46.044Z"
   },
   {
    "duration": 151,
    "start_time": "2024-03-10T09:05:46.050Z"
   },
   {
    "duration": 5,
    "start_time": "2024-03-10T09:05:46.203Z"
   },
   {
    "duration": 98,
    "start_time": "2024-03-10T09:05:46.209Z"
   },
   {
    "duration": 6,
    "start_time": "2024-03-10T09:05:46.308Z"
   },
   {
    "duration": 123,
    "start_time": "2024-03-10T09:05:46.315Z"
   },
   {
    "duration": 6,
    "start_time": "2024-03-10T09:05:46.439Z"
   },
   {
    "duration": 94,
    "start_time": "2024-03-10T09:05:46.446Z"
   },
   {
    "duration": 7,
    "start_time": "2024-03-10T09:05:46.541Z"
   },
   {
    "duration": 90,
    "start_time": "2024-03-10T09:05:46.549Z"
   },
   {
    "duration": 14,
    "start_time": "2024-03-10T09:05:46.640Z"
   },
   {
    "duration": 13,
    "start_time": "2024-03-10T09:05:46.655Z"
   },
   {
    "duration": 7,
    "start_time": "2024-03-10T09:05:46.670Z"
   },
   {
    "duration": 24,
    "start_time": "2024-03-10T09:05:46.678Z"
   },
   {
    "duration": 5,
    "start_time": "2024-03-10T09:05:46.703Z"
   },
   {
    "duration": 13,
    "start_time": "2024-03-10T09:05:46.710Z"
   },
   {
    "duration": 7,
    "start_time": "2024-03-10T09:05:46.724Z"
   },
   {
    "duration": 202,
    "start_time": "2024-03-10T09:05:46.733Z"
   },
   {
    "duration": 5,
    "start_time": "2024-03-10T09:05:46.937Z"
   },
   {
    "duration": 139,
    "start_time": "2024-03-10T09:05:46.944Z"
   },
   {
    "duration": 17,
    "start_time": "2024-03-10T09:05:47.085Z"
   },
   {
    "duration": 147,
    "start_time": "2024-03-10T09:05:47.103Z"
   },
   {
    "duration": 6,
    "start_time": "2024-03-10T09:05:47.252Z"
   },
   {
    "duration": 152,
    "start_time": "2024-03-10T09:05:47.259Z"
   },
   {
    "duration": 824,
    "start_time": "2024-03-10T09:05:47.412Z"
   },
   {
    "duration": 10,
    "start_time": "2024-03-10T09:05:48.238Z"
   },
   {
    "duration": 3,
    "start_time": "2024-03-10T09:06:06.058Z"
   },
   {
    "duration": 65,
    "start_time": "2024-03-10T09:06:06.063Z"
   },
   {
    "duration": 6,
    "start_time": "2024-03-10T09:06:06.130Z"
   },
   {
    "duration": 18,
    "start_time": "2024-03-10T09:06:06.137Z"
   },
   {
    "duration": 6,
    "start_time": "2024-03-10T09:06:06.157Z"
   },
   {
    "duration": 13,
    "start_time": "2024-03-10T09:06:06.164Z"
   },
   {
    "duration": 5,
    "start_time": "2024-03-10T09:06:06.178Z"
   },
   {
    "duration": 16,
    "start_time": "2024-03-10T09:06:06.185Z"
   },
   {
    "duration": 11,
    "start_time": "2024-03-10T09:06:06.202Z"
   },
   {
    "duration": 6,
    "start_time": "2024-03-10T09:06:06.214Z"
   },
   {
    "duration": 6,
    "start_time": "2024-03-10T09:06:06.222Z"
   },
   {
    "duration": 7,
    "start_time": "2024-03-10T09:06:06.229Z"
   },
   {
    "duration": 17,
    "start_time": "2024-03-10T09:06:06.238Z"
   },
   {
    "duration": 7,
    "start_time": "2024-03-10T09:06:06.256Z"
   },
   {
    "duration": 5,
    "start_time": "2024-03-10T09:06:06.264Z"
   },
   {
    "duration": 23,
    "start_time": "2024-03-10T09:06:06.270Z"
   },
   {
    "duration": 5,
    "start_time": "2024-03-10T09:06:06.295Z"
   },
   {
    "duration": 143,
    "start_time": "2024-03-10T09:06:06.301Z"
   },
   {
    "duration": 5,
    "start_time": "2024-03-10T09:06:06.445Z"
   },
   {
    "duration": 100,
    "start_time": "2024-03-10T09:06:06.451Z"
   },
   {
    "duration": 7,
    "start_time": "2024-03-10T09:06:06.552Z"
   },
   {
    "duration": 128,
    "start_time": "2024-03-10T09:06:06.560Z"
   },
   {
    "duration": 13,
    "start_time": "2024-03-10T09:06:06.690Z"
   },
   {
    "duration": 85,
    "start_time": "2024-03-10T09:06:06.704Z"
   },
   {
    "duration": 8,
    "start_time": "2024-03-10T09:06:06.803Z"
   },
   {
    "duration": 103,
    "start_time": "2024-03-10T09:06:06.812Z"
   },
   {
    "duration": 13,
    "start_time": "2024-03-10T09:06:06.916Z"
   },
   {
    "duration": 9,
    "start_time": "2024-03-10T09:06:06.930Z"
   },
   {
    "duration": 11,
    "start_time": "2024-03-10T09:06:06.942Z"
   },
   {
    "duration": 9,
    "start_time": "2024-03-10T09:06:06.954Z"
   },
   {
    "duration": 18,
    "start_time": "2024-03-10T09:06:06.964Z"
   },
   {
    "duration": 19,
    "start_time": "2024-03-10T09:06:06.983Z"
   },
   {
    "duration": 15,
    "start_time": "2024-03-10T09:06:07.004Z"
   },
   {
    "duration": 148,
    "start_time": "2024-03-10T09:06:07.021Z"
   },
   {
    "duration": 7,
    "start_time": "2024-03-10T09:06:07.171Z"
   },
   {
    "duration": 144,
    "start_time": "2024-03-10T09:06:07.179Z"
   },
   {
    "duration": 7,
    "start_time": "2024-03-10T09:06:07.324Z"
   },
   {
    "duration": 153,
    "start_time": "2024-03-10T09:06:07.332Z"
   },
   {
    "duration": 7,
    "start_time": "2024-03-10T09:06:07.486Z"
   },
   {
    "duration": 134,
    "start_time": "2024-03-10T09:06:07.501Z"
   },
   {
    "duration": 84,
    "start_time": "2024-03-10T09:06:07.636Z"
   },
   {
    "duration": 10,
    "start_time": "2024-03-10T09:06:11.760Z"
   },
   {
    "duration": 1186,
    "start_time": "2024-03-10T09:06:13.312Z"
   },
   {
    "duration": 843,
    "start_time": "2024-03-10T09:06:24.751Z"
   },
   {
    "duration": 14,
    "start_time": "2024-03-10T09:06:25.595Z"
   },
   {
    "duration": 128,
    "start_time": "2024-03-10T09:06:26.072Z"
   },
   {
    "duration": 4,
    "start_time": "2024-03-10T09:57:22.183Z"
   },
   {
    "duration": 7,
    "start_time": "2024-03-10T10:01:52.120Z"
   },
   {
    "duration": 8,
    "start_time": "2024-03-10T10:02:02.254Z"
   },
   {
    "duration": 3,
    "start_time": "2024-03-10T10:02:35.150Z"
   },
   {
    "duration": 1225,
    "start_time": "2024-03-10T10:38:15.488Z"
   },
   {
    "duration": 1100,
    "start_time": "2024-03-10T10:38:43.394Z"
   },
   {
    "duration": 7,
    "start_time": "2024-03-10T10:39:01.978Z"
   },
   {
    "duration": 7,
    "start_time": "2024-03-10T10:39:15.418Z"
   },
   {
    "duration": 8,
    "start_time": "2024-03-10T10:39:32.618Z"
   },
   {
    "duration": 8,
    "start_time": "2024-03-10T10:43:58.947Z"
   },
   {
    "duration": 9,
    "start_time": "2024-03-10T10:45:01.155Z"
   },
   {
    "duration": 8,
    "start_time": "2024-03-10T10:45:25.531Z"
   },
   {
    "duration": 72,
    "start_time": "2024-03-10T10:49:26.770Z"
   },
   {
    "duration": 7,
    "start_time": "2024-03-10T10:49:32.777Z"
   },
   {
    "duration": 7,
    "start_time": "2024-03-10T10:49:43.164Z"
   },
   {
    "duration": 5,
    "start_time": "2024-03-10T10:50:21.699Z"
   },
   {
    "duration": 4,
    "start_time": "2024-03-10T10:50:39.380Z"
   },
   {
    "duration": 5,
    "start_time": "2024-03-10T10:50:50.900Z"
   },
   {
    "duration": 3,
    "start_time": "2024-03-10T11:27:17.689Z"
   },
   {
    "duration": 72,
    "start_time": "2024-03-10T11:27:17.693Z"
   },
   {
    "duration": 6,
    "start_time": "2024-03-10T11:27:17.766Z"
   },
   {
    "duration": 29,
    "start_time": "2024-03-10T11:27:17.773Z"
   },
   {
    "duration": 20,
    "start_time": "2024-03-10T11:27:17.804Z"
   },
   {
    "duration": 16,
    "start_time": "2024-03-10T11:27:17.825Z"
   },
   {
    "duration": 5,
    "start_time": "2024-03-10T11:27:17.842Z"
   },
   {
    "duration": 7,
    "start_time": "2024-03-10T11:27:17.848Z"
   },
   {
    "duration": 8,
    "start_time": "2024-03-10T11:27:17.856Z"
   },
   {
    "duration": 4,
    "start_time": "2024-03-10T11:27:17.865Z"
   },
   {
    "duration": 5,
    "start_time": "2024-03-10T11:27:17.871Z"
   },
   {
    "duration": 4,
    "start_time": "2024-03-10T11:27:17.877Z"
   },
   {
    "duration": 5,
    "start_time": "2024-03-10T11:27:17.882Z"
   },
   {
    "duration": 16,
    "start_time": "2024-03-10T11:27:17.888Z"
   },
   {
    "duration": 3,
    "start_time": "2024-03-10T11:27:17.906Z"
   },
   {
    "duration": 19,
    "start_time": "2024-03-10T11:27:17.910Z"
   },
   {
    "duration": 4,
    "start_time": "2024-03-10T11:27:17.930Z"
   },
   {
    "duration": 140,
    "start_time": "2024-03-10T11:27:17.935Z"
   },
   {
    "duration": 5,
    "start_time": "2024-03-10T11:27:18.076Z"
   },
   {
    "duration": 91,
    "start_time": "2024-03-10T11:27:18.082Z"
   },
   {
    "duration": 6,
    "start_time": "2024-03-10T11:27:18.174Z"
   },
   {
    "duration": 126,
    "start_time": "2024-03-10T11:27:18.181Z"
   },
   {
    "duration": 7,
    "start_time": "2024-03-10T11:27:18.309Z"
   },
   {
    "duration": 93,
    "start_time": "2024-03-10T11:27:18.317Z"
   },
   {
    "duration": 7,
    "start_time": "2024-03-10T11:27:18.411Z"
   },
   {
    "duration": 96,
    "start_time": "2024-03-10T11:27:18.420Z"
   },
   {
    "duration": 14,
    "start_time": "2024-03-10T11:27:18.517Z"
   },
   {
    "duration": 10,
    "start_time": "2024-03-10T11:27:18.532Z"
   },
   {
    "duration": 7,
    "start_time": "2024-03-10T11:27:18.545Z"
   },
   {
    "duration": 9,
    "start_time": "2024-03-10T11:27:18.553Z"
   },
   {
    "duration": 8,
    "start_time": "2024-03-10T11:27:18.563Z"
   },
   {
    "duration": 30,
    "start_time": "2024-03-10T11:27:18.572Z"
   },
   {
    "duration": 6,
    "start_time": "2024-03-10T11:27:18.603Z"
   },
   {
    "duration": 155,
    "start_time": "2024-03-10T11:27:18.611Z"
   },
   {
    "duration": 6,
    "start_time": "2024-03-10T11:27:18.768Z"
   },
   {
    "duration": 160,
    "start_time": "2024-03-10T11:27:18.775Z"
   },
   {
    "duration": 7,
    "start_time": "2024-03-10T11:27:18.937Z"
   },
   {
    "duration": 144,
    "start_time": "2024-03-10T11:27:18.946Z"
   },
   {
    "duration": 12,
    "start_time": "2024-03-10T11:27:19.091Z"
   },
   {
    "duration": 140,
    "start_time": "2024-03-10T11:27:19.104Z"
   },
   {
    "duration": 818,
    "start_time": "2024-03-10T11:27:19.245Z"
   },
   {
    "duration": 10,
    "start_time": "2024-03-10T11:27:20.065Z"
   },
   {
    "duration": 220,
    "start_time": "2024-03-10T11:27:20.077Z"
   },
   {
    "duration": 9,
    "start_time": "2024-03-10T11:27:20.299Z"
   },
   {
    "duration": 4,
    "start_time": "2024-03-10T11:28:07.349Z"
   },
   {
    "duration": 7,
    "start_time": "2024-03-10T11:28:28.261Z"
   },
   {
    "duration": 4,
    "start_time": "2024-03-10T11:30:01.844Z"
   },
   {
    "duration": 5,
    "start_time": "2024-03-10T11:30:03.090Z"
   },
   {
    "duration": 7,
    "start_time": "2024-03-10T11:30:04.019Z"
   },
   {
    "duration": 1247,
    "start_time": "2024-03-10T14:01:44.241Z"
   },
   {
    "duration": 191,
    "start_time": "2024-03-10T14:01:45.489Z"
   },
   {
    "duration": 10,
    "start_time": "2024-03-10T14:01:45.681Z"
   },
   {
    "duration": 16,
    "start_time": "2024-03-10T14:01:45.692Z"
   },
   {
    "duration": 8,
    "start_time": "2024-03-10T14:01:45.709Z"
   },
   {
    "duration": 27,
    "start_time": "2024-03-10T14:01:45.718Z"
   },
   {
    "duration": 34,
    "start_time": "2024-03-10T14:01:45.747Z"
   },
   {
    "duration": 21,
    "start_time": "2024-03-10T14:01:45.782Z"
   },
   {
    "duration": 12,
    "start_time": "2024-03-10T14:01:45.804Z"
   },
   {
    "duration": 11,
    "start_time": "2024-03-10T14:01:45.819Z"
   },
   {
    "duration": 18,
    "start_time": "2024-03-10T14:01:45.831Z"
   },
   {
    "duration": 18,
    "start_time": "2024-03-10T14:01:45.850Z"
   },
   {
    "duration": 8,
    "start_time": "2024-03-10T14:01:45.869Z"
   },
   {
    "duration": 15,
    "start_time": "2024-03-10T14:01:45.878Z"
   },
   {
    "duration": 14,
    "start_time": "2024-03-10T14:01:45.895Z"
   },
   {
    "duration": 33,
    "start_time": "2024-03-10T14:01:45.910Z"
   },
   {
    "duration": 10,
    "start_time": "2024-03-10T14:01:45.944Z"
   },
   {
    "duration": 150,
    "start_time": "2024-03-10T14:01:45.955Z"
   },
   {
    "duration": 5,
    "start_time": "2024-03-10T14:01:46.106Z"
   },
   {
    "duration": 107,
    "start_time": "2024-03-10T14:01:46.112Z"
   },
   {
    "duration": 7,
    "start_time": "2024-03-10T14:01:46.221Z"
   },
   {
    "duration": 123,
    "start_time": "2024-03-10T14:01:46.229Z"
   },
   {
    "duration": 6,
    "start_time": "2024-03-10T14:01:46.354Z"
   },
   {
    "duration": 95,
    "start_time": "2024-03-10T14:01:46.361Z"
   },
   {
    "duration": 7,
    "start_time": "2024-03-10T14:01:46.457Z"
   },
   {
    "duration": 93,
    "start_time": "2024-03-10T14:01:46.465Z"
   },
   {
    "duration": 15,
    "start_time": "2024-03-10T14:01:46.559Z"
   },
   {
    "duration": 10,
    "start_time": "2024-03-10T14:01:46.576Z"
   },
   {
    "duration": 21,
    "start_time": "2024-03-10T14:01:46.587Z"
   },
   {
    "duration": 13,
    "start_time": "2024-03-10T14:01:46.609Z"
   },
   {
    "duration": 10,
    "start_time": "2024-03-10T14:01:46.624Z"
   },
   {
    "duration": 9,
    "start_time": "2024-03-10T14:01:46.635Z"
   },
   {
    "duration": 20,
    "start_time": "2024-03-10T14:01:46.646Z"
   },
   {
    "duration": 151,
    "start_time": "2024-03-10T14:01:46.667Z"
   },
   {
    "duration": 6,
    "start_time": "2024-03-10T14:01:46.820Z"
   },
   {
    "duration": 145,
    "start_time": "2024-03-10T14:01:46.827Z"
   },
   {
    "duration": 7,
    "start_time": "2024-03-10T14:01:46.974Z"
   },
   {
    "duration": 152,
    "start_time": "2024-03-10T14:01:46.982Z"
   },
   {
    "duration": 6,
    "start_time": "2024-03-10T14:01:47.135Z"
   },
   {
    "duration": 145,
    "start_time": "2024-03-10T14:01:47.142Z"
   },
   {
    "duration": 794,
    "start_time": "2024-03-10T14:01:47.288Z"
   },
   {
    "duration": 10,
    "start_time": "2024-03-10T14:01:48.083Z"
   },
   {
    "duration": 179,
    "start_time": "2024-03-10T14:01:48.101Z"
   },
   {
    "duration": 1180,
    "start_time": "2024-03-10T14:01:52.180Z"
   },
   {
    "duration": 8,
    "start_time": "2024-03-10T14:02:23.447Z"
   },
   {
    "duration": 133,
    "start_time": "2024-03-10T14:03:37.373Z"
   },
   {
    "duration": 7,
    "start_time": "2024-03-10T14:03:38.079Z"
   },
   {
    "duration": 5,
    "start_time": "2024-03-10T14:03:45.022Z"
   },
   {
    "duration": 48,
    "start_time": "2024-03-11T18:21:28.287Z"
   },
   {
    "duration": 1289,
    "start_time": "2024-03-11T18:21:36.219Z"
   },
   {
    "duration": 304,
    "start_time": "2024-03-11T18:21:37.510Z"
   },
   {
    "duration": 12,
    "start_time": "2024-03-11T18:21:37.816Z"
   },
   {
    "duration": 29,
    "start_time": "2024-03-11T18:21:37.829Z"
   },
   {
    "duration": 16,
    "start_time": "2024-03-11T18:21:37.860Z"
   },
   {
    "duration": 13,
    "start_time": "2024-03-11T18:21:37.878Z"
   },
   {
    "duration": 8,
    "start_time": "2024-03-11T18:21:37.892Z"
   },
   {
    "duration": 7,
    "start_time": "2024-03-11T18:21:37.901Z"
   },
   {
    "duration": 10,
    "start_time": "2024-03-11T18:21:37.910Z"
   },
   {
    "duration": 7,
    "start_time": "2024-03-11T18:21:37.923Z"
   },
   {
    "duration": 6,
    "start_time": "2024-03-11T18:21:37.932Z"
   },
   {
    "duration": 6,
    "start_time": "2024-03-11T18:21:37.940Z"
   },
   {
    "duration": 7,
    "start_time": "2024-03-11T18:21:37.947Z"
   },
   {
    "duration": 39,
    "start_time": "2024-03-11T18:21:37.956Z"
   },
   {
    "duration": 5,
    "start_time": "2024-03-11T18:21:37.996Z"
   },
   {
    "duration": 13,
    "start_time": "2024-03-11T18:21:38.003Z"
   },
   {
    "duration": 4,
    "start_time": "2024-03-11T18:21:38.018Z"
   },
   {
    "duration": 195,
    "start_time": "2024-03-11T18:21:38.023Z"
   },
   {
    "duration": 6,
    "start_time": "2024-03-11T18:21:38.219Z"
   },
   {
    "duration": 115,
    "start_time": "2024-03-11T18:21:38.226Z"
   },
   {
    "duration": 7,
    "start_time": "2024-03-11T18:21:38.342Z"
   },
   {
    "duration": 150,
    "start_time": "2024-03-11T18:21:38.350Z"
   },
   {
    "duration": 7,
    "start_time": "2024-03-11T18:21:38.502Z"
   },
   {
    "duration": 112,
    "start_time": "2024-03-11T18:21:38.510Z"
   },
   {
    "duration": 8,
    "start_time": "2024-03-11T18:21:38.623Z"
   },
   {
    "duration": 111,
    "start_time": "2024-03-11T18:21:38.632Z"
   },
   {
    "duration": 17,
    "start_time": "2024-03-11T18:21:38.744Z"
   },
   {
    "duration": 10,
    "start_time": "2024-03-11T18:21:38.764Z"
   },
   {
    "duration": 7,
    "start_time": "2024-03-11T18:21:38.788Z"
   },
   {
    "duration": 12,
    "start_time": "2024-03-11T18:21:38.797Z"
   },
   {
    "duration": 7,
    "start_time": "2024-03-11T18:21:38.810Z"
   },
   {
    "duration": 36,
    "start_time": "2024-03-11T18:21:38.818Z"
   },
   {
    "duration": 15,
    "start_time": "2024-03-11T18:21:38.856Z"
   },
   {
    "duration": 179,
    "start_time": "2024-03-11T18:21:38.872Z"
   },
   {
    "duration": 7,
    "start_time": "2024-03-11T18:21:39.053Z"
   },
   {
    "duration": 193,
    "start_time": "2024-03-11T18:21:39.061Z"
   },
   {
    "duration": 8,
    "start_time": "2024-03-11T18:21:39.255Z"
   },
   {
    "duration": 191,
    "start_time": "2024-03-11T18:21:39.264Z"
   },
   {
    "duration": 7,
    "start_time": "2024-03-11T18:21:39.457Z"
   },
   {
    "duration": 169,
    "start_time": "2024-03-11T18:21:39.465Z"
   },
   {
    "duration": 889,
    "start_time": "2024-03-11T18:21:39.635Z"
   },
   {
    "duration": 13,
    "start_time": "2024-03-11T18:21:40.525Z"
   },
   {
    "duration": 219,
    "start_time": "2024-03-11T18:21:40.539Z"
   },
   {
    "duration": 8,
    "start_time": "2024-03-11T18:21:40.760Z"
   },
   {
    "duration": 70,
    "start_time": "2024-03-11T18:21:45.482Z"
   },
   {
    "duration": 5,
    "start_time": "2024-03-11T18:25:38.214Z"
   },
   {
    "duration": 6,
    "start_time": "2024-03-11T18:29:52.037Z"
   },
   {
    "duration": 4,
    "start_time": "2024-03-11T18:30:32.103Z"
   },
   {
    "duration": 5,
    "start_time": "2024-03-11T18:31:20.862Z"
   },
   {
    "duration": 6,
    "start_time": "2024-03-11T18:31:32.174Z"
   },
   {
    "duration": 5,
    "start_time": "2024-03-11T18:33:10.971Z"
   },
   {
    "duration": 5,
    "start_time": "2024-03-11T18:45:20.854Z"
   },
   {
    "duration": 3,
    "start_time": "2024-03-11T18:45:27.997Z"
   },
   {
    "duration": 5,
    "start_time": "2024-03-11T18:45:31.786Z"
   },
   {
    "duration": 9,
    "start_time": "2024-03-11T18:49:33.341Z"
   },
   {
    "duration": 4,
    "start_time": "2024-03-11T18:50:49.127Z"
   },
   {
    "duration": 6,
    "start_time": "2024-03-11T19:08:47.828Z"
   },
   {
    "duration": 4,
    "start_time": "2024-03-11T19:08:52.035Z"
   },
   {
    "duration": 5,
    "start_time": "2024-03-11T19:09:07.043Z"
   },
   {
    "duration": 338,
    "start_time": "2024-03-11T19:11:17.656Z"
   },
   {
    "duration": 254,
    "start_time": "2024-03-11T19:17:22.406Z"
   },
   {
    "duration": 269,
    "start_time": "2024-03-11T19:19:23.071Z"
   },
   {
    "duration": 224,
    "start_time": "2024-03-11T19:21:22.609Z"
   },
   {
    "duration": 1421,
    "start_time": "2024-03-13T14:44:41.007Z"
   },
   {
    "duration": 195,
    "start_time": "2024-03-13T14:44:42.430Z"
   },
   {
    "duration": 14,
    "start_time": "2024-03-13T14:44:42.627Z"
   },
   {
    "duration": 12,
    "start_time": "2024-03-13T14:44:42.644Z"
   },
   {
    "duration": 10,
    "start_time": "2024-03-13T14:44:42.658Z"
   },
   {
    "duration": 19,
    "start_time": "2024-03-13T14:44:42.670Z"
   },
   {
    "duration": 26,
    "start_time": "2024-03-13T14:44:42.691Z"
   },
   {
    "duration": 8,
    "start_time": "2024-03-13T14:44:42.719Z"
   },
   {
    "duration": 24,
    "start_time": "2024-03-13T14:44:42.729Z"
   },
   {
    "duration": 5,
    "start_time": "2024-03-13T14:44:42.756Z"
   },
   {
    "duration": 6,
    "start_time": "2024-03-13T14:44:42.763Z"
   },
   {
    "duration": 6,
    "start_time": "2024-03-13T14:44:42.771Z"
   },
   {
    "duration": 5,
    "start_time": "2024-03-13T14:44:42.779Z"
   },
   {
    "duration": 11,
    "start_time": "2024-03-13T14:44:42.814Z"
   },
   {
    "duration": 6,
    "start_time": "2024-03-13T14:44:42.827Z"
   },
   {
    "duration": 15,
    "start_time": "2024-03-13T14:44:42.834Z"
   },
   {
    "duration": 5,
    "start_time": "2024-03-13T14:44:42.851Z"
   },
   {
    "duration": 224,
    "start_time": "2024-03-13T14:44:42.858Z"
   },
   {
    "duration": 5,
    "start_time": "2024-03-13T14:44:43.084Z"
   },
   {
    "duration": 126,
    "start_time": "2024-03-13T14:44:43.091Z"
   },
   {
    "duration": 7,
    "start_time": "2024-03-13T14:44:43.219Z"
   },
   {
    "duration": 157,
    "start_time": "2024-03-13T14:44:43.228Z"
   },
   {
    "duration": 8,
    "start_time": "2024-03-13T14:44:43.386Z"
   },
   {
    "duration": 121,
    "start_time": "2024-03-13T14:44:43.396Z"
   },
   {
    "duration": 8,
    "start_time": "2024-03-13T14:44:43.519Z"
   },
   {
    "duration": 123,
    "start_time": "2024-03-13T14:44:43.529Z"
   },
   {
    "duration": 19,
    "start_time": "2024-03-13T14:44:43.654Z"
   },
   {
    "duration": 11,
    "start_time": "2024-03-13T14:44:43.678Z"
   },
   {
    "duration": 31,
    "start_time": "2024-03-13T14:44:43.691Z"
   },
   {
    "duration": 14,
    "start_time": "2024-03-13T14:44:43.723Z"
   },
   {
    "duration": 9,
    "start_time": "2024-03-13T14:44:43.738Z"
   },
   {
    "duration": 12,
    "start_time": "2024-03-13T14:44:43.748Z"
   },
   {
    "duration": 8,
    "start_time": "2024-03-13T14:44:43.762Z"
   },
   {
    "duration": 258,
    "start_time": "2024-03-13T14:44:43.772Z"
   },
   {
    "duration": 7,
    "start_time": "2024-03-13T14:44:44.032Z"
   },
   {
    "duration": 188,
    "start_time": "2024-03-13T14:44:44.040Z"
   },
   {
    "duration": 8,
    "start_time": "2024-03-13T14:44:44.229Z"
   },
   {
    "duration": 197,
    "start_time": "2024-03-13T14:44:44.239Z"
   },
   {
    "duration": 8,
    "start_time": "2024-03-13T14:44:44.437Z"
   },
   {
    "duration": 188,
    "start_time": "2024-03-13T14:44:44.447Z"
   },
   {
    "duration": 996,
    "start_time": "2024-03-13T14:44:44.637Z"
   },
   {
    "duration": 13,
    "start_time": "2024-03-13T14:44:45.634Z"
   },
   {
    "duration": 250,
    "start_time": "2024-03-13T14:44:45.648Z"
   },
   {
    "duration": 16,
    "start_time": "2024-03-13T14:44:45.899Z"
   },
   {
    "duration": 7,
    "start_time": "2024-03-13T14:44:45.917Z"
   },
   {
    "duration": 11,
    "start_time": "2024-03-13T14:44:45.925Z"
   },
   {
    "duration": 6,
    "start_time": "2024-03-13T14:44:45.937Z"
   },
   {
    "duration": 11,
    "start_time": "2024-03-13T14:44:45.945Z"
   },
   {
    "duration": 3,
    "start_time": "2024-03-13T14:44:45.957Z"
   },
   {
    "duration": 356,
    "start_time": "2024-03-13T14:44:55.490Z"
   },
   {
    "duration": 283,
    "start_time": "2024-03-13T14:45:07.109Z"
   },
   {
    "duration": 134,
    "start_time": "2024-03-13T14:55:13.075Z"
   },
   {
    "duration": 256,
    "start_time": "2024-03-13T14:55:46.438Z"
   },
   {
    "duration": 193,
    "start_time": "2024-03-13T14:56:07.262Z"
   },
   {
    "duration": 291,
    "start_time": "2024-03-13T14:56:44.372Z"
   },
   {
    "duration": 294,
    "start_time": "2024-03-13T14:57:08.073Z"
   },
   {
    "duration": 249,
    "start_time": "2024-03-13T14:57:32.522Z"
   },
   {
    "duration": 298,
    "start_time": "2024-03-13T15:01:18.577Z"
   },
   {
    "duration": 213,
    "start_time": "2024-03-13T15:01:41.663Z"
   },
   {
    "duration": 242,
    "start_time": "2024-03-13T15:02:03.531Z"
   },
   {
    "duration": 275,
    "start_time": "2024-03-13T15:03:58.074Z"
   },
   {
    "duration": 347,
    "start_time": "2024-03-13T15:23:33.822Z"
   },
   {
    "duration": 109,
    "start_time": "2024-03-13T15:28:02.378Z"
   },
   {
    "duration": 4,
    "start_time": "2024-03-13T15:28:26.550Z"
   },
   {
    "duration": 69,
    "start_time": "2024-03-13T15:28:26.555Z"
   },
   {
    "duration": 9,
    "start_time": "2024-03-13T15:28:26.626Z"
   },
   {
    "duration": 15,
    "start_time": "2024-03-13T15:28:26.637Z"
   },
   {
    "duration": 8,
    "start_time": "2024-03-13T15:28:26.654Z"
   },
   {
    "duration": 11,
    "start_time": "2024-03-13T15:28:26.664Z"
   },
   {
    "duration": 8,
    "start_time": "2024-03-13T15:28:26.676Z"
   },
   {
    "duration": 7,
    "start_time": "2024-03-13T15:28:26.714Z"
   },
   {
    "duration": 17,
    "start_time": "2024-03-13T15:28:26.723Z"
   },
   {
    "duration": 6,
    "start_time": "2024-03-13T15:28:26.741Z"
   },
   {
    "duration": 7,
    "start_time": "2024-03-13T15:28:26.750Z"
   },
   {
    "duration": 5,
    "start_time": "2024-03-13T15:28:26.759Z"
   },
   {
    "duration": 6,
    "start_time": "2024-03-13T15:28:26.766Z"
   },
   {
    "duration": 43,
    "start_time": "2024-03-13T15:28:26.773Z"
   },
   {
    "duration": 6,
    "start_time": "2024-03-13T15:28:26.818Z"
   },
   {
    "duration": 26,
    "start_time": "2024-03-13T15:28:26.825Z"
   },
   {
    "duration": 5,
    "start_time": "2024-03-13T15:28:26.853Z"
   },
   {
    "duration": 177,
    "start_time": "2024-03-13T15:28:26.860Z"
   },
   {
    "duration": 5,
    "start_time": "2024-03-13T15:28:27.039Z"
   },
   {
    "duration": 129,
    "start_time": "2024-03-13T15:28:27.046Z"
   },
   {
    "duration": 8,
    "start_time": "2024-03-13T15:28:27.176Z"
   },
   {
    "duration": 160,
    "start_time": "2024-03-13T15:28:27.186Z"
   },
   {
    "duration": 9,
    "start_time": "2024-03-13T15:28:27.347Z"
   },
   {
    "duration": 125,
    "start_time": "2024-03-13T15:28:27.358Z"
   },
   {
    "duration": 8,
    "start_time": "2024-03-13T15:28:27.485Z"
   },
   {
    "duration": 3,
    "start_time": "2024-03-13T15:28:54.701Z"
   },
   {
    "duration": 73,
    "start_time": "2024-03-13T15:28:54.706Z"
   },
   {
    "duration": 8,
    "start_time": "2024-03-13T15:28:54.781Z"
   },
   {
    "duration": 10,
    "start_time": "2024-03-13T15:28:54.791Z"
   },
   {
    "duration": 14,
    "start_time": "2024-03-13T15:28:54.803Z"
   },
   {
    "duration": 12,
    "start_time": "2024-03-13T15:28:54.819Z"
   },
   {
    "duration": 7,
    "start_time": "2024-03-13T15:28:54.832Z"
   },
   {
    "duration": 14,
    "start_time": "2024-03-13T15:28:54.841Z"
   },
   {
    "duration": 15,
    "start_time": "2024-03-13T15:28:54.858Z"
   },
   {
    "duration": 7,
    "start_time": "2024-03-13T15:28:54.875Z"
   },
   {
    "duration": 34,
    "start_time": "2024-03-13T15:28:54.884Z"
   },
   {
    "duration": 13,
    "start_time": "2024-03-13T15:28:54.920Z"
   },
   {
    "duration": 11,
    "start_time": "2024-03-13T15:28:54.934Z"
   },
   {
    "duration": 7,
    "start_time": "2024-03-13T15:28:54.947Z"
   },
   {
    "duration": 5,
    "start_time": "2024-03-13T15:28:54.956Z"
   },
   {
    "duration": 16,
    "start_time": "2024-03-13T15:28:54.962Z"
   },
   {
    "duration": 5,
    "start_time": "2024-03-13T15:28:54.980Z"
   },
   {
    "duration": 190,
    "start_time": "2024-03-13T15:28:54.986Z"
   },
   {
    "duration": 6,
    "start_time": "2024-03-13T15:28:55.177Z"
   },
   {
    "duration": 118,
    "start_time": "2024-03-13T15:28:55.184Z"
   },
   {
    "duration": 8,
    "start_time": "2024-03-13T15:28:55.314Z"
   },
   {
    "duration": 154,
    "start_time": "2024-03-13T15:28:55.323Z"
   },
   {
    "duration": 18,
    "start_time": "2024-03-13T15:28:55.479Z"
   },
   {
    "duration": 137,
    "start_time": "2024-03-13T15:28:55.502Z"
   },
   {
    "duration": 9,
    "start_time": "2024-03-13T15:28:55.640Z"
   },
   {
    "duration": 156,
    "start_time": "2024-03-13T15:28:55.651Z"
   },
   {
    "duration": 20,
    "start_time": "2024-03-13T15:28:55.809Z"
   },
   {
    "duration": 12,
    "start_time": "2024-03-13T15:28:55.831Z"
   },
   {
    "duration": 10,
    "start_time": "2024-03-13T15:28:55.845Z"
   },
   {
    "duration": 13,
    "start_time": "2024-03-13T15:28:55.856Z"
   },
   {
    "duration": 14,
    "start_time": "2024-03-13T15:28:55.870Z"
   },
   {
    "duration": 37,
    "start_time": "2024-03-13T15:28:55.885Z"
   },
   {
    "duration": 9,
    "start_time": "2024-03-13T15:28:55.924Z"
   },
   {
    "duration": 284,
    "start_time": "2024-03-13T15:28:55.935Z"
   },
   {
    "duration": 8,
    "start_time": "2024-03-13T15:28:56.221Z"
   },
   {
    "duration": 189,
    "start_time": "2024-03-13T15:28:56.231Z"
   },
   {
    "duration": 7,
    "start_time": "2024-03-13T15:28:56.422Z"
   },
   {
    "duration": 191,
    "start_time": "2024-03-13T15:28:56.431Z"
   },
   {
    "duration": 8,
    "start_time": "2024-03-13T15:28:56.624Z"
   },
   {
    "duration": 189,
    "start_time": "2024-03-13T15:28:56.634Z"
   },
   {
    "duration": 951,
    "start_time": "2024-03-13T15:28:56.825Z"
   },
   {
    "duration": 12,
    "start_time": "2024-03-13T15:28:57.778Z"
   },
   {
    "duration": 159,
    "start_time": "2024-03-13T15:28:57.791Z"
   },
   {
    "duration": 9,
    "start_time": "2024-03-13T15:28:57.952Z"
   },
   {
    "duration": 5,
    "start_time": "2024-03-13T15:28:57.962Z"
   },
   {
    "duration": 3,
    "start_time": "2024-03-13T15:28:57.969Z"
   },
   {
    "duration": 4,
    "start_time": "2024-03-13T15:28:57.974Z"
   },
   {
    "duration": 39,
    "start_time": "2024-03-13T15:28:57.980Z"
   },
   {
    "duration": 3,
    "start_time": "2024-03-13T15:28:58.021Z"
   },
   {
    "duration": 292,
    "start_time": "2024-03-13T15:28:58.025Z"
   },
   {
    "duration": 259,
    "start_time": "2024-03-13T15:28:58.318Z"
   },
   {
    "duration": 3,
    "start_time": "2024-03-13T15:29:57.834Z"
   },
   {
    "duration": 3,
    "start_time": "2024-03-13T15:30:03.284Z"
   },
   {
    "duration": 4,
    "start_time": "2024-03-13T15:31:37.973Z"
   },
   {
    "duration": 70,
    "start_time": "2024-03-13T15:31:37.981Z"
   },
   {
    "duration": 8,
    "start_time": "2024-03-13T15:31:38.053Z"
   },
   {
    "duration": 13,
    "start_time": "2024-03-13T15:31:38.063Z"
   },
   {
    "duration": 13,
    "start_time": "2024-03-13T15:31:38.078Z"
   },
   {
    "duration": 27,
    "start_time": "2024-03-13T15:31:38.094Z"
   },
   {
    "duration": 8,
    "start_time": "2024-03-13T15:31:38.123Z"
   },
   {
    "duration": 11,
    "start_time": "2024-03-13T15:31:38.132Z"
   },
   {
    "duration": 14,
    "start_time": "2024-03-13T15:31:38.145Z"
   },
   {
    "duration": 6,
    "start_time": "2024-03-13T15:31:38.161Z"
   },
   {
    "duration": 9,
    "start_time": "2024-03-13T15:31:38.169Z"
   },
   {
    "duration": 5,
    "start_time": "2024-03-13T15:31:38.180Z"
   },
   {
    "duration": 7,
    "start_time": "2024-03-13T15:31:38.215Z"
   },
   {
    "duration": 9,
    "start_time": "2024-03-13T15:31:38.223Z"
   },
   {
    "duration": 5,
    "start_time": "2024-03-13T15:31:38.235Z"
   },
   {
    "duration": 22,
    "start_time": "2024-03-13T15:31:38.242Z"
   },
   {
    "duration": 13,
    "start_time": "2024-03-13T15:31:38.266Z"
   },
   {
    "duration": 193,
    "start_time": "2024-03-13T15:31:38.281Z"
   },
   {
    "duration": 6,
    "start_time": "2024-03-13T15:31:38.475Z"
   },
   {
    "duration": 117,
    "start_time": "2024-03-13T15:31:38.483Z"
   },
   {
    "duration": 7,
    "start_time": "2024-03-13T15:31:38.615Z"
   },
   {
    "duration": 152,
    "start_time": "2024-03-13T15:31:38.624Z"
   },
   {
    "duration": 9,
    "start_time": "2024-03-13T15:31:38.778Z"
   },
   {
    "duration": 133,
    "start_time": "2024-03-13T15:31:38.788Z"
   },
   {
    "duration": 9,
    "start_time": "2024-03-13T15:31:38.923Z"
   },
   {
    "duration": 191,
    "start_time": "2024-03-13T15:31:38.933Z"
   },
   {
    "duration": 16,
    "start_time": "2024-03-13T15:31:39.126Z"
   },
   {
    "duration": 12,
    "start_time": "2024-03-13T15:31:39.144Z"
   },
   {
    "duration": 8,
    "start_time": "2024-03-13T15:31:39.158Z"
   },
   {
    "duration": 20,
    "start_time": "2024-03-13T15:31:39.167Z"
   },
   {
    "duration": 26,
    "start_time": "2024-03-13T15:31:39.188Z"
   },
   {
    "duration": 11,
    "start_time": "2024-03-13T15:31:39.216Z"
   },
   {
    "duration": 11,
    "start_time": "2024-03-13T15:31:39.228Z"
   },
   {
    "duration": 206,
    "start_time": "2024-03-13T15:31:39.241Z"
   },
   {
    "duration": 8,
    "start_time": "2024-03-13T15:31:39.449Z"
   },
   {
    "duration": 204,
    "start_time": "2024-03-13T15:31:39.459Z"
   },
   {
    "duration": 9,
    "start_time": "2024-03-13T15:31:39.665Z"
   },
   {
    "duration": 192,
    "start_time": "2024-03-13T15:31:39.676Z"
   },
   {
    "duration": 8,
    "start_time": "2024-03-13T15:31:39.870Z"
   },
   {
    "duration": 183,
    "start_time": "2024-03-13T15:31:39.879Z"
   },
   {
    "duration": 938,
    "start_time": "2024-03-13T15:31:40.064Z"
   },
   {
    "duration": 13,
    "start_time": "2024-03-13T15:31:41.005Z"
   },
   {
    "duration": 153,
    "start_time": "2024-03-13T15:31:41.019Z"
   },
   {
    "duration": 9,
    "start_time": "2024-03-13T15:31:41.174Z"
   },
   {
    "duration": 5,
    "start_time": "2024-03-13T15:31:41.185Z"
   },
   {
    "duration": 3,
    "start_time": "2024-03-13T15:31:41.192Z"
   },
   {
    "duration": 22,
    "start_time": "2024-03-13T15:31:41.196Z"
   },
   {
    "duration": 10,
    "start_time": "2024-03-13T15:31:41.219Z"
   },
   {
    "duration": 5,
    "start_time": "2024-03-13T15:31:41.230Z"
   },
   {
    "duration": 269,
    "start_time": "2024-03-13T15:31:41.236Z"
   },
   {
    "duration": 259,
    "start_time": "2024-03-13T15:31:41.514Z"
   },
   {
    "duration": 1219,
    "start_time": "2024-03-13T20:07:53.158Z"
   },
   {
    "duration": 190,
    "start_time": "2024-03-13T20:07:54.379Z"
   },
   {
    "duration": 12,
    "start_time": "2024-03-13T20:07:54.571Z"
   },
   {
    "duration": 35,
    "start_time": "2024-03-13T20:07:54.585Z"
   },
   {
    "duration": 21,
    "start_time": "2024-03-13T20:07:54.622Z"
   },
   {
    "duration": 18,
    "start_time": "2024-03-13T20:07:54.645Z"
   },
   {
    "duration": 15,
    "start_time": "2024-03-13T20:07:54.665Z"
   },
   {
    "duration": 24,
    "start_time": "2024-03-13T20:07:54.682Z"
   },
   {
    "duration": 24,
    "start_time": "2024-03-13T20:07:54.708Z"
   },
   {
    "duration": 6,
    "start_time": "2024-03-13T20:07:54.735Z"
   },
   {
    "duration": 8,
    "start_time": "2024-03-13T20:07:54.742Z"
   },
   {
    "duration": 15,
    "start_time": "2024-03-13T20:07:54.751Z"
   },
   {
    "duration": 30,
    "start_time": "2024-03-13T20:07:54.768Z"
   },
   {
    "duration": 8,
    "start_time": "2024-03-13T20:07:54.799Z"
   },
   {
    "duration": 6,
    "start_time": "2024-03-13T20:07:54.809Z"
   },
   {
    "duration": 22,
    "start_time": "2024-03-13T20:07:54.816Z"
   },
   {
    "duration": 5,
    "start_time": "2024-03-13T20:07:54.839Z"
   },
   {
    "duration": 211,
    "start_time": "2024-03-13T20:07:54.846Z"
   },
   {
    "duration": 7,
    "start_time": "2024-03-13T20:07:55.058Z"
   },
   {
    "duration": 132,
    "start_time": "2024-03-13T20:07:55.066Z"
   },
   {
    "duration": 9,
    "start_time": "2024-03-13T20:07:55.200Z"
   },
   {
    "duration": 162,
    "start_time": "2024-03-13T20:07:55.210Z"
   },
   {
    "duration": 16,
    "start_time": "2024-03-13T20:07:55.373Z"
   },
   {
    "duration": 121,
    "start_time": "2024-03-13T20:07:55.390Z"
   },
   {
    "duration": 9,
    "start_time": "2024-03-13T20:07:55.512Z"
   },
   {
    "duration": 124,
    "start_time": "2024-03-13T20:07:55.522Z"
   },
   {
    "duration": 19,
    "start_time": "2024-03-13T20:07:55.648Z"
   },
   {
    "duration": 13,
    "start_time": "2024-03-13T20:07:55.681Z"
   },
   {
    "duration": 40,
    "start_time": "2024-03-13T20:07:55.695Z"
   },
   {
    "duration": 29,
    "start_time": "2024-03-13T20:07:55.737Z"
   },
   {
    "duration": 13,
    "start_time": "2024-03-13T20:07:55.768Z"
   },
   {
    "duration": 18,
    "start_time": "2024-03-13T20:07:55.783Z"
   },
   {
    "duration": 15,
    "start_time": "2024-03-13T20:07:55.803Z"
   },
   {
    "duration": 205,
    "start_time": "2024-03-13T20:07:55.819Z"
   },
   {
    "duration": 9,
    "start_time": "2024-03-13T20:07:56.025Z"
   },
   {
    "duration": 195,
    "start_time": "2024-03-13T20:07:56.035Z"
   },
   {
    "duration": 9,
    "start_time": "2024-03-13T20:07:56.232Z"
   },
   {
    "duration": 212,
    "start_time": "2024-03-13T20:07:56.242Z"
   },
   {
    "duration": 8,
    "start_time": "2024-03-13T20:07:56.456Z"
   },
   {
    "duration": 194,
    "start_time": "2024-03-13T20:07:56.466Z"
   },
   {
    "duration": 902,
    "start_time": "2024-03-13T20:07:56.662Z"
   },
   {
    "duration": 20,
    "start_time": "2024-03-13T20:07:57.566Z"
   },
   {
    "duration": 259,
    "start_time": "2024-03-13T20:07:57.587Z"
   },
   {
    "duration": 9,
    "start_time": "2024-03-13T20:07:57.848Z"
   },
   {
    "duration": 13,
    "start_time": "2024-03-13T20:07:57.859Z"
   },
   {
    "duration": 5,
    "start_time": "2024-03-13T20:07:57.882Z"
   },
   {
    "duration": 9,
    "start_time": "2024-03-13T20:07:57.889Z"
   },
   {
    "duration": 9,
    "start_time": "2024-03-13T20:07:57.900Z"
   },
   {
    "duration": 5,
    "start_time": "2024-03-13T20:07:57.911Z"
   },
   {
    "duration": 333,
    "start_time": "2024-03-13T20:07:57.917Z"
   },
   {
    "duration": 286,
    "start_time": "2024-03-13T20:07:58.251Z"
   },
   {
    "duration": 1367,
    "start_time": "2024-03-13T21:00:24.391Z"
   },
   {
    "duration": 292,
    "start_time": "2024-03-13T21:00:25.760Z"
   },
   {
    "duration": 12,
    "start_time": "2024-03-13T21:00:26.053Z"
   },
   {
    "duration": 25,
    "start_time": "2024-03-13T21:00:26.067Z"
   },
   {
    "duration": 37,
    "start_time": "2024-03-13T21:00:26.093Z"
   },
   {
    "duration": 11,
    "start_time": "2024-03-13T21:00:26.131Z"
   },
   {
    "duration": 9,
    "start_time": "2024-03-13T21:00:26.144Z"
   },
   {
    "duration": 20,
    "start_time": "2024-03-13T21:00:26.154Z"
   },
   {
    "duration": 16,
    "start_time": "2024-03-13T21:00:26.176Z"
   },
   {
    "duration": 7,
    "start_time": "2024-03-13T21:00:26.197Z"
   },
   {
    "duration": 5,
    "start_time": "2024-03-13T21:00:26.206Z"
   },
   {
    "duration": 6,
    "start_time": "2024-03-13T21:00:26.213Z"
   },
   {
    "duration": 12,
    "start_time": "2024-03-13T21:00:26.220Z"
   },
   {
    "duration": 14,
    "start_time": "2024-03-13T21:00:26.233Z"
   },
   {
    "duration": 7,
    "start_time": "2024-03-13T21:00:26.248Z"
   },
   {
    "duration": 46,
    "start_time": "2024-03-13T21:00:26.257Z"
   },
   {
    "duration": 18,
    "start_time": "2024-03-13T21:00:26.305Z"
   },
   {
    "duration": 203,
    "start_time": "2024-03-13T21:00:26.325Z"
   },
   {
    "duration": 6,
    "start_time": "2024-03-13T21:00:26.530Z"
   },
   {
    "duration": 125,
    "start_time": "2024-03-13T21:00:26.538Z"
   },
   {
    "duration": 8,
    "start_time": "2024-03-13T21:00:26.665Z"
   },
   {
    "duration": 153,
    "start_time": "2024-03-13T21:00:26.680Z"
   },
   {
    "duration": 8,
    "start_time": "2024-03-13T21:00:26.834Z"
   },
   {
    "duration": 127,
    "start_time": "2024-03-13T21:00:26.844Z"
   },
   {
    "duration": 21,
    "start_time": "2024-03-13T21:00:26.972Z"
   },
   {
    "duration": 111,
    "start_time": "2024-03-13T21:00:26.995Z"
   },
   {
    "duration": 18,
    "start_time": "2024-03-13T21:00:27.107Z"
   },
   {
    "duration": 12,
    "start_time": "2024-03-13T21:00:27.128Z"
   },
   {
    "duration": 20,
    "start_time": "2024-03-13T21:00:27.141Z"
   },
   {
    "duration": 25,
    "start_time": "2024-03-13T21:00:27.162Z"
   },
   {
    "duration": 17,
    "start_time": "2024-03-13T21:00:27.189Z"
   },
   {
    "duration": 28,
    "start_time": "2024-03-13T21:00:27.207Z"
   },
   {
    "duration": 19,
    "start_time": "2024-03-13T21:00:27.236Z"
   },
   {
    "duration": 214,
    "start_time": "2024-03-13T21:00:27.256Z"
   },
   {
    "duration": 24,
    "start_time": "2024-03-13T21:00:27.471Z"
   },
   {
    "duration": 172,
    "start_time": "2024-03-13T21:00:27.496Z"
   },
   {
    "duration": 21,
    "start_time": "2024-03-13T21:00:27.669Z"
   },
   {
    "duration": 165,
    "start_time": "2024-03-13T21:00:27.692Z"
   },
   {
    "duration": 8,
    "start_time": "2024-03-13T21:00:27.859Z"
   },
   {
    "duration": 170,
    "start_time": "2024-03-13T21:00:27.884Z"
   },
   {
    "duration": 943,
    "start_time": "2024-03-13T21:00:28.056Z"
   },
   {
    "duration": 14,
    "start_time": "2024-03-13T21:00:29.001Z"
   },
   {
    "duration": 236,
    "start_time": "2024-03-13T21:00:29.016Z"
   },
   {
    "duration": 9,
    "start_time": "2024-03-13T21:00:29.253Z"
   },
   {
    "duration": 57,
    "start_time": "2024-03-13T21:00:29.264Z"
   },
   {
    "duration": 16,
    "start_time": "2024-03-13T21:00:29.323Z"
   },
   {
    "duration": 11,
    "start_time": "2024-03-13T21:00:29.341Z"
   },
   {
    "duration": 17,
    "start_time": "2024-03-13T21:00:29.353Z"
   },
   {
    "duration": 24,
    "start_time": "2024-03-13T21:00:29.371Z"
   },
   {
    "duration": 332,
    "start_time": "2024-03-13T21:00:29.396Z"
   },
   {
    "duration": 273,
    "start_time": "2024-03-13T21:00:29.729Z"
   },
   {
    "duration": 100,
    "start_time": "2024-03-13T21:02:26.252Z"
   },
   {
    "duration": 3,
    "start_time": "2024-03-13T21:02:43.936Z"
   },
   {
    "duration": 68,
    "start_time": "2024-03-13T21:02:49.905Z"
   },
   {
    "duration": 8,
    "start_time": "2024-03-13T21:03:01.405Z"
   },
   {
    "duration": 10,
    "start_time": "2024-03-13T21:03:05.501Z"
   },
   {
    "duration": 9,
    "start_time": "2024-03-13T21:03:07.464Z"
   },
   {
    "duration": 11,
    "start_time": "2024-03-13T21:03:12.587Z"
   },
   {
    "duration": 3,
    "start_time": "2024-03-13T21:03:23.707Z"
   },
   {
    "duration": 69,
    "start_time": "2024-03-13T21:03:23.714Z"
   },
   {
    "duration": 8,
    "start_time": "2024-03-13T21:03:23.785Z"
   },
   {
    "duration": 16,
    "start_time": "2024-03-13T21:03:23.794Z"
   },
   {
    "duration": 37,
    "start_time": "2024-03-13T21:03:23.812Z"
   },
   {
    "duration": 20,
    "start_time": "2024-03-13T21:03:23.850Z"
   },
   {
    "duration": 3,
    "start_time": "2024-03-13T21:03:30.806Z"
   },
   {
    "duration": 158,
    "start_time": "2024-03-13T21:03:30.814Z"
   },
   {
    "duration": 10,
    "start_time": "2024-03-13T21:03:30.974Z"
   },
   {
    "duration": 70,
    "start_time": "2024-03-13T21:03:30.985Z"
   },
   {
    "duration": 55,
    "start_time": "2024-03-13T21:03:31.057Z"
   },
   {
    "duration": 9,
    "start_time": "2024-03-13T21:03:52.668Z"
   },
   {
    "duration": 7,
    "start_time": "2024-03-13T21:03:53.310Z"
   },
   {
    "duration": 3,
    "start_time": "2024-03-13T21:11:01.644Z"
   },
   {
    "duration": 12,
    "start_time": "2024-03-13T21:11:02.174Z"
   },
   {
    "duration": 10,
    "start_time": "2024-03-13T21:12:14.100Z"
   },
   {
    "duration": 3,
    "start_time": "2024-03-13T21:13:05.948Z"
   },
   {
    "duration": 16,
    "start_time": "2024-03-13T21:13:06.543Z"
   },
   {
    "duration": 3,
    "start_time": "2024-03-13T21:13:18.583Z"
   },
   {
    "duration": 10,
    "start_time": "2024-03-13T21:13:20.890Z"
   },
   {
    "duration": 14,
    "start_time": "2024-03-13T21:14:11.021Z"
   },
   {
    "duration": 3,
    "start_time": "2024-03-13T21:14:34.264Z"
   },
   {
    "duration": 12,
    "start_time": "2024-03-13T21:14:35.243Z"
   },
   {
    "duration": 2,
    "start_time": "2024-03-13T21:14:39.409Z"
   },
   {
    "duration": 12,
    "start_time": "2024-03-13T21:14:40.588Z"
   },
   {
    "duration": 3,
    "start_time": "2024-03-13T21:14:43.753Z"
   },
   {
    "duration": 11,
    "start_time": "2024-03-13T21:14:44.396Z"
   },
   {
    "duration": 20,
    "start_time": "2024-03-13T21:15:06.977Z"
   },
   {
    "duration": 3,
    "start_time": "2024-03-13T21:15:26.274Z"
   },
   {
    "duration": 11,
    "start_time": "2024-03-13T21:15:26.871Z"
   },
   {
    "duration": 3,
    "start_time": "2024-03-13T21:15:32.318Z"
   },
   {
    "duration": 10,
    "start_time": "2024-03-13T21:15:33.457Z"
   },
   {
    "duration": 3,
    "start_time": "2024-03-13T21:15:36.655Z"
   },
   {
    "duration": 10,
    "start_time": "2024-03-13T21:15:37.198Z"
   },
   {
    "duration": 3,
    "start_time": "2024-03-13T21:15:42.927Z"
   },
   {
    "duration": 75,
    "start_time": "2024-03-13T21:15:42.935Z"
   },
   {
    "duration": 3,
    "start_time": "2024-03-13T21:15:43.011Z"
   },
   {
    "duration": 11,
    "start_time": "2024-03-13T21:15:43.016Z"
   },
   {
    "duration": 10,
    "start_time": "2024-03-13T21:15:43.029Z"
   },
   {
    "duration": 9,
    "start_time": "2024-03-13T21:15:43.040Z"
   },
   {
    "duration": 35,
    "start_time": "2024-03-13T21:15:43.050Z"
   },
   {
    "duration": 16,
    "start_time": "2024-03-13T21:15:43.086Z"
   },
   {
    "duration": 6,
    "start_time": "2024-03-13T21:15:43.103Z"
   },
   {
    "duration": 12,
    "start_time": "2024-03-13T21:15:43.110Z"
   },
   {
    "duration": 6,
    "start_time": "2024-03-13T21:15:43.125Z"
   },
   {
    "duration": 12,
    "start_time": "2024-03-13T21:15:43.132Z"
   },
   {
    "duration": 13,
    "start_time": "2024-03-13T21:15:43.145Z"
   },
   {
    "duration": 24,
    "start_time": "2024-03-13T21:15:43.159Z"
   },
   {
    "duration": 22,
    "start_time": "2024-03-13T21:15:43.185Z"
   },
   {
    "duration": 4,
    "start_time": "2024-03-13T21:15:43.209Z"
   },
   {
    "duration": 181,
    "start_time": "2024-03-13T21:15:43.214Z"
   },
   {
    "duration": 6,
    "start_time": "2024-03-13T21:15:43.397Z"
   },
   {
    "duration": 109,
    "start_time": "2024-03-13T21:15:43.404Z"
   },
   {
    "duration": 8,
    "start_time": "2024-03-13T21:15:43.514Z"
   },
   {
    "duration": 157,
    "start_time": "2024-03-13T21:15:43.523Z"
   },
   {
    "duration": 13,
    "start_time": "2024-03-13T21:15:43.688Z"
   },
   {
    "duration": 112,
    "start_time": "2024-03-13T21:15:43.703Z"
   },
   {
    "duration": 9,
    "start_time": "2024-03-13T21:15:43.816Z"
   },
   {
    "duration": 121,
    "start_time": "2024-03-13T21:15:43.827Z"
   },
   {
    "duration": 18,
    "start_time": "2024-03-13T21:15:43.949Z"
   },
   {
    "duration": 26,
    "start_time": "2024-03-13T21:15:43.968Z"
   },
   {
    "duration": 8,
    "start_time": "2024-03-13T21:15:43.996Z"
   },
   {
    "duration": 136,
    "start_time": "2024-03-13T21:15:44.007Z"
   },
   {
    "duration": 7,
    "start_time": "2024-03-13T21:15:44.145Z"
   },
   {
    "duration": 11,
    "start_time": "2024-03-13T21:15:44.154Z"
   },
   {
    "duration": 8,
    "start_time": "2024-03-13T21:15:44.167Z"
   },
   {
    "duration": 190,
    "start_time": "2024-03-13T21:15:44.177Z"
   },
   {
    "duration": 25,
    "start_time": "2024-03-13T21:15:44.369Z"
   },
   {
    "duration": 203,
    "start_time": "2024-03-13T21:15:44.397Z"
   },
   {
    "duration": 8,
    "start_time": "2024-03-13T21:15:44.601Z"
   },
   {
    "duration": 192,
    "start_time": "2024-03-13T21:15:44.610Z"
   },
   {
    "duration": 7,
    "start_time": "2024-03-13T21:15:44.804Z"
   },
   {
    "duration": 202,
    "start_time": "2024-03-13T21:15:44.813Z"
   },
   {
    "duration": 906,
    "start_time": "2024-03-13T21:15:45.016Z"
   },
   {
    "duration": 13,
    "start_time": "2024-03-13T21:15:45.924Z"
   },
   {
    "duration": 265,
    "start_time": "2024-03-13T21:15:45.938Z"
   },
   {
    "duration": 8,
    "start_time": "2024-03-13T21:15:46.205Z"
   },
   {
    "duration": 5,
    "start_time": "2024-03-13T21:15:46.215Z"
   },
   {
    "duration": 4,
    "start_time": "2024-03-13T21:15:46.221Z"
   },
   {
    "duration": 5,
    "start_time": "2024-03-13T21:15:46.227Z"
   },
   {
    "duration": 17,
    "start_time": "2024-03-13T21:15:46.234Z"
   },
   {
    "duration": 36,
    "start_time": "2024-03-13T21:15:46.252Z"
   },
   {
    "duration": 280,
    "start_time": "2024-03-13T21:15:46.289Z"
   },
   {
    "duration": 285,
    "start_time": "2024-03-13T21:15:46.570Z"
   },
   {
    "duration": 3,
    "start_time": "2024-03-13T21:18:25.319Z"
   },
   {
    "duration": 87,
    "start_time": "2024-03-13T21:18:25.328Z"
   },
   {
    "duration": 4,
    "start_time": "2024-03-13T21:18:25.417Z"
   },
   {
    "duration": 16,
    "start_time": "2024-03-13T21:18:25.422Z"
   },
   {
    "duration": 16,
    "start_time": "2024-03-13T21:18:25.439Z"
   },
   {
    "duration": 9,
    "start_time": "2024-03-13T21:18:25.456Z"
   },
   {
    "duration": 12,
    "start_time": "2024-03-13T21:18:25.466Z"
   },
   {
    "duration": 11,
    "start_time": "2024-03-13T21:18:25.479Z"
   },
   {
    "duration": 5,
    "start_time": "2024-03-13T21:18:25.492Z"
   },
   {
    "duration": 6,
    "start_time": "2024-03-13T21:18:25.499Z"
   },
   {
    "duration": 5,
    "start_time": "2024-03-13T21:18:25.507Z"
   },
   {
    "duration": 7,
    "start_time": "2024-03-13T21:18:25.514Z"
   },
   {
    "duration": 12,
    "start_time": "2024-03-13T21:18:25.522Z"
   },
   {
    "duration": 7,
    "start_time": "2024-03-13T21:18:25.535Z"
   },
   {
    "duration": 125,
    "start_time": "2024-03-13T21:18:30.240Z"
   },
   {
    "duration": 110,
    "start_time": "2024-03-13T21:18:40.260Z"
   },
   {
    "duration": 5,
    "start_time": "2024-03-13T21:20:45.555Z"
   },
   {
    "duration": 1316,
    "start_time": "2024-03-14T04:58:53.883Z"
   },
   {
    "duration": 298,
    "start_time": "2024-03-14T04:58:55.201Z"
   },
   {
    "duration": 3,
    "start_time": "2024-03-14T04:58:55.501Z"
   },
   {
    "duration": 58,
    "start_time": "2024-03-14T04:58:55.505Z"
   },
   {
    "duration": 27,
    "start_time": "2024-03-14T04:58:55.564Z"
   },
   {
    "duration": 16,
    "start_time": "2024-03-14T04:58:55.593Z"
   },
   {
    "duration": 18,
    "start_time": "2024-03-14T04:58:55.610Z"
   },
   {
    "duration": 37,
    "start_time": "2024-03-14T04:58:55.629Z"
   },
   {
    "duration": 5,
    "start_time": "2024-03-14T04:58:55.667Z"
   },
   {
    "duration": 26,
    "start_time": "2024-03-14T04:58:55.675Z"
   },
   {
    "duration": 19,
    "start_time": "2024-03-14T04:58:55.702Z"
   },
   {
    "duration": 20,
    "start_time": "2024-03-14T04:58:55.723Z"
   },
   {
    "duration": 26,
    "start_time": "2024-03-14T04:58:55.745Z"
   },
   {
    "duration": 15,
    "start_time": "2024-03-14T04:58:55.773Z"
   },
   {
    "duration": 15,
    "start_time": "2024-03-14T04:58:55.790Z"
   },
   {
    "duration": 30,
    "start_time": "2024-03-14T04:58:55.807Z"
   },
   {
    "duration": 194,
    "start_time": "2024-03-14T04:58:55.839Z"
   },
   {
    "duration": 6,
    "start_time": "2024-03-14T04:58:56.034Z"
   },
   {
    "duration": 125,
    "start_time": "2024-03-14T04:58:56.041Z"
   },
   {
    "duration": 20,
    "start_time": "2024-03-14T04:58:56.167Z"
   },
   {
    "duration": 145,
    "start_time": "2024-03-14T04:58:56.189Z"
   },
   {
    "duration": 9,
    "start_time": "2024-03-14T04:58:56.335Z"
   },
   {
    "duration": 110,
    "start_time": "2024-03-14T04:58:56.345Z"
   },
   {
    "duration": 7,
    "start_time": "2024-03-14T04:58:56.456Z"
   },
   {
    "duration": 112,
    "start_time": "2024-03-14T04:58:56.465Z"
   },
   {
    "duration": 23,
    "start_time": "2024-03-14T04:58:56.578Z"
   },
   {
    "duration": 11,
    "start_time": "2024-03-14T04:58:56.603Z"
   },
   {
    "duration": 35,
    "start_time": "2024-03-14T04:58:56.618Z"
   },
   {
    "duration": 38,
    "start_time": "2024-03-14T04:58:56.655Z"
   },
   {
    "duration": 13,
    "start_time": "2024-03-14T04:58:56.694Z"
   },
   {
    "duration": 15,
    "start_time": "2024-03-14T04:58:56.709Z"
   },
   {
    "duration": 21,
    "start_time": "2024-03-14T04:58:56.725Z"
   },
   {
    "duration": 181,
    "start_time": "2024-03-14T04:58:56.748Z"
   },
   {
    "duration": 7,
    "start_time": "2024-03-14T04:58:56.931Z"
   },
   {
    "duration": 188,
    "start_time": "2024-03-14T04:58:56.940Z"
   },
   {
    "duration": 8,
    "start_time": "2024-03-14T04:58:57.130Z"
   },
   {
    "duration": 202,
    "start_time": "2024-03-14T04:58:57.139Z"
   },
   {
    "duration": 8,
    "start_time": "2024-03-14T04:58:57.343Z"
   },
   {
    "duration": 235,
    "start_time": "2024-03-14T04:58:57.352Z"
   },
   {
    "duration": 865,
    "start_time": "2024-03-14T04:58:57.588Z"
   },
   {
    "duration": 11,
    "start_time": "2024-03-14T04:58:58.455Z"
   },
   {
    "duration": 171,
    "start_time": "2024-03-14T04:58:58.467Z"
   },
   {
    "duration": 10,
    "start_time": "2024-03-14T04:58:58.639Z"
   },
   {
    "duration": 21,
    "start_time": "2024-03-14T04:58:58.651Z"
   },
   {
    "duration": 14,
    "start_time": "2024-03-14T04:58:58.674Z"
   },
   {
    "duration": 6,
    "start_time": "2024-03-14T04:58:58.690Z"
   },
   {
    "duration": 10,
    "start_time": "2024-03-14T04:58:58.698Z"
   },
   {
    "duration": 9,
    "start_time": "2024-03-14T04:58:58.710Z"
   },
   {
    "duration": 383,
    "start_time": "2024-03-14T04:58:58.721Z"
   },
   {
    "duration": 256,
    "start_time": "2024-03-14T04:58:59.106Z"
   },
   {
    "duration": 3,
    "start_time": "2024-03-14T04:59:19.376Z"
   },
   {
    "duration": 3,
    "start_time": "2024-03-14T05:10:53.505Z"
   },
   {
    "duration": 13,
    "start_time": "2024-03-14T05:10:54.161Z"
   },
   {
    "duration": 3,
    "start_time": "2024-03-14T05:11:04.784Z"
   },
   {
    "duration": 18,
    "start_time": "2024-03-14T05:11:05.249Z"
   },
   {
    "duration": 15,
    "start_time": "2024-03-14T05:12:17.048Z"
   },
   {
    "duration": 3,
    "start_time": "2024-03-14T05:12:41.288Z"
   },
   {
    "duration": 13,
    "start_time": "2024-03-14T05:12:41.752Z"
   },
   {
    "duration": 13,
    "start_time": "2024-03-14T05:12:43.368Z"
   },
   {
    "duration": 3,
    "start_time": "2024-03-14T05:12:50.680Z"
   },
   {
    "duration": 12,
    "start_time": "2024-03-14T05:12:54.809Z"
   },
   {
    "duration": 3,
    "start_time": "2024-03-14T05:13:10.329Z"
   },
   {
    "duration": 14,
    "start_time": "2024-03-14T05:13:10.921Z"
   },
   {
    "duration": 9,
    "start_time": "2024-03-14T05:13:40.768Z"
   },
   {
    "duration": 3,
    "start_time": "2024-03-14T05:14:11.480Z"
   },
   {
    "duration": 16,
    "start_time": "2024-03-14T05:14:11.889Z"
   },
   {
    "duration": 17,
    "start_time": "2024-03-14T05:14:26.888Z"
   },
   {
    "duration": 13,
    "start_time": "2024-03-14T05:14:33.286Z"
   },
   {
    "duration": 121,
    "start_time": "2024-03-14T05:34:04.987Z"
   },
   {
    "duration": 111,
    "start_time": "2024-03-14T05:34:58.522Z"
   },
   {
    "duration": 102,
    "start_time": "2024-03-14T05:35:13.499Z"
   },
   {
    "duration": 4,
    "start_time": "2024-03-14T05:35:26.002Z"
   },
   {
    "duration": 74,
    "start_time": "2024-03-14T05:35:26.009Z"
   },
   {
    "duration": 3,
    "start_time": "2024-03-14T05:35:26.085Z"
   },
   {
    "duration": 25,
    "start_time": "2024-03-14T05:35:26.089Z"
   },
   {
    "duration": 21,
    "start_time": "2024-03-14T05:35:26.116Z"
   },
   {
    "duration": 17,
    "start_time": "2024-03-14T05:35:26.139Z"
   },
   {
    "duration": 46,
    "start_time": "2024-03-14T05:35:26.158Z"
   },
   {
    "duration": 14,
    "start_time": "2024-03-14T05:35:26.206Z"
   },
   {
    "duration": 5,
    "start_time": "2024-03-14T05:35:26.222Z"
   },
   {
    "duration": 7,
    "start_time": "2024-03-14T05:35:26.229Z"
   },
   {
    "duration": 5,
    "start_time": "2024-03-14T05:35:26.238Z"
   },
   {
    "duration": 8,
    "start_time": "2024-03-14T05:35:26.245Z"
   },
   {
    "duration": 37,
    "start_time": "2024-03-14T05:35:26.255Z"
   },
   {
    "duration": 5,
    "start_time": "2024-03-14T05:35:26.294Z"
   },
   {
    "duration": 8,
    "start_time": "2024-03-14T05:35:26.300Z"
   },
   {
    "duration": 5,
    "start_time": "2024-03-14T05:35:26.310Z"
   },
   {
    "duration": 105,
    "start_time": "2024-03-14T05:35:26.317Z"
   },
   {
    "duration": 0,
    "start_time": "2024-03-14T05:35:26.424Z"
   },
   {
    "duration": 0,
    "start_time": "2024-03-14T05:35:26.425Z"
   },
   {
    "duration": 0,
    "start_time": "2024-03-14T05:35:26.427Z"
   },
   {
    "duration": 0,
    "start_time": "2024-03-14T05:35:26.427Z"
   },
   {
    "duration": 0,
    "start_time": "2024-03-14T05:35:26.428Z"
   },
   {
    "duration": 0,
    "start_time": "2024-03-14T05:35:26.429Z"
   },
   {
    "duration": 0,
    "start_time": "2024-03-14T05:35:26.430Z"
   },
   {
    "duration": 0,
    "start_time": "2024-03-14T05:35:26.431Z"
   },
   {
    "duration": 0,
    "start_time": "2024-03-14T05:35:26.432Z"
   },
   {
    "duration": 0,
    "start_time": "2024-03-14T05:35:26.433Z"
   },
   {
    "duration": 0,
    "start_time": "2024-03-14T05:35:26.434Z"
   },
   {
    "duration": 0,
    "start_time": "2024-03-14T05:35:26.435Z"
   },
   {
    "duration": 0,
    "start_time": "2024-03-14T05:35:26.436Z"
   },
   {
    "duration": 0,
    "start_time": "2024-03-14T05:35:26.436Z"
   },
   {
    "duration": 0,
    "start_time": "2024-03-14T05:35:26.437Z"
   },
   {
    "duration": 0,
    "start_time": "2024-03-14T05:35:26.439Z"
   },
   {
    "duration": 0,
    "start_time": "2024-03-14T05:35:26.440Z"
   },
   {
    "duration": 0,
    "start_time": "2024-03-14T05:35:26.442Z"
   },
   {
    "duration": 0,
    "start_time": "2024-03-14T05:35:26.443Z"
   },
   {
    "duration": 0,
    "start_time": "2024-03-14T05:35:26.444Z"
   },
   {
    "duration": 0,
    "start_time": "2024-03-14T05:35:26.445Z"
   },
   {
    "duration": 0,
    "start_time": "2024-03-14T05:35:26.446Z"
   },
   {
    "duration": 0,
    "start_time": "2024-03-14T05:35:26.447Z"
   },
   {
    "duration": 0,
    "start_time": "2024-03-14T05:35:26.448Z"
   },
   {
    "duration": 0,
    "start_time": "2024-03-14T05:35:26.449Z"
   },
   {
    "duration": 0,
    "start_time": "2024-03-14T05:35:26.450Z"
   },
   {
    "duration": 0,
    "start_time": "2024-03-14T05:35:26.451Z"
   },
   {
    "duration": 0,
    "start_time": "2024-03-14T05:35:26.452Z"
   },
   {
    "duration": 0,
    "start_time": "2024-03-14T05:35:26.453Z"
   },
   {
    "duration": 0,
    "start_time": "2024-03-14T05:35:26.454Z"
   },
   {
    "duration": 0,
    "start_time": "2024-03-14T05:35:26.455Z"
   },
   {
    "duration": 0,
    "start_time": "2024-03-14T05:35:26.455Z"
   },
   {
    "duration": 0,
    "start_time": "2024-03-14T05:35:26.457Z"
   },
   {
    "duration": 3,
    "start_time": "2024-03-14T05:35:54.739Z"
   },
   {
    "duration": 121,
    "start_time": "2024-03-14T05:36:01.202Z"
   },
   {
    "duration": 10,
    "start_time": "2024-03-14T05:36:36.067Z"
   },
   {
    "duration": 186,
    "start_time": "2024-03-14T05:36:43.578Z"
   },
   {
    "duration": 186,
    "start_time": "2024-03-14T05:37:20.371Z"
   },
   {
    "duration": 184,
    "start_time": "2024-03-14T05:41:11.195Z"
   },
   {
    "duration": 126,
    "start_time": "2024-03-14T06:24:50.826Z"
   },
   {
    "duration": 205,
    "start_time": "2024-03-14T06:25:23.107Z"
   },
   {
    "duration": 301,
    "start_time": "2024-03-14T06:26:19.410Z"
   },
   {
    "duration": 178,
    "start_time": "2024-03-14T06:26:34.506Z"
   },
   {
    "duration": 199,
    "start_time": "2024-03-14T06:26:43.073Z"
   },
   {
    "duration": 9,
    "start_time": "2024-03-14T06:30:19.882Z"
   },
   {
    "duration": 9,
    "start_time": "2024-03-14T06:31:49.019Z"
   },
   {
    "duration": 9,
    "start_time": "2024-03-14T06:35:21.259Z"
   },
   {
    "duration": 6,
    "start_time": "2024-03-14T06:35:32.627Z"
   },
   {
    "duration": 9,
    "start_time": "2024-03-14T06:35:54.898Z"
   },
   {
    "duration": 6,
    "start_time": "2024-03-14T06:37:41.562Z"
   },
   {
    "duration": 110,
    "start_time": "2024-03-14T06:37:43.227Z"
   },
   {
    "duration": 10,
    "start_time": "2024-03-14T06:41:35.427Z"
   },
   {
    "duration": 164,
    "start_time": "2024-03-14T06:41:37.651Z"
   },
   {
    "duration": 141,
    "start_time": "2024-03-14T06:41:42.276Z"
   },
   {
    "duration": 133,
    "start_time": "2024-03-14T06:41:51.236Z"
   },
   {
    "duration": 141,
    "start_time": "2024-03-14T06:41:55.523Z"
   },
   {
    "duration": 125,
    "start_time": "2024-03-14T06:42:25.915Z"
   },
   {
    "duration": 5,
    "start_time": "2024-03-14T06:42:29.611Z"
   },
   {
    "duration": 112,
    "start_time": "2024-03-14T06:42:34.820Z"
   },
   {
    "duration": 103,
    "start_time": "2024-03-14T06:42:37.795Z"
   },
   {
    "duration": 184,
    "start_time": "2024-03-14T06:42:44.763Z"
   },
   {
    "duration": 107,
    "start_time": "2024-03-14T06:42:47.131Z"
   },
   {
    "duration": 103,
    "start_time": "2024-03-14T06:43:06.667Z"
   },
   {
    "duration": 99,
    "start_time": "2024-03-14T06:43:21.308Z"
   },
   {
    "duration": 5,
    "start_time": "2024-03-14T06:47:55.844Z"
   },
   {
    "duration": 4,
    "start_time": "2024-03-14T06:48:07.133Z"
   },
   {
    "duration": 108,
    "start_time": "2024-03-14T06:48:07.140Z"
   },
   {
    "duration": 3,
    "start_time": "2024-03-14T06:48:07.250Z"
   },
   {
    "duration": 23,
    "start_time": "2024-03-14T06:48:07.255Z"
   },
   {
    "duration": 20,
    "start_time": "2024-03-14T06:48:07.281Z"
   },
   {
    "duration": 14,
    "start_time": "2024-03-14T06:48:07.302Z"
   },
   {
    "duration": 13,
    "start_time": "2024-03-14T06:48:07.317Z"
   },
   {
    "duration": 11,
    "start_time": "2024-03-14T06:48:07.331Z"
   },
   {
    "duration": 5,
    "start_time": "2024-03-14T06:48:07.344Z"
   },
   {
    "duration": 14,
    "start_time": "2024-03-14T06:48:07.351Z"
   },
   {
    "duration": 23,
    "start_time": "2024-03-14T06:48:07.368Z"
   },
   {
    "duration": 11,
    "start_time": "2024-03-14T06:48:07.393Z"
   },
   {
    "duration": 8,
    "start_time": "2024-03-14T06:48:07.405Z"
   },
   {
    "duration": 5,
    "start_time": "2024-03-14T06:48:07.414Z"
   },
   {
    "duration": 12,
    "start_time": "2024-03-14T06:48:07.420Z"
   },
   {
    "duration": 15,
    "start_time": "2024-03-14T06:48:07.434Z"
   },
   {
    "duration": 204,
    "start_time": "2024-03-14T06:48:07.450Z"
   },
   {
    "duration": 9,
    "start_time": "2024-03-14T06:48:07.655Z"
   },
   {
    "duration": 16,
    "start_time": "2024-03-14T06:48:07.665Z"
   },
   {
    "duration": 102,
    "start_time": "2024-03-14T06:48:12.212Z"
   },
   {
    "duration": 116,
    "start_time": "2024-03-14T07:19:01.097Z"
   },
   {
    "duration": 10,
    "start_time": "2024-03-14T07:19:06.472Z"
   },
   {
    "duration": 15,
    "start_time": "2024-03-14T07:19:50.090Z"
   },
   {
    "duration": 9,
    "start_time": "2024-03-14T07:21:06.985Z"
   },
   {
    "duration": 111,
    "start_time": "2024-03-14T07:21:07.449Z"
   },
   {
    "duration": 156,
    "start_time": "2024-03-14T07:22:28.194Z"
   },
   {
    "duration": 161,
    "start_time": "2024-03-14T07:23:02.274Z"
   },
   {
    "duration": 260,
    "start_time": "2024-03-14T07:24:03.738Z"
   },
   {
    "duration": 4,
    "start_time": "2024-03-14T07:24:12.281Z"
   },
   {
    "duration": 87,
    "start_time": "2024-03-14T07:24:12.289Z"
   },
   {
    "duration": 3,
    "start_time": "2024-03-14T07:24:12.378Z"
   },
   {
    "duration": 29,
    "start_time": "2024-03-14T07:24:12.382Z"
   },
   {
    "duration": 18,
    "start_time": "2024-03-14T07:24:12.413Z"
   },
   {
    "duration": 13,
    "start_time": "2024-03-14T07:24:12.433Z"
   },
   {
    "duration": 17,
    "start_time": "2024-03-14T07:24:12.447Z"
   },
   {
    "duration": 26,
    "start_time": "2024-03-14T07:24:12.466Z"
   },
   {
    "duration": 6,
    "start_time": "2024-03-14T07:24:12.494Z"
   },
   {
    "duration": 17,
    "start_time": "2024-03-14T07:24:12.502Z"
   },
   {
    "duration": 11,
    "start_time": "2024-03-14T07:24:12.521Z"
   },
   {
    "duration": 21,
    "start_time": "2024-03-14T07:24:12.534Z"
   },
   {
    "duration": 14,
    "start_time": "2024-03-14T07:24:12.556Z"
   },
   {
    "duration": 13,
    "start_time": "2024-03-14T07:24:12.572Z"
   },
   {
    "duration": 16,
    "start_time": "2024-03-14T07:24:12.587Z"
   },
   {
    "duration": 17,
    "start_time": "2024-03-14T07:24:12.604Z"
   },
   {
    "duration": 191,
    "start_time": "2024-03-14T07:24:12.622Z"
   },
   {
    "duration": 8,
    "start_time": "2024-03-14T07:24:12.814Z"
   },
   {
    "duration": 8,
    "start_time": "2024-03-14T07:24:12.824Z"
   },
   {
    "duration": 115,
    "start_time": "2024-03-14T07:24:12.833Z"
   },
   {
    "duration": 8,
    "start_time": "2024-03-14T07:24:12.950Z"
   },
   {
    "duration": 169,
    "start_time": "2024-03-14T07:24:12.959Z"
   },
   {
    "duration": 9,
    "start_time": "2024-03-14T07:24:13.129Z"
   },
   {
    "duration": 124,
    "start_time": "2024-03-14T07:24:13.139Z"
   },
   {
    "duration": 170,
    "start_time": "2024-03-14T07:24:13.265Z"
   },
   {
    "duration": 9,
    "start_time": "2024-03-14T07:24:13.437Z"
   },
   {
    "duration": 123,
    "start_time": "2024-03-14T07:24:13.448Z"
   },
   {
    "duration": 172,
    "start_time": "2024-03-14T07:24:13.573Z"
   },
   {
    "duration": 18,
    "start_time": "2024-03-14T07:24:13.749Z"
   },
   {
    "duration": 26,
    "start_time": "2024-03-14T07:24:13.768Z"
   },
   {
    "duration": 13,
    "start_time": "2024-03-14T07:24:13.795Z"
   },
   {
    "duration": 12,
    "start_time": "2024-03-14T07:24:13.809Z"
   },
   {
    "duration": 8,
    "start_time": "2024-03-14T07:24:13.823Z"
   },
   {
    "duration": 14,
    "start_time": "2024-03-14T07:24:13.833Z"
   },
   {
    "duration": 9,
    "start_time": "2024-03-14T07:24:13.849Z"
   },
   {
    "duration": 223,
    "start_time": "2024-03-14T07:24:13.860Z"
   },
   {
    "duration": 10,
    "start_time": "2024-03-14T07:24:14.086Z"
   },
   {
    "duration": 230,
    "start_time": "2024-03-14T07:24:14.097Z"
   },
   {
    "duration": 8,
    "start_time": "2024-03-14T07:24:14.329Z"
   },
   {
    "duration": 297,
    "start_time": "2024-03-14T07:24:14.339Z"
   },
   {
    "duration": 8,
    "start_time": "2024-03-14T07:24:14.638Z"
   },
   {
    "duration": 191,
    "start_time": "2024-03-14T07:24:14.648Z"
   },
   {
    "duration": 934,
    "start_time": "2024-03-14T07:24:14.841Z"
   },
   {
    "duration": 17,
    "start_time": "2024-03-14T07:24:15.776Z"
   },
   {
    "duration": 167,
    "start_time": "2024-03-14T07:24:15.795Z"
   },
   {
    "duration": 9,
    "start_time": "2024-03-14T07:24:15.964Z"
   },
   {
    "duration": 16,
    "start_time": "2024-03-14T07:24:15.974Z"
   },
   {
    "duration": 3,
    "start_time": "2024-03-14T07:24:15.992Z"
   },
   {
    "duration": 8,
    "start_time": "2024-03-14T07:24:15.997Z"
   },
   {
    "duration": 15,
    "start_time": "2024-03-14T07:24:16.006Z"
   },
   {
    "duration": 5,
    "start_time": "2024-03-14T07:24:16.022Z"
   },
   {
    "duration": 349,
    "start_time": "2024-03-14T07:24:16.028Z"
   },
   {
    "duration": 295,
    "start_time": "2024-03-14T07:24:16.378Z"
   },
   {
    "duration": 4,
    "start_time": "2024-03-14T07:26:54.434Z"
   },
   {
    "duration": 3,
    "start_time": "2024-03-14T07:26:59.204Z"
   },
   {
    "duration": 75,
    "start_time": "2024-03-14T07:26:59.212Z"
   },
   {
    "duration": 3,
    "start_time": "2024-03-14T07:26:59.289Z"
   },
   {
    "duration": 23,
    "start_time": "2024-03-14T07:26:59.294Z"
   },
   {
    "duration": 16,
    "start_time": "2024-03-14T07:26:59.318Z"
   },
   {
    "duration": 19,
    "start_time": "2024-03-14T07:26:59.336Z"
   },
   {
    "duration": 40,
    "start_time": "2024-03-14T07:26:59.356Z"
   },
   {
    "duration": 10,
    "start_time": "2024-03-14T07:26:59.398Z"
   },
   {
    "duration": 7,
    "start_time": "2024-03-14T07:26:59.409Z"
   },
   {
    "duration": 7,
    "start_time": "2024-03-14T07:26:59.417Z"
   },
   {
    "duration": 9,
    "start_time": "2024-03-14T07:26:59.425Z"
   },
   {
    "duration": 11,
    "start_time": "2024-03-14T07:26:59.435Z"
   },
   {
    "duration": 9,
    "start_time": "2024-03-14T07:26:59.448Z"
   },
   {
    "duration": 31,
    "start_time": "2024-03-14T07:26:59.458Z"
   },
   {
    "duration": 5,
    "start_time": "2024-03-14T07:26:59.492Z"
   },
   {
    "duration": 5,
    "start_time": "2024-03-14T07:26:59.499Z"
   },
   {
    "duration": 216,
    "start_time": "2024-03-14T07:26:59.506Z"
   },
   {
    "duration": 8,
    "start_time": "2024-03-14T07:26:59.723Z"
   },
   {
    "duration": 6,
    "start_time": "2024-03-14T07:26:59.732Z"
   },
   {
    "duration": 128,
    "start_time": "2024-03-14T07:26:59.740Z"
   },
   {
    "duration": 18,
    "start_time": "2024-03-14T07:26:59.870Z"
   },
   {
    "duration": 173,
    "start_time": "2024-03-14T07:26:59.890Z"
   },
   {
    "duration": 10,
    "start_time": "2024-03-14T07:27:00.065Z"
   },
   {
    "duration": 122,
    "start_time": "2024-03-14T07:27:00.088Z"
   },
   {
    "duration": 177,
    "start_time": "2024-03-14T07:27:00.212Z"
   },
   {
    "duration": 10,
    "start_time": "2024-03-14T07:27:00.391Z"
   },
   {
    "duration": 218,
    "start_time": "2024-03-14T07:27:00.403Z"
   },
   {
    "duration": 168,
    "start_time": "2024-03-14T07:27:00.623Z"
   },
   {
    "duration": 17,
    "start_time": "2024-03-14T07:27:00.792Z"
   },
   {
    "duration": 31,
    "start_time": "2024-03-14T07:27:00.810Z"
   },
   {
    "duration": 43,
    "start_time": "2024-03-14T07:27:00.842Z"
   },
   {
    "duration": 35,
    "start_time": "2024-03-14T07:27:00.886Z"
   },
   {
    "duration": 40,
    "start_time": "2024-03-14T07:27:00.923Z"
   },
   {
    "duration": 54,
    "start_time": "2024-03-14T07:27:00.965Z"
   },
   {
    "duration": 49,
    "start_time": "2024-03-14T07:27:01.021Z"
   },
   {
    "duration": 267,
    "start_time": "2024-03-14T07:27:01.072Z"
   },
   {
    "duration": 8,
    "start_time": "2024-03-14T07:27:01.341Z"
   },
   {
    "duration": 221,
    "start_time": "2024-03-14T07:27:01.351Z"
   },
   {
    "duration": 18,
    "start_time": "2024-03-14T07:27:01.574Z"
   },
   {
    "duration": 216,
    "start_time": "2024-03-14T07:27:01.593Z"
   },
   {
    "duration": 8,
    "start_time": "2024-03-14T07:27:01.810Z"
   },
   {
    "duration": 219,
    "start_time": "2024-03-14T07:27:01.822Z"
   },
   {
    "duration": 907,
    "start_time": "2024-03-14T07:27:02.042Z"
   },
   {
    "duration": 12,
    "start_time": "2024-03-14T07:27:02.950Z"
   },
   {
    "duration": 157,
    "start_time": "2024-03-14T07:27:02.963Z"
   },
   {
    "duration": 9,
    "start_time": "2024-03-14T07:27:03.121Z"
   },
   {
    "duration": 7,
    "start_time": "2024-03-14T07:27:03.131Z"
   },
   {
    "duration": 13,
    "start_time": "2024-03-14T07:27:03.139Z"
   },
   {
    "duration": 15,
    "start_time": "2024-03-14T07:27:03.153Z"
   },
   {
    "duration": 22,
    "start_time": "2024-03-14T07:27:03.169Z"
   },
   {
    "duration": 14,
    "start_time": "2024-03-14T07:27:03.192Z"
   },
   {
    "duration": 288,
    "start_time": "2024-03-14T07:27:03.208Z"
   },
   {
    "duration": 260,
    "start_time": "2024-03-14T07:27:03.498Z"
   },
   {
    "duration": 10,
    "start_time": "2024-03-14T07:29:30.916Z"
   },
   {
    "duration": 129,
    "start_time": "2024-03-14T07:34:08.949Z"
   },
   {
    "duration": 122,
    "start_time": "2024-03-14T07:34:21.925Z"
   },
   {
    "duration": 15,
    "start_time": "2024-03-14T07:34:26.791Z"
   },
   {
    "duration": 0,
    "start_time": "2024-03-14T07:34:26.807Z"
   },
   {
    "duration": 0,
    "start_time": "2024-03-14T07:34:26.809Z"
   },
   {
    "duration": 0,
    "start_time": "2024-03-14T07:34:26.810Z"
   },
   {
    "duration": 0,
    "start_time": "2024-03-14T07:34:26.811Z"
   },
   {
    "duration": 0,
    "start_time": "2024-03-14T07:34:26.812Z"
   },
   {
    "duration": 122,
    "start_time": "2024-03-14T07:34:26.814Z"
   },
   {
    "duration": 12,
    "start_time": "2024-03-14T07:34:26.938Z"
   },
   {
    "duration": 7,
    "start_time": "2024-03-14T07:34:26.951Z"
   },
   {
    "duration": 7,
    "start_time": "2024-03-14T07:34:26.960Z"
   },
   {
    "duration": 24,
    "start_time": "2024-03-14T07:34:26.968Z"
   },
   {
    "duration": 14,
    "start_time": "2024-03-14T07:34:26.994Z"
   },
   {
    "duration": 9,
    "start_time": "2024-03-14T07:34:27.009Z"
   },
   {
    "duration": 13,
    "start_time": "2024-03-14T07:34:27.020Z"
   },
   {
    "duration": 21,
    "start_time": "2024-03-14T07:34:27.035Z"
   },
   {
    "duration": 13,
    "start_time": "2024-03-14T07:34:27.057Z"
   },
   {
    "duration": 250,
    "start_time": "2024-03-14T07:34:27.072Z"
   },
   {
    "duration": 7,
    "start_time": "2024-03-14T07:34:27.325Z"
   },
   {
    "duration": 8,
    "start_time": "2024-03-14T07:34:27.334Z"
   },
   {
    "duration": 111,
    "start_time": "2024-03-14T07:34:32.103Z"
   },
   {
    "duration": 111,
    "start_time": "2024-03-14T07:34:46.502Z"
   },
   {
    "duration": 17,
    "start_time": "2024-03-14T07:37:47.199Z"
   },
   {
    "duration": 205,
    "start_time": "2024-03-14T07:38:39.038Z"
   },
   {
    "duration": 213,
    "start_time": "2024-03-14T07:38:42.262Z"
   },
   {
    "duration": 127,
    "start_time": "2024-03-14T07:55:41.977Z"
   },
   {
    "duration": 109,
    "start_time": "2024-03-14T07:55:48.898Z"
   },
   {
    "duration": 129,
    "start_time": "2024-03-14T07:56:20.930Z"
   },
   {
    "duration": 6,
    "start_time": "2024-03-14T07:58:47.546Z"
   },
   {
    "duration": 119,
    "start_time": "2024-03-14T07:58:48.475Z"
   },
   {
    "duration": 14,
    "start_time": "2024-03-14T08:02:14.626Z"
   },
   {
    "duration": 12,
    "start_time": "2024-03-14T08:14:11.722Z"
   },
   {
    "duration": 133,
    "start_time": "2024-03-14T08:14:23.042Z"
   },
   {
    "duration": 10,
    "start_time": "2024-03-14T08:15:20.314Z"
   },
   {
    "duration": 13,
    "start_time": "2024-03-14T08:15:35.066Z"
   },
   {
    "duration": 13,
    "start_time": "2024-03-14T08:15:44.211Z"
   },
   {
    "duration": 16,
    "start_time": "2024-03-14T08:17:45.307Z"
   },
   {
    "duration": 16,
    "start_time": "2024-03-14T08:17:59.916Z"
   },
   {
    "duration": 439,
    "start_time": "2024-03-14T08:19:06.949Z"
   },
   {
    "duration": 379,
    "start_time": "2024-03-14T08:19:28.284Z"
   },
   {
    "duration": 394,
    "start_time": "2024-03-14T08:20:12.556Z"
   },
   {
    "duration": 388,
    "start_time": "2024-03-14T08:20:38.612Z"
   },
   {
    "duration": 390,
    "start_time": "2024-03-14T08:21:08.420Z"
   },
   {
    "duration": 361,
    "start_time": "2024-03-14T08:21:46.436Z"
   },
   {
    "duration": 4,
    "start_time": "2024-03-14T08:23:46.763Z"
   },
   {
    "duration": 12,
    "start_time": "2024-03-14T08:24:01.404Z"
   },
   {
    "duration": 12,
    "start_time": "2024-03-14T08:24:07.218Z"
   },
   {
    "duration": 0,
    "start_time": "2024-03-14T08:24:07.232Z"
   },
   {
    "duration": 0,
    "start_time": "2024-03-14T08:24:07.233Z"
   },
   {
    "duration": 0,
    "start_time": "2024-03-14T08:24:07.234Z"
   },
   {
    "duration": 0,
    "start_time": "2024-03-14T08:24:07.235Z"
   },
   {
    "duration": 49,
    "start_time": "2024-03-14T08:24:07.237Z"
   },
   {
    "duration": 119,
    "start_time": "2024-03-14T08:24:07.288Z"
   },
   {
    "duration": 30,
    "start_time": "2024-03-14T08:24:07.408Z"
   },
   {
    "duration": 23,
    "start_time": "2024-03-14T08:24:07.440Z"
   },
   {
    "duration": 32,
    "start_time": "2024-03-14T08:24:07.464Z"
   },
   {
    "duration": 12,
    "start_time": "2024-03-14T08:24:07.497Z"
   },
   {
    "duration": 12,
    "start_time": "2024-03-14T08:24:07.511Z"
   },
   {
    "duration": 29,
    "start_time": "2024-03-14T08:24:07.525Z"
   },
   {
    "duration": 8,
    "start_time": "2024-03-14T08:24:07.555Z"
   },
   {
    "duration": 15,
    "start_time": "2024-03-14T08:24:07.565Z"
   },
   {
    "duration": 40,
    "start_time": "2024-03-14T08:24:07.581Z"
   },
   {
    "duration": 202,
    "start_time": "2024-03-14T08:24:07.623Z"
   },
   {
    "duration": 8,
    "start_time": "2024-03-14T08:24:07.826Z"
   },
   {
    "duration": 26,
    "start_time": "2024-03-14T08:24:07.835Z"
   },
   {
    "duration": 114,
    "start_time": "2024-03-14T08:24:07.863Z"
   },
   {
    "duration": 9,
    "start_time": "2024-03-14T08:24:07.978Z"
   },
   {
    "duration": 158,
    "start_time": "2024-03-14T08:24:07.989Z"
   },
   {
    "duration": 8,
    "start_time": "2024-03-14T08:24:08.149Z"
   },
   {
    "duration": 116,
    "start_time": "2024-03-14T08:24:08.158Z"
   },
   {
    "duration": 150,
    "start_time": "2024-03-14T08:24:08.276Z"
   },
   {
    "duration": 9,
    "start_time": "2024-03-14T08:24:08.427Z"
   },
   {
    "duration": 117,
    "start_time": "2024-03-14T08:24:08.437Z"
   },
   {
    "duration": 195,
    "start_time": "2024-03-14T08:24:08.556Z"
   },
   {
    "duration": 16,
    "start_time": "2024-03-14T08:24:08.752Z"
   },
   {
    "duration": 24,
    "start_time": "2024-03-14T08:24:08.770Z"
   },
   {
    "duration": 11,
    "start_time": "2024-03-14T08:24:08.796Z"
   },
   {
    "duration": 8,
    "start_time": "2024-03-14T08:24:08.808Z"
   },
   {
    "duration": 16,
    "start_time": "2024-03-14T08:24:08.820Z"
   },
   {
    "duration": 6,
    "start_time": "2024-03-14T08:24:08.837Z"
   },
   {
    "duration": 51,
    "start_time": "2024-03-14T08:24:08.844Z"
   },
   {
    "duration": 8,
    "start_time": "2024-03-14T08:24:08.897Z"
   },
   {
    "duration": 392,
    "start_time": "2024-03-14T08:24:08.907Z"
   },
   {
    "duration": 397,
    "start_time": "2024-03-14T08:24:09.301Z"
   },
   {
    "duration": 6,
    "start_time": "2024-03-14T08:24:09.700Z"
   },
   {
    "duration": 963,
    "start_time": "2024-03-14T08:24:09.707Z"
   },
   {
    "duration": 899,
    "start_time": "2024-03-14T08:24:40.539Z"
   },
   {
    "duration": 10,
    "start_time": "2024-03-14T08:24:41.440Z"
   },
   {
    "duration": 7,
    "start_time": "2024-03-14T08:25:23.691Z"
   },
   {
    "duration": 11,
    "start_time": "2024-03-14T08:26:35.476Z"
   },
   {
    "duration": 11,
    "start_time": "2024-03-14T08:29:04.732Z"
   },
   {
    "duration": 53,
    "start_time": "2024-03-14T08:31:00.089Z"
   },
   {
    "duration": 7,
    "start_time": "2024-03-14T08:31:10.980Z"
   },
   {
    "duration": 1184,
    "start_time": "2024-03-14T08:31:17.340Z"
   },
   {
    "duration": 0,
    "start_time": "2024-03-14T08:31:18.527Z"
   },
   {
    "duration": 0,
    "start_time": "2024-03-14T08:31:18.529Z"
   },
   {
    "duration": 0,
    "start_time": "2024-03-14T08:31:18.530Z"
   },
   {
    "duration": 0,
    "start_time": "2024-03-14T08:31:18.531Z"
   },
   {
    "duration": 0,
    "start_time": "2024-03-14T08:31:18.533Z"
   },
   {
    "duration": 0,
    "start_time": "2024-03-14T08:31:18.534Z"
   },
   {
    "duration": 0,
    "start_time": "2024-03-14T08:31:18.535Z"
   },
   {
    "duration": 0,
    "start_time": "2024-03-14T08:31:18.537Z"
   },
   {
    "duration": 0,
    "start_time": "2024-03-14T08:31:18.538Z"
   },
   {
    "duration": 0,
    "start_time": "2024-03-14T08:31:18.540Z"
   },
   {
    "duration": 0,
    "start_time": "2024-03-14T08:31:18.541Z"
   },
   {
    "duration": 0,
    "start_time": "2024-03-14T08:31:18.542Z"
   },
   {
    "duration": 0,
    "start_time": "2024-03-14T08:31:18.544Z"
   },
   {
    "duration": 0,
    "start_time": "2024-03-14T08:31:18.545Z"
   },
   {
    "duration": 0,
    "start_time": "2024-03-14T08:31:18.546Z"
   },
   {
    "duration": 0,
    "start_time": "2024-03-14T08:31:18.547Z"
   },
   {
    "duration": 0,
    "start_time": "2024-03-14T08:31:18.548Z"
   },
   {
    "duration": 0,
    "start_time": "2024-03-14T08:31:18.549Z"
   },
   {
    "duration": 0,
    "start_time": "2024-03-14T08:31:18.550Z"
   },
   {
    "duration": 0,
    "start_time": "2024-03-14T08:31:18.588Z"
   },
   {
    "duration": 0,
    "start_time": "2024-03-14T08:31:18.589Z"
   },
   {
    "duration": 0,
    "start_time": "2024-03-14T08:31:18.590Z"
   },
   {
    "duration": 0,
    "start_time": "2024-03-14T08:31:18.591Z"
   },
   {
    "duration": 0,
    "start_time": "2024-03-14T08:31:18.592Z"
   },
   {
    "duration": 0,
    "start_time": "2024-03-14T08:31:18.593Z"
   },
   {
    "duration": 0,
    "start_time": "2024-03-14T08:31:18.594Z"
   },
   {
    "duration": 0,
    "start_time": "2024-03-14T08:31:18.595Z"
   },
   {
    "duration": 0,
    "start_time": "2024-03-14T08:31:18.596Z"
   },
   {
    "duration": 0,
    "start_time": "2024-03-14T08:31:18.597Z"
   },
   {
    "duration": 0,
    "start_time": "2024-03-14T08:31:18.598Z"
   },
   {
    "duration": 0,
    "start_time": "2024-03-14T08:31:18.599Z"
   },
   {
    "duration": 0,
    "start_time": "2024-03-14T08:31:18.600Z"
   },
   {
    "duration": 0,
    "start_time": "2024-03-14T08:31:18.601Z"
   },
   {
    "duration": 0,
    "start_time": "2024-03-14T08:31:18.602Z"
   },
   {
    "duration": 0,
    "start_time": "2024-03-14T08:31:18.603Z"
   },
   {
    "duration": 0,
    "start_time": "2024-03-14T08:31:18.604Z"
   },
   {
    "duration": 0,
    "start_time": "2024-03-14T08:31:18.605Z"
   },
   {
    "duration": 0,
    "start_time": "2024-03-14T08:31:18.607Z"
   },
   {
    "duration": 9,
    "start_time": "2024-03-14T08:31:21.140Z"
   },
   {
    "duration": 11,
    "start_time": "2024-03-14T08:31:31.693Z"
   },
   {
    "duration": 0,
    "start_time": "2024-03-14T08:31:31.706Z"
   },
   {
    "duration": 0,
    "start_time": "2024-03-14T08:31:31.708Z"
   },
   {
    "duration": 0,
    "start_time": "2024-03-14T08:31:31.709Z"
   },
   {
    "duration": 1,
    "start_time": "2024-03-14T08:31:31.710Z"
   },
   {
    "duration": 43,
    "start_time": "2024-03-14T08:31:31.712Z"
   },
   {
    "duration": 0,
    "start_time": "2024-03-14T08:31:31.757Z"
   },
   {
    "duration": 0,
    "start_time": "2024-03-14T08:31:31.759Z"
   },
   {
    "duration": 0,
    "start_time": "2024-03-14T08:31:31.760Z"
   },
   {
    "duration": 0,
    "start_time": "2024-03-14T08:31:31.761Z"
   },
   {
    "duration": 0,
    "start_time": "2024-03-14T08:31:31.763Z"
   },
   {
    "duration": 0,
    "start_time": "2024-03-14T08:31:31.764Z"
   },
   {
    "duration": 0,
    "start_time": "2024-03-14T08:31:31.766Z"
   },
   {
    "duration": 0,
    "start_time": "2024-03-14T08:31:31.767Z"
   },
   {
    "duration": 0,
    "start_time": "2024-03-14T08:31:31.769Z"
   },
   {
    "duration": 0,
    "start_time": "2024-03-14T08:31:31.770Z"
   },
   {
    "duration": 0,
    "start_time": "2024-03-14T08:31:31.787Z"
   },
   {
    "duration": 0,
    "start_time": "2024-03-14T08:31:31.789Z"
   },
   {
    "duration": 0,
    "start_time": "2024-03-14T08:31:31.790Z"
   },
   {
    "duration": 0,
    "start_time": "2024-03-14T08:31:31.792Z"
   },
   {
    "duration": 0,
    "start_time": "2024-03-14T08:31:31.793Z"
   },
   {
    "duration": 0,
    "start_time": "2024-03-14T08:31:31.795Z"
   },
   {
    "duration": 0,
    "start_time": "2024-03-14T08:31:31.796Z"
   },
   {
    "duration": 0,
    "start_time": "2024-03-14T08:31:31.797Z"
   },
   {
    "duration": 0,
    "start_time": "2024-03-14T08:31:31.798Z"
   },
   {
    "duration": 11,
    "start_time": "2024-03-14T08:31:31.803Z"
   },
   {
    "duration": 0,
    "start_time": "2024-03-14T08:31:31.816Z"
   },
   {
    "duration": 0,
    "start_time": "2024-03-14T08:31:31.818Z"
   },
   {
    "duration": 0,
    "start_time": "2024-03-14T08:31:31.819Z"
   },
   {
    "duration": 0,
    "start_time": "2024-03-14T08:31:31.820Z"
   },
   {
    "duration": 0,
    "start_time": "2024-03-14T08:31:31.822Z"
   },
   {
    "duration": 0,
    "start_time": "2024-03-14T08:31:31.823Z"
   },
   {
    "duration": 0,
    "start_time": "2024-03-14T08:31:31.824Z"
   },
   {
    "duration": 0,
    "start_time": "2024-03-14T08:31:31.825Z"
   },
   {
    "duration": 0,
    "start_time": "2024-03-14T08:31:31.827Z"
   },
   {
    "duration": 0,
    "start_time": "2024-03-14T08:31:31.888Z"
   },
   {
    "duration": 0,
    "start_time": "2024-03-14T08:31:31.889Z"
   },
   {
    "duration": 0,
    "start_time": "2024-03-14T08:31:31.890Z"
   },
   {
    "duration": 0,
    "start_time": "2024-03-14T08:31:31.892Z"
   },
   {
    "duration": 0,
    "start_time": "2024-03-14T08:31:31.893Z"
   },
   {
    "duration": 0,
    "start_time": "2024-03-14T08:31:31.894Z"
   },
   {
    "duration": 0,
    "start_time": "2024-03-14T08:31:31.896Z"
   },
   {
    "duration": 0,
    "start_time": "2024-03-14T08:31:31.898Z"
   },
   {
    "duration": 0,
    "start_time": "2024-03-14T08:31:31.899Z"
   },
   {
    "duration": 0,
    "start_time": "2024-03-14T08:31:31.900Z"
   },
   {
    "duration": 13,
    "start_time": "2024-03-14T08:31:31.905Z"
   },
   {
    "duration": 0,
    "start_time": "2024-03-14T08:31:31.920Z"
   },
   {
    "duration": 0,
    "start_time": "2024-03-14T08:31:31.921Z"
   },
   {
    "duration": 0,
    "start_time": "2024-03-14T08:31:31.923Z"
   },
   {
    "duration": 0,
    "start_time": "2024-03-14T08:31:31.924Z"
   },
   {
    "duration": 0,
    "start_time": "2024-03-14T08:31:31.925Z"
   },
   {
    "duration": 0,
    "start_time": "2024-03-14T08:31:31.987Z"
   },
   {
    "duration": 9,
    "start_time": "2024-03-14T08:32:02.526Z"
   },
   {
    "duration": 0,
    "start_time": "2024-03-14T08:32:02.536Z"
   },
   {
    "duration": 24,
    "start_time": "2024-03-14T08:32:02.538Z"
   },
   {
    "duration": 33,
    "start_time": "2024-03-14T08:32:02.564Z"
   },
   {
    "duration": 0,
    "start_time": "2024-03-14T08:32:02.599Z"
   },
   {
    "duration": 0,
    "start_time": "2024-03-14T08:32:02.600Z"
   },
   {
    "duration": 0,
    "start_time": "2024-03-14T08:32:02.601Z"
   },
   {
    "duration": 0,
    "start_time": "2024-03-14T08:32:02.602Z"
   },
   {
    "duration": 0,
    "start_time": "2024-03-14T08:32:02.603Z"
   },
   {
    "duration": 0,
    "start_time": "2024-03-14T08:32:02.604Z"
   },
   {
    "duration": 0,
    "start_time": "2024-03-14T08:32:02.605Z"
   },
   {
    "duration": 0,
    "start_time": "2024-03-14T08:32:02.606Z"
   },
   {
    "duration": 0,
    "start_time": "2024-03-14T08:32:02.607Z"
   },
   {
    "duration": 0,
    "start_time": "2024-03-14T08:32:02.608Z"
   },
   {
    "duration": 0,
    "start_time": "2024-03-14T08:32:02.609Z"
   },
   {
    "duration": 0,
    "start_time": "2024-03-14T08:32:02.610Z"
   },
   {
    "duration": 0,
    "start_time": "2024-03-14T08:32:02.611Z"
   },
   {
    "duration": 0,
    "start_time": "2024-03-14T08:32:02.612Z"
   },
   {
    "duration": 0,
    "start_time": "2024-03-14T08:32:02.613Z"
   },
   {
    "duration": 0,
    "start_time": "2024-03-14T08:32:02.614Z"
   },
   {
    "duration": 0,
    "start_time": "2024-03-14T08:32:02.615Z"
   },
   {
    "duration": 0,
    "start_time": "2024-03-14T08:32:02.616Z"
   },
   {
    "duration": 0,
    "start_time": "2024-03-14T08:32:02.617Z"
   },
   {
    "duration": 0,
    "start_time": "2024-03-14T08:32:02.618Z"
   },
   {
    "duration": 0,
    "start_time": "2024-03-14T08:32:02.619Z"
   },
   {
    "duration": 0,
    "start_time": "2024-03-14T08:32:02.620Z"
   },
   {
    "duration": 0,
    "start_time": "2024-03-14T08:32:02.621Z"
   },
   {
    "duration": 0,
    "start_time": "2024-03-14T08:32:02.622Z"
   },
   {
    "duration": 69,
    "start_time": "2024-03-14T08:32:02.625Z"
   },
   {
    "duration": 1,
    "start_time": "2024-03-14T08:32:02.695Z"
   },
   {
    "duration": 0,
    "start_time": "2024-03-14T08:32:02.697Z"
   },
   {
    "duration": 0,
    "start_time": "2024-03-14T08:32:02.698Z"
   },
   {
    "duration": 0,
    "start_time": "2024-03-14T08:32:02.699Z"
   },
   {
    "duration": 0,
    "start_time": "2024-03-14T08:32:02.700Z"
   },
   {
    "duration": 0,
    "start_time": "2024-03-14T08:32:02.701Z"
   },
   {
    "duration": 0,
    "start_time": "2024-03-14T08:32:02.702Z"
   },
   {
    "duration": 0,
    "start_time": "2024-03-14T08:32:02.703Z"
   },
   {
    "duration": 0,
    "start_time": "2024-03-14T08:32:02.704Z"
   },
   {
    "duration": 0,
    "start_time": "2024-03-14T08:32:02.705Z"
   },
   {
    "duration": 0,
    "start_time": "2024-03-14T08:32:02.706Z"
   },
   {
    "duration": 0,
    "start_time": "2024-03-14T08:32:02.707Z"
   },
   {
    "duration": 0,
    "start_time": "2024-03-14T08:32:02.708Z"
   },
   {
    "duration": 0,
    "start_time": "2024-03-14T08:32:02.709Z"
   },
   {
    "duration": 0,
    "start_time": "2024-03-14T08:32:02.710Z"
   },
   {
    "duration": 0,
    "start_time": "2024-03-14T08:32:02.711Z"
   },
   {
    "duration": 0,
    "start_time": "2024-03-14T08:32:02.712Z"
   },
   {
    "duration": 0,
    "start_time": "2024-03-14T08:32:02.713Z"
   },
   {
    "duration": 0,
    "start_time": "2024-03-14T08:32:02.714Z"
   },
   {
    "duration": 0,
    "start_time": "2024-03-14T08:32:02.715Z"
   },
   {
    "duration": 0,
    "start_time": "2024-03-14T08:32:02.717Z"
   },
   {
    "duration": 0,
    "start_time": "2024-03-14T08:32:02.717Z"
   },
   {
    "duration": 0,
    "start_time": "2024-03-14T08:32:02.719Z"
   },
   {
    "duration": 9,
    "start_time": "2024-03-14T08:32:19.718Z"
   },
   {
    "duration": 0,
    "start_time": "2024-03-14T08:32:19.729Z"
   },
   {
    "duration": 0,
    "start_time": "2024-03-14T08:32:19.730Z"
   },
   {
    "duration": 11,
    "start_time": "2024-03-14T08:32:19.731Z"
   },
   {
    "duration": 0,
    "start_time": "2024-03-14T08:32:19.743Z"
   },
   {
    "duration": 0,
    "start_time": "2024-03-14T08:32:19.744Z"
   },
   {
    "duration": 0,
    "start_time": "2024-03-14T08:32:19.745Z"
   },
   {
    "duration": 0,
    "start_time": "2024-03-14T08:32:19.747Z"
   },
   {
    "duration": 14,
    "start_time": "2024-03-14T08:32:19.749Z"
   },
   {
    "duration": 0,
    "start_time": "2024-03-14T08:32:19.765Z"
   },
   {
    "duration": 0,
    "start_time": "2024-03-14T08:32:19.766Z"
   },
   {
    "duration": 0,
    "start_time": "2024-03-14T08:32:19.767Z"
   },
   {
    "duration": 0,
    "start_time": "2024-03-14T08:32:19.768Z"
   },
   {
    "duration": 0,
    "start_time": "2024-03-14T08:32:19.770Z"
   },
   {
    "duration": 0,
    "start_time": "2024-03-14T08:32:19.771Z"
   },
   {
    "duration": 0,
    "start_time": "2024-03-14T08:32:19.771Z"
   },
   {
    "duration": 0,
    "start_time": "2024-03-14T08:32:19.772Z"
   },
   {
    "duration": 21,
    "start_time": "2024-03-14T08:32:19.774Z"
   },
   {
    "duration": 0,
    "start_time": "2024-03-14T08:32:19.796Z"
   },
   {
    "duration": 0,
    "start_time": "2024-03-14T08:32:19.798Z"
   },
   {
    "duration": 0,
    "start_time": "2024-03-14T08:32:19.800Z"
   },
   {
    "duration": 0,
    "start_time": "2024-03-14T08:32:19.801Z"
   },
   {
    "duration": 0,
    "start_time": "2024-03-14T08:32:19.802Z"
   },
   {
    "duration": 0,
    "start_time": "2024-03-14T08:32:19.803Z"
   },
   {
    "duration": 0,
    "start_time": "2024-03-14T08:32:19.804Z"
   },
   {
    "duration": 0,
    "start_time": "2024-03-14T08:32:19.805Z"
   },
   {
    "duration": 9,
    "start_time": "2024-03-14T08:32:19.808Z"
   },
   {
    "duration": 0,
    "start_time": "2024-03-14T08:32:19.819Z"
   },
   {
    "duration": 0,
    "start_time": "2024-03-14T08:32:19.820Z"
   },
   {
    "duration": 0,
    "start_time": "2024-03-14T08:32:19.822Z"
   },
   {
    "duration": 0,
    "start_time": "2024-03-14T08:32:19.823Z"
   },
   {
    "duration": 0,
    "start_time": "2024-03-14T08:32:19.824Z"
   },
   {
    "duration": 0,
    "start_time": "2024-03-14T08:32:19.825Z"
   },
   {
    "duration": 8,
    "start_time": "2024-03-14T08:32:19.887Z"
   },
   {
    "duration": 0,
    "start_time": "2024-03-14T08:32:19.897Z"
   },
   {
    "duration": 0,
    "start_time": "2024-03-14T08:32:19.899Z"
   },
   {
    "duration": 0,
    "start_time": "2024-03-14T08:32:19.900Z"
   },
   {
    "duration": 0,
    "start_time": "2024-03-14T08:32:19.902Z"
   },
   {
    "duration": 0,
    "start_time": "2024-03-14T08:32:19.903Z"
   },
   {
    "duration": 0,
    "start_time": "2024-03-14T08:32:19.904Z"
   },
   {
    "duration": 0,
    "start_time": "2024-03-14T08:32:19.906Z"
   },
   {
    "duration": 0,
    "start_time": "2024-03-14T08:32:19.908Z"
   },
   {
    "duration": 0,
    "start_time": "2024-03-14T08:32:19.909Z"
   },
   {
    "duration": 0,
    "start_time": "2024-03-14T08:32:19.911Z"
   },
   {
    "duration": 0,
    "start_time": "2024-03-14T08:32:19.912Z"
   },
   {
    "duration": 0,
    "start_time": "2024-03-14T08:32:19.913Z"
   },
   {
    "duration": 0,
    "start_time": "2024-03-14T08:32:19.914Z"
   },
   {
    "duration": 0,
    "start_time": "2024-03-14T08:32:19.915Z"
   },
   {
    "duration": 0,
    "start_time": "2024-03-14T08:32:19.916Z"
   },
   {
    "duration": 0,
    "start_time": "2024-03-14T08:32:19.917Z"
   },
   {
    "duration": 0,
    "start_time": "2024-03-14T08:32:19.918Z"
   },
   {
    "duration": 0,
    "start_time": "2024-03-14T08:32:19.919Z"
   },
   {
    "duration": 9,
    "start_time": "2024-03-14T08:32:59.046Z"
   },
   {
    "duration": 0,
    "start_time": "2024-03-14T08:32:59.057Z"
   },
   {
    "duration": 0,
    "start_time": "2024-03-14T08:32:59.058Z"
   },
   {
    "duration": 7,
    "start_time": "2024-03-14T08:32:59.062Z"
   },
   {
    "duration": 0,
    "start_time": "2024-03-14T08:32:59.071Z"
   },
   {
    "duration": 0,
    "start_time": "2024-03-14T08:32:59.072Z"
   },
   {
    "duration": 0,
    "start_time": "2024-03-14T08:32:59.073Z"
   },
   {
    "duration": 9,
    "start_time": "2024-03-14T08:32:59.075Z"
   },
   {
    "duration": 0,
    "start_time": "2024-03-14T08:32:59.085Z"
   },
   {
    "duration": 0,
    "start_time": "2024-03-14T08:32:59.086Z"
   },
   {
    "duration": 0,
    "start_time": "2024-03-14T08:32:59.088Z"
   },
   {
    "duration": 0,
    "start_time": "2024-03-14T08:32:59.089Z"
   },
   {
    "duration": 10,
    "start_time": "2024-03-14T08:32:59.091Z"
   },
   {
    "duration": 0,
    "start_time": "2024-03-14T08:32:59.102Z"
   },
   {
    "duration": 0,
    "start_time": "2024-03-14T08:32:59.104Z"
   },
   {
    "duration": 0,
    "start_time": "2024-03-14T08:32:59.104Z"
   },
   {
    "duration": 0,
    "start_time": "2024-03-14T08:32:59.105Z"
   },
   {
    "duration": 0,
    "start_time": "2024-03-14T08:32:59.107Z"
   },
   {
    "duration": 8,
    "start_time": "2024-03-14T08:32:59.110Z"
   },
   {
    "duration": 0,
    "start_time": "2024-03-14T08:32:59.119Z"
   },
   {
    "duration": 0,
    "start_time": "2024-03-14T08:32:59.121Z"
   },
   {
    "duration": 0,
    "start_time": "2024-03-14T08:32:59.122Z"
   },
   {
    "duration": 0,
    "start_time": "2024-03-14T08:32:59.123Z"
   },
   {
    "duration": 0,
    "start_time": "2024-03-14T08:32:59.124Z"
   },
   {
    "duration": 0,
    "start_time": "2024-03-14T08:32:59.125Z"
   },
   {
    "duration": 63,
    "start_time": "2024-03-14T08:32:59.127Z"
   },
   {
    "duration": 0,
    "start_time": "2024-03-14T08:32:59.191Z"
   },
   {
    "duration": 0,
    "start_time": "2024-03-14T08:32:59.192Z"
   },
   {
    "duration": 10,
    "start_time": "2024-03-14T08:32:59.197Z"
   },
   {
    "duration": 0,
    "start_time": "2024-03-14T08:32:59.208Z"
   },
   {
    "duration": 0,
    "start_time": "2024-03-14T08:32:59.210Z"
   },
   {
    "duration": 0,
    "start_time": "2024-03-14T08:32:59.211Z"
   },
   {
    "duration": 0,
    "start_time": "2024-03-14T08:32:59.213Z"
   },
   {
    "duration": 0,
    "start_time": "2024-03-14T08:32:59.214Z"
   },
   {
    "duration": 0,
    "start_time": "2024-03-14T08:32:59.215Z"
   },
   {
    "duration": 0,
    "start_time": "2024-03-14T08:32:59.216Z"
   },
   {
    "duration": 0,
    "start_time": "2024-03-14T08:32:59.217Z"
   },
   {
    "duration": 0,
    "start_time": "2024-03-14T08:32:59.218Z"
   },
   {
    "duration": 0,
    "start_time": "2024-03-14T08:32:59.219Z"
   },
   {
    "duration": 0,
    "start_time": "2024-03-14T08:32:59.220Z"
   },
   {
    "duration": 0,
    "start_time": "2024-03-14T08:32:59.222Z"
   },
   {
    "duration": 0,
    "start_time": "2024-03-14T08:32:59.223Z"
   },
   {
    "duration": 0,
    "start_time": "2024-03-14T08:32:59.224Z"
   },
   {
    "duration": 0,
    "start_time": "2024-03-14T08:32:59.225Z"
   },
   {
    "duration": 0,
    "start_time": "2024-03-14T08:32:59.226Z"
   },
   {
    "duration": 0,
    "start_time": "2024-03-14T08:32:59.227Z"
   },
   {
    "duration": 0,
    "start_time": "2024-03-14T08:32:59.228Z"
   },
   {
    "duration": 0,
    "start_time": "2024-03-14T08:32:59.229Z"
   },
   {
    "duration": 0,
    "start_time": "2024-03-14T08:32:59.230Z"
   },
   {
    "duration": 0,
    "start_time": "2024-03-14T08:32:59.231Z"
   },
   {
    "duration": 468,
    "start_time": "2024-03-14T08:32:59.233Z"
   },
   {
    "duration": 260,
    "start_time": "2024-03-14T08:32:59.702Z"
   },
   {
    "duration": 12,
    "start_time": "2024-03-14T08:33:19.989Z"
   },
   {
    "duration": 5,
    "start_time": "2024-03-14T08:33:59.814Z"
   },
   {
    "duration": 296,
    "start_time": "2024-03-14T08:34:03.917Z"
   },
   {
    "duration": 3,
    "start_time": "2024-03-14T08:34:04.374Z"
   },
   {
    "duration": 19,
    "start_time": "2024-03-14T08:34:05.541Z"
   },
   {
    "duration": 15,
    "start_time": "2024-03-14T08:34:07.437Z"
   },
   {
    "duration": 20,
    "start_time": "2024-03-14T08:34:08.334Z"
   },
   {
    "duration": 19,
    "start_time": "2024-03-14T08:34:09.989Z"
   },
   {
    "duration": 15,
    "start_time": "2024-03-14T08:34:10.429Z"
   },
   {
    "duration": 7,
    "start_time": "2024-03-14T08:34:10.861Z"
   },
   {
    "duration": 7,
    "start_time": "2024-03-14T08:34:11.142Z"
   },
   {
    "duration": 6,
    "start_time": "2024-03-14T08:34:11.389Z"
   },
   {
    "duration": 5,
    "start_time": "2024-03-14T08:34:11.670Z"
   },
   {
    "duration": 8,
    "start_time": "2024-03-14T08:34:11.950Z"
   },
   {
    "duration": 4,
    "start_time": "2024-03-14T08:34:12.158Z"
   },
   {
    "duration": 5,
    "start_time": "2024-03-14T08:34:12.725Z"
   },
   {
    "duration": 5,
    "start_time": "2024-03-14T08:34:13.581Z"
   },
   {
    "duration": 203,
    "start_time": "2024-03-14T08:34:13.750Z"
   },
   {
    "duration": 8,
    "start_time": "2024-03-14T08:34:13.954Z"
   },
   {
    "duration": 5,
    "start_time": "2024-03-14T08:34:15.205Z"
   },
   {
    "duration": 122,
    "start_time": "2024-03-14T08:34:15.401Z"
   },
   {
    "duration": 8,
    "start_time": "2024-03-14T08:34:16.557Z"
   },
   {
    "duration": 140,
    "start_time": "2024-03-14T08:34:16.751Z"
   },
   {
    "duration": 10,
    "start_time": "2024-03-14T08:34:17.669Z"
   },
   {
    "duration": 106,
    "start_time": "2024-03-14T08:34:17.862Z"
   },
   {
    "duration": 152,
    "start_time": "2024-03-14T08:34:18.031Z"
   },
   {
    "duration": 8,
    "start_time": "2024-03-14T08:34:18.406Z"
   },
   {
    "duration": 172,
    "start_time": "2024-03-14T08:34:18.606Z"
   },
   {
    "duration": 168,
    "start_time": "2024-03-14T08:34:18.780Z"
   },
   {
    "duration": 17,
    "start_time": "2024-03-14T08:34:21.526Z"
   },
   {
    "duration": 13,
    "start_time": "2024-03-14T08:34:23.125Z"
   },
   {
    "duration": 16,
    "start_time": "2024-03-14T08:34:23.518Z"
   },
   {
    "duration": 10,
    "start_time": "2024-03-14T08:34:24.590Z"
   },
   {
    "duration": 22,
    "start_time": "2024-03-14T08:34:24.854Z"
   },
   {
    "duration": 8,
    "start_time": "2024-03-14T08:34:25.582Z"
   },
   {
    "duration": 20,
    "start_time": "2024-03-14T08:34:26.198Z"
   },
   {
    "duration": 10,
    "start_time": "2024-03-14T08:34:27.149Z"
   },
   {
    "duration": 385,
    "start_time": "2024-03-14T08:34:27.343Z"
   },
   {
    "duration": 364,
    "start_time": "2024-03-14T08:34:29.030Z"
   },
   {
    "duration": 4,
    "start_time": "2024-03-14T08:34:31.501Z"
   },
   {
    "duration": 881,
    "start_time": "2024-03-14T08:34:32.613Z"
   },
   {
    "duration": 10,
    "start_time": "2024-03-14T08:34:33.496Z"
   },
   {
    "duration": 19,
    "start_time": "2024-03-14T08:34:33.507Z"
   },
   {
    "duration": 11,
    "start_time": "2024-03-14T08:34:37.790Z"
   },
   {
    "duration": 51,
    "start_time": "2024-03-14T08:34:58.864Z"
   },
   {
    "duration": 1227,
    "start_time": "2024-03-14T08:38:45.307Z"
   },
   {
    "duration": 295,
    "start_time": "2024-03-14T08:38:46.536Z"
   },
   {
    "duration": 3,
    "start_time": "2024-03-14T08:38:46.832Z"
   },
   {
    "duration": 22,
    "start_time": "2024-03-14T08:38:46.837Z"
   },
   {
    "duration": 13,
    "start_time": "2024-03-14T08:38:46.860Z"
   },
   {
    "duration": 13,
    "start_time": "2024-03-14T08:38:46.875Z"
   },
   {
    "duration": 26,
    "start_time": "2024-03-14T08:38:46.889Z"
   },
   {
    "duration": 26,
    "start_time": "2024-03-14T08:38:46.916Z"
   },
   {
    "duration": 5,
    "start_time": "2024-03-14T08:38:46.943Z"
   },
   {
    "duration": 34,
    "start_time": "2024-03-14T08:38:46.950Z"
   },
   {
    "duration": 6,
    "start_time": "2024-03-14T08:38:46.985Z"
   },
   {
    "duration": 9,
    "start_time": "2024-03-14T08:38:46.992Z"
   },
   {
    "duration": 14,
    "start_time": "2024-03-14T08:38:47.002Z"
   },
   {
    "duration": 29,
    "start_time": "2024-03-14T08:38:47.018Z"
   },
   {
    "duration": 14,
    "start_time": "2024-03-14T08:38:47.048Z"
   },
   {
    "duration": 18,
    "start_time": "2024-03-14T08:38:47.063Z"
   },
   {
    "duration": 201,
    "start_time": "2024-03-14T08:38:47.083Z"
   },
   {
    "duration": 8,
    "start_time": "2024-03-14T08:38:47.285Z"
   },
   {
    "duration": 7,
    "start_time": "2024-03-14T08:38:47.294Z"
   },
   {
    "duration": 114,
    "start_time": "2024-03-14T08:38:47.303Z"
   },
   {
    "duration": 7,
    "start_time": "2024-03-14T08:38:47.419Z"
   },
   {
    "duration": 156,
    "start_time": "2024-03-14T08:38:47.428Z"
   },
   {
    "duration": 8,
    "start_time": "2024-03-14T08:38:47.587Z"
   },
   {
    "duration": 116,
    "start_time": "2024-03-14T08:38:47.596Z"
   },
   {
    "duration": 162,
    "start_time": "2024-03-14T08:38:47.714Z"
   },
   {
    "duration": 12,
    "start_time": "2024-03-14T08:38:47.878Z"
   },
   {
    "duration": 122,
    "start_time": "2024-03-14T08:38:47.891Z"
   },
   {
    "duration": 164,
    "start_time": "2024-03-14T08:38:48.016Z"
   },
   {
    "duration": 23,
    "start_time": "2024-03-14T08:38:48.181Z"
   },
   {
    "duration": 12,
    "start_time": "2024-03-14T08:38:48.206Z"
   },
   {
    "duration": 10,
    "start_time": "2024-03-14T08:38:48.220Z"
   },
   {
    "duration": 8,
    "start_time": "2024-03-14T08:38:48.232Z"
   },
   {
    "duration": 45,
    "start_time": "2024-03-14T08:38:48.242Z"
   },
   {
    "duration": 7,
    "start_time": "2024-03-14T08:38:48.289Z"
   },
   {
    "duration": 14,
    "start_time": "2024-03-14T08:38:48.298Z"
   },
   {
    "duration": 7,
    "start_time": "2024-03-14T08:38:48.314Z"
   },
   {
    "duration": 471,
    "start_time": "2024-03-14T08:38:48.322Z"
   },
   {
    "duration": 357,
    "start_time": "2024-03-14T08:38:48.794Z"
   },
   {
    "duration": 4,
    "start_time": "2024-03-14T08:38:49.153Z"
   },
   {
    "duration": 928,
    "start_time": "2024-03-14T08:38:49.158Z"
   },
   {
    "duration": 11,
    "start_time": "2024-03-14T08:38:50.087Z"
   },
   {
    "duration": 6,
    "start_time": "2024-03-14T08:38:50.100Z"
   },
   {
    "duration": 13,
    "start_time": "2024-03-14T08:38:50.107Z"
   },
   {
    "duration": 52,
    "start_time": "2024-03-14T08:43:55.720Z"
   },
   {
    "duration": 1231,
    "start_time": "2024-03-14T08:44:03.041Z"
   },
   {
    "duration": 302,
    "start_time": "2024-03-14T08:44:04.274Z"
   },
   {
    "duration": 13,
    "start_time": "2024-03-14T08:44:04.578Z"
   },
   {
    "duration": 26,
    "start_time": "2024-03-14T08:44:04.593Z"
   },
   {
    "duration": 18,
    "start_time": "2024-03-14T08:44:04.620Z"
   },
   {
    "duration": 14,
    "start_time": "2024-03-14T08:44:04.640Z"
   },
   {
    "duration": 34,
    "start_time": "2024-03-14T08:44:04.656Z"
   },
   {
    "duration": 11,
    "start_time": "2024-03-14T08:44:04.692Z"
   },
   {
    "duration": 6,
    "start_time": "2024-03-14T08:44:04.704Z"
   },
   {
    "duration": 23,
    "start_time": "2024-03-14T08:44:04.713Z"
   },
   {
    "duration": 12,
    "start_time": "2024-03-14T08:44:04.737Z"
   },
   {
    "duration": 27,
    "start_time": "2024-03-14T08:44:04.750Z"
   },
   {
    "duration": 9,
    "start_time": "2024-03-14T08:44:04.778Z"
   },
   {
    "duration": 10,
    "start_time": "2024-03-14T08:44:04.789Z"
   },
   {
    "duration": 16,
    "start_time": "2024-03-14T08:44:04.801Z"
   },
   {
    "duration": 7,
    "start_time": "2024-03-14T08:44:04.819Z"
   },
   {
    "duration": 217,
    "start_time": "2024-03-14T08:44:04.828Z"
   },
   {
    "duration": 8,
    "start_time": "2024-03-14T08:44:05.046Z"
   },
   {
    "duration": 7,
    "start_time": "2024-03-14T08:44:05.056Z"
   },
   {
    "duration": 124,
    "start_time": "2024-03-14T08:44:05.064Z"
   },
   {
    "duration": 7,
    "start_time": "2024-03-14T08:44:05.190Z"
   },
   {
    "duration": 177,
    "start_time": "2024-03-14T08:44:05.198Z"
   },
   {
    "duration": 12,
    "start_time": "2024-03-14T08:44:05.377Z"
   },
   {
    "duration": 124,
    "start_time": "2024-03-14T08:44:05.391Z"
   },
   {
    "duration": 175,
    "start_time": "2024-03-14T08:44:05.517Z"
   },
   {
    "duration": 9,
    "start_time": "2024-03-14T08:44:05.693Z"
   },
   {
    "duration": 129,
    "start_time": "2024-03-14T08:44:05.704Z"
   },
   {
    "duration": 177,
    "start_time": "2024-03-14T08:44:05.836Z"
   },
   {
    "duration": 19,
    "start_time": "2024-03-14T08:44:06.015Z"
   },
   {
    "duration": 13,
    "start_time": "2024-03-14T08:44:06.036Z"
   },
   {
    "duration": 36,
    "start_time": "2024-03-14T08:44:06.051Z"
   },
   {
    "duration": 24,
    "start_time": "2024-03-14T08:44:06.089Z"
   },
   {
    "duration": 46,
    "start_time": "2024-03-14T08:44:06.115Z"
   },
   {
    "duration": 20,
    "start_time": "2024-03-14T08:44:06.162Z"
   },
   {
    "duration": 45,
    "start_time": "2024-03-14T08:44:06.184Z"
   },
   {
    "duration": 23,
    "start_time": "2024-03-14T08:44:06.230Z"
   },
   {
    "duration": 464,
    "start_time": "2024-03-14T08:44:06.255Z"
   },
   {
    "duration": 409,
    "start_time": "2024-03-14T08:44:06.721Z"
   },
   {
    "duration": 4,
    "start_time": "2024-03-14T08:44:07.131Z"
   },
   {
    "duration": 933,
    "start_time": "2024-03-14T08:44:07.136Z"
   },
   {
    "duration": 24,
    "start_time": "2024-03-14T08:44:08.070Z"
   },
   {
    "duration": 9,
    "start_time": "2024-03-14T08:44:08.096Z"
   },
   {
    "duration": 26,
    "start_time": "2024-03-14T08:44:08.107Z"
   },
   {
    "duration": 17,
    "start_time": "2024-03-14T08:44:08.135Z"
   },
   {
    "duration": 1658,
    "start_time": "2024-03-14T08:44:08.154Z"
   },
   {
    "duration": 0,
    "start_time": "2024-03-14T08:44:09.813Z"
   },
   {
    "duration": 0,
    "start_time": "2024-03-14T08:44:09.814Z"
   },
   {
    "duration": 0,
    "start_time": "2024-03-14T08:44:09.816Z"
   },
   {
    "duration": 0,
    "start_time": "2024-03-14T08:44:09.817Z"
   },
   {
    "duration": 0,
    "start_time": "2024-03-14T08:44:09.817Z"
   },
   {
    "duration": 0,
    "start_time": "2024-03-14T08:44:09.818Z"
   },
   {
    "duration": 0,
    "start_time": "2024-03-14T08:44:09.819Z"
   },
   {
    "duration": 10,
    "start_time": "2024-03-14T08:44:25.952Z"
   },
   {
    "duration": 1526,
    "start_time": "2024-03-14T08:44:37.896Z"
   },
   {
    "duration": 9,
    "start_time": "2024-03-14T08:45:12.064Z"
   },
   {
    "duration": 1738,
    "start_time": "2024-03-14T08:45:18.165Z"
   },
   {
    "duration": 4,
    "start_time": "2024-03-14T08:46:03.495Z"
   },
   {
    "duration": 69,
    "start_time": "2024-03-14T08:46:03.503Z"
   },
   {
    "duration": 3,
    "start_time": "2024-03-14T08:46:03.573Z"
   },
   {
    "duration": 20,
    "start_time": "2024-03-14T08:46:03.577Z"
   },
   {
    "duration": 19,
    "start_time": "2024-03-14T08:46:03.598Z"
   },
   {
    "duration": 13,
    "start_time": "2024-03-14T08:46:03.619Z"
   },
   {
    "duration": 14,
    "start_time": "2024-03-14T08:46:03.633Z"
   },
   {
    "duration": 40,
    "start_time": "2024-03-14T08:46:03.648Z"
   },
   {
    "duration": 6,
    "start_time": "2024-03-14T08:46:03.689Z"
   },
   {
    "duration": 8,
    "start_time": "2024-03-14T08:46:03.697Z"
   },
   {
    "duration": 6,
    "start_time": "2024-03-14T08:46:03.707Z"
   },
   {
    "duration": 10,
    "start_time": "2024-03-14T08:46:03.714Z"
   },
   {
    "duration": 7,
    "start_time": "2024-03-14T08:46:03.726Z"
   },
   {
    "duration": 5,
    "start_time": "2024-03-14T08:46:03.735Z"
   },
   {
    "duration": 45,
    "start_time": "2024-03-14T08:46:03.742Z"
   },
   {
    "duration": 8,
    "start_time": "2024-03-14T08:46:03.789Z"
   },
   {
    "duration": 232,
    "start_time": "2024-03-14T08:46:03.799Z"
   },
   {
    "duration": 8,
    "start_time": "2024-03-14T08:46:04.032Z"
   },
   {
    "duration": 22,
    "start_time": "2024-03-14T08:46:04.042Z"
   },
   {
    "duration": 124,
    "start_time": "2024-03-14T08:46:04.066Z"
   },
   {
    "duration": 7,
    "start_time": "2024-03-14T08:46:04.191Z"
   },
   {
    "duration": 158,
    "start_time": "2024-03-14T08:46:04.200Z"
   },
   {
    "duration": 10,
    "start_time": "2024-03-14T08:46:04.360Z"
   },
   {
    "duration": 173,
    "start_time": "2024-03-14T08:46:04.372Z"
   },
   {
    "duration": 243,
    "start_time": "2024-03-14T08:46:04.547Z"
   },
   {
    "duration": 10,
    "start_time": "2024-03-14T08:46:04.792Z"
   },
   {
    "duration": 126,
    "start_time": "2024-03-14T08:46:04.804Z"
   },
   {
    "duration": 168,
    "start_time": "2024-03-14T08:46:04.932Z"
   },
   {
    "duration": 18,
    "start_time": "2024-03-14T08:46:05.104Z"
   },
   {
    "duration": 13,
    "start_time": "2024-03-14T08:46:05.123Z"
   },
   {
    "duration": 12,
    "start_time": "2024-03-14T08:46:05.138Z"
   },
   {
    "duration": 40,
    "start_time": "2024-03-14T08:46:05.151Z"
   },
   {
    "duration": 17,
    "start_time": "2024-03-14T08:46:05.192Z"
   },
   {
    "duration": 6,
    "start_time": "2024-03-14T08:46:05.211Z"
   },
   {
    "duration": 37,
    "start_time": "2024-03-14T08:46:05.219Z"
   },
   {
    "duration": 10,
    "start_time": "2024-03-14T08:46:05.258Z"
   },
   {
    "duration": 425,
    "start_time": "2024-03-14T08:46:05.270Z"
   },
   {
    "duration": 393,
    "start_time": "2024-03-14T08:46:05.697Z"
   },
   {
    "duration": 4,
    "start_time": "2024-03-14T08:46:06.091Z"
   },
   {
    "duration": 1060,
    "start_time": "2024-03-14T08:46:06.096Z"
   },
   {
    "duration": 11,
    "start_time": "2024-03-14T08:46:07.158Z"
   },
   {
    "duration": 17,
    "start_time": "2024-03-14T08:46:07.171Z"
   },
   {
    "duration": 15,
    "start_time": "2024-03-14T08:46:07.189Z"
   },
   {
    "duration": 1724,
    "start_time": "2024-03-14T08:46:11.185Z"
   },
   {
    "duration": 1850,
    "start_time": "2024-03-14T08:49:09.022Z"
   },
   {
    "duration": 1926,
    "start_time": "2024-03-14T08:49:32.067Z"
   },
   {
    "duration": 5,
    "start_time": "2024-03-14T08:49:37.920Z"
   },
   {
    "duration": 89,
    "start_time": "2024-03-14T08:49:37.928Z"
   },
   {
    "duration": 3,
    "start_time": "2024-03-14T08:49:38.019Z"
   },
   {
    "duration": 24,
    "start_time": "2024-03-14T08:49:38.023Z"
   },
   {
    "duration": 20,
    "start_time": "2024-03-14T08:49:38.049Z"
   },
   {
    "duration": 15,
    "start_time": "2024-03-14T08:49:38.087Z"
   },
   {
    "duration": 20,
    "start_time": "2024-03-14T08:49:38.104Z"
   },
   {
    "duration": 15,
    "start_time": "2024-03-14T08:49:38.126Z"
   },
   {
    "duration": 6,
    "start_time": "2024-03-14T08:49:38.142Z"
   },
   {
    "duration": 40,
    "start_time": "2024-03-14T08:49:38.150Z"
   },
   {
    "duration": 6,
    "start_time": "2024-03-14T08:49:38.193Z"
   },
   {
    "duration": 8,
    "start_time": "2024-03-14T08:49:38.201Z"
   },
   {
    "duration": 10,
    "start_time": "2024-03-14T08:49:38.210Z"
   },
   {
    "duration": 12,
    "start_time": "2024-03-14T08:49:38.222Z"
   },
   {
    "duration": 6,
    "start_time": "2024-03-14T08:49:38.236Z"
   },
   {
    "duration": 6,
    "start_time": "2024-03-14T08:49:38.244Z"
   },
   {
    "duration": 252,
    "start_time": "2024-03-14T08:49:38.288Z"
   },
   {
    "duration": 8,
    "start_time": "2024-03-14T08:49:38.542Z"
   },
   {
    "duration": 8,
    "start_time": "2024-03-14T08:49:38.552Z"
   },
   {
    "duration": 133,
    "start_time": "2024-03-14T08:49:38.562Z"
   },
   {
    "duration": 8,
    "start_time": "2024-03-14T08:49:38.697Z"
   },
   {
    "duration": 176,
    "start_time": "2024-03-14T08:49:38.707Z"
   },
   {
    "duration": 9,
    "start_time": "2024-03-14T08:49:38.888Z"
   },
   {
    "duration": 142,
    "start_time": "2024-03-14T08:49:38.898Z"
   },
   {
    "duration": 177,
    "start_time": "2024-03-14T08:49:39.042Z"
   },
   {
    "duration": 11,
    "start_time": "2024-03-14T08:49:39.220Z"
   },
   {
    "duration": 130,
    "start_time": "2024-03-14T08:49:39.232Z"
   },
   {
    "duration": 167,
    "start_time": "2024-03-14T08:49:39.364Z"
   },
   {
    "duration": 19,
    "start_time": "2024-03-14T08:49:39.535Z"
   },
   {
    "duration": 31,
    "start_time": "2024-03-14T08:49:39.556Z"
   },
   {
    "duration": 16,
    "start_time": "2024-03-14T08:49:39.589Z"
   },
   {
    "duration": 12,
    "start_time": "2024-03-14T08:49:39.607Z"
   },
   {
    "duration": 31,
    "start_time": "2024-03-14T08:49:39.621Z"
   },
   {
    "duration": 6,
    "start_time": "2024-03-14T08:49:39.654Z"
   },
   {
    "duration": 42,
    "start_time": "2024-03-14T08:49:39.661Z"
   },
   {
    "duration": 11,
    "start_time": "2024-03-14T08:49:39.705Z"
   },
   {
    "duration": 516,
    "start_time": "2024-03-14T08:49:39.717Z"
   },
   {
    "duration": 371,
    "start_time": "2024-03-14T08:49:40.235Z"
   },
   {
    "duration": 3,
    "start_time": "2024-03-14T08:49:40.607Z"
   },
   {
    "duration": 943,
    "start_time": "2024-03-14T08:49:40.612Z"
   },
   {
    "duration": 10,
    "start_time": "2024-03-14T08:49:41.557Z"
   },
   {
    "duration": 20,
    "start_time": "2024-03-14T08:49:41.568Z"
   },
   {
    "duration": 1667,
    "start_time": "2024-03-14T08:49:41.590Z"
   },
   {
    "duration": 0,
    "start_time": "2024-03-14T08:49:43.260Z"
   },
   {
    "duration": 0,
    "start_time": "2024-03-14T08:49:43.261Z"
   },
   {
    "duration": 0,
    "start_time": "2024-03-14T08:49:43.262Z"
   },
   {
    "duration": 0,
    "start_time": "2024-03-14T08:49:43.264Z"
   },
   {
    "duration": 0,
    "start_time": "2024-03-14T08:49:43.265Z"
   },
   {
    "duration": 0,
    "start_time": "2024-03-14T08:49:43.266Z"
   },
   {
    "duration": 0,
    "start_time": "2024-03-14T08:49:43.267Z"
   },
   {
    "duration": 0,
    "start_time": "2024-03-14T08:49:43.269Z"
   },
   {
    "duration": 1609,
    "start_time": "2024-03-14T08:50:27.588Z"
   },
   {
    "duration": 13,
    "start_time": "2024-03-14T08:50:52.251Z"
   },
   {
    "duration": 7,
    "start_time": "2024-03-14T08:50:56.228Z"
   },
   {
    "duration": 1726,
    "start_time": "2024-03-14T08:51:03.195Z"
   },
   {
    "duration": 1536,
    "start_time": "2024-03-14T08:51:22.467Z"
   },
   {
    "duration": 1982,
    "start_time": "2024-03-14T08:55:48.054Z"
   },
   {
    "duration": 4,
    "start_time": "2024-03-14T08:57:51.184Z"
   },
   {
    "duration": 84,
    "start_time": "2024-03-14T08:57:51.192Z"
   },
   {
    "duration": 3,
    "start_time": "2024-03-14T08:57:51.279Z"
   },
   {
    "duration": 30,
    "start_time": "2024-03-14T08:57:51.284Z"
   },
   {
    "duration": 25,
    "start_time": "2024-03-14T08:57:51.317Z"
   },
   {
    "duration": 16,
    "start_time": "2024-03-14T08:57:51.344Z"
   },
   {
    "duration": 36,
    "start_time": "2024-03-14T08:57:51.362Z"
   },
   {
    "duration": 16,
    "start_time": "2024-03-14T08:57:51.401Z"
   },
   {
    "duration": 8,
    "start_time": "2024-03-14T08:57:51.419Z"
   },
   {
    "duration": 7,
    "start_time": "2024-03-14T08:57:51.430Z"
   },
   {
    "duration": 6,
    "start_time": "2024-03-14T08:57:51.439Z"
   },
   {
    "duration": 17,
    "start_time": "2024-03-14T08:57:51.487Z"
   },
   {
    "duration": 9,
    "start_time": "2024-03-14T08:57:51.506Z"
   },
   {
    "duration": 5,
    "start_time": "2024-03-14T08:57:51.517Z"
   },
   {
    "duration": 7,
    "start_time": "2024-03-14T08:57:51.524Z"
   },
   {
    "duration": 21,
    "start_time": "2024-03-14T08:57:51.532Z"
   },
   {
    "duration": 222,
    "start_time": "2024-03-14T08:57:51.556Z"
   },
   {
    "duration": 19,
    "start_time": "2024-03-14T08:57:51.780Z"
   },
   {
    "duration": 7,
    "start_time": "2024-03-14T08:57:51.801Z"
   },
   {
    "duration": 189,
    "start_time": "2024-03-14T08:57:51.811Z"
   },
   {
    "duration": 10,
    "start_time": "2024-03-14T08:57:52.002Z"
   },
   {
    "duration": 175,
    "start_time": "2024-03-14T08:57:52.014Z"
   },
   {
    "duration": 11,
    "start_time": "2024-03-14T08:57:52.191Z"
   },
   {
    "duration": 132,
    "start_time": "2024-03-14T08:57:52.204Z"
   },
   {
    "duration": 199,
    "start_time": "2024-03-14T08:57:52.338Z"
   },
   {
    "duration": 11,
    "start_time": "2024-03-14T08:57:52.539Z"
   },
   {
    "duration": 151,
    "start_time": "2024-03-14T08:57:52.552Z"
   },
   {
    "duration": 172,
    "start_time": "2024-03-14T08:57:52.705Z"
   },
   {
    "duration": 23,
    "start_time": "2024-03-14T08:57:52.880Z"
   },
   {
    "duration": 14,
    "start_time": "2024-03-14T08:57:52.905Z"
   },
   {
    "duration": 39,
    "start_time": "2024-03-14T08:57:52.921Z"
   },
   {
    "duration": 23,
    "start_time": "2024-03-14T08:57:52.962Z"
   },
   {
    "duration": 25,
    "start_time": "2024-03-14T08:57:52.987Z"
   },
   {
    "duration": 9,
    "start_time": "2024-03-14T08:57:53.014Z"
   },
   {
    "duration": 23,
    "start_time": "2024-03-14T08:57:53.026Z"
   },
   {
    "duration": 45,
    "start_time": "2024-03-14T08:57:53.051Z"
   },
   {
    "duration": 429,
    "start_time": "2024-03-14T08:57:53.099Z"
   },
   {
    "duration": 413,
    "start_time": "2024-03-14T08:57:53.531Z"
   },
   {
    "duration": 4,
    "start_time": "2024-03-14T08:57:53.946Z"
   },
   {
    "duration": 1165,
    "start_time": "2024-03-14T08:57:53.951Z"
   },
   {
    "duration": 13,
    "start_time": "2024-03-14T08:57:55.118Z"
   },
   {
    "duration": 9,
    "start_time": "2024-03-14T08:57:55.133Z"
   },
   {
    "duration": 2045,
    "start_time": "2024-03-14T08:57:57.831Z"
   },
   {
    "duration": 1755,
    "start_time": "2024-03-14T09:02:32.209Z"
   },
   {
    "duration": 1782,
    "start_time": "2024-03-14T09:03:06.337Z"
   },
   {
    "duration": 155,
    "start_time": "2024-03-14T09:04:14.210Z"
   },
   {
    "duration": 10,
    "start_time": "2024-03-14T09:04:21.649Z"
   },
   {
    "duration": 19,
    "start_time": "2024-03-14T09:06:48.586Z"
   },
   {
    "duration": 10,
    "start_time": "2024-03-14T09:07:32.386Z"
   },
   {
    "duration": 21,
    "start_time": "2024-03-14T09:07:55.259Z"
   },
   {
    "duration": 193,
    "start_time": "2024-03-14T09:08:30.170Z"
   },
   {
    "duration": 7,
    "start_time": "2024-03-14T09:08:36.322Z"
   },
   {
    "duration": 150,
    "start_time": "2024-03-14T09:08:38.842Z"
   },
   {
    "duration": 10,
    "start_time": "2024-03-14T09:08:55.714Z"
   },
   {
    "duration": 8,
    "start_time": "2024-03-14T09:09:17.851Z"
   },
   {
    "duration": 4,
    "start_time": "2024-03-14T09:09:18.123Z"
   },
   {
    "duration": 5,
    "start_time": "2024-03-14T09:42:29.277Z"
   },
   {
    "duration": 79,
    "start_time": "2024-03-14T09:42:29.284Z"
   },
   {
    "duration": 3,
    "start_time": "2024-03-14T09:42:29.365Z"
   },
   {
    "duration": 34,
    "start_time": "2024-03-14T09:42:29.370Z"
   },
   {
    "duration": 15,
    "start_time": "2024-03-14T09:42:29.406Z"
   },
   {
    "duration": 13,
    "start_time": "2024-03-14T09:42:29.423Z"
   },
   {
    "duration": 12,
    "start_time": "2024-03-14T09:42:29.437Z"
   },
   {
    "duration": 40,
    "start_time": "2024-03-14T09:42:29.450Z"
   },
   {
    "duration": 5,
    "start_time": "2024-03-14T09:42:29.492Z"
   },
   {
    "duration": 8,
    "start_time": "2024-03-14T09:42:29.499Z"
   },
   {
    "duration": 5,
    "start_time": "2024-03-14T09:42:29.510Z"
   },
   {
    "duration": 10,
    "start_time": "2024-03-14T09:42:29.516Z"
   },
   {
    "duration": 10,
    "start_time": "2024-03-14T09:42:29.527Z"
   },
   {
    "duration": 5,
    "start_time": "2024-03-14T09:42:29.538Z"
   },
   {
    "duration": 9,
    "start_time": "2024-03-14T09:42:29.544Z"
   },
   {
    "duration": 7,
    "start_time": "2024-03-14T09:42:29.586Z"
   },
   {
    "duration": 200,
    "start_time": "2024-03-14T09:42:29.594Z"
   },
   {
    "duration": 8,
    "start_time": "2024-03-14T09:42:29.796Z"
   },
   {
    "duration": 7,
    "start_time": "2024-03-14T09:42:29.806Z"
   },
   {
    "duration": 124,
    "start_time": "2024-03-14T09:42:29.815Z"
   },
   {
    "duration": 7,
    "start_time": "2024-03-14T09:42:29.940Z"
   },
   {
    "duration": 169,
    "start_time": "2024-03-14T09:42:29.949Z"
   },
   {
    "duration": 9,
    "start_time": "2024-03-14T09:42:30.121Z"
   },
   {
    "duration": 272,
    "start_time": "2024-03-14T09:42:30.132Z"
   },
   {
    "duration": 166,
    "start_time": "2024-03-14T09:42:30.405Z"
   },
   {
    "duration": 15,
    "start_time": "2024-03-14T09:42:30.573Z"
   },
   {
    "duration": 156,
    "start_time": "2024-03-14T09:42:30.590Z"
   },
   {
    "duration": 163,
    "start_time": "2024-03-14T09:42:30.748Z"
   },
   {
    "duration": 15,
    "start_time": "2024-03-14T09:42:30.914Z"
   },
   {
    "duration": 138,
    "start_time": "2024-03-14T09:42:30.930Z"
   },
   {
    "duration": 76,
    "start_time": "2024-03-14T09:42:31.069Z"
   },
   {
    "duration": 125,
    "start_time": "2024-03-14T09:42:31.147Z"
   },
   {
    "duration": 47,
    "start_time": "2024-03-14T09:42:31.274Z"
   },
   {
    "duration": 54,
    "start_time": "2024-03-14T09:42:31.323Z"
   },
   {
    "duration": 57,
    "start_time": "2024-03-14T09:42:31.379Z"
   },
   {
    "duration": 42,
    "start_time": "2024-03-14T09:42:31.437Z"
   },
   {
    "duration": 415,
    "start_time": "2024-03-14T09:42:31.481Z"
   },
   {
    "duration": 363,
    "start_time": "2024-03-14T09:42:31.897Z"
   },
   {
    "duration": 3,
    "start_time": "2024-03-14T09:42:32.261Z"
   },
   {
    "duration": 1018,
    "start_time": "2024-03-14T09:42:32.266Z"
   },
   {
    "duration": 11,
    "start_time": "2024-03-14T09:42:33.286Z"
   },
   {
    "duration": 9,
    "start_time": "2024-03-14T09:42:33.299Z"
   },
   {
    "duration": 161,
    "start_time": "2024-03-14T09:42:33.310Z"
   },
   {
    "duration": 15,
    "start_time": "2024-03-14T09:42:33.473Z"
   },
   {
    "duration": 6,
    "start_time": "2024-03-14T09:42:33.489Z"
   },
   {
    "duration": 16,
    "start_time": "2024-03-14T09:42:33.496Z"
   },
   {
    "duration": 13,
    "start_time": "2024-03-14T09:42:33.514Z"
   },
   {
    "duration": 15,
    "start_time": "2024-03-14T09:42:33.528Z"
   },
   {
    "duration": 5,
    "start_time": "2024-03-14T09:42:33.545Z"
   },
   {
    "duration": 322,
    "start_time": "2024-03-14T09:42:33.552Z"
   },
   {
    "duration": 289,
    "start_time": "2024-03-14T09:42:33.876Z"
   },
   {
    "duration": 9,
    "start_time": "2024-03-14T09:57:59.667Z"
   },
   {
    "duration": 9,
    "start_time": "2024-03-14T09:58:05.683Z"
   },
   {
    "duration": 11,
    "start_time": "2024-03-14T09:58:14.659Z"
   },
   {
    "duration": 58,
    "start_time": "2024-03-14T09:59:50.871Z"
   },
   {
    "duration": 1190,
    "start_time": "2024-03-14T10:00:16.663Z"
   },
   {
    "duration": 293,
    "start_time": "2024-03-14T10:00:17.855Z"
   },
   {
    "duration": 3,
    "start_time": "2024-03-14T10:00:18.149Z"
   },
   {
    "duration": 20,
    "start_time": "2024-03-14T10:00:18.154Z"
   },
   {
    "duration": 16,
    "start_time": "2024-03-14T10:00:18.175Z"
   },
   {
    "duration": 13,
    "start_time": "2024-03-14T10:00:18.192Z"
   },
   {
    "duration": 17,
    "start_time": "2024-03-14T10:00:18.206Z"
   },
   {
    "duration": 35,
    "start_time": "2024-03-14T10:00:18.224Z"
   },
   {
    "duration": 5,
    "start_time": "2024-03-14T10:00:18.260Z"
   },
   {
    "duration": 27,
    "start_time": "2024-03-14T10:00:18.268Z"
   },
   {
    "duration": 12,
    "start_time": "2024-03-14T10:00:18.297Z"
   },
   {
    "duration": 18,
    "start_time": "2024-03-14T10:00:18.311Z"
   },
   {
    "duration": 9,
    "start_time": "2024-03-14T10:00:18.331Z"
   },
   {
    "duration": 9,
    "start_time": "2024-03-14T10:00:18.341Z"
   },
   {
    "duration": 7,
    "start_time": "2024-03-14T10:00:18.351Z"
   },
   {
    "duration": 20,
    "start_time": "2024-03-14T10:00:18.360Z"
   },
   {
    "duration": 216,
    "start_time": "2024-03-14T10:00:18.382Z"
   },
   {
    "duration": 8,
    "start_time": "2024-03-14T10:00:18.599Z"
   },
   {
    "duration": 16,
    "start_time": "2024-03-14T10:00:18.608Z"
   },
   {
    "duration": 108,
    "start_time": "2024-03-14T10:00:18.625Z"
   },
   {
    "duration": 7,
    "start_time": "2024-03-14T10:00:18.734Z"
   },
   {
    "duration": 155,
    "start_time": "2024-03-14T10:00:18.742Z"
   },
   {
    "duration": 8,
    "start_time": "2024-03-14T10:00:18.899Z"
   },
   {
    "duration": 140,
    "start_time": "2024-03-14T10:00:18.909Z"
   },
   {
    "duration": 158,
    "start_time": "2024-03-14T10:00:19.051Z"
   },
   {
    "duration": 8,
    "start_time": "2024-03-14T10:00:19.211Z"
   },
   {
    "duration": 119,
    "start_time": "2024-03-14T10:00:19.220Z"
   },
   {
    "duration": 157,
    "start_time": "2024-03-14T10:00:19.343Z"
   },
   {
    "duration": 18,
    "start_time": "2024-03-14T10:00:19.502Z"
   },
   {
    "duration": 12,
    "start_time": "2024-03-14T10:00:19.521Z"
   },
   {
    "duration": 10,
    "start_time": "2024-03-14T10:00:19.535Z"
   },
   {
    "duration": 11,
    "start_time": "2024-03-14T10:00:19.547Z"
   },
   {
    "duration": 41,
    "start_time": "2024-03-14T10:00:19.560Z"
   },
   {
    "duration": 7,
    "start_time": "2024-03-14T10:00:19.602Z"
   },
   {
    "duration": 20,
    "start_time": "2024-03-14T10:00:19.610Z"
   },
   {
    "duration": 8,
    "start_time": "2024-03-14T10:00:19.632Z"
   },
   {
    "duration": 480,
    "start_time": "2024-03-14T10:00:19.642Z"
   },
   {
    "duration": 355,
    "start_time": "2024-03-14T10:00:20.124Z"
   },
   {
    "duration": 3,
    "start_time": "2024-03-14T10:00:20.487Z"
   },
   {
    "duration": 867,
    "start_time": "2024-03-14T10:00:20.491Z"
   },
   {
    "duration": 10,
    "start_time": "2024-03-14T10:00:21.360Z"
   },
   {
    "duration": 19,
    "start_time": "2024-03-14T10:00:21.371Z"
   },
   {
    "duration": 13,
    "start_time": "2024-03-14T10:00:21.391Z"
   },
   {
    "duration": 167,
    "start_time": "2024-03-14T10:00:21.405Z"
   },
   {
    "duration": 13,
    "start_time": "2024-03-14T10:00:21.574Z"
   },
   {
    "duration": 23,
    "start_time": "2024-03-14T10:00:21.588Z"
   },
   {
    "duration": 9,
    "start_time": "2024-03-14T10:00:21.612Z"
   },
   {
    "duration": 11,
    "start_time": "2024-03-14T10:00:21.622Z"
   },
   {
    "duration": 10,
    "start_time": "2024-03-14T10:00:21.635Z"
   },
   {
    "duration": 4,
    "start_time": "2024-03-14T10:00:21.647Z"
   },
   {
    "duration": 293,
    "start_time": "2024-03-14T10:00:21.653Z"
   },
   {
    "duration": 305,
    "start_time": "2024-03-14T10:00:21.948Z"
   },
   {
    "duration": 11,
    "start_time": "2024-03-14T10:02:30.171Z"
   },
   {
    "duration": 929,
    "start_time": "2024-03-14T10:03:24.658Z"
   },
   {
    "duration": 11,
    "start_time": "2024-03-14T10:03:25.589Z"
   },
   {
    "duration": 10,
    "start_time": "2024-03-14T10:04:07.057Z"
   },
   {
    "duration": 215,
    "start_time": "2024-03-14T10:05:06.938Z"
   },
   {
    "duration": 3,
    "start_time": "2024-03-14T10:05:15.698Z"
   },
   {
    "duration": 94,
    "start_time": "2024-03-14T10:05:15.706Z"
   },
   {
    "duration": 3,
    "start_time": "2024-03-14T10:05:15.802Z"
   },
   {
    "duration": 23,
    "start_time": "2024-03-14T10:05:15.806Z"
   },
   {
    "duration": 24,
    "start_time": "2024-03-14T10:05:15.831Z"
   },
   {
    "duration": 30,
    "start_time": "2024-03-14T10:05:15.858Z"
   },
   {
    "duration": 21,
    "start_time": "2024-03-14T10:05:15.890Z"
   },
   {
    "duration": 11,
    "start_time": "2024-03-14T10:05:15.913Z"
   },
   {
    "duration": 5,
    "start_time": "2024-03-14T10:05:15.926Z"
   },
   {
    "duration": 8,
    "start_time": "2024-03-14T10:05:15.933Z"
   },
   {
    "duration": 5,
    "start_time": "2024-03-14T10:05:15.942Z"
   },
   {
    "duration": 11,
    "start_time": "2024-03-14T10:05:15.949Z"
   },
   {
    "duration": 31,
    "start_time": "2024-03-14T10:05:15.962Z"
   },
   {
    "duration": 18,
    "start_time": "2024-03-14T10:05:15.995Z"
   },
   {
    "duration": 14,
    "start_time": "2024-03-14T10:05:16.016Z"
   },
   {
    "duration": 6,
    "start_time": "2024-03-14T10:05:16.032Z"
   },
   {
    "duration": 192,
    "start_time": "2024-03-14T10:05:16.039Z"
   },
   {
    "duration": 8,
    "start_time": "2024-03-14T10:05:16.232Z"
   },
   {
    "duration": 8,
    "start_time": "2024-03-14T10:05:16.241Z"
   },
   {
    "duration": 124,
    "start_time": "2024-03-14T10:05:16.251Z"
   },
   {
    "duration": 16,
    "start_time": "2024-03-14T10:05:16.376Z"
   },
   {
    "duration": 221,
    "start_time": "2024-03-14T10:05:16.393Z"
   },
   {
    "duration": 8,
    "start_time": "2024-03-14T10:05:16.615Z"
   },
   {
    "duration": 129,
    "start_time": "2024-03-14T10:05:16.625Z"
   },
   {
    "duration": 156,
    "start_time": "2024-03-14T10:05:16.756Z"
   },
   {
    "duration": 8,
    "start_time": "2024-03-14T10:05:16.914Z"
   },
   {
    "duration": 126,
    "start_time": "2024-03-14T10:05:16.924Z"
   },
   {
    "duration": 168,
    "start_time": "2024-03-14T10:05:17.052Z"
   },
   {
    "duration": 18,
    "start_time": "2024-03-14T10:05:17.222Z"
   },
   {
    "duration": 14,
    "start_time": "2024-03-14T10:05:17.242Z"
   },
   {
    "duration": 29,
    "start_time": "2024-03-14T10:05:17.258Z"
   },
   {
    "duration": 10,
    "start_time": "2024-03-14T10:05:17.289Z"
   },
   {
    "duration": 31,
    "start_time": "2024-03-14T10:05:17.301Z"
   },
   {
    "duration": 9,
    "start_time": "2024-03-14T10:05:17.334Z"
   },
   {
    "duration": 14,
    "start_time": "2024-03-14T10:05:17.345Z"
   },
   {
    "duration": 33,
    "start_time": "2024-03-14T10:05:17.360Z"
   },
   {
    "duration": 411,
    "start_time": "2024-03-14T10:05:17.394Z"
   },
   {
    "duration": 352,
    "start_time": "2024-03-14T10:05:17.806Z"
   },
   {
    "duration": 3,
    "start_time": "2024-03-14T10:05:18.159Z"
   },
   {
    "duration": 28,
    "start_time": "2024-03-14T10:05:18.164Z"
   },
   {
    "duration": 920,
    "start_time": "2024-03-14T10:05:18.193Z"
   },
   {
    "duration": 12,
    "start_time": "2024-03-14T10:05:19.117Z"
   },
   {
    "duration": 9,
    "start_time": "2024-03-14T10:05:19.131Z"
   },
   {
    "duration": 20,
    "start_time": "2024-03-14T10:05:19.141Z"
   },
   {
    "duration": 225,
    "start_time": "2024-03-14T10:05:19.163Z"
   },
   {
    "duration": 9,
    "start_time": "2024-03-14T10:05:19.389Z"
   },
   {
    "duration": 5,
    "start_time": "2024-03-14T10:05:19.400Z"
   },
   {
    "duration": 14,
    "start_time": "2024-03-14T10:05:19.407Z"
   },
   {
    "duration": 10,
    "start_time": "2024-03-14T10:05:19.423Z"
   },
   {
    "duration": 12,
    "start_time": "2024-03-14T10:05:19.434Z"
   },
   {
    "duration": 13,
    "start_time": "2024-03-14T10:05:19.447Z"
   },
   {
    "duration": 290,
    "start_time": "2024-03-14T10:05:19.461Z"
   },
   {
    "duration": 304,
    "start_time": "2024-03-14T10:05:19.753Z"
   },
   {
    "duration": 5,
    "start_time": "2024-03-14T10:19:36.266Z"
   },
   {
    "duration": 99,
    "start_time": "2024-03-14T10:25:46.630Z"
   },
   {
    "duration": 152,
    "start_time": "2024-03-14T10:31:46.472Z"
   },
   {
    "duration": 114,
    "start_time": "2024-03-14T10:31:55.809Z"
   },
   {
    "duration": 4,
    "start_time": "2024-03-14T10:32:55.512Z"
   },
   {
    "duration": 73,
    "start_time": "2024-03-14T10:32:55.520Z"
   },
   {
    "duration": 3,
    "start_time": "2024-03-14T10:32:55.595Z"
   },
   {
    "duration": 18,
    "start_time": "2024-03-14T10:32:55.600Z"
   },
   {
    "duration": 15,
    "start_time": "2024-03-14T10:32:55.620Z"
   },
   {
    "duration": 13,
    "start_time": "2024-03-14T10:32:55.636Z"
   },
   {
    "duration": 15,
    "start_time": "2024-03-14T10:32:55.687Z"
   },
   {
    "duration": 16,
    "start_time": "2024-03-14T10:32:55.704Z"
   },
   {
    "duration": 6,
    "start_time": "2024-03-14T10:32:55.722Z"
   },
   {
    "duration": 20,
    "start_time": "2024-03-14T10:32:55.730Z"
   },
   {
    "duration": 6,
    "start_time": "2024-03-14T10:32:55.753Z"
   },
   {
    "duration": 31,
    "start_time": "2024-03-14T10:32:55.761Z"
   },
   {
    "duration": 8,
    "start_time": "2024-03-14T10:32:55.794Z"
   },
   {
    "duration": 11,
    "start_time": "2024-03-14T10:32:55.804Z"
   },
   {
    "duration": 13,
    "start_time": "2024-03-14T10:32:55.817Z"
   },
   {
    "duration": 11,
    "start_time": "2024-03-14T10:32:55.831Z"
   },
   {
    "duration": 191,
    "start_time": "2024-03-14T10:32:55.844Z"
   },
   {
    "duration": 8,
    "start_time": "2024-03-14T10:32:56.037Z"
   },
   {
    "duration": 7,
    "start_time": "2024-03-14T10:32:56.047Z"
   },
   {
    "duration": 113,
    "start_time": "2024-03-14T10:32:56.056Z"
   },
   {
    "duration": 21,
    "start_time": "2024-03-14T10:32:56.171Z"
   },
   {
    "duration": 151,
    "start_time": "2024-03-14T10:32:56.193Z"
   },
   {
    "duration": 10,
    "start_time": "2024-03-14T10:32:56.346Z"
   },
   {
    "duration": 121,
    "start_time": "2024-03-14T10:32:56.358Z"
   },
   {
    "duration": 174,
    "start_time": "2024-03-14T10:32:56.481Z"
   },
   {
    "duration": 10,
    "start_time": "2024-03-14T10:32:56.657Z"
   },
   {
    "duration": 199,
    "start_time": "2024-03-14T10:32:56.668Z"
   },
   {
    "duration": 163,
    "start_time": "2024-03-14T10:32:56.869Z"
   },
   {
    "duration": 17,
    "start_time": "2024-03-14T10:32:57.036Z"
   },
   {
    "duration": 15,
    "start_time": "2024-03-14T10:32:57.055Z"
   },
   {
    "duration": 14,
    "start_time": "2024-03-14T10:32:57.088Z"
   },
   {
    "duration": 10,
    "start_time": "2024-03-14T10:32:57.104Z"
   },
   {
    "duration": 20,
    "start_time": "2024-03-14T10:32:57.115Z"
   },
   {
    "duration": 7,
    "start_time": "2024-03-14T10:32:57.137Z"
   },
   {
    "duration": 42,
    "start_time": "2024-03-14T10:32:57.146Z"
   },
   {
    "duration": 10,
    "start_time": "2024-03-14T10:32:57.190Z"
   },
   {
    "duration": 409,
    "start_time": "2024-03-14T10:32:57.201Z"
   },
   {
    "duration": 376,
    "start_time": "2024-03-14T10:32:57.612Z"
   },
   {
    "duration": 3,
    "start_time": "2024-03-14T10:32:57.990Z"
   },
   {
    "duration": 12,
    "start_time": "2024-03-14T10:32:57.995Z"
   },
   {
    "duration": 979,
    "start_time": "2024-03-14T10:32:58.008Z"
   },
   {
    "duration": 16,
    "start_time": "2024-03-14T10:32:58.989Z"
   },
   {
    "duration": 9,
    "start_time": "2024-03-14T10:32:59.007Z"
   },
   {
    "duration": 17,
    "start_time": "2024-03-14T10:32:59.017Z"
   },
   {
    "duration": 247,
    "start_time": "2024-03-14T10:32:59.036Z"
   },
   {
    "duration": 16,
    "start_time": "2024-03-14T10:32:59.287Z"
   },
   {
    "duration": 6,
    "start_time": "2024-03-14T10:32:59.305Z"
   },
   {
    "duration": 14,
    "start_time": "2024-03-14T10:32:59.312Z"
   },
   {
    "duration": 5,
    "start_time": "2024-03-14T10:32:59.327Z"
   },
   {
    "duration": 16,
    "start_time": "2024-03-14T10:32:59.334Z"
   },
   {
    "duration": 4,
    "start_time": "2024-03-14T10:32:59.351Z"
   },
   {
    "duration": 298,
    "start_time": "2024-03-14T10:32:59.357Z"
   },
   {
    "duration": 318,
    "start_time": "2024-03-14T10:32:59.657Z"
   },
   {
    "duration": 13,
    "start_time": "2024-03-14T10:59:33.022Z"
   },
   {
    "duration": 4,
    "start_time": "2024-03-14T10:59:33.853Z"
   },
   {
    "duration": 302,
    "start_time": "2024-03-14T11:01:23.526Z"
   },
   {
    "duration": 269,
    "start_time": "2024-03-14T11:02:16.911Z"
   },
   {
    "duration": 407,
    "start_time": "2024-03-14T11:02:49.623Z"
   },
   {
    "duration": 293,
    "start_time": "2024-03-14T11:02:59.297Z"
   },
   {
    "duration": 340,
    "start_time": "2024-03-14T11:03:57.336Z"
   },
   {
    "duration": 256,
    "start_time": "2024-03-14T11:06:14.624Z"
   },
   {
    "duration": 277,
    "start_time": "2024-03-14T11:56:22.942Z"
   },
   {
    "duration": 1189,
    "start_time": "2024-03-14T13:11:10.696Z"
   },
   {
    "duration": 208,
    "start_time": "2024-03-14T13:11:11.886Z"
   },
   {
    "duration": 2,
    "start_time": "2024-03-14T13:11:12.096Z"
   },
   {
    "duration": 28,
    "start_time": "2024-03-14T13:11:12.101Z"
   },
   {
    "duration": 24,
    "start_time": "2024-03-14T13:11:12.130Z"
   },
   {
    "duration": 16,
    "start_time": "2024-03-14T13:11:12.155Z"
   },
   {
    "duration": 18,
    "start_time": "2024-03-14T13:11:12.172Z"
   },
   {
    "duration": 30,
    "start_time": "2024-03-14T13:11:12.191Z"
   },
   {
    "duration": 23,
    "start_time": "2024-03-14T13:11:12.222Z"
   },
   {
    "duration": 20,
    "start_time": "2024-03-14T13:11:12.247Z"
   },
   {
    "duration": 39,
    "start_time": "2024-03-14T13:11:12.268Z"
   },
   {
    "duration": 10,
    "start_time": "2024-03-14T13:11:12.308Z"
   },
   {
    "duration": 11,
    "start_time": "2024-03-14T13:11:12.319Z"
   },
   {
    "duration": 35,
    "start_time": "2024-03-14T13:11:12.332Z"
   },
   {
    "duration": 16,
    "start_time": "2024-03-14T13:11:12.368Z"
   },
   {
    "duration": 39,
    "start_time": "2024-03-14T13:11:12.385Z"
   },
   {
    "duration": 24,
    "start_time": "2024-03-14T13:11:12.426Z"
   },
   {
    "duration": 179,
    "start_time": "2024-03-14T13:11:12.451Z"
   },
   {
    "duration": 7,
    "start_time": "2024-03-14T13:11:12.631Z"
   },
   {
    "duration": 14,
    "start_time": "2024-03-14T13:11:12.645Z"
   },
   {
    "duration": 98,
    "start_time": "2024-03-14T13:11:12.660Z"
   },
   {
    "duration": 7,
    "start_time": "2024-03-14T13:11:12.759Z"
   },
   {
    "duration": 140,
    "start_time": "2024-03-14T13:11:12.767Z"
   },
   {
    "duration": 7,
    "start_time": "2024-03-14T13:11:12.908Z"
   },
   {
    "duration": 124,
    "start_time": "2024-03-14T13:11:12.916Z"
   },
   {
    "duration": 137,
    "start_time": "2024-03-14T13:11:13.042Z"
   },
   {
    "duration": 8,
    "start_time": "2024-03-14T13:11:13.181Z"
   },
   {
    "duration": 106,
    "start_time": "2024-03-14T13:11:13.193Z"
   },
   {
    "duration": 145,
    "start_time": "2024-03-14T13:11:13.300Z"
   },
   {
    "duration": 17,
    "start_time": "2024-03-14T13:11:13.446Z"
   },
   {
    "duration": 11,
    "start_time": "2024-03-14T13:11:13.465Z"
   },
   {
    "duration": 17,
    "start_time": "2024-03-14T13:11:13.478Z"
   },
   {
    "duration": 28,
    "start_time": "2024-03-14T13:11:13.496Z"
   },
   {
    "duration": 35,
    "start_time": "2024-03-14T13:11:13.526Z"
   },
   {
    "duration": 31,
    "start_time": "2024-03-14T13:11:13.562Z"
   },
   {
    "duration": 28,
    "start_time": "2024-03-14T13:11:13.595Z"
   },
   {
    "duration": 45,
    "start_time": "2024-03-14T13:11:13.625Z"
   },
   {
    "duration": 387,
    "start_time": "2024-03-14T13:11:13.672Z"
   },
   {
    "duration": 298,
    "start_time": "2024-03-14T13:11:14.060Z"
   },
   {
    "duration": 3,
    "start_time": "2024-03-14T13:11:14.359Z"
   },
   {
    "duration": 39,
    "start_time": "2024-03-14T13:11:14.363Z"
   },
   {
    "duration": 824,
    "start_time": "2024-03-14T13:11:14.403Z"
   },
   {
    "duration": 9,
    "start_time": "2024-03-14T13:11:15.229Z"
   },
   {
    "duration": 54,
    "start_time": "2024-03-14T13:11:15.244Z"
   },
   {
    "duration": 46,
    "start_time": "2024-03-14T13:11:15.299Z"
   },
   {
    "duration": 206,
    "start_time": "2024-03-14T13:11:15.346Z"
   },
   {
    "duration": 8,
    "start_time": "2024-03-14T13:11:15.553Z"
   },
   {
    "duration": 33,
    "start_time": "2024-03-14T13:11:15.562Z"
   },
   {
    "duration": 49,
    "start_time": "2024-03-14T13:11:15.597Z"
   },
   {
    "duration": 37,
    "start_time": "2024-03-14T13:11:15.648Z"
   },
   {
    "duration": 28,
    "start_time": "2024-03-14T13:11:15.686Z"
   },
   {
    "duration": 40,
    "start_time": "2024-03-14T13:11:15.715Z"
   },
   {
    "duration": 296,
    "start_time": "2024-03-14T13:11:15.757Z"
   },
   {
    "duration": 250,
    "start_time": "2024-03-14T13:11:16.054Z"
   },
   {
    "duration": 70,
    "start_time": "2024-03-14T14:00:50.689Z"
   },
   {
    "duration": 4,
    "start_time": "2024-03-14T14:00:55.474Z"
   },
   {
    "duration": 8,
    "start_time": "2024-03-14T14:06:11.931Z"
   },
   {
    "duration": 10,
    "start_time": "2024-03-14T14:07:02.465Z"
   },
   {
    "duration": 15,
    "start_time": "2024-03-14T14:12:54.597Z"
   },
   {
    "duration": 15,
    "start_time": "2024-03-14T14:13:09.109Z"
   },
   {
    "duration": 14,
    "start_time": "2024-03-14T14:14:09.117Z"
   },
   {
    "duration": 3,
    "start_time": "2024-03-14T14:15:30.446Z"
   },
   {
    "duration": 15,
    "start_time": "2024-03-14T14:15:42.046Z"
   },
   {
    "duration": 14,
    "start_time": "2024-03-14T14:16:07.061Z"
   },
   {
    "duration": 3,
    "start_time": "2024-03-14T14:17:16.501Z"
   },
   {
    "duration": 7,
    "start_time": "2024-03-14T14:17:19.149Z"
   },
   {
    "duration": 14,
    "start_time": "2024-03-14T14:17:19.654Z"
   },
   {
    "duration": 6,
    "start_time": "2024-03-14T14:17:22.436Z"
   },
   {
    "duration": 13,
    "start_time": "2024-03-14T14:17:24.150Z"
   },
   {
    "duration": 6,
    "start_time": "2024-03-14T14:18:03.909Z"
   },
   {
    "duration": 15,
    "start_time": "2024-03-14T14:18:04.222Z"
   },
   {
    "duration": 14,
    "start_time": "2024-03-14T14:18:40.189Z"
   },
   {
    "duration": 9,
    "start_time": "2024-03-14T14:18:42.717Z"
   },
   {
    "duration": 74,
    "start_time": "2024-03-14T14:19:05.974Z"
   },
   {
    "duration": 338,
    "start_time": "2024-03-14T14:19:14.566Z"
   },
   {
    "duration": 383,
    "start_time": "2024-03-14T14:44:07.020Z"
   },
   {
    "duration": 329,
    "start_time": "2024-03-14T14:44:13.559Z"
   },
   {
    "duration": 691,
    "start_time": "2024-03-14T14:44:31.895Z"
   },
   {
    "duration": 403,
    "start_time": "2024-03-14T14:45:04.884Z"
   },
   {
    "duration": 616,
    "start_time": "2024-03-14T14:45:30.108Z"
   },
   {
    "duration": 534,
    "start_time": "2024-03-14T14:45:48.716Z"
   },
   {
    "duration": 449,
    "start_time": "2024-03-14T14:46:09.276Z"
   },
   {
    "duration": 458,
    "start_time": "2024-03-14T14:46:17.621Z"
   },
   {
    "duration": 513,
    "start_time": "2024-03-14T14:46:28.389Z"
   },
   {
    "duration": 358,
    "start_time": "2024-03-14T14:46:48.549Z"
   },
   {
    "duration": 371,
    "start_time": "2024-03-14T14:47:09.308Z"
   },
   {
    "duration": 337,
    "start_time": "2024-03-14T14:47:20.996Z"
   },
   {
    "duration": 318,
    "start_time": "2024-03-14T14:47:25.997Z"
   },
   {
    "duration": 336,
    "start_time": "2024-03-14T14:49:25.861Z"
   },
   {
    "duration": 412,
    "start_time": "2024-03-14T14:49:33.206Z"
   },
   {
    "duration": 88,
    "start_time": "2024-03-14T14:51:00.414Z"
   },
   {
    "duration": 65,
    "start_time": "2024-03-14T14:57:03.407Z"
   },
   {
    "duration": 356,
    "start_time": "2024-03-14T14:57:19.392Z"
   },
   {
    "duration": 5,
    "start_time": "2024-03-14T14:57:56.959Z"
   },
   {
    "duration": 8,
    "start_time": "2024-03-14T14:58:43.687Z"
   },
   {
    "duration": 451,
    "start_time": "2024-03-14T14:58:52.359Z"
   },
   {
    "duration": 6,
    "start_time": "2024-03-14T15:02:35.432Z"
   },
   {
    "duration": 5,
    "start_time": "2024-03-14T15:03:35.297Z"
   },
   {
    "duration": 459,
    "start_time": "2024-03-14T15:03:39.520Z"
   },
   {
    "duration": 425,
    "start_time": "2024-03-14T15:03:50.712Z"
   },
   {
    "duration": 5,
    "start_time": "2024-03-14T15:03:58.801Z"
   },
   {
    "duration": 400,
    "start_time": "2024-03-14T15:03:59.528Z"
   },
   {
    "duration": 5,
    "start_time": "2024-03-14T15:04:26.328Z"
   },
   {
    "duration": 517,
    "start_time": "2024-03-14T15:04:26.865Z"
   },
   {
    "duration": 422,
    "start_time": "2024-03-14T15:04:38.985Z"
   },
   {
    "duration": 5,
    "start_time": "2024-03-14T15:07:33.641Z"
   },
   {
    "duration": 411,
    "start_time": "2024-03-14T15:07:34.104Z"
   },
   {
    "duration": 5,
    "start_time": "2024-03-14T15:08:54.753Z"
   },
   {
    "duration": 473,
    "start_time": "2024-03-14T15:08:55.450Z"
   },
   {
    "duration": 4,
    "start_time": "2024-03-14T15:09:03.403Z"
   },
   {
    "duration": 82,
    "start_time": "2024-03-14T15:09:03.410Z"
   },
   {
    "duration": 3,
    "start_time": "2024-03-14T15:09:03.494Z"
   },
   {
    "duration": 33,
    "start_time": "2024-03-14T15:09:03.498Z"
   },
   {
    "duration": 33,
    "start_time": "2024-03-14T15:09:03.533Z"
   },
   {
    "duration": 23,
    "start_time": "2024-03-14T15:09:03.568Z"
   },
   {
    "duration": 15,
    "start_time": "2024-03-14T15:09:03.592Z"
   },
   {
    "duration": 45,
    "start_time": "2024-03-14T15:09:03.608Z"
   },
   {
    "duration": 15,
    "start_time": "2024-03-14T15:09:03.655Z"
   },
   {
    "duration": 15,
    "start_time": "2024-03-14T15:09:03.671Z"
   },
   {
    "duration": 21,
    "start_time": "2024-03-14T15:09:03.688Z"
   },
   {
    "duration": 29,
    "start_time": "2024-03-14T15:09:03.710Z"
   },
   {
    "duration": 31,
    "start_time": "2024-03-14T15:09:03.741Z"
   },
   {
    "duration": 19,
    "start_time": "2024-03-14T15:09:03.773Z"
   },
   {
    "duration": 12,
    "start_time": "2024-03-14T15:09:03.793Z"
   },
   {
    "duration": 10,
    "start_time": "2024-03-14T15:09:03.806Z"
   },
   {
    "duration": 4,
    "start_time": "2024-03-14T15:09:03.818Z"
   },
   {
    "duration": 164,
    "start_time": "2024-03-14T15:09:03.824Z"
   },
   {
    "duration": 8,
    "start_time": "2024-03-14T15:09:03.989Z"
   },
   {
    "duration": 11,
    "start_time": "2024-03-14T15:09:03.998Z"
   },
   {
    "duration": 94,
    "start_time": "2024-03-14T15:09:04.011Z"
   },
   {
    "duration": 6,
    "start_time": "2024-03-14T15:09:04.106Z"
   },
   {
    "duration": 137,
    "start_time": "2024-03-14T15:09:04.113Z"
   },
   {
    "duration": 7,
    "start_time": "2024-03-14T15:09:04.251Z"
   },
   {
    "duration": 110,
    "start_time": "2024-03-14T15:09:04.260Z"
   },
   {
    "duration": 155,
    "start_time": "2024-03-14T15:09:04.371Z"
   },
   {
    "duration": 7,
    "start_time": "2024-03-14T15:09:04.527Z"
   },
   {
    "duration": 107,
    "start_time": "2024-03-14T15:09:04.545Z"
   },
   {
    "duration": 217,
    "start_time": "2024-03-14T15:09:04.655Z"
   },
   {
    "duration": 14,
    "start_time": "2024-03-14T15:09:04.873Z"
   },
   {
    "duration": 14,
    "start_time": "2024-03-14T15:09:04.888Z"
   },
   {
    "duration": 10,
    "start_time": "2024-03-14T15:09:04.903Z"
   },
   {
    "duration": 12,
    "start_time": "2024-03-14T15:09:04.914Z"
   },
   {
    "duration": 20,
    "start_time": "2024-03-14T15:09:04.927Z"
   },
   {
    "duration": 14,
    "start_time": "2024-03-14T15:09:04.949Z"
   },
   {
    "duration": 25,
    "start_time": "2024-03-14T15:09:04.964Z"
   },
   {
    "duration": 5,
    "start_time": "2024-03-14T15:09:04.990Z"
   },
   {
    "duration": 15,
    "start_time": "2024-03-14T15:09:04.996Z"
   },
   {
    "duration": 10,
    "start_time": "2024-03-14T15:09:05.012Z"
   },
   {
    "duration": 368,
    "start_time": "2024-03-14T15:09:05.024Z"
   },
   {
    "duration": 5,
    "start_time": "2024-03-14T15:09:05.393Z"
   },
   {
    "duration": 4,
    "start_time": "2024-03-14T15:51:06.070Z"
   },
   {
    "duration": 94,
    "start_time": "2024-03-14T15:51:06.077Z"
   },
   {
    "duration": 3,
    "start_time": "2024-03-14T15:51:06.173Z"
   },
   {
    "duration": 23,
    "start_time": "2024-03-14T15:51:06.177Z"
   },
   {
    "duration": 20,
    "start_time": "2024-03-14T15:51:06.202Z"
   },
   {
    "duration": 13,
    "start_time": "2024-03-14T15:51:06.224Z"
   },
   {
    "duration": 34,
    "start_time": "2024-03-14T15:51:06.239Z"
   },
   {
    "duration": 43,
    "start_time": "2024-03-14T15:51:06.274Z"
   },
   {
    "duration": 4,
    "start_time": "2024-03-14T15:51:06.319Z"
   },
   {
    "duration": 7,
    "start_time": "2024-03-14T15:51:06.325Z"
   },
   {
    "duration": 21,
    "start_time": "2024-03-14T15:51:06.334Z"
   },
   {
    "duration": 22,
    "start_time": "2024-03-14T15:51:06.356Z"
   },
   {
    "duration": 16,
    "start_time": "2024-03-14T15:51:06.379Z"
   },
   {
    "duration": 9,
    "start_time": "2024-03-14T15:51:06.396Z"
   },
   {
    "duration": 4,
    "start_time": "2024-03-14T15:51:06.406Z"
   },
   {
    "duration": 13,
    "start_time": "2024-03-14T15:51:06.411Z"
   },
   {
    "duration": 4,
    "start_time": "2024-03-14T15:51:06.425Z"
   },
   {
    "duration": 163,
    "start_time": "2024-03-14T15:51:06.431Z"
   },
   {
    "duration": 8,
    "start_time": "2024-03-14T15:51:06.595Z"
   },
   {
    "duration": 6,
    "start_time": "2024-03-14T15:51:06.604Z"
   },
   {
    "duration": 104,
    "start_time": "2024-03-14T15:51:06.611Z"
   },
   {
    "duration": 7,
    "start_time": "2024-03-14T15:51:06.716Z"
   },
   {
    "duration": 137,
    "start_time": "2024-03-14T15:51:06.724Z"
   },
   {
    "duration": 7,
    "start_time": "2024-03-14T15:51:06.863Z"
   },
   {
    "duration": 126,
    "start_time": "2024-03-14T15:51:06.872Z"
   },
   {
    "duration": 146,
    "start_time": "2024-03-14T15:51:06.999Z"
   },
   {
    "duration": 8,
    "start_time": "2024-03-14T15:51:07.146Z"
   },
   {
    "duration": 112,
    "start_time": "2024-03-14T15:51:07.155Z"
   },
   {
    "duration": 147,
    "start_time": "2024-03-14T15:51:07.270Z"
   },
   {
    "duration": 15,
    "start_time": "2024-03-14T15:51:07.418Z"
   },
   {
    "duration": 4,
    "start_time": "2024-03-14T15:51:07.444Z"
   },
   {
    "duration": 10,
    "start_time": "2024-03-14T15:51:07.450Z"
   },
   {
    "duration": 11,
    "start_time": "2024-03-14T15:51:07.462Z"
   },
   {
    "duration": 5,
    "start_time": "2024-03-14T15:51:07.474Z"
   },
   {
    "duration": 21,
    "start_time": "2024-03-14T15:51:07.480Z"
   },
   {
    "duration": 15,
    "start_time": "2024-03-14T15:51:07.503Z"
   },
   {
    "duration": 28,
    "start_time": "2024-03-14T15:51:07.519Z"
   },
   {
    "duration": 20,
    "start_time": "2024-03-14T15:51:07.548Z"
   },
   {
    "duration": 7,
    "start_time": "2024-03-14T15:51:07.570Z"
   },
   {
    "duration": 470,
    "start_time": "2024-03-14T15:51:07.578Z"
   },
   {
    "duration": 5,
    "start_time": "2024-03-14T15:51:08.049Z"
   },
   {
    "duration": 431,
    "start_time": "2024-03-14T15:51:08.056Z"
   },
   {
    "duration": 320,
    "start_time": "2024-03-14T15:51:08.489Z"
   },
   {
    "duration": 3,
    "start_time": "2024-03-14T15:51:08.811Z"
   },
   {
    "duration": 20,
    "start_time": "2024-03-14T15:51:08.815Z"
   },
   {
    "duration": 1246,
    "start_time": "2024-03-14T15:51:08.837Z"
   },
   {
    "duration": 61,
    "start_time": "2024-03-14T15:51:10.085Z"
   },
   {
    "duration": 6,
    "start_time": "2024-03-14T15:51:10.147Z"
   },
   {
    "duration": 13,
    "start_time": "2024-03-14T15:51:10.154Z"
   },
   {
    "duration": 408,
    "start_time": "2024-03-14T15:51:10.168Z"
   },
   {
    "duration": 10,
    "start_time": "2024-03-14T15:51:10.577Z"
   },
   {
    "duration": 60,
    "start_time": "2024-03-14T15:51:10.589Z"
   },
   {
    "duration": 8,
    "start_time": "2024-03-14T15:51:10.650Z"
   },
   {
    "duration": 5,
    "start_time": "2024-03-14T15:51:10.660Z"
   },
   {
    "duration": 13,
    "start_time": "2024-03-14T15:51:10.667Z"
   },
   {
    "duration": 3,
    "start_time": "2024-03-14T15:51:10.682Z"
   },
   {
    "duration": 305,
    "start_time": "2024-03-14T15:51:10.686Z"
   },
   {
    "duration": 372,
    "start_time": "2024-03-14T15:51:10.993Z"
   },
   {
    "duration": 266,
    "start_time": "2024-03-14T16:00:07.005Z"
   },
   {
    "duration": 189,
    "start_time": "2024-03-14T16:00:26.530Z"
   },
   {
    "duration": 207,
    "start_time": "2024-03-14T16:01:46.998Z"
   },
   {
    "duration": 312,
    "start_time": "2024-03-14T16:02:17.617Z"
   },
   {
    "duration": 197,
    "start_time": "2024-03-14T16:02:24.926Z"
   },
   {
    "duration": 313,
    "start_time": "2024-03-14T16:04:09.318Z"
   },
   {
    "duration": 224,
    "start_time": "2024-03-14T16:04:49.639Z"
   },
   {
    "duration": 246,
    "start_time": "2024-03-14T16:05:01.934Z"
   },
   {
    "duration": 240,
    "start_time": "2024-03-14T16:08:23.833Z"
   },
   {
    "duration": 234,
    "start_time": "2024-03-14T16:12:39.385Z"
   },
   {
    "duration": 235,
    "start_time": "2024-03-14T16:12:49.593Z"
   },
   {
    "duration": 311,
    "start_time": "2024-03-14T16:12:59.337Z"
   },
   {
    "duration": 229,
    "start_time": "2024-03-14T16:16:22.730Z"
   },
   {
    "duration": 276,
    "start_time": "2024-03-14T16:24:03.179Z"
   },
   {
    "duration": 236,
    "start_time": "2024-03-14T16:24:20.274Z"
   },
   {
    "duration": 264,
    "start_time": "2024-03-14T16:24:45.531Z"
   },
   {
    "duration": 322,
    "start_time": "2024-03-14T16:24:55.708Z"
   },
   {
    "duration": 250,
    "start_time": "2024-03-14T16:25:11.731Z"
   },
   {
    "duration": 251,
    "start_time": "2024-03-14T16:25:19.642Z"
   },
   {
    "duration": 1369,
    "start_time": "2024-03-15T07:34:01.733Z"
   },
   {
    "duration": 307,
    "start_time": "2024-03-15T07:34:03.104Z"
   },
   {
    "duration": 3,
    "start_time": "2024-03-15T07:34:03.412Z"
   },
   {
    "duration": 41,
    "start_time": "2024-03-15T07:34:03.417Z"
   },
   {
    "duration": 19,
    "start_time": "2024-03-15T07:34:03.460Z"
   },
   {
    "duration": 13,
    "start_time": "2024-03-15T07:34:03.481Z"
   },
   {
    "duration": 16,
    "start_time": "2024-03-15T07:34:03.496Z"
   },
   {
    "duration": 18,
    "start_time": "2024-03-15T07:34:03.513Z"
   },
   {
    "duration": 11,
    "start_time": "2024-03-15T07:34:03.532Z"
   },
   {
    "duration": 5,
    "start_time": "2024-03-15T07:34:03.559Z"
   },
   {
    "duration": 7,
    "start_time": "2024-03-15T07:34:03.565Z"
   },
   {
    "duration": 16,
    "start_time": "2024-03-15T07:34:03.574Z"
   },
   {
    "duration": 30,
    "start_time": "2024-03-15T07:34:03.592Z"
   },
   {
    "duration": 16,
    "start_time": "2024-03-15T07:34:03.623Z"
   },
   {
    "duration": 5,
    "start_time": "2024-03-15T07:34:03.640Z"
   },
   {
    "duration": 12,
    "start_time": "2024-03-15T07:34:03.647Z"
   },
   {
    "duration": 15,
    "start_time": "2024-03-15T07:34:03.660Z"
   },
   {
    "duration": 213,
    "start_time": "2024-03-15T07:34:03.677Z"
   },
   {
    "duration": 8,
    "start_time": "2024-03-15T07:34:03.891Z"
   },
   {
    "duration": 15,
    "start_time": "2024-03-15T07:34:03.900Z"
   },
   {
    "duration": 98,
    "start_time": "2024-03-15T07:34:03.917Z"
   },
   {
    "duration": 7,
    "start_time": "2024-03-15T07:34:04.016Z"
   },
   {
    "duration": 158,
    "start_time": "2024-03-15T07:34:04.024Z"
   },
   {
    "duration": 8,
    "start_time": "2024-03-15T07:34:04.183Z"
   },
   {
    "duration": 116,
    "start_time": "2024-03-15T07:34:04.192Z"
   },
   {
    "duration": 160,
    "start_time": "2024-03-15T07:34:04.310Z"
   },
   {
    "duration": 8,
    "start_time": "2024-03-15T07:34:04.472Z"
   },
   {
    "duration": 123,
    "start_time": "2024-03-15T07:34:04.483Z"
   },
   {
    "duration": 174,
    "start_time": "2024-03-15T07:34:04.607Z"
   },
   {
    "duration": 18,
    "start_time": "2024-03-15T07:34:04.782Z"
   },
   {
    "duration": 14,
    "start_time": "2024-03-15T07:34:04.802Z"
   },
   {
    "duration": 10,
    "start_time": "2024-03-15T07:34:04.817Z"
   },
   {
    "duration": 33,
    "start_time": "2024-03-15T07:34:04.829Z"
   },
   {
    "duration": 3,
    "start_time": "2024-03-15T07:34:04.865Z"
   },
   {
    "duration": 106,
    "start_time": "2024-03-15T07:34:04.869Z"
   },
   {
    "duration": 14,
    "start_time": "2024-03-15T07:34:04.978Z"
   },
   {
    "duration": 12,
    "start_time": "2024-03-15T07:34:04.994Z"
   },
   {
    "duration": 14,
    "start_time": "2024-03-15T07:34:05.008Z"
   },
   {
    "duration": 7,
    "start_time": "2024-03-15T07:34:05.024Z"
   },
   {
    "duration": 263,
    "start_time": "2024-03-15T07:34:05.033Z"
   },
   {
    "duration": 289,
    "start_time": "2024-03-15T07:34:05.297Z"
   },
   {
    "duration": 3,
    "start_time": "2024-03-15T07:34:05.588Z"
   },
   {
    "duration": 15,
    "start_time": "2024-03-15T07:34:05.592Z"
   },
   {
    "duration": 873,
    "start_time": "2024-03-15T07:34:05.609Z"
   },
   {
    "duration": 11,
    "start_time": "2024-03-15T07:34:06.484Z"
   },
   {
    "duration": 6,
    "start_time": "2024-03-15T07:34:06.497Z"
   },
   {
    "duration": 16,
    "start_time": "2024-03-15T07:34:06.505Z"
   },
   {
    "duration": 208,
    "start_time": "2024-03-15T07:34:06.523Z"
   },
   {
    "duration": 8,
    "start_time": "2024-03-15T07:34:06.733Z"
   },
   {
    "duration": 16,
    "start_time": "2024-03-15T07:34:06.743Z"
   },
   {
    "duration": 4,
    "start_time": "2024-03-15T07:34:06.761Z"
   },
   {
    "duration": 11,
    "start_time": "2024-03-15T07:34:06.766Z"
   },
   {
    "duration": 17,
    "start_time": "2024-03-15T07:34:06.778Z"
   },
   {
    "duration": 5,
    "start_time": "2024-03-15T07:34:06.797Z"
   },
   {
    "duration": 357,
    "start_time": "2024-03-15T07:34:06.804Z"
   },
   {
    "duration": 262,
    "start_time": "2024-03-15T07:34:07.162Z"
   },
   {
    "duration": 4,
    "start_time": "2024-03-15T07:52:42.192Z"
   },
   {
    "duration": 92,
    "start_time": "2024-03-15T07:52:42.199Z"
   },
   {
    "duration": 3,
    "start_time": "2024-03-15T07:52:42.292Z"
   },
   {
    "duration": 27,
    "start_time": "2024-03-15T07:52:42.296Z"
   },
   {
    "duration": 24,
    "start_time": "2024-03-15T07:52:42.325Z"
   },
   {
    "duration": 12,
    "start_time": "2024-03-15T07:52:42.359Z"
   },
   {
    "duration": 15,
    "start_time": "2024-03-15T07:52:42.373Z"
   },
   {
    "duration": 10,
    "start_time": "2024-03-15T07:52:42.390Z"
   },
   {
    "duration": 13,
    "start_time": "2024-03-15T07:52:42.402Z"
   },
   {
    "duration": 21,
    "start_time": "2024-03-15T07:52:42.417Z"
   },
   {
    "duration": 18,
    "start_time": "2024-03-15T07:52:42.441Z"
   },
   {
    "duration": 13,
    "start_time": "2024-03-15T07:52:42.460Z"
   },
   {
    "duration": 24,
    "start_time": "2024-03-15T07:52:42.474Z"
   },
   {
    "duration": 18,
    "start_time": "2024-03-15T07:52:42.500Z"
   },
   {
    "duration": 10,
    "start_time": "2024-03-15T07:52:42.520Z"
   },
   {
    "duration": 28,
    "start_time": "2024-03-15T07:52:42.531Z"
   },
   {
    "duration": 37,
    "start_time": "2024-03-15T07:52:42.560Z"
   },
   {
    "duration": 183,
    "start_time": "2024-03-15T07:52:42.599Z"
   },
   {
    "duration": 8,
    "start_time": "2024-03-15T07:52:42.783Z"
   },
   {
    "duration": 14,
    "start_time": "2024-03-15T07:52:42.792Z"
   },
   {
    "duration": 96,
    "start_time": "2024-03-15T07:52:42.807Z"
   },
   {
    "duration": 8,
    "start_time": "2024-03-15T07:52:42.904Z"
   },
   {
    "duration": 225,
    "start_time": "2024-03-15T07:52:42.913Z"
   },
   {
    "duration": 7,
    "start_time": "2024-03-15T07:52:43.140Z"
   },
   {
    "duration": 102,
    "start_time": "2024-03-15T07:52:43.158Z"
   },
   {
    "duration": 151,
    "start_time": "2024-03-15T07:52:43.261Z"
   },
   {
    "duration": 7,
    "start_time": "2024-03-15T07:52:43.413Z"
   },
   {
    "duration": 135,
    "start_time": "2024-03-15T07:52:43.422Z"
   },
   {
    "duration": 162,
    "start_time": "2024-03-15T07:52:43.561Z"
   },
   {
    "duration": 15,
    "start_time": "2024-03-15T07:52:43.724Z"
   },
   {
    "duration": 3,
    "start_time": "2024-03-15T07:52:43.741Z"
   },
   {
    "duration": 22,
    "start_time": "2024-03-15T07:52:43.745Z"
   },
   {
    "duration": 12,
    "start_time": "2024-03-15T07:52:43.769Z"
   },
   {
    "duration": 12,
    "start_time": "2024-03-15T07:52:43.782Z"
   },
   {
    "duration": 23,
    "start_time": "2024-03-15T07:52:43.795Z"
   },
   {
    "duration": 15,
    "start_time": "2024-03-15T07:52:43.819Z"
   },
   {
    "duration": 7,
    "start_time": "2024-03-15T07:52:43.836Z"
   },
   {
    "duration": 24,
    "start_time": "2024-03-15T07:52:43.844Z"
   },
   {
    "duration": 8,
    "start_time": "2024-03-15T07:52:43.869Z"
   },
   {
    "duration": 245,
    "start_time": "2024-03-15T07:52:43.878Z"
   },
   {
    "duration": 241,
    "start_time": "2024-03-15T07:52:44.124Z"
   },
   {
    "duration": 3,
    "start_time": "2024-03-15T07:52:44.366Z"
   },
   {
    "duration": 23,
    "start_time": "2024-03-15T07:52:44.371Z"
   },
   {
    "duration": 891,
    "start_time": "2024-03-15T07:52:44.395Z"
   },
   {
    "duration": 10,
    "start_time": "2024-03-15T07:52:45.288Z"
   },
   {
    "duration": 99,
    "start_time": "2024-03-15T07:52:45.300Z"
   },
   {
    "duration": 90,
    "start_time": "2024-03-15T07:52:45.400Z"
   },
   {
    "duration": 254,
    "start_time": "2024-03-15T07:52:45.492Z"
   },
   {
    "duration": 12,
    "start_time": "2024-03-15T07:52:45.748Z"
   },
   {
    "duration": 83,
    "start_time": "2024-03-15T07:52:45.761Z"
   },
   {
    "duration": 69,
    "start_time": "2024-03-15T07:52:45.846Z"
   },
   {
    "duration": 61,
    "start_time": "2024-03-15T07:52:45.916Z"
   },
   {
    "duration": 81,
    "start_time": "2024-03-15T07:52:45.978Z"
   },
   {
    "duration": 34,
    "start_time": "2024-03-15T07:52:46.060Z"
   },
   {
    "duration": 321,
    "start_time": "2024-03-15T07:52:46.095Z"
   },
   {
    "duration": 311,
    "start_time": "2024-03-15T07:52:46.418Z"
   },
   {
    "duration": 1312,
    "start_time": "2024-03-17T07:43:43.666Z"
   },
   {
    "duration": 318,
    "start_time": "2024-03-17T07:43:44.979Z"
   },
   {
    "duration": 3,
    "start_time": "2024-03-17T07:43:45.299Z"
   },
   {
    "duration": 61,
    "start_time": "2024-03-17T07:43:45.305Z"
   },
   {
    "duration": 15,
    "start_time": "2024-03-17T07:43:45.368Z"
   },
   {
    "duration": 47,
    "start_time": "2024-03-17T07:43:45.384Z"
   },
   {
    "duration": 44,
    "start_time": "2024-03-17T07:43:45.433Z"
   },
   {
    "duration": 19,
    "start_time": "2024-03-17T07:43:45.479Z"
   },
   {
    "duration": 11,
    "start_time": "2024-03-17T07:43:45.500Z"
   },
   {
    "duration": 7,
    "start_time": "2024-03-17T07:43:45.514Z"
   },
   {
    "duration": 5,
    "start_time": "2024-03-17T07:43:45.523Z"
   },
   {
    "duration": 5,
    "start_time": "2024-03-17T07:43:45.529Z"
   },
   {
    "duration": 20,
    "start_time": "2024-03-17T07:43:45.535Z"
   },
   {
    "duration": 21,
    "start_time": "2024-03-17T07:43:45.556Z"
   },
   {
    "duration": 4,
    "start_time": "2024-03-17T07:43:45.579Z"
   },
   {
    "duration": 15,
    "start_time": "2024-03-17T07:43:45.584Z"
   },
   {
    "duration": 5,
    "start_time": "2024-03-17T07:43:45.600Z"
   },
   {
    "duration": 217,
    "start_time": "2024-03-17T07:43:45.606Z"
   },
   {
    "duration": 8,
    "start_time": "2024-03-17T07:43:45.824Z"
   },
   {
    "duration": 7,
    "start_time": "2024-03-17T07:43:45.834Z"
   },
   {
    "duration": 102,
    "start_time": "2024-03-17T07:43:45.842Z"
   },
   {
    "duration": 8,
    "start_time": "2024-03-17T07:43:45.945Z"
   },
   {
    "duration": 157,
    "start_time": "2024-03-17T07:43:45.954Z"
   },
   {
    "duration": 7,
    "start_time": "2024-03-17T07:43:46.113Z"
   },
   {
    "duration": 115,
    "start_time": "2024-03-17T07:43:46.121Z"
   },
   {
    "duration": 151,
    "start_time": "2024-03-17T07:43:46.238Z"
   },
   {
    "duration": 7,
    "start_time": "2024-03-17T07:43:46.390Z"
   },
   {
    "duration": 110,
    "start_time": "2024-03-17T07:43:46.400Z"
   },
   {
    "duration": 159,
    "start_time": "2024-03-17T07:43:46.512Z"
   },
   {
    "duration": 17,
    "start_time": "2024-03-17T07:43:46.672Z"
   },
   {
    "duration": 3,
    "start_time": "2024-03-17T07:43:46.690Z"
   },
   {
    "duration": 9,
    "start_time": "2024-03-17T07:43:46.695Z"
   },
   {
    "duration": 10,
    "start_time": "2024-03-17T07:43:46.705Z"
   },
   {
    "duration": 3,
    "start_time": "2024-03-17T07:43:46.717Z"
   },
   {
    "duration": 10,
    "start_time": "2024-03-17T07:43:46.721Z"
   },
   {
    "duration": 46,
    "start_time": "2024-03-17T07:43:46.732Z"
   },
   {
    "duration": 5,
    "start_time": "2024-03-17T07:43:46.780Z"
   },
   {
    "duration": 14,
    "start_time": "2024-03-17T07:43:46.787Z"
   },
   {
    "duration": 7,
    "start_time": "2024-03-17T07:43:46.802Z"
   },
   {
    "duration": 344,
    "start_time": "2024-03-17T07:43:46.811Z"
   },
   {
    "duration": 259,
    "start_time": "2024-03-17T07:43:47.156Z"
   },
   {
    "duration": 3,
    "start_time": "2024-03-17T07:43:47.417Z"
   },
   {
    "duration": 24,
    "start_time": "2024-03-17T07:43:47.421Z"
   },
   {
    "duration": 941,
    "start_time": "2024-03-17T07:43:47.447Z"
   },
   {
    "duration": 11,
    "start_time": "2024-03-17T07:43:48.390Z"
   },
   {
    "duration": 5,
    "start_time": "2024-03-17T07:43:48.402Z"
   },
   {
    "duration": 9,
    "start_time": "2024-03-17T07:43:48.409Z"
   },
   {
    "duration": 220,
    "start_time": "2024-03-17T07:43:48.419Z"
   },
   {
    "duration": 7,
    "start_time": "2024-03-17T07:43:48.641Z"
   },
   {
    "duration": 4,
    "start_time": "2024-03-17T07:43:48.650Z"
   },
   {
    "duration": 3,
    "start_time": "2024-03-17T07:43:48.669Z"
   },
   {
    "duration": 5,
    "start_time": "2024-03-17T07:43:48.673Z"
   },
   {
    "duration": 8,
    "start_time": "2024-03-17T07:43:48.680Z"
   },
   {
    "duration": 3,
    "start_time": "2024-03-17T07:43:48.689Z"
   },
   {
    "duration": 328,
    "start_time": "2024-03-17T07:43:48.693Z"
   },
   {
    "duration": 262,
    "start_time": "2024-03-17T07:43:49.022Z"
   },
   {
    "duration": 4,
    "start_time": "2024-03-17T07:45:58.742Z"
   },
   {
    "duration": 77,
    "start_time": "2024-03-17T07:45:58.747Z"
   },
   {
    "duration": 2,
    "start_time": "2024-03-17T07:45:58.826Z"
   },
   {
    "duration": 19,
    "start_time": "2024-03-17T07:45:58.830Z"
   },
   {
    "duration": 19,
    "start_time": "2024-03-17T07:45:58.851Z"
   },
   {
    "duration": 13,
    "start_time": "2024-03-17T07:45:58.871Z"
   },
   {
    "duration": 23,
    "start_time": "2024-03-17T07:45:58.885Z"
   },
   {
    "duration": 20,
    "start_time": "2024-03-17T07:45:58.909Z"
   },
   {
    "duration": 5,
    "start_time": "2024-03-17T07:45:58.931Z"
   },
   {
    "duration": 18,
    "start_time": "2024-03-17T07:45:58.937Z"
   },
   {
    "duration": 25,
    "start_time": "2024-03-17T07:45:58.956Z"
   },
   {
    "duration": 19,
    "start_time": "2024-03-17T07:45:58.982Z"
   },
   {
    "duration": 13,
    "start_time": "2024-03-17T07:45:59.004Z"
   },
   {
    "duration": 27,
    "start_time": "2024-03-17T07:45:59.019Z"
   },
   {
    "duration": 7,
    "start_time": "2024-03-17T07:45:59.047Z"
   },
   {
    "duration": 16,
    "start_time": "2024-03-17T07:45:59.055Z"
   },
   {
    "duration": 8,
    "start_time": "2024-03-17T07:45:59.073Z"
   },
   {
    "duration": 12,
    "start_time": "2024-03-17T07:45:59.082Z"
   },
   {
    "duration": 188,
    "start_time": "2024-03-17T07:45:59.095Z"
   },
   {
    "duration": 7,
    "start_time": "2024-03-17T07:45:59.285Z"
   },
   {
    "duration": 7,
    "start_time": "2024-03-17T07:45:59.293Z"
   },
   {
    "duration": 116,
    "start_time": "2024-03-17T07:45:59.301Z"
   },
   {
    "duration": 7,
    "start_time": "2024-03-17T07:45:59.419Z"
   },
   {
    "duration": 176,
    "start_time": "2024-03-17T07:45:59.427Z"
   },
   {
    "duration": 8,
    "start_time": "2024-03-17T07:45:59.604Z"
   },
   {
    "duration": 196,
    "start_time": "2024-03-17T07:45:59.614Z"
   },
   {
    "duration": 186,
    "start_time": "2024-03-17T07:45:59.812Z"
   },
   {
    "duration": 9,
    "start_time": "2024-03-17T07:45:59.999Z"
   },
   {
    "duration": 148,
    "start_time": "2024-03-17T07:46:00.009Z"
   },
   {
    "duration": 177,
    "start_time": "2024-03-17T07:46:00.159Z"
   },
   {
    "duration": 18,
    "start_time": "2024-03-17T07:46:00.338Z"
   },
   {
    "duration": 107,
    "start_time": "2024-03-17T07:46:00.358Z"
   },
   {
    "duration": 283,
    "start_time": "2024-03-17T07:46:00.466Z"
   },
   {
    "duration": 168,
    "start_time": "2024-03-17T07:46:00.751Z"
   },
   {
    "duration": 73,
    "start_time": "2024-03-17T07:46:00.921Z"
   },
   {
    "duration": 53,
    "start_time": "2024-03-17T07:46:00.996Z"
   },
   {
    "duration": 45,
    "start_time": "2024-03-17T07:46:01.053Z"
   },
   {
    "duration": 47,
    "start_time": "2024-03-17T07:46:01.100Z"
   },
   {
    "duration": 101,
    "start_time": "2024-03-17T07:46:01.149Z"
   },
   {
    "duration": 33,
    "start_time": "2024-03-17T07:46:01.269Z"
   },
   {
    "duration": 582,
    "start_time": "2024-03-17T07:46:01.304Z"
   },
   {
    "duration": 481,
    "start_time": "2024-03-17T07:46:01.888Z"
   },
   {
    "duration": 3,
    "start_time": "2024-03-17T07:46:02.371Z"
   },
   {
    "duration": 426,
    "start_time": "2024-03-17T07:46:02.376Z"
   },
   {
    "duration": 931,
    "start_time": "2024-03-17T07:46:02.804Z"
   },
   {
    "duration": 12,
    "start_time": "2024-03-17T07:46:03.737Z"
   },
   {
    "duration": 20,
    "start_time": "2024-03-17T07:46:03.750Z"
   },
   {
    "duration": 9,
    "start_time": "2024-03-17T07:46:03.771Z"
   },
   {
    "duration": 197,
    "start_time": "2024-03-17T07:46:03.781Z"
   },
   {
    "duration": 9,
    "start_time": "2024-03-17T07:46:03.979Z"
   },
   {
    "duration": 5,
    "start_time": "2024-03-17T07:46:03.989Z"
   },
   {
    "duration": 42,
    "start_time": "2024-03-17T07:46:03.996Z"
   },
   {
    "duration": 19,
    "start_time": "2024-03-17T07:46:04.039Z"
   },
   {
    "duration": 14,
    "start_time": "2024-03-17T07:46:04.060Z"
   },
   {
    "duration": 3,
    "start_time": "2024-03-17T07:46:04.075Z"
   },
   {
    "duration": 262,
    "start_time": "2024-03-17T07:46:04.079Z"
   },
   {
    "duration": 287,
    "start_time": "2024-03-17T07:46:04.342Z"
   },
   {
    "duration": 4,
    "start_time": "2024-03-17T08:04:44.059Z"
   },
   {
    "duration": 72,
    "start_time": "2024-03-17T08:04:44.075Z"
   },
   {
    "duration": 3,
    "start_time": "2024-03-17T08:04:44.149Z"
   },
   {
    "duration": 25,
    "start_time": "2024-03-17T08:04:44.153Z"
   },
   {
    "duration": 20,
    "start_time": "2024-03-17T08:04:44.180Z"
   },
   {
    "duration": 14,
    "start_time": "2024-03-17T08:04:44.202Z"
   },
   {
    "duration": 110,
    "start_time": "2024-03-17T08:04:44.217Z"
   },
   {
    "duration": 10,
    "start_time": "2024-03-17T08:04:44.328Z"
   },
   {
    "duration": 4,
    "start_time": "2024-03-17T08:04:44.340Z"
   },
   {
    "duration": 27,
    "start_time": "2024-03-17T08:04:44.346Z"
   },
   {
    "duration": 16,
    "start_time": "2024-03-17T08:04:44.375Z"
   },
   {
    "duration": 7,
    "start_time": "2024-03-17T08:04:44.393Z"
   },
   {
    "duration": 8,
    "start_time": "2024-03-17T08:04:44.401Z"
   },
   {
    "duration": 7,
    "start_time": "2024-03-17T08:04:44.410Z"
   },
   {
    "duration": 4,
    "start_time": "2024-03-17T08:04:44.420Z"
   },
   {
    "duration": 6,
    "start_time": "2024-03-17T08:04:44.425Z"
   },
   {
    "duration": 5,
    "start_time": "2024-03-17T08:04:44.432Z"
   },
   {
    "duration": 32,
    "start_time": "2024-03-17T08:04:44.438Z"
   },
   {
    "duration": 191,
    "start_time": "2024-03-17T08:04:44.472Z"
   },
   {
    "duration": 7,
    "start_time": "2024-03-17T08:04:44.669Z"
   },
   {
    "duration": 9,
    "start_time": "2024-03-17T08:04:44.677Z"
   },
   {
    "duration": 102,
    "start_time": "2024-03-17T08:04:44.687Z"
   },
   {
    "duration": 6,
    "start_time": "2024-03-17T08:04:44.790Z"
   },
   {
    "duration": 143,
    "start_time": "2024-03-17T08:04:44.797Z"
   },
   {
    "duration": 7,
    "start_time": "2024-03-17T08:04:44.942Z"
   },
   {
    "duration": 105,
    "start_time": "2024-03-17T08:04:44.950Z"
   },
   {
    "duration": 155,
    "start_time": "2024-03-17T08:04:45.056Z"
   },
   {
    "duration": 7,
    "start_time": "2024-03-17T08:04:45.213Z"
   },
   {
    "duration": 123,
    "start_time": "2024-03-17T08:04:45.222Z"
   },
   {
    "duration": 150,
    "start_time": "2024-03-17T08:04:45.346Z"
   },
   {
    "duration": 15,
    "start_time": "2024-03-17T08:04:45.497Z"
   },
   {
    "duration": 25,
    "start_time": "2024-03-17T08:04:45.514Z"
   },
   {
    "duration": 64,
    "start_time": "2024-03-17T08:04:45.540Z"
   },
   {
    "duration": 18,
    "start_time": "2024-03-17T08:04:45.605Z"
   },
   {
    "duration": 10,
    "start_time": "2024-03-17T08:04:45.624Z"
   },
   {
    "duration": 12,
    "start_time": "2024-03-17T08:04:45.635Z"
   },
   {
    "duration": 23,
    "start_time": "2024-03-17T08:04:45.649Z"
   },
   {
    "duration": 6,
    "start_time": "2024-03-17T08:04:45.673Z"
   },
   {
    "duration": 20,
    "start_time": "2024-03-17T08:04:45.680Z"
   },
   {
    "duration": 7,
    "start_time": "2024-03-17T08:04:45.702Z"
   },
   {
    "duration": 252,
    "start_time": "2024-03-17T08:04:45.710Z"
   },
   {
    "duration": 327,
    "start_time": "2024-03-17T08:04:45.965Z"
   },
   {
    "duration": 3,
    "start_time": "2024-03-17T08:04:46.294Z"
   },
   {
    "duration": 13,
    "start_time": "2024-03-17T08:04:46.298Z"
   },
   {
    "duration": 910,
    "start_time": "2024-03-17T08:04:46.313Z"
   },
   {
    "duration": 11,
    "start_time": "2024-03-17T08:04:47.225Z"
   },
   {
    "duration": 6,
    "start_time": "2024-03-17T08:04:47.237Z"
   },
   {
    "duration": 28,
    "start_time": "2024-03-17T08:04:47.244Z"
   },
   {
    "duration": 208,
    "start_time": "2024-03-17T08:04:47.273Z"
   },
   {
    "duration": 9,
    "start_time": "2024-03-17T08:04:47.482Z"
   },
   {
    "duration": 24,
    "start_time": "2024-03-17T08:04:47.492Z"
   },
   {
    "duration": 5,
    "start_time": "2024-03-17T08:04:47.517Z"
   },
   {
    "duration": 5,
    "start_time": "2024-03-17T08:04:47.523Z"
   },
   {
    "duration": 8,
    "start_time": "2024-03-17T08:04:47.530Z"
   },
   {
    "duration": 7,
    "start_time": "2024-03-17T08:04:47.540Z"
   },
   {
    "duration": 301,
    "start_time": "2024-03-17T08:04:47.548Z"
   },
   {
    "duration": 271,
    "start_time": "2024-03-17T08:04:47.851Z"
   },
   {
    "duration": 1190,
    "start_time": "2024-03-17T08:18:30.400Z"
   },
   {
    "duration": 77,
    "start_time": "2024-03-17T08:18:31.592Z"
   },
   {
    "duration": 3,
    "start_time": "2024-03-17T08:18:31.670Z"
   },
   {
    "duration": 40,
    "start_time": "2024-03-17T08:18:31.675Z"
   },
   {
    "duration": 15,
    "start_time": "2024-03-17T08:18:31.716Z"
   },
   {
    "duration": 13,
    "start_time": "2024-03-17T08:18:31.733Z"
   },
   {
    "duration": 23,
    "start_time": "2024-03-17T08:18:31.748Z"
   },
   {
    "duration": 26,
    "start_time": "2024-03-17T08:18:31.773Z"
   },
   {
    "duration": 4,
    "start_time": "2024-03-17T08:18:31.801Z"
   },
   {
    "duration": 8,
    "start_time": "2024-03-17T08:18:31.807Z"
   },
   {
    "duration": 8,
    "start_time": "2024-03-17T08:18:31.816Z"
   },
   {
    "duration": 11,
    "start_time": "2024-03-17T08:18:31.825Z"
   },
   {
    "duration": 27,
    "start_time": "2024-03-17T08:18:31.837Z"
   },
   {
    "duration": 7,
    "start_time": "2024-03-17T08:18:31.866Z"
   },
   {
    "duration": 5,
    "start_time": "2024-03-17T08:18:31.875Z"
   },
   {
    "duration": 6,
    "start_time": "2024-03-17T08:18:31.882Z"
   },
   {
    "duration": 8,
    "start_time": "2024-03-17T08:18:31.889Z"
   },
   {
    "duration": 9,
    "start_time": "2024-03-17T08:18:31.898Z"
   },
   {
    "duration": 202,
    "start_time": "2024-03-17T08:18:31.908Z"
   },
   {
    "duration": 7,
    "start_time": "2024-03-17T08:18:32.111Z"
   },
   {
    "duration": 13,
    "start_time": "2024-03-17T08:18:32.120Z"
   },
   {
    "duration": 108,
    "start_time": "2024-03-17T08:18:32.134Z"
   },
   {
    "duration": 8,
    "start_time": "2024-03-17T08:18:32.243Z"
   },
   {
    "duration": 141,
    "start_time": "2024-03-17T08:18:32.253Z"
   },
   {
    "duration": 8,
    "start_time": "2024-03-17T08:18:32.396Z"
   },
   {
    "duration": 113,
    "start_time": "2024-03-17T08:18:32.405Z"
   },
   {
    "duration": 155,
    "start_time": "2024-03-17T08:18:32.520Z"
   },
   {
    "duration": 8,
    "start_time": "2024-03-17T08:18:32.679Z"
   },
   {
    "duration": 117,
    "start_time": "2024-03-17T08:18:32.689Z"
   },
   {
    "duration": 157,
    "start_time": "2024-03-17T08:18:32.808Z"
   },
   {
    "duration": 18,
    "start_time": "2024-03-17T08:18:32.967Z"
   },
   {
    "duration": 4,
    "start_time": "2024-03-17T08:18:32.987Z"
   },
   {
    "duration": 10,
    "start_time": "2024-03-17T08:18:32.992Z"
   },
   {
    "duration": 13,
    "start_time": "2024-03-17T08:18:33.003Z"
   },
   {
    "duration": 4,
    "start_time": "2024-03-17T08:18:33.018Z"
   },
   {
    "duration": 21,
    "start_time": "2024-03-17T08:18:33.023Z"
   },
   {
    "duration": 38,
    "start_time": "2024-03-17T08:18:33.045Z"
   },
   {
    "duration": 6,
    "start_time": "2024-03-17T08:18:33.084Z"
   },
   {
    "duration": 16,
    "start_time": "2024-03-17T08:18:33.092Z"
   },
   {
    "duration": 8,
    "start_time": "2024-03-17T08:18:33.110Z"
   },
   {
    "duration": 345,
    "start_time": "2024-03-17T08:18:33.119Z"
   },
   {
    "duration": 260,
    "start_time": "2024-03-17T08:18:33.465Z"
   },
   {
    "duration": 3,
    "start_time": "2024-03-17T08:18:33.726Z"
   },
   {
    "duration": 21,
    "start_time": "2024-03-17T08:18:33.730Z"
   },
   {
    "duration": 878,
    "start_time": "2024-03-17T08:18:33.752Z"
   },
   {
    "duration": 12,
    "start_time": "2024-03-17T08:18:34.631Z"
   },
   {
    "duration": 6,
    "start_time": "2024-03-17T08:18:34.645Z"
   },
   {
    "duration": 24,
    "start_time": "2024-03-17T08:18:34.652Z"
   },
   {
    "duration": 205,
    "start_time": "2024-03-17T08:18:34.677Z"
   },
   {
    "duration": 9,
    "start_time": "2024-03-17T08:18:34.883Z"
   },
   {
    "duration": 5,
    "start_time": "2024-03-17T08:18:34.894Z"
   },
   {
    "duration": 5,
    "start_time": "2024-03-17T08:18:34.900Z"
   },
   {
    "duration": 5,
    "start_time": "2024-03-17T08:18:34.906Z"
   },
   {
    "duration": 9,
    "start_time": "2024-03-17T08:18:34.912Z"
   },
   {
    "duration": 4,
    "start_time": "2024-03-17T08:18:34.922Z"
   },
   {
    "duration": 306,
    "start_time": "2024-03-17T08:18:34.927Z"
   },
   {
    "duration": 307,
    "start_time": "2024-03-17T08:18:35.234Z"
   },
   {
    "duration": 267,
    "start_time": "2024-03-17T08:19:21.273Z"
   },
   {
    "duration": 9,
    "start_time": "2024-03-17T08:29:35.002Z"
   },
   {
    "duration": 8,
    "start_time": "2024-03-17T08:31:17.000Z"
   },
   {
    "duration": 61,
    "start_time": "2024-03-17T08:32:47.495Z"
   },
   {
    "duration": 5,
    "start_time": "2024-03-17T08:32:52.689Z"
   },
   {
    "duration": 6,
    "start_time": "2024-03-17T08:32:53.380Z"
   },
   {
    "duration": 9,
    "start_time": "2024-03-17T08:35:47.216Z"
   },
   {
    "duration": 7,
    "start_time": "2024-03-17T08:36:14.677Z"
   },
   {
    "duration": 5,
    "start_time": "2024-03-17T08:36:23.313Z"
   },
   {
    "duration": 7,
    "start_time": "2024-03-17T08:36:44.301Z"
   },
   {
    "duration": 10,
    "start_time": "2024-03-17T08:37:16.810Z"
   },
   {
    "duration": 5,
    "start_time": "2024-03-17T08:38:50.009Z"
   },
   {
    "duration": 6,
    "start_time": "2024-03-17T08:39:07.686Z"
   },
   {
    "duration": 8,
    "start_time": "2024-03-17T08:39:08.182Z"
   },
   {
    "duration": 199,
    "start_time": "2024-03-17T08:39:15.428Z"
   },
   {
    "duration": 4,
    "start_time": "2024-03-17T08:39:16.171Z"
   },
   {
    "duration": 5,
    "start_time": "2024-03-17T08:39:16.710Z"
   },
   {
    "duration": 9,
    "start_time": "2024-03-17T08:39:17.296Z"
   },
   {
    "duration": 100,
    "start_time": "2024-03-17T08:39:39.404Z"
   },
   {
    "duration": 9,
    "start_time": "2024-03-17T08:39:48.455Z"
   },
   {
    "duration": 3,
    "start_time": "2024-03-17T08:41:47.614Z"
   },
   {
    "duration": 6,
    "start_time": "2024-03-17T08:41:48.144Z"
   },
   {
    "duration": 6,
    "start_time": "2024-03-17T08:41:48.615Z"
   },
   {
    "duration": 5,
    "start_time": "2024-03-17T08:43:32.023Z"
   },
   {
    "duration": 6,
    "start_time": "2024-03-17T08:43:32.529Z"
   },
   {
    "duration": 1501,
    "start_time": "2024-03-17T10:49:57.054Z"
   },
   {
    "duration": 201,
    "start_time": "2024-03-17T10:49:58.558Z"
   },
   {
    "duration": 3,
    "start_time": "2024-03-17T10:49:58.761Z"
   },
   {
    "duration": 21,
    "start_time": "2024-03-17T10:49:58.766Z"
   },
   {
    "duration": 16,
    "start_time": "2024-03-17T10:49:58.789Z"
   },
   {
    "duration": 19,
    "start_time": "2024-03-17T10:49:58.807Z"
   },
   {
    "duration": 21,
    "start_time": "2024-03-17T10:49:58.829Z"
   },
   {
    "duration": 12,
    "start_time": "2024-03-17T10:49:58.851Z"
   },
   {
    "duration": 5,
    "start_time": "2024-03-17T10:49:58.865Z"
   },
   {
    "duration": 8,
    "start_time": "2024-03-17T10:49:58.874Z"
   },
   {
    "duration": 36,
    "start_time": "2024-03-17T10:49:58.884Z"
   },
   {
    "duration": 9,
    "start_time": "2024-03-17T10:49:58.922Z"
   },
   {
    "duration": 20,
    "start_time": "2024-03-17T10:49:58.933Z"
   },
   {
    "duration": 19,
    "start_time": "2024-03-17T10:49:58.955Z"
   },
   {
    "duration": 7,
    "start_time": "2024-03-17T10:49:58.977Z"
   },
   {
    "duration": 29,
    "start_time": "2024-03-17T10:49:58.986Z"
   },
   {
    "duration": 8,
    "start_time": "2024-03-17T10:49:59.017Z"
   },
   {
    "duration": 7,
    "start_time": "2024-03-17T10:49:59.027Z"
   },
   {
    "duration": 248,
    "start_time": "2024-03-17T10:49:59.036Z"
   },
   {
    "duration": 7,
    "start_time": "2024-03-17T10:49:59.286Z"
   },
   {
    "duration": 26,
    "start_time": "2024-03-17T10:49:59.295Z"
   },
   {
    "duration": 114,
    "start_time": "2024-03-17T10:49:59.323Z"
   },
   {
    "duration": 9,
    "start_time": "2024-03-17T10:49:59.439Z"
   },
   {
    "duration": 191,
    "start_time": "2024-03-17T10:49:59.449Z"
   },
   {
    "duration": 9,
    "start_time": "2024-03-17T10:49:59.641Z"
   },
   {
    "duration": 140,
    "start_time": "2024-03-17T10:49:59.651Z"
   },
   {
    "duration": 180,
    "start_time": "2024-03-17T10:49:59.793Z"
   },
   {
    "duration": 8,
    "start_time": "2024-03-17T10:49:59.976Z"
   },
   {
    "duration": 137,
    "start_time": "2024-03-17T10:49:59.985Z"
   },
   {
    "duration": 210,
    "start_time": "2024-03-17T10:50:00.125Z"
   },
   {
    "duration": 23,
    "start_time": "2024-03-17T10:50:00.336Z"
   },
   {
    "duration": 45,
    "start_time": "2024-03-17T10:50:00.361Z"
   },
   {
    "duration": 49,
    "start_time": "2024-03-17T10:50:00.408Z"
   },
   {
    "duration": 61,
    "start_time": "2024-03-17T10:50:00.460Z"
   },
   {
    "duration": 21,
    "start_time": "2024-03-17T10:50:00.523Z"
   },
   {
    "duration": 54,
    "start_time": "2024-03-17T10:50:00.546Z"
   },
   {
    "duration": 47,
    "start_time": "2024-03-17T10:50:00.601Z"
   },
   {
    "duration": 46,
    "start_time": "2024-03-17T10:50:00.650Z"
   },
   {
    "duration": 99,
    "start_time": "2024-03-17T10:50:00.698Z"
   },
   {
    "duration": 126,
    "start_time": "2024-03-17T10:50:00.799Z"
   },
   {
    "duration": 429,
    "start_time": "2024-03-17T10:50:00.927Z"
   },
   {
    "duration": 328,
    "start_time": "2024-03-17T10:50:01.358Z"
   },
   {
    "duration": 4,
    "start_time": "2024-03-17T10:50:01.688Z"
   },
   {
    "duration": 76,
    "start_time": "2024-03-17T10:50:01.693Z"
   },
   {
    "duration": 1052,
    "start_time": "2024-03-17T10:50:01.771Z"
   },
   {
    "duration": 17,
    "start_time": "2024-03-17T10:50:02.825Z"
   },
   {
    "duration": 8,
    "start_time": "2024-03-17T10:50:02.847Z"
   },
   {
    "duration": 36,
    "start_time": "2024-03-17T10:50:02.857Z"
   },
   {
    "duration": 259,
    "start_time": "2024-03-17T10:50:02.895Z"
   },
   {
    "duration": 6,
    "start_time": "2024-03-17T10:50:03.155Z"
   },
   {
    "duration": 7,
    "start_time": "2024-03-17T10:50:03.162Z"
   },
   {
    "duration": 9,
    "start_time": "2024-03-17T10:50:03.171Z"
   },
   {
    "duration": 9,
    "start_time": "2024-03-17T10:50:03.182Z"
   },
   {
    "duration": 22,
    "start_time": "2024-03-17T10:50:03.193Z"
   },
   {
    "duration": 8,
    "start_time": "2024-03-17T10:50:03.216Z"
   },
   {
    "duration": 11,
    "start_time": "2024-03-17T10:50:03.226Z"
   },
   {
    "duration": 5,
    "start_time": "2024-03-17T10:50:03.240Z"
   },
   {
    "duration": 396,
    "start_time": "2024-03-17T10:50:03.247Z"
   },
   {
    "duration": 286,
    "start_time": "2024-03-17T10:50:03.645Z"
   },
   {
    "duration": 182,
    "start_time": "2024-03-17T11:43:26.915Z"
   },
   {
    "duration": 177,
    "start_time": "2024-03-17T11:43:32.940Z"
   },
   {
    "duration": 186,
    "start_time": "2024-03-17T11:43:36.835Z"
   },
   {
    "duration": 175,
    "start_time": "2024-03-17T11:43:40.092Z"
   },
   {
    "duration": 384,
    "start_time": "2024-03-17T11:48:05.542Z"
   },
   {
    "duration": 273,
    "start_time": "2024-03-17T11:48:13.422Z"
   },
   {
    "duration": 269,
    "start_time": "2024-03-17T11:48:18.447Z"
   },
   {
    "duration": 272,
    "start_time": "2024-03-17T11:48:41.784Z"
   },
   {
    "duration": 266,
    "start_time": "2024-03-17T11:48:49.072Z"
   },
   {
    "duration": 6,
    "start_time": "2024-03-17T11:50:06.426Z"
   },
   {
    "duration": 4,
    "start_time": "2024-03-17T12:04:03.345Z"
   },
   {
    "duration": 3,
    "start_time": "2024-03-17T12:04:07.281Z"
   },
   {
    "duration": 5,
    "start_time": "2024-03-17T12:04:10.088Z"
   },
   {
    "duration": 104,
    "start_time": "2024-03-17T12:04:10.338Z"
   },
   {
    "duration": 3,
    "start_time": "2024-03-17T12:04:20.842Z"
   },
   {
    "duration": 1243,
    "start_time": "2024-03-17T12:04:25.358Z"
   },
   {
    "duration": 75,
    "start_time": "2024-03-17T12:04:26.603Z"
   },
   {
    "duration": 3,
    "start_time": "2024-03-17T12:04:26.680Z"
   },
   {
    "duration": 33,
    "start_time": "2024-03-17T12:04:26.685Z"
   },
   {
    "duration": 17,
    "start_time": "2024-03-17T12:04:26.720Z"
   },
   {
    "duration": 14,
    "start_time": "2024-03-17T12:04:26.739Z"
   },
   {
    "duration": 15,
    "start_time": "2024-03-17T12:04:26.755Z"
   },
   {
    "duration": 12,
    "start_time": "2024-03-17T12:04:26.772Z"
   },
   {
    "duration": 33,
    "start_time": "2024-03-17T12:04:26.785Z"
   },
   {
    "duration": 8,
    "start_time": "2024-03-17T12:04:26.821Z"
   },
   {
    "duration": 9,
    "start_time": "2024-03-17T12:04:26.830Z"
   },
   {
    "duration": 5,
    "start_time": "2024-03-17T12:04:26.841Z"
   },
   {
    "duration": 12,
    "start_time": "2024-03-17T12:04:26.848Z"
   },
   {
    "duration": 13,
    "start_time": "2024-03-17T12:04:26.862Z"
   },
   {
    "duration": 5,
    "start_time": "2024-03-17T12:04:26.877Z"
   },
   {
    "duration": 6,
    "start_time": "2024-03-17T12:04:26.915Z"
   },
   {
    "duration": 9,
    "start_time": "2024-03-17T12:04:26.922Z"
   },
   {
    "duration": 6,
    "start_time": "2024-03-17T12:04:26.933Z"
   },
   {
    "duration": 257,
    "start_time": "2024-03-17T12:04:26.941Z"
   },
   {
    "duration": 18,
    "start_time": "2024-03-17T12:04:27.199Z"
   },
   {
    "duration": 13,
    "start_time": "2024-03-17T12:04:27.218Z"
   },
   {
    "duration": 111,
    "start_time": "2024-03-17T12:04:27.232Z"
   },
   {
    "duration": 8,
    "start_time": "2024-03-17T12:04:27.345Z"
   },
   {
    "duration": 178,
    "start_time": "2024-03-17T12:04:27.354Z"
   },
   {
    "duration": 9,
    "start_time": "2024-03-17T12:04:27.533Z"
   },
   {
    "duration": 126,
    "start_time": "2024-03-17T12:04:27.544Z"
   },
   {
    "duration": 176,
    "start_time": "2024-03-17T12:04:27.672Z"
   },
   {
    "duration": 9,
    "start_time": "2024-03-17T12:04:27.853Z"
   },
   {
    "duration": 126,
    "start_time": "2024-03-17T12:04:27.863Z"
   },
   {
    "duration": 189,
    "start_time": "2024-03-17T12:04:27.991Z"
   },
   {
    "duration": 34,
    "start_time": "2024-03-17T12:04:28.182Z"
   },
   {
    "duration": 4,
    "start_time": "2024-03-17T12:04:28.218Z"
   },
   {
    "duration": 17,
    "start_time": "2024-03-17T12:04:28.224Z"
   },
   {
    "duration": 14,
    "start_time": "2024-03-17T12:04:28.243Z"
   },
   {
    "duration": 5,
    "start_time": "2024-03-17T12:04:28.259Z"
   },
   {
    "duration": 14,
    "start_time": "2024-03-17T12:04:28.266Z"
   },
   {
    "duration": 46,
    "start_time": "2024-03-17T12:04:28.281Z"
   },
   {
    "duration": 6,
    "start_time": "2024-03-17T12:04:28.329Z"
   },
   {
    "duration": 16,
    "start_time": "2024-03-17T12:04:28.336Z"
   },
   {
    "duration": 9,
    "start_time": "2024-03-17T12:04:28.354Z"
   },
   {
    "duration": 392,
    "start_time": "2024-03-17T12:04:28.364Z"
   },
   {
    "duration": 309,
    "start_time": "2024-03-17T12:04:28.758Z"
   },
   {
    "duration": 4,
    "start_time": "2024-03-17T12:04:29.069Z"
   },
   {
    "duration": 15,
    "start_time": "2024-03-17T12:04:29.075Z"
   },
   {
    "duration": 995,
    "start_time": "2024-03-17T12:04:29.092Z"
   },
   {
    "duration": 12,
    "start_time": "2024-03-17T12:04:30.089Z"
   },
   {
    "duration": 17,
    "start_time": "2024-03-17T12:04:30.103Z"
   },
   {
    "duration": 41,
    "start_time": "2024-03-17T12:04:30.122Z"
   },
   {
    "duration": 255,
    "start_time": "2024-03-17T12:04:30.165Z"
   },
   {
    "duration": 6,
    "start_time": "2024-03-17T12:04:30.422Z"
   },
   {
    "duration": 61,
    "start_time": "2024-03-17T12:04:30.429Z"
   },
   {
    "duration": 81,
    "start_time": "2024-03-17T12:04:30.491Z"
   },
   {
    "duration": 104,
    "start_time": "2024-03-17T12:04:30.574Z"
   },
   {
    "duration": 78,
    "start_time": "2024-03-17T12:04:30.680Z"
   },
   {
    "duration": 60,
    "start_time": "2024-03-17T12:04:30.759Z"
   },
   {
    "duration": 65,
    "start_time": "2024-03-17T12:04:30.821Z"
   },
   {
    "duration": 89,
    "start_time": "2024-03-17T12:04:30.888Z"
   },
   {
    "duration": 53,
    "start_time": "2024-03-17T12:04:30.978Z"
   },
   {
    "duration": 356,
    "start_time": "2024-03-17T12:04:31.033Z"
   },
   {
    "duration": 296,
    "start_time": "2024-03-17T12:04:31.392Z"
   },
   {
    "duration": 8,
    "start_time": "2024-03-17T12:04:31.690Z"
   },
   {
    "duration": 10,
    "start_time": "2024-03-17T12:04:31.715Z"
   },
   {
    "duration": 7,
    "start_time": "2024-03-17T12:04:31.726Z"
   },
   {
    "duration": 30,
    "start_time": "2024-03-17T12:04:31.735Z"
   },
   {
    "duration": 19,
    "start_time": "2024-03-17T12:04:31.766Z"
   },
   {
    "duration": 66,
    "start_time": "2024-03-17T12:04:31.786Z"
   },
   {
    "duration": 16,
    "start_time": "2024-03-17T12:04:31.854Z"
   },
   {
    "duration": 38,
    "start_time": "2024-03-17T12:04:31.871Z"
   },
   {
    "duration": 7,
    "start_time": "2024-03-17T12:04:31.911Z"
   },
   {
    "duration": 11,
    "start_time": "2024-03-17T12:04:31.919Z"
   },
   {
    "duration": 9,
    "start_time": "2024-03-17T12:04:31.932Z"
   },
   {
    "duration": 10,
    "start_time": "2024-03-17T12:04:31.943Z"
   },
   {
    "duration": 860,
    "start_time": "2024-03-17T12:04:31.955Z"
   },
   {
    "duration": 4,
    "start_time": "2024-03-17T12:04:32.817Z"
   },
   {
    "duration": 24,
    "start_time": "2024-03-17T12:04:32.822Z"
   },
   {
    "duration": 83,
    "start_time": "2024-03-17T12:04:32.848Z"
   },
   {
    "duration": 11,
    "start_time": "2024-03-17T12:04:32.933Z"
   },
   {
    "duration": 9,
    "start_time": "2024-03-17T12:04:32.945Z"
   },
   {
    "duration": 1251,
    "start_time": "2024-03-17T12:04:32.955Z"
   },
   {
    "duration": 184,
    "start_time": "2024-03-17T12:04:34.208Z"
   },
   {
    "duration": 1312,
    "start_time": "2024-03-17T12:06:30.299Z"
   },
   {
    "duration": 75,
    "start_time": "2024-03-17T12:06:31.613Z"
   },
   {
    "duration": 3,
    "start_time": "2024-03-17T12:06:31.690Z"
   },
   {
    "duration": 42,
    "start_time": "2024-03-17T12:06:31.695Z"
   },
   {
    "duration": 32,
    "start_time": "2024-03-17T12:06:31.739Z"
   },
   {
    "duration": 20,
    "start_time": "2024-03-17T12:06:31.772Z"
   },
   {
    "duration": 13,
    "start_time": "2024-03-17T12:06:31.793Z"
   },
   {
    "duration": 32,
    "start_time": "2024-03-17T12:06:31.807Z"
   },
   {
    "duration": 4,
    "start_time": "2024-03-17T12:06:31.841Z"
   },
   {
    "duration": 10,
    "start_time": "2024-03-17T12:06:31.848Z"
   },
   {
    "duration": 9,
    "start_time": "2024-03-17T12:06:31.860Z"
   },
   {
    "duration": 6,
    "start_time": "2024-03-17T12:06:31.871Z"
   },
   {
    "duration": 5,
    "start_time": "2024-03-17T12:06:31.879Z"
   },
   {
    "duration": 12,
    "start_time": "2024-03-17T12:06:31.886Z"
   },
   {
    "duration": 17,
    "start_time": "2024-03-17T12:06:31.900Z"
   },
   {
    "duration": 24,
    "start_time": "2024-03-17T12:06:31.919Z"
   },
   {
    "duration": 16,
    "start_time": "2024-03-17T12:06:31.945Z"
   },
   {
    "duration": 6,
    "start_time": "2024-03-17T12:06:31.963Z"
   },
   {
    "duration": 206,
    "start_time": "2024-03-17T12:06:31.971Z"
   },
   {
    "duration": 8,
    "start_time": "2024-03-17T12:06:32.179Z"
   },
   {
    "duration": 28,
    "start_time": "2024-03-17T12:06:32.188Z"
   },
   {
    "duration": 138,
    "start_time": "2024-03-17T12:06:32.218Z"
   },
   {
    "duration": 7,
    "start_time": "2024-03-17T12:06:32.358Z"
   },
   {
    "duration": 165,
    "start_time": "2024-03-17T12:06:32.366Z"
   },
   {
    "duration": 9,
    "start_time": "2024-03-17T12:06:32.532Z"
   },
   {
    "duration": 173,
    "start_time": "2024-03-17T12:06:32.542Z"
   },
   {
    "duration": 323,
    "start_time": "2024-03-17T12:06:32.717Z"
   },
   {
    "duration": 8,
    "start_time": "2024-03-17T12:06:33.044Z"
   },
   {
    "duration": 205,
    "start_time": "2024-03-17T12:06:33.054Z"
   },
   {
    "duration": 174,
    "start_time": "2024-03-17T12:06:33.260Z"
   },
   {
    "duration": 18,
    "start_time": "2024-03-17T12:06:33.435Z"
   },
   {
    "duration": 4,
    "start_time": "2024-03-17T12:06:33.454Z"
   },
   {
    "duration": 10,
    "start_time": "2024-03-17T12:06:33.459Z"
   },
   {
    "duration": 14,
    "start_time": "2024-03-17T12:06:33.470Z"
   },
   {
    "duration": 31,
    "start_time": "2024-03-17T12:06:33.485Z"
   },
   {
    "duration": 85,
    "start_time": "2024-03-17T12:06:33.517Z"
   },
   {
    "duration": 24,
    "start_time": "2024-03-17T12:06:33.604Z"
   },
   {
    "duration": 6,
    "start_time": "2024-03-17T12:06:33.630Z"
   },
   {
    "duration": 15,
    "start_time": "2024-03-17T12:06:33.637Z"
   },
   {
    "duration": 8,
    "start_time": "2024-03-17T12:06:33.653Z"
   },
   {
    "duration": 302,
    "start_time": "2024-03-17T12:06:33.663Z"
   },
   {
    "duration": 307,
    "start_time": "2024-03-17T12:06:33.966Z"
   },
   {
    "duration": 3,
    "start_time": "2024-03-17T12:06:34.275Z"
   },
   {
    "duration": 15,
    "start_time": "2024-03-17T12:06:34.280Z"
   },
   {
    "duration": 986,
    "start_time": "2024-03-17T12:06:34.296Z"
   },
   {
    "duration": 12,
    "start_time": "2024-03-17T12:06:35.284Z"
   },
   {
    "duration": 40,
    "start_time": "2024-03-17T12:06:35.298Z"
   },
   {
    "duration": 32,
    "start_time": "2024-03-17T12:06:35.341Z"
   },
   {
    "duration": 243,
    "start_time": "2024-03-17T12:06:35.375Z"
   },
   {
    "duration": 5,
    "start_time": "2024-03-17T12:06:35.620Z"
   },
   {
    "duration": 31,
    "start_time": "2024-03-17T12:06:35.627Z"
   },
   {
    "duration": 24,
    "start_time": "2024-03-17T12:06:35.659Z"
   },
   {
    "duration": 29,
    "start_time": "2024-03-17T12:06:35.684Z"
   },
   {
    "duration": 24,
    "start_time": "2024-03-17T12:06:35.715Z"
   },
   {
    "duration": 18,
    "start_time": "2024-03-17T12:06:35.740Z"
   },
   {
    "duration": 12,
    "start_time": "2024-03-17T12:06:35.760Z"
   },
   {
    "duration": 23,
    "start_time": "2024-03-17T12:06:35.774Z"
   },
   {
    "duration": 17,
    "start_time": "2024-03-17T12:06:35.799Z"
   },
   {
    "duration": 277,
    "start_time": "2024-03-17T12:06:35.817Z"
   },
   {
    "duration": 298,
    "start_time": "2024-03-17T12:06:36.096Z"
   },
   {
    "duration": 25,
    "start_time": "2024-03-17T12:06:36.397Z"
   },
   {
    "duration": 10,
    "start_time": "2024-03-17T12:06:36.425Z"
   },
   {
    "duration": 8,
    "start_time": "2024-03-17T12:06:36.436Z"
   },
   {
    "duration": 16,
    "start_time": "2024-03-17T12:06:36.446Z"
   },
   {
    "duration": 28,
    "start_time": "2024-03-17T12:06:36.463Z"
   },
   {
    "duration": 30,
    "start_time": "2024-03-17T12:06:36.493Z"
   },
   {
    "duration": 14,
    "start_time": "2024-03-17T12:06:36.525Z"
   },
   {
    "duration": 13,
    "start_time": "2024-03-17T12:06:36.540Z"
   },
   {
    "duration": 6,
    "start_time": "2024-03-17T12:06:36.555Z"
   },
   {
    "duration": 4,
    "start_time": "2024-03-17T12:06:36.563Z"
   },
   {
    "duration": 5,
    "start_time": "2024-03-17T12:06:36.568Z"
   },
   {
    "duration": 42,
    "start_time": "2024-03-17T12:06:36.574Z"
   },
   {
    "duration": 929,
    "start_time": "2024-03-17T12:06:36.618Z"
   },
   {
    "duration": 2,
    "start_time": "2024-03-17T12:06:37.549Z"
   },
   {
    "duration": 24,
    "start_time": "2024-03-17T12:06:37.553Z"
   },
   {
    "duration": 61,
    "start_time": "2024-03-17T12:06:37.578Z"
   },
   {
    "duration": 11,
    "start_time": "2024-03-17T12:06:37.640Z"
   },
   {
    "duration": 34,
    "start_time": "2024-03-17T12:06:37.653Z"
   },
   {
    "duration": 926,
    "start_time": "2024-03-17T12:06:37.689Z"
   }
  ],
  "kernelspec": {
   "display_name": "Python 3 (ipykernel)",
   "language": "python",
   "name": "python3"
  },
  "language_info": {
   "codemirror_mode": {
    "name": "ipython",
    "version": 3
   },
   "file_extension": ".py",
   "mimetype": "text/x-python",
   "name": "python",
   "nbconvert_exporter": "python",
   "pygments_lexer": "ipython3",
   "version": "3.9.5"
  },
  "toc": {
   "base_numbering": 1,
   "nav_menu": {},
   "number_sections": true,
   "sideBar": true,
   "skip_h1_title": true,
   "title_cell": "Table of Contents",
   "title_sidebar": "Contents",
   "toc_cell": false,
   "toc_position": {
    "height": "calc(100% - 180px)",
    "left": "10px",
    "top": "150px",
    "width": "165px"
   },
   "toc_section_display": true,
   "toc_window_display": true
  }
 },
 "nbformat": 4,
 "nbformat_minor": 5
}
